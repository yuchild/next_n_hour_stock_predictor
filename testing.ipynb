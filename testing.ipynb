{
 "cells": [
  {
   "cell_type": "code",
   "execution_count": 1,
   "id": "95b7df49",
   "metadata": {},
   "outputs": [],
   "source": [
    "import yfinance as yf\n",
    "import pandas as pd\n",
    "import numpy as np\n",
    "from numpy import where\n",
    "import xgboost as xgb\n",
    "from sklearn.model_selection import GridSearchCV, StratifiedKFold\n",
    "from sklearn.metrics import accuracy_score"
   ]
  },
  {
   "cell_type": "code",
   "execution_count": 3,
   "id": "61657fdc",
   "metadata": {},
   "outputs": [],
   "source": [
    "# aapl_day = yf.download(\"AAPL\", start=\"1980-12-08\", end=None)\n",
    "# aapl_day.to_pickle('./data/aapl_day.pkl')\n",
    "# amd_day = yf.download(\"AMD\", start=\"1980-03-17\", end=None)\n",
    "# amd_day.to_pickle('./data/amd_day.pkl')\n",
    "# amat_day = yf.download(\"AMAT\", start=\"1980-03-16\", end=None)\n",
    "# amat_day.to_pickle('./data/amat_day.pkl')\n",
    "# intc_day = yf.download(\"INTC\", start=\"1980-03-16\", end=None)\n",
    "# intc_day.to_pickle('./data/intc_day.pkl')\n",
    "# msft_day = yf.download(\"MSFT\", start=\"1986-03-10\", end=None)\n",
    "# msft_day.to_pickle('./data/msft_day.pkl')"
   ]
  },
  {
   "cell_type": "code",
   "execution_count": 4,
   "id": "5deb137d",
   "metadata": {},
   "outputs": [],
   "source": [
    "# aapl_hour = yf.download(tickers=\"AAPL\",\n",
    "#                        period=\"2y\",\n",
    "#                        interval=\"1h\"\n",
    "#                       )\n",
    "# aapl_hour.to_pickle('./data/aapl_hr.pkl')"
   ]
  },
  {
   "cell_type": "code",
   "execution_count": 5,
   "id": "41f9ee97",
   "metadata": {},
   "outputs": [],
   "source": [
    "def compute_up_down(begin, end):\n",
    "    if abs((end - begin) / begin) <= 275:\n",
    "        return 0\n",
    "    elif ((end - begin) / begin) > 275:\n",
    "        return 1\n",
    "    else:\n",
    "        return 2\n",
    "    \n",
    "def compute_volume_per_dollar(vol, begin, end):\n",
    "    if begin - end == 0:\n",
    "        return vol\n",
    "    else:\n",
    "        return vol / abs(begin - end)\n",
    "    \n",
    "def compute_pct_change(num1, num2, dem):\n",
    "    if dem == 0:\n",
    "        return 0\n",
    "    else:\n",
    "        return (num2 - num1) / dem\n",
    "\n",
    "def week_of_month(dt):\n",
    "    from math import ceil\n",
    "    \"\"\"\n",
    "    returns week of the month for the specified date.\n",
    "    \"\"\"\n",
    "    first_day = dt.replace(day=1)\n",
    "    dom = dt.day\n",
    "    adjusted_dom = dom + first_day.weekday()\n",
    "    return int(ceil(adjusted_dom/7.0))"
   ]
  },
  {
   "cell_type": "code",
   "execution_count": 6,
   "id": "605d7a55",
   "metadata": {},
   "outputs": [],
   "source": [
    "a = pd.read_pickle('./data/amd_day.pkl')\n",
    "a = a.rename(columns={'Adj Close': 'ac'\n",
    "                      , 'Open': 'o'\n",
    "                      , 'Close': 'c'\n",
    "                      , 'High': 'h'\n",
    "                      , 'Low': 'l'\n",
    "                      , 'Volume': 'v'\n",
    "                     })"
   ]
  },
  {
   "cell_type": "code",
   "execution_count": 7,
   "id": "f8e86bdc",
   "metadata": {
    "scrolled": false
   },
   "outputs": [
    {
     "name": "stderr",
     "output_type": "stream",
     "text": [
      "<ipython-input-5-045eed3b9c19>:2: RuntimeWarning: divide by zero encountered in double_scalars\n",
      "  if abs((end - begin) / begin) <= 275:\n",
      "<ipython-input-5-045eed3b9c19>:4: RuntimeWarning: divide by zero encountered in double_scalars\n",
      "  elif ((end - begin) / begin) > 275:\n"
     ]
    }
   ],
   "source": [
    "a['dow'] = a.index.weekday\n",
    "a['wom'] = a.index.to_series().apply(week_of_month)\n",
    "a['mon'] = a.index.month\n",
    "\n",
    "a['v_mu_rol3'] = a['v'].rolling(window=3).mean()\n",
    "a['v_mu_rol5'] = a['v'].rolling(window=5).mean()\n",
    "a['v_mu_rol8'] = a['v'].rolling(window=8).mean()\n",
    "a['v_mu_rol13'] = a['v'].rolling(window=13).mean()\n",
    "a['v_mu_rol21'] = a['v'].rolling(window=21).mean()\n",
    "\n",
    "a['v_std_rol3'] = a['v'].rolling(window=3).std()\n",
    "a['v_std_rol5'] = a['v'].rolling(window=5).std()\n",
    "a['v_std_rol8'] = a['v'].rolling(window=8).std()\n",
    "a['v_std_rol13'] = a['v'].rolling(window=13).std()\n",
    "a['v_std_rol21'] = a['v'].rolling(window=21).std()\n",
    "\n",
    "a['vpd_hlc'] = a.apply(lambda row: compute_volume_per_dollar(row['v'], row['h'], row['l']), axis=1)  # volume per dollar high low change\n",
    "a['vpd_opac'] = a.apply(lambda row: compute_volume_per_dollar(row['v'], row['o'], row['c']), axis=1)  # volume per dollar open close absolute change\n",
    "\n",
    "a['ac1'] = a['ac'].pct_change(1)\n",
    "a['ac3'] = a['ac'].pct_change(3)\n",
    "a['ac5'] = a['ac'].pct_change(5)\n",
    "a['ac8'] = a['ac'].pct_change(8)\n",
    "a['ac13'] = a['ac'].pct_change(13)\n",
    "a['ac21'] = a['ac'].pct_change(21)\n",
    "\n",
    "a['mu_rol3'] = a['ac1'].rolling(window=3).mean()\n",
    "a['mu_rol5'] = a['ac1'].rolling(window=5).mean()\n",
    "a['mu_rol8'] = a['ac1'].rolling(window=8).mean()\n",
    "a['mu_rol13'] = a['ac1'].rolling(window=13).mean()\n",
    "a['mu_rol21'] = a['ac1'].rolling(window=21).mean()\n",
    "\n",
    "a['std_rol3'] = a['ac1'].rolling(window=3).std()\n",
    "a['std_rol5'] = a['ac1'].rolling(window=5).std()\n",
    "a['std_rol8'] = a['ac1'].rolling(window=8).std()\n",
    "a['std_rol13'] = a['ac1'].rolling(window=13).std()\n",
    "a['std_rol21'] = a['ac1'].rolling(window=21).std()\n",
    "\n",
    "a['hl_pct'] = a.apply(lambda row: compute_pct_change(row['l'], row['h'], row['o']), axis=1)\n",
    "a['oc_pct'] = a.apply(lambda row: compute_pct_change(row['o'], row['c'], row['o']), axis=1)\n",
    "\n",
    "a.dropna(axis=0, inplace=True)\n",
    "\n",
    "a['ac'] = where(a['ac'] == 0.0, a['c'], a['ac'])\n",
    "a['ac1'] = where(a['ac1'] == 0.0, a['c'], a['ac1'])\n",
    "a['ac3'] = where(a['ac3'] == 0.0, a['c'], a['ac3'])\n",
    "a['ac5'] = where(a['ac5'] == 0.0, a['c'], a['ac5'])\n",
    "a['ac3'] = where(a['ac8'] == 0.0, a['c'], a['ac8'])\n",
    "a['ac13'] = where(a['ac13'] == 0.0, a['c'], a['ac13'])\n",
    "a['ac21'] = where(a['ac21'] == 0.0, a['c'], a['ac21'])\n",
    "\n",
    "a['v_z_rol3'] = (a['v'] - a['v_mu_rol3']) / a['v_std_rol3']\n",
    "a['v_z_rol5'] = (a['v'] - a['v_mu_rol5']) / a['v_std_rol5']\n",
    "a['v_z_rol8'] = (a['v'] - a['v_mu_rol8']) / a['v_std_rol8']\n",
    "a['v_z_rol13'] = (a['v'] - a['v_mu_rol13']) / a['v_std_rol13']\n",
    "a['v_z_rol21'] = (a['v'] - a['v_mu_rol21']) / a['v_std_rol21']\n",
    "\n",
    "a['ac_z_rol3'] = (a['ac'] - a['mu_rol3']) / a['std_rol3']\n",
    "a['ac_z_rol5'] = (a['ac'] - a['mu_rol5']) / a['std_rol5']\n",
    "a['ac_z_rol8'] = (a['ac'] - a['mu_rol8']) / a['std_rol8']\n",
    "a['ac_z_rol13'] = (a['ac'] - a['mu_rol13']) / a['std_rol13']\n",
    "a['ac_z_rol21'] = (a['ac'] - a['mu_rol21']) / a['std_rol21']\n",
    "\n",
    "a['ac1_up_dwn'] = a.apply(lambda row: compute_up_down(row['ac1'], row['ac']), axis=1)\n",
    "a['ac3_up_dwn'] = a.apply(lambda row: compute_up_down(row['ac3'], row['ac']), axis=1)\n",
    "a['ac5_up_dwn'] = a.apply(lambda row: compute_up_down(row['ac5'], row['ac']), axis=1)\n",
    "a['ac8_up_dwn'] = a.apply(lambda row: compute_up_down(row['ac8'], row['ac']), axis=1)\n",
    "a['ac13_up_dwn'] = a.apply(lambda row: compute_up_down(row['ac13'], row['ac']), axis=1)\n",
    "a['ac21_up_dwn'] = a.apply(lambda row: compute_up_down(row['ac21'], row['ac']), axis=1)\n",
    "\n",
    "a['ac1_avg5'] = a['ac1_up_dwn'].rolling(window=5).mean()\n",
    "a['ac1_avg13'] = a['ac1_up_dwn'].rolling(window=13).mean()\n",
    "a['ac1_avg21'] = a['ac1_up_dwn'].rolling(window=21).mean()\n",
    "\n",
    "a.dropna(axis=0, inplace=True)\n",
    "\n",
    "a['ac1_pred'] = a['ac1_up_dwn'].shift(-1)\n",
    "a['ac3_pred'] = a['ac3_up_dwn'].shift(-3)\n",
    "a['ac5_pred'] = a['ac5_up_dwn'].shift(-5)\n",
    "a['ac8_pred'] = a['ac8_up_dwn'].shift(-8)\n",
    "a['ac13_pred'] = a['ac13_up_dwn'].shift(-13)\n",
    "a['ac21_pred'] = a['ac21_up_dwn'].shift(-21)\n",
    "\n",
    "a = a[~a.isin([np.inf, -np.inf]).any(axis=1)]"
   ]
  },
  {
   "cell_type": "code",
   "execution_count": 8,
   "id": "b5bba05e",
   "metadata": {
    "scrolled": true
   },
   "outputs": [
    {
     "data": {
      "text/plain": [
       "0.0    3693\n",
       "2.0    3623\n",
       "1.0    3515\n",
       "Name: ac1_pred, dtype: int64"
      ]
     },
     "execution_count": 8,
     "metadata": {},
     "output_type": "execute_result"
    }
   ],
   "source": [
    "a['ac1_pred'].value_counts()"
   ]
  },
  {
   "cell_type": "code",
   "execution_count": 9,
   "id": "a5b7684d",
   "metadata": {},
   "outputs": [],
   "source": [
    "# Upsampling...\n",
    "\n",
    "# a0s = a[a['ac1_pred'] == 0.0]\n",
    "\n",
    "# for _ in range(7):\n",
    "#     a = pd.concat([a, a0s], axis=0)\n",
    "\n",
    "# a['ac1_pred'].value_counts()"
   ]
  },
  {
   "cell_type": "code",
   "execution_count": 10,
   "id": "2bdcb9cd",
   "metadata": {},
   "outputs": [
    {
     "data": {
      "text/plain": [
       "Index(['o', 'h', 'l', 'c', 'ac', 'v', 'dow', 'wom', 'mon', 'v_mu_rol3',\n",
       "       'v_mu_rol5', 'v_mu_rol8', 'v_mu_rol13', 'v_mu_rol21', 'v_std_rol3',\n",
       "       'v_std_rol5', 'v_std_rol8', 'v_std_rol13', 'v_std_rol21', 'vpd_hlc',\n",
       "       'vpd_opac', 'ac1', 'ac3', 'ac5', 'ac8', 'ac13', 'ac21', 'mu_rol3',\n",
       "       'mu_rol5', 'mu_rol8', 'mu_rol13', 'mu_rol21', 'std_rol3', 'std_rol5',\n",
       "       'std_rol8', 'std_rol13', 'std_rol21', 'hl_pct', 'oc_pct', 'v_z_rol3',\n",
       "       'v_z_rol5', 'v_z_rol8', 'v_z_rol13', 'v_z_rol21', 'ac_z_rol3',\n",
       "       'ac_z_rol5', 'ac_z_rol8', 'ac_z_rol13', 'ac_z_rol21', 'ac1_up_dwn',\n",
       "       'ac3_up_dwn', 'ac5_up_dwn', 'ac8_up_dwn', 'ac13_up_dwn', 'ac21_up_dwn',\n",
       "       'ac1_avg5', 'ac1_avg13', 'ac1_avg21', 'ac1_pred', 'ac3_pred',\n",
       "       'ac5_pred', 'ac8_pred', 'ac13_pred', 'ac21_pred'],\n",
       "      dtype='object')"
      ]
     },
     "execution_count": 10,
     "metadata": {},
     "output_type": "execute_result"
    }
   ],
   "source": [
    "a.columns"
   ]
  },
  {
   "cell_type": "code",
   "execution_count": 11,
   "id": "d8a3a7f4",
   "metadata": {},
   "outputs": [],
   "source": [
    "a1_col_list = ['o'\n",
    "               # , 'h'\n",
    "               # , 'l'\n",
    "               # , 'c'\n",
    "               , 'ac'\n",
    "               # , 'v'\n",
    "               , 'dow'\n",
    "               # , 'wom'\n",
    "               , 'mon'\n",
    "               # , 'v_mu_rol3'\n",
    "               # , 'v_mu_rol5'\n",
    "               # , 'v_mu_rol8'\n",
    "               # , 'v_mu_rol13'\n",
    "               # , 'v_mu_rol21'\n",
    "               # , 'v_std_rol3'\n",
    "               # , 'v_std_rol5'\n",
    "               # , 'v_std_rol8'\n",
    "               # , 'v_std_rol13'\n",
    "               # , 'v_std_rol21'\n",
    "               # , 'vpd_hlc'\n",
    "               # , 'vpd_opac'\n",
    "               # , 'ac1'\n",
    "               # , 'ac3'\n",
    "               # , 'ac5'\n",
    "               # , 'ac8'\n",
    "               # , 'ac13'\n",
    "               # , 'ac21'\n",
    "               , 'mu_rol3'\n",
    "               # , 'mu_rol5'\n",
    "               # , 'mu_rol8'\n",
    "               # , 'mu_rol13'\n",
    "               , 'mu_rol21'\n",
    "               # , 'std_rol3'\n",
    "               # , 'std_rol5'\n",
    "               # , 'std_rol8'\n",
    "               # , 'std_rol13'\n",
    "               # , 'std_rol21'\n",
    "               , 'hl_pct'\n",
    "               , 'oc_pct'\n",
    "               , 'v_z_rol3'\n",
    "               # , 'v_z_rol5'\n",
    "               # , 'v_z_rol8'\n",
    "               # , 'v_z_rol13'\n",
    "               , 'v_z_rol21'\n",
    "               , 'ac_z_rol3'\n",
    "               # , 'ac_z_rol5'\n",
    "               # , 'ac_z_rol8'\n",
    "               # , 'ac_z_rol13'\n",
    "               , 'ac_z_rol21'\n",
    "               , 'ac1_up_dwn'\n",
    "               # , 'ac3_up_dwn'\n",
    "               # , 'ac5_up_dwn'\n",
    "               # , 'ac8_up_dwn'\n",
    "               # , 'ac13_up_dwn'\n",
    "               # , 'ac21_up_dwn'\n",
    "               , 'ac1_avg5'\n",
    "               # , 'ac1_avg13'\n",
    "               , 'ac1_avg21'\n",
    "               , 'ac1_pred'\n",
    "               ,\n",
    "              ]\n",
    "\n",
    "a1_master0 = a[a1_col_list].copy()\n",
    "\n",
    "a1_X_pred = a1_master0[a1_col_list[:-1]].iloc[-1].copy()\n",
    "\n",
    "a1_master0.drop(a1_master0.index[-1], axis=0, inplace=True)\n",
    "\n",
    "a1_master0 = a1_master0.sample(frac=1, random_state=21)\n",
    "a1_master0 = a1_master0.sample(frac=1, random_state=42)\n",
    "\n",
    "idx_split2_9th = int(a.shape[0] * 2.0 / 9)\n",
    "idx_split3_9th = int(a.shape[0] * 1.0 / 3)\n",
    "idx_split5_9th = int(a.shape[0] * 5.0 / 9)\n",
    "idx_split6_9th = int(a.shape[0] * 2.0 / 3)\n",
    "idx_split8_9th = int(a.shape[0] * 8.0 / 9)\n",
    "\n",
    "a1_X_train = a1_master0.iloc[:idx_split2_9th].drop('ac1_pred', axis=1)\n",
    "a1_y_train = a1_master0['ac1_pred'].iloc[:idx_split2_9th]\n",
    "a1_X_test = a1_master0.iloc[idx_split2_9th:idx_split3_9th].drop('ac1_pred', axis=1)\n",
    "a1_y_test = a1_master0['ac1_pred'].iloc[idx_split2_9th:idx_split3_9th]"
   ]
  },
  {
   "cell_type": "code",
   "execution_count": null,
   "id": "22d4565b",
   "metadata": {},
   "outputs": [],
   "source": []
  },
  {
   "cell_type": "code",
   "execution_count": null,
   "id": "6d94b3d2",
   "metadata": {},
   "outputs": [],
   "source": []
  },
  {
   "cell_type": "code",
   "execution_count": 12,
   "id": "520b9218",
   "metadata": {},
   "outputs": [
    {
     "name": "stdout",
     "output_type": "stream",
     "text": [
      "(10831, 16)\n",
      "(2407, 15)\n",
      "(2407,)\n",
      "(1203, 15)\n",
      "(1203,)\n"
     ]
    }
   ],
   "source": [
    "# sanity check first partition for training\n",
    "print(a1_master0.shape)\n",
    "print(a1_X_train.shape)\n",
    "print(a1_y_train.shape)\n",
    "print(a1_X_test.shape)\n",
    "print(a1_y_test.shape)"
   ]
  },
  {
   "cell_type": "code",
   "execution_count": 13,
   "id": "ba21c8cd",
   "metadata": {
    "scrolled": true
   },
   "outputs": [
    {
     "data": {
      "text/plain": [
       "o             0\n",
       "ac            0\n",
       "dow           0\n",
       "mon           0\n",
       "mu_rol3       0\n",
       "mu_rol21      0\n",
       "hl_pct        0\n",
       "oc_pct        0\n",
       "v_z_rol3      0\n",
       "v_z_rol21     0\n",
       "ac_z_rol3     0\n",
       "ac_z_rol21    0\n",
       "ac1_up_dwn    0\n",
       "ac1_avg5      0\n",
       "ac1_avg21     0\n",
       "dtype: int64"
      ]
     },
     "execution_count": 13,
     "metadata": {},
     "output_type": "execute_result"
    }
   ],
   "source": [
    "# check for infinities\n",
    "a1_X_train.isin([np.inf, -np.inf]).sum()"
   ]
  },
  {
   "cell_type": "code",
   "execution_count": 14,
   "id": "cccf737d",
   "metadata": {},
   "outputs": [
    {
     "data": {
      "text/html": [
       "<div>\n",
       "<style scoped>\n",
       "    .dataframe tbody tr th:only-of-type {\n",
       "        vertical-align: middle;\n",
       "    }\n",
       "\n",
       "    .dataframe tbody tr th {\n",
       "        vertical-align: top;\n",
       "    }\n",
       "\n",
       "    .dataframe thead th {\n",
       "        text-align: right;\n",
       "    }\n",
       "</style>\n",
       "<table border=\"1\" class=\"dataframe\">\n",
       "  <thead>\n",
       "    <tr style=\"text-align: right;\">\n",
       "      <th></th>\n",
       "      <th>o</th>\n",
       "      <th>ac</th>\n",
       "      <th>dow</th>\n",
       "      <th>mon</th>\n",
       "      <th>mu_rol3</th>\n",
       "      <th>mu_rol21</th>\n",
       "      <th>hl_pct</th>\n",
       "      <th>oc_pct</th>\n",
       "      <th>v_z_rol3</th>\n",
       "      <th>v_z_rol21</th>\n",
       "      <th>ac_z_rol3</th>\n",
       "      <th>ac_z_rol21</th>\n",
       "      <th>ac1_up_dwn</th>\n",
       "      <th>ac1_avg5</th>\n",
       "      <th>ac1_avg21</th>\n",
       "    </tr>\n",
       "    <tr>\n",
       "      <th>Date</th>\n",
       "      <th></th>\n",
       "      <th></th>\n",
       "      <th></th>\n",
       "      <th></th>\n",
       "      <th></th>\n",
       "      <th></th>\n",
       "      <th></th>\n",
       "      <th></th>\n",
       "      <th></th>\n",
       "      <th></th>\n",
       "      <th></th>\n",
       "      <th></th>\n",
       "      <th></th>\n",
       "      <th></th>\n",
       "      <th></th>\n",
       "    </tr>\n",
       "  </thead>\n",
       "  <tbody>\n",
       "  </tbody>\n",
       "</table>\n",
       "</div>"
      ],
      "text/plain": [
       "Empty DataFrame\n",
       "Columns: [o, ac, dow, mon, mu_rol3, mu_rol21, hl_pct, oc_pct, v_z_rol3, v_z_rol21, ac_z_rol3, ac_z_rol21, ac1_up_dwn, ac1_avg5, ac1_avg21]\n",
       "Index: []"
      ]
     },
     "execution_count": 14,
     "metadata": {},
     "output_type": "execute_result"
    }
   ],
   "source": [
    "mask = np.isinf(a1_X_train)\n",
    "\n",
    "result = a1_X_train[mask.any(axis=1)]\n",
    "\n",
    "result"
   ]
  },
  {
   "cell_type": "code",
   "execution_count": 15,
   "id": "08239f1b",
   "metadata": {},
   "outputs": [
    {
     "name": "stdout",
     "output_type": "stream",
     "text": [
      "Accuracy: 0.5087281795511222\n"
     ]
    }
   ],
   "source": [
    "# modeling partition first 1/3\n",
    "\n",
    "xgb_model0 = xgb.XGBClassifier(objective='multi:softmax'\n",
    "                              , num_class=3\n",
    "                              , random_state=42\n",
    "                              , max_depth=5\n",
    "                              , n_estimators=133\n",
    "                              , learning_rate=0.00001\n",
    "                              , min_child_weight=3\n",
    "                             )\n",
    "\n",
    "xgb_model0.fit(a1_X_train, a1_y_train)\n",
    "\n",
    "y_pred = xgb_model0.predict(a1_X_test)\n",
    "\n",
    "# y_pred_prob = xgb_model0.predict_proba(a1_X_test)[:, 1]\n",
    "\n",
    "acc = accuracy_score(a1_y_test, y_pred)\n",
    "\n",
    "print(f'Accuracy: {acc}')"
   ]
  },
  {
   "cell_type": "code",
   "execution_count": 16,
   "id": "ed092f63",
   "metadata": {
    "scrolled": true
   },
   "outputs": [
    {
     "data": {
      "text/plain": [
       "array([0.5194261 , 0.12658621, 0.01482539, 0.01392275, 0.01135146,\n",
       "       0.0253235 , 0.02211108, 0.02088926, 0.02024907, 0.02351059,\n",
       "       0.03359   , 0.04452867, 0.02476872, 0.03350995, 0.06540725],\n",
       "      dtype=float32)"
      ]
     },
     "execution_count": 16,
     "metadata": {},
     "output_type": "execute_result"
    }
   ],
   "source": [
    "xgb_model0.feature_importances_"
   ]
  },
  {
   "cell_type": "code",
   "execution_count": 17,
   "id": "8a7ac175",
   "metadata": {},
   "outputs": [
    {
     "data": {
      "text/plain": [
       "Index(['o', 'ac', 'dow', 'mon', 'mu_rol3', 'mu_rol21', 'hl_pct', 'oc_pct',\n",
       "       'v_z_rol3', 'v_z_rol21', 'ac_z_rol3', 'ac_z_rol21', 'ac1_up_dwn',\n",
       "       'ac1_avg5', 'ac1_avg21'],\n",
       "      dtype='object')"
      ]
     },
     "execution_count": 17,
     "metadata": {},
     "output_type": "execute_result"
    }
   ],
   "source": [
    "a1_X_train.columns"
   ]
  },
  {
   "cell_type": "code",
   "execution_count": 18,
   "id": "30583050",
   "metadata": {},
   "outputs": [
    {
     "data": {
      "text/plain": [
       "1"
      ]
     },
     "execution_count": 18,
     "metadata": {},
     "output_type": "execute_result"
    }
   ],
   "source": [
    "xgb_model0.predict(a1_X_pred.to_numpy().reshape(1,-1))[0]"
   ]
  },
  {
   "cell_type": "code",
   "execution_count": 19,
   "id": "c9b55693",
   "metadata": {},
   "outputs": [
    {
     "data": {
      "text/plain": [
       "array([[0.33300048, 0.33352232, 0.33347732]], dtype=float32)"
      ]
     },
     "execution_count": 19,
     "metadata": {},
     "output_type": "execute_result"
    }
   ],
   "source": [
    "xgb_model0.predict_proba(a1_X_pred.to_numpy().reshape(1,-1))"
   ]
  },
  {
   "cell_type": "code",
   "execution_count": null,
   "id": "6ca75fcb",
   "metadata": {},
   "outputs": [],
   "source": []
  },
  {
   "cell_type": "code",
   "execution_count": null,
   "id": "989b27b3",
   "metadata": {
    "scrolled": false
   },
   "outputs": [
    {
     "name": "stderr",
     "output_type": "stream",
     "text": [
      "Exception ignored on calling ctypes callback function: <function _ThreadpoolInfo._find_modules_with_dl_iterate_phdr.<locals>.match_module_callback at 0x7f76271ddaf0>\n",
      "Traceback (most recent call last):\n",
      "  File \"/home/oem/.local/lib/python3.8/site-packages/threadpoolctl.py\", line 400, in match_module_callback\n",
      "    self._make_module_from_path(filepath)\n",
      "  File \"/home/oem/.local/lib/python3.8/site-packages/threadpoolctl.py\", line 515, in _make_module_from_path\n",
      "    module = module_class(filepath, prefix, user_api, internal_api)\n",
      "  File \"/home/oem/.local/lib/python3.8/site-packages/threadpoolctl.py\", line 606, in __init__\n",
      "    self.version = self.get_version()\n",
      "  File \"/home/oem/.local/lib/python3.8/site-packages/threadpoolctl.py\", line 646, in get_version\n",
      "    config = get_config().split()\n",
      "AttributeError: 'NoneType' object has no attribute 'split'\n"
     ]
    },
    {
     "data": {
      "text/html": [
       "<style type=\"text/css\">\n",
       "#T_4851d_row8_col1 {\n",
       "  background-color: lightgreen;\n",
       "}\n",
       "</style>\n",
       "<table id=\"T_4851d_\">\n",
       "  <thead>\n",
       "    <tr>\n",
       "      <th class=\"blank level0\" >&nbsp;</th>\n",
       "      <th class=\"col_heading level0 col0\" >Description</th>\n",
       "      <th class=\"col_heading level0 col1\" >Value</th>\n",
       "    </tr>\n",
       "  </thead>\n",
       "  <tbody>\n",
       "    <tr>\n",
       "      <th id=\"T_4851d_level0_row0\" class=\"row_heading level0 row0\" >0</th>\n",
       "      <td id=\"T_4851d_row0_col0\" class=\"data row0 col0\" >Session id</td>\n",
       "      <td id=\"T_4851d_row0_col1\" class=\"data row0 col1\" >4263</td>\n",
       "    </tr>\n",
       "    <tr>\n",
       "      <th id=\"T_4851d_level0_row1\" class=\"row_heading level0 row1\" >1</th>\n",
       "      <td id=\"T_4851d_row1_col0\" class=\"data row1 col0\" >Target</td>\n",
       "      <td id=\"T_4851d_row1_col1\" class=\"data row1 col1\" >ac1_pred</td>\n",
       "    </tr>\n",
       "    <tr>\n",
       "      <th id=\"T_4851d_level0_row2\" class=\"row_heading level0 row2\" >2</th>\n",
       "      <td id=\"T_4851d_row2_col0\" class=\"data row2 col0\" >Target type</td>\n",
       "      <td id=\"T_4851d_row2_col1\" class=\"data row2 col1\" >Multiclass</td>\n",
       "    </tr>\n",
       "    <tr>\n",
       "      <th id=\"T_4851d_level0_row3\" class=\"row_heading level0 row3\" >3</th>\n",
       "      <td id=\"T_4851d_row3_col0\" class=\"data row3 col0\" >Original data shape</td>\n",
       "      <td id=\"T_4851d_row3_col1\" class=\"data row3 col1\" >(2407, 16)</td>\n",
       "    </tr>\n",
       "    <tr>\n",
       "      <th id=\"T_4851d_level0_row4\" class=\"row_heading level0 row4\" >4</th>\n",
       "      <td id=\"T_4851d_row4_col0\" class=\"data row4 col0\" >Transformed data shape</td>\n",
       "      <td id=\"T_4851d_row4_col1\" class=\"data row4 col1\" >(2407, 16)</td>\n",
       "    </tr>\n",
       "    <tr>\n",
       "      <th id=\"T_4851d_level0_row5\" class=\"row_heading level0 row5\" >5</th>\n",
       "      <td id=\"T_4851d_row5_col0\" class=\"data row5 col0\" >Transformed train set shape</td>\n",
       "      <td id=\"T_4851d_row5_col1\" class=\"data row5 col1\" >(1684, 16)</td>\n",
       "    </tr>\n",
       "    <tr>\n",
       "      <th id=\"T_4851d_level0_row6\" class=\"row_heading level0 row6\" >6</th>\n",
       "      <td id=\"T_4851d_row6_col0\" class=\"data row6 col0\" >Transformed test set shape</td>\n",
       "      <td id=\"T_4851d_row6_col1\" class=\"data row6 col1\" >(723, 16)</td>\n",
       "    </tr>\n",
       "    <tr>\n",
       "      <th id=\"T_4851d_level0_row7\" class=\"row_heading level0 row7\" >7</th>\n",
       "      <td id=\"T_4851d_row7_col0\" class=\"data row7 col0\" >Numeric features</td>\n",
       "      <td id=\"T_4851d_row7_col1\" class=\"data row7 col1\" >15</td>\n",
       "    </tr>\n",
       "    <tr>\n",
       "      <th id=\"T_4851d_level0_row8\" class=\"row_heading level0 row8\" >8</th>\n",
       "      <td id=\"T_4851d_row8_col0\" class=\"data row8 col0\" >Preprocess</td>\n",
       "      <td id=\"T_4851d_row8_col1\" class=\"data row8 col1\" >True</td>\n",
       "    </tr>\n",
       "    <tr>\n",
       "      <th id=\"T_4851d_level0_row9\" class=\"row_heading level0 row9\" >9</th>\n",
       "      <td id=\"T_4851d_row9_col0\" class=\"data row9 col0\" >Imputation type</td>\n",
       "      <td id=\"T_4851d_row9_col1\" class=\"data row9 col1\" >simple</td>\n",
       "    </tr>\n",
       "    <tr>\n",
       "      <th id=\"T_4851d_level0_row10\" class=\"row_heading level0 row10\" >10</th>\n",
       "      <td id=\"T_4851d_row10_col0\" class=\"data row10 col0\" >Numeric imputation</td>\n",
       "      <td id=\"T_4851d_row10_col1\" class=\"data row10 col1\" >mean</td>\n",
       "    </tr>\n",
       "    <tr>\n",
       "      <th id=\"T_4851d_level0_row11\" class=\"row_heading level0 row11\" >11</th>\n",
       "      <td id=\"T_4851d_row11_col0\" class=\"data row11 col0\" >Categorical imputation</td>\n",
       "      <td id=\"T_4851d_row11_col1\" class=\"data row11 col1\" >mode</td>\n",
       "    </tr>\n",
       "    <tr>\n",
       "      <th id=\"T_4851d_level0_row12\" class=\"row_heading level0 row12\" >12</th>\n",
       "      <td id=\"T_4851d_row12_col0\" class=\"data row12 col0\" >Fold Generator</td>\n",
       "      <td id=\"T_4851d_row12_col1\" class=\"data row12 col1\" >StratifiedKFold</td>\n",
       "    </tr>\n",
       "    <tr>\n",
       "      <th id=\"T_4851d_level0_row13\" class=\"row_heading level0 row13\" >13</th>\n",
       "      <td id=\"T_4851d_row13_col0\" class=\"data row13 col0\" >Fold Number</td>\n",
       "      <td id=\"T_4851d_row13_col1\" class=\"data row13 col1\" >10</td>\n",
       "    </tr>\n",
       "    <tr>\n",
       "      <th id=\"T_4851d_level0_row14\" class=\"row_heading level0 row14\" >14</th>\n",
       "      <td id=\"T_4851d_row14_col0\" class=\"data row14 col0\" >CPU Jobs</td>\n",
       "      <td id=\"T_4851d_row14_col1\" class=\"data row14 col1\" >-1</td>\n",
       "    </tr>\n",
       "    <tr>\n",
       "      <th id=\"T_4851d_level0_row15\" class=\"row_heading level0 row15\" >15</th>\n",
       "      <td id=\"T_4851d_row15_col0\" class=\"data row15 col0\" >Use GPU</td>\n",
       "      <td id=\"T_4851d_row15_col1\" class=\"data row15 col1\" >False</td>\n",
       "    </tr>\n",
       "    <tr>\n",
       "      <th id=\"T_4851d_level0_row16\" class=\"row_heading level0 row16\" >16</th>\n",
       "      <td id=\"T_4851d_row16_col0\" class=\"data row16 col0\" >Log Experiment</td>\n",
       "      <td id=\"T_4851d_row16_col1\" class=\"data row16 col1\" >False</td>\n",
       "    </tr>\n",
       "    <tr>\n",
       "      <th id=\"T_4851d_level0_row17\" class=\"row_heading level0 row17\" >17</th>\n",
       "      <td id=\"T_4851d_row17_col0\" class=\"data row17 col0\" >Experiment Name</td>\n",
       "      <td id=\"T_4851d_row17_col1\" class=\"data row17 col1\" >clf-default-name</td>\n",
       "    </tr>\n",
       "    <tr>\n",
       "      <th id=\"T_4851d_level0_row18\" class=\"row_heading level0 row18\" >18</th>\n",
       "      <td id=\"T_4851d_row18_col0\" class=\"data row18 col0\" >USI</td>\n",
       "      <td id=\"T_4851d_row18_col1\" class=\"data row18 col1\" >2bab</td>\n",
       "    </tr>\n",
       "  </tbody>\n",
       "</table>\n"
      ],
      "text/plain": [
       "<pandas.io.formats.style.Styler at 0x7f7636ae6670>"
      ]
     },
     "metadata": {},
     "output_type": "display_data"
    },
    {
     "data": {
      "text/html": [
       "<div>\n",
       "<style scoped>\n",
       "    .dataframe tbody tr th:only-of-type {\n",
       "        vertical-align: middle;\n",
       "    }\n",
       "\n",
       "    .dataframe tbody tr th {\n",
       "        vertical-align: top;\n",
       "    }\n",
       "\n",
       "    .dataframe thead th {\n",
       "        text-align: right;\n",
       "    }\n",
       "</style>\n",
       "<table border=\"1\" class=\"dataframe\">\n",
       "  <thead>\n",
       "    <tr style=\"text-align: right;\">\n",
       "      <th></th>\n",
       "      <th></th>\n",
       "      <th></th>\n",
       "    </tr>\n",
       "    <tr>\n",
       "      <th></th>\n",
       "      <th></th>\n",
       "      <th></th>\n",
       "    </tr>\n",
       "  </thead>\n",
       "  <tbody>\n",
       "    <tr>\n",
       "      <th>Initiated</th>\n",
       "      <td>. . . . . . . . . . . . . . . . . .</td>\n",
       "      <td>23:56:34</td>\n",
       "    </tr>\n",
       "    <tr>\n",
       "      <th>Status</th>\n",
       "      <td>. . . . . . . . . . . . . . . . . .</td>\n",
       "      <td>Fitting 10 Folds</td>\n",
       "    </tr>\n",
       "    <tr>\n",
       "      <th>Estimator</th>\n",
       "      <td>. . . . . . . . . . . . . . . . . .</td>\n",
       "      <td>Ada Boost Classifier</td>\n",
       "    </tr>\n",
       "  </tbody>\n",
       "</table>\n",
       "</div>"
      ],
      "text/plain": [
       "                                                                    \n",
       "                                                                    \n",
       "Initiated  . . . . . . . . . . . . . . . . . .              23:56:34\n",
       "Status     . . . . . . . . . . . . . . . . . .      Fitting 10 Folds\n",
       "Estimator  . . . . . . . . . . . . . . . . . .  Ada Boost Classifier"
      ]
     },
     "metadata": {},
     "output_type": "display_data"
    },
    {
     "data": {
      "text/html": [
       "<style type=\"text/css\">\n",
       "#T_cbecb_ th {\n",
       "  text-align: left;\n",
       "}\n",
       "#T_cbecb_row0_col0, #T_cbecb_row0_col1, #T_cbecb_row0_col2, #T_cbecb_row0_col3, #T_cbecb_row0_col4, #T_cbecb_row0_col5, #T_cbecb_row0_col6, #T_cbecb_row0_col7, #T_cbecb_row0_col8, #T_cbecb_row1_col0, #T_cbecb_row1_col1, #T_cbecb_row1_col2, #T_cbecb_row1_col3, #T_cbecb_row1_col4, #T_cbecb_row1_col5, #T_cbecb_row1_col6, #T_cbecb_row1_col7, #T_cbecb_row1_col8, #T_cbecb_row2_col0, #T_cbecb_row2_col1, #T_cbecb_row2_col2, #T_cbecb_row2_col3, #T_cbecb_row2_col4, #T_cbecb_row2_col5, #T_cbecb_row2_col6, #T_cbecb_row2_col7, #T_cbecb_row2_col8, #T_cbecb_row3_col0, #T_cbecb_row3_col1, #T_cbecb_row3_col2, #T_cbecb_row3_col3, #T_cbecb_row3_col4, #T_cbecb_row3_col5, #T_cbecb_row3_col6, #T_cbecb_row3_col7, #T_cbecb_row3_col8, #T_cbecb_row4_col0, #T_cbecb_row4_col1, #T_cbecb_row4_col2, #T_cbecb_row4_col3, #T_cbecb_row4_col4, #T_cbecb_row4_col5, #T_cbecb_row4_col6, #T_cbecb_row4_col7, #T_cbecb_row4_col8, #T_cbecb_row5_col0, #T_cbecb_row5_col1, #T_cbecb_row5_col2, #T_cbecb_row5_col3, #T_cbecb_row5_col4, #T_cbecb_row5_col5, #T_cbecb_row5_col6, #T_cbecb_row5_col7, #T_cbecb_row5_col8, #T_cbecb_row6_col0, #T_cbecb_row6_col1, #T_cbecb_row6_col2, #T_cbecb_row6_col3, #T_cbecb_row6_col4, #T_cbecb_row6_col5, #T_cbecb_row6_col6, #T_cbecb_row6_col7, #T_cbecb_row6_col8, #T_cbecb_row7_col0, #T_cbecb_row7_col1, #T_cbecb_row7_col2, #T_cbecb_row7_col3, #T_cbecb_row7_col4, #T_cbecb_row7_col5, #T_cbecb_row7_col6, #T_cbecb_row7_col7, #T_cbecb_row7_col8 {\n",
       "  text-align: left;\n",
       "}\n",
       "</style>\n",
       "<table id=\"T_cbecb_\">\n",
       "  <thead>\n",
       "    <tr>\n",
       "      <th class=\"blank level0\" >&nbsp;</th>\n",
       "      <th class=\"col_heading level0 col0\" >Model</th>\n",
       "      <th class=\"col_heading level0 col1\" >Accuracy</th>\n",
       "      <th class=\"col_heading level0 col2\" >AUC</th>\n",
       "      <th class=\"col_heading level0 col3\" >Recall</th>\n",
       "      <th class=\"col_heading level0 col4\" >Prec.</th>\n",
       "      <th class=\"col_heading level0 col5\" >F1</th>\n",
       "      <th class=\"col_heading level0 col6\" >Kappa</th>\n",
       "      <th class=\"col_heading level0 col7\" >MCC</th>\n",
       "      <th class=\"col_heading level0 col8\" >TT (Sec)</th>\n",
       "    </tr>\n",
       "  </thead>\n",
       "  <tbody>\n",
       "    <tr>\n",
       "      <th id=\"T_cbecb_level0_row0\" class=\"row_heading level0 row0\" >ridge</th>\n",
       "      <td id=\"T_cbecb_row0_col0\" class=\"data row0 col0\" >Ridge Classifier</td>\n",
       "      <td id=\"T_cbecb_row0_col1\" class=\"data row0 col1\" >0.4947</td>\n",
       "      <td id=\"T_cbecb_row0_col2\" class=\"data row0 col2\" >0.0000</td>\n",
       "      <td id=\"T_cbecb_row0_col3\" class=\"data row0 col3\" >0.4947</td>\n",
       "      <td id=\"T_cbecb_row0_col4\" class=\"data row0 col4\" >0.4803</td>\n",
       "      <td id=\"T_cbecb_row0_col5\" class=\"data row0 col5\" >0.4820</td>\n",
       "      <td id=\"T_cbecb_row0_col6\" class=\"data row0 col6\" >0.2407</td>\n",
       "      <td id=\"T_cbecb_row0_col7\" class=\"data row0 col7\" >0.2434</td>\n",
       "      <td id=\"T_cbecb_row0_col8\" class=\"data row0 col8\" >0.0950</td>\n",
       "    </tr>\n",
       "    <tr>\n",
       "      <th id=\"T_cbecb_level0_row1\" class=\"row_heading level0 row1\" >lr</th>\n",
       "      <td id=\"T_cbecb_row1_col0\" class=\"data row1 col0\" >Logistic Regression</td>\n",
       "      <td id=\"T_cbecb_row1_col1\" class=\"data row1 col1\" >0.4911</td>\n",
       "      <td id=\"T_cbecb_row1_col2\" class=\"data row1 col2\" >0.7148</td>\n",
       "      <td id=\"T_cbecb_row1_col3\" class=\"data row1 col3\" >0.4911</td>\n",
       "      <td id=\"T_cbecb_row1_col4\" class=\"data row1 col4\" >0.4770</td>\n",
       "      <td id=\"T_cbecb_row1_col5\" class=\"data row1 col5\" >0.4755</td>\n",
       "      <td id=\"T_cbecb_row1_col6\" class=\"data row1 col6\" >0.2364</td>\n",
       "      <td id=\"T_cbecb_row1_col7\" class=\"data row1 col7\" >0.2407</td>\n",
       "      <td id=\"T_cbecb_row1_col8\" class=\"data row1 col8\" >0.6500</td>\n",
       "    </tr>\n",
       "    <tr>\n",
       "      <th id=\"T_cbecb_level0_row2\" class=\"row_heading level0 row2\" >rf</th>\n",
       "      <td id=\"T_cbecb_row2_col0\" class=\"data row2 col0\" >Random Forest Classifier</td>\n",
       "      <td id=\"T_cbecb_row2_col1\" class=\"data row2 col1\" >0.4870</td>\n",
       "      <td id=\"T_cbecb_row2_col2\" class=\"data row2 col2\" >0.6974</td>\n",
       "      <td id=\"T_cbecb_row2_col3\" class=\"data row2 col3\" >0.4870</td>\n",
       "      <td id=\"T_cbecb_row2_col4\" class=\"data row2 col4\" >0.4731</td>\n",
       "      <td id=\"T_cbecb_row2_col5\" class=\"data row2 col5\" >0.4764</td>\n",
       "      <td id=\"T_cbecb_row2_col6\" class=\"data row2 col6\" >0.2294</td>\n",
       "      <td id=\"T_cbecb_row2_col7\" class=\"data row2 col7\" >0.2311</td>\n",
       "      <td id=\"T_cbecb_row2_col8\" class=\"data row2 col8\" >0.3990</td>\n",
       "    </tr>\n",
       "    <tr>\n",
       "      <th id=\"T_cbecb_level0_row3\" class=\"row_heading level0 row3\" >knn</th>\n",
       "      <td id=\"T_cbecb_row3_col0\" class=\"data row3 col0\" >K Neighbors Classifier</td>\n",
       "      <td id=\"T_cbecb_row3_col1\" class=\"data row3 col1\" >0.4769</td>\n",
       "      <td id=\"T_cbecb_row3_col2\" class=\"data row3 col2\" >0.6591</td>\n",
       "      <td id=\"T_cbecb_row3_col3\" class=\"data row3 col3\" >0.4769</td>\n",
       "      <td id=\"T_cbecb_row3_col4\" class=\"data row3 col4\" >0.4663</td>\n",
       "      <td id=\"T_cbecb_row3_col5\" class=\"data row3 col5\" >0.4654</td>\n",
       "      <td id=\"T_cbecb_row3_col6\" class=\"data row3 col6\" >0.2148</td>\n",
       "      <td id=\"T_cbecb_row3_col7\" class=\"data row3 col7\" >0.2178</td>\n",
       "      <td id=\"T_cbecb_row3_col8\" class=\"data row3 col8\" >0.0980</td>\n",
       "    </tr>\n",
       "    <tr>\n",
       "      <th id=\"T_cbecb_level0_row4\" class=\"row_heading level0 row4\" >nb</th>\n",
       "      <td id=\"T_cbecb_row4_col0\" class=\"data row4 col0\" >Naive Bayes</td>\n",
       "      <td id=\"T_cbecb_row4_col1\" class=\"data row4 col1\" >0.4697</td>\n",
       "      <td id=\"T_cbecb_row4_col2\" class=\"data row4 col2\" >0.7191</td>\n",
       "      <td id=\"T_cbecb_row4_col3\" class=\"data row4 col3\" >0.4697</td>\n",
       "      <td id=\"T_cbecb_row4_col4\" class=\"data row4 col4\" >0.4789</td>\n",
       "      <td id=\"T_cbecb_row4_col5\" class=\"data row4 col5\" >0.3910</td>\n",
       "      <td id=\"T_cbecb_row4_col6\" class=\"data row4 col6\" >0.1991</td>\n",
       "      <td id=\"T_cbecb_row4_col7\" class=\"data row4 col7\" >0.2348</td>\n",
       "      <td id=\"T_cbecb_row4_col8\" class=\"data row4 col8\" >0.0810</td>\n",
       "    </tr>\n",
       "    <tr>\n",
       "      <th id=\"T_cbecb_level0_row5\" class=\"row_heading level0 row5\" >qda</th>\n",
       "      <td id=\"T_cbecb_row5_col0\" class=\"data row5 col0\" >Quadratic Discriminant Analysis</td>\n",
       "      <td id=\"T_cbecb_row5_col1\" class=\"data row5 col1\" >0.4471</td>\n",
       "      <td id=\"T_cbecb_row5_col2\" class=\"data row5 col2\" >0.7026</td>\n",
       "      <td id=\"T_cbecb_row5_col3\" class=\"data row5 col3\" >0.4471</td>\n",
       "      <td id=\"T_cbecb_row5_col4\" class=\"data row5 col4\" >0.4633</td>\n",
       "      <td id=\"T_cbecb_row5_col5\" class=\"data row5 col5\" >0.3694</td>\n",
       "      <td id=\"T_cbecb_row5_col6\" class=\"data row5 col6\" >0.1651</td>\n",
       "      <td id=\"T_cbecb_row5_col7\" class=\"data row5 col7\" >0.2055</td>\n",
       "      <td id=\"T_cbecb_row5_col8\" class=\"data row5 col8\" >0.0370</td>\n",
       "    </tr>\n",
       "    <tr>\n",
       "      <th id=\"T_cbecb_level0_row6\" class=\"row_heading level0 row6\" >dt</th>\n",
       "      <td id=\"T_cbecb_row6_col0\" class=\"data row6 col0\" >Decision Tree Classifier</td>\n",
       "      <td id=\"T_cbecb_row6_col1\" class=\"data row6 col1\" >0.4400</td>\n",
       "      <td id=\"T_cbecb_row6_col2\" class=\"data row6 col2\" >0.5801</td>\n",
       "      <td id=\"T_cbecb_row6_col3\" class=\"data row6 col3\" >0.4400</td>\n",
       "      <td id=\"T_cbecb_row6_col4\" class=\"data row6 col4\" >0.4410</td>\n",
       "      <td id=\"T_cbecb_row6_col5\" class=\"data row6 col5\" >0.4382</td>\n",
       "      <td id=\"T_cbecb_row6_col6\" class=\"data row6 col6\" >0.1595</td>\n",
       "      <td id=\"T_cbecb_row6_col7\" class=\"data row6 col7\" >0.1603</td>\n",
       "      <td id=\"T_cbecb_row6_col8\" class=\"data row6 col8\" >0.0520</td>\n",
       "    </tr>\n",
       "    <tr>\n",
       "      <th id=\"T_cbecb_level0_row7\" class=\"row_heading level0 row7\" >svm</th>\n",
       "      <td id=\"T_cbecb_row7_col0\" class=\"data row7 col0\" >SVM - Linear Kernel</td>\n",
       "      <td id=\"T_cbecb_row7_col1\" class=\"data row7 col1\" >0.3824</td>\n",
       "      <td id=\"T_cbecb_row7_col2\" class=\"data row7 col2\" >0.0000</td>\n",
       "      <td id=\"T_cbecb_row7_col3\" class=\"data row7 col3\" >0.3824</td>\n",
       "      <td id=\"T_cbecb_row7_col4\" class=\"data row7 col4\" >0.3155</td>\n",
       "      <td id=\"T_cbecb_row7_col5\" class=\"data row7 col5\" >0.2765</td>\n",
       "      <td id=\"T_cbecb_row7_col6\" class=\"data row7 col6\" >0.0687</td>\n",
       "      <td id=\"T_cbecb_row7_col7\" class=\"data row7 col7\" >0.1107</td>\n",
       "      <td id=\"T_cbecb_row7_col8\" class=\"data row7 col8\" >0.0390</td>\n",
       "    </tr>\n",
       "  </tbody>\n",
       "</table>\n"
      ],
      "text/plain": [
       "<pandas.io.formats.style.Styler at 0x7f7636c0e340>"
      ]
     },
     "metadata": {},
     "output_type": "display_data"
    },
    {
     "data": {
      "application/vnd.jupyter.widget-view+json": {
       "model_id": "4b270797cd3a485aae387d2f093cc675",
       "version_major": 2,
       "version_minor": 0
      },
      "text/plain": [
       "Processing:   0%|          | 0/65 [00:00<?, ?it/s]"
      ]
     },
     "metadata": {},
     "output_type": "display_data"
    }
   ],
   "source": [
    "# pycaret model comparisons\n",
    "\n",
    "from pycaret.classification import *\n",
    "\n",
    "exp_name = setup(a1_master0.iloc[:idx_split2_9th]\n",
    "                 , target = 'ac1_pred'\n",
    "                )\n",
    "\n",
    "best_model = compare_models()\n",
    "\n",
    "evaluate_model(best_model)"
   ]
  },
  {
   "cell_type": "code",
   "execution_count": null,
   "id": "d079042d",
   "metadata": {},
   "outputs": [],
   "source": []
  },
  {
   "cell_type": "code",
   "execution_count": null,
   "id": "e1b68840",
   "metadata": {},
   "outputs": [],
   "source": [
    "from sklearn.linear_model import LogisticRegression\n",
    "from sklearn.model_selection import train_test_split\n",
    "from sklearn.metrics import accuracy_score\n",
    "\n",
    "# Split the data into training and test sets\n",
    "a1_X_train = a1_master0.iloc[:idx_split2_9th].drop('ac1_pred', axis=1)\n",
    "a1_y_train = a1_master0['ac1_pred'].iloc[:idx_split2_9th]\n",
    "a1_X_test = a1_master0.iloc[idx_split2_9th:idx_split3_9th].drop('ac1_pred', axis=1)\n",
    "a1_y_test = a1_master0['ac1_pred'].iloc[idx_split2_9th:idx_split3_9th]\n",
    "\n",
    "X_train = a1_X_train\n",
    "X_test = a1_X_test\n",
    "y_train = a1_y_train\n",
    "y_test = a1_y_test\n",
    "\n",
    "# Create a logistic regression classifier parameters\n",
    "# C\t1.0\n",
    "# class_weight\tNone\n",
    "# dual\tFalse\n",
    "# fit_intercept\tTrue\n",
    "# intercept_scaling\t1\n",
    "# l1_ratio\tNone\n",
    "# max_iter\t1000\n",
    "# multi_class\tauto\n",
    "# n_jobs\tNone\n",
    "# penalty\tl2\n",
    "# random_state\t1906\n",
    "# solver\tlbfgs\n",
    "# tol\t0.0001\n",
    "# verbose\t0\n",
    "# warm_start\tFalse\n",
    "\n",
    "clf = LogisticRegression(random_state=1906\n",
    "                         , C=1.0\n",
    "                         , class_weight=None\n",
    "                         , dual=False\n",
    "                         , fit_intercept=True\n",
    "                         , intercept_scaling=1\n",
    "                         , l1_ratio=None\n",
    "                         , max_iter=1000\n",
    "                         , multi_class='auto'\n",
    "                         , n_jobs=-1\n",
    "                         , penalty='l2'\n",
    "                         , solver='lbfgs'\n",
    "                         , tol=0.0001\n",
    "                         , verbose=0\n",
    "                         , warm_start=False\n",
    "                        )\n",
    "\n",
    "# Train the classifier on the training data\n",
    "clf.fit(X_train, y_train)\n",
    "\n",
    "# Make predictions on the test data\n",
    "y_pred = clf.predict(X_test)\n",
    "\n",
    "# Evaluate the accuracy of the classifier\n",
    "accuracy = accuracy_score(y_test, y_pred)\n",
    "print(\"Accuracy:\", accuracy)\n"
   ]
  },
  {
   "cell_type": "code",
   "execution_count": null,
   "id": "85e7fd1d",
   "metadata": {},
   "outputs": [],
   "source": [
    "clf.coef_[0]"
   ]
  },
  {
   "cell_type": "code",
   "execution_count": null,
   "id": "80131e93",
   "metadata": {},
   "outputs": [],
   "source": [
    "importance = clf.coef_[0]\n",
    "#importance is a list so you can plot it. \n",
    "feat_importances = pd.Series(importance)\n",
    "feat_importances.nlargest(15).plot(kind='barh',title = 'Feature Importance');"
   ]
  },
  {
   "cell_type": "code",
   "execution_count": null,
   "id": "29ef58b8",
   "metadata": {},
   "outputs": [],
   "source": [
    "clf.predict(a1_X_pred.to_numpy().reshape(1,-1))[0]"
   ]
  },
  {
   "cell_type": "code",
   "execution_count": null,
   "id": "7722b30c",
   "metadata": {},
   "outputs": [],
   "source": [
    "list(clf.predict_proba(a1_X_pred.to_numpy().reshape(1,-1))[0])"
   ]
  },
  {
   "cell_type": "code",
   "execution_count": null,
   "id": "08d3b3ff",
   "metadata": {},
   "outputs": [],
   "source": []
  },
  {
   "cell_type": "code",
   "execution_count": null,
   "id": "10a4d71b",
   "metadata": {},
   "outputs": [],
   "source": []
  },
  {
   "cell_type": "code",
   "execution_count": null,
   "id": "586ffdb0",
   "metadata": {},
   "outputs": [],
   "source": []
  },
  {
   "cell_type": "code",
   "execution_count": null,
   "id": "c6a1ceef",
   "metadata": {},
   "outputs": [],
   "source": []
  },
  {
   "cell_type": "code",
   "execution_count": null,
   "id": "9006ebd9",
   "metadata": {},
   "outputs": [],
   "source": []
  },
  {
   "cell_type": "code",
   "execution_count": null,
   "id": "8e2769b6",
   "metadata": {},
   "outputs": [],
   "source": [
    "# random forest classifier\n",
    " \n",
    "from sklearn.metrics import (roc_auc_score\n",
    "                             , precision_score\n",
    "                             , recall_score\n",
    "                             , roc_curve\n",
    "                             , confusion_matrix\n",
    "                             , plot_confusion_matrix\n",
    "                             , precision_recall_curve\n",
    "                             , auc\n",
    "                            )\n",
    "\n",
    "from sklearn.ensemble import RandomForestClassifier as rfc\n",
    "from sklearn.model_selection import GridSearchCV\n",
    "import joblib\n",
    "\n",
    "rfc_model = rfc(random_state = 42\n",
    "                , n_jobs = -1\n",
    "               )\n",
    "\n",
    "rfc_model.fit(a1_X_train, a1_y_train)\n",
    "\n",
    "y_pred = rfc_model.predict(a1_X_test)\n",
    "\n",
    "acc = accuracy_score(a1_y_test, y_pred)\n",
    "\n",
    "print(f'Accuaracy: {acc}')"
   ]
  },
  {
   "cell_type": "code",
   "execution_count": null,
   "id": "50941304",
   "metadata": {},
   "outputs": [],
   "source": [
    "rfc_model.feature_importances_"
   ]
  },
  {
   "cell_type": "code",
   "execution_count": null,
   "id": "d1a7dab9",
   "metadata": {},
   "outputs": [],
   "source": []
  },
  {
   "cell_type": "code",
   "execution_count": null,
   "id": "81be3b76",
   "metadata": {},
   "outputs": [],
   "source": []
  },
  {
   "cell_type": "code",
   "execution_count": null,
   "id": "29474a9d",
   "metadata": {},
   "outputs": [],
   "source": []
  },
  {
   "cell_type": "code",
   "execution_count": null,
   "id": "1dae2fd3",
   "metadata": {},
   "outputs": [],
   "source": []
  },
  {
   "cell_type": "code",
   "execution_count": null,
   "id": "01f78a90",
   "metadata": {},
   "outputs": [],
   "source": []
  },
  {
   "cell_type": "code",
   "execution_count": null,
   "id": "9390368c",
   "metadata": {},
   "outputs": [],
   "source": []
  },
  {
   "cell_type": "code",
   "execution_count": null,
   "id": "2edfac36",
   "metadata": {},
   "outputs": [],
   "source": [
    "# add predictions to X_train\n",
    "\n",
    "# idx_split2_9th = int(a.shape[0] * 2.0 / 9)\n",
    "# idx_split3_9th = int(a.shape[0] * 1.0 / 3)\n",
    "# idx_split5_9th = int(a.shape[0] * 5.0 / 9)\n",
    "# idx_split6_9th = int(a.shape[0] * 2.0 / 3)\n",
    "# idx_split8_9th = int(a.shape[0] * 8.0 / 9)\n",
    "\n",
    "\n",
    "\n",
    "\n",
    "a1_master1 = a1_master0[a1_col_list].iloc[idx_split3_9th:idx_split6_9th].copy()\n",
    "a1_master1['pred0'] = xgb_model0.predict(a1_master1[a1_X_train.columns])\n",
    "\n",
    "idx_2_3 = int(a1_master1.shape[0] * 2 / 3)\n",
    "\n",
    "a1_X_train = a1_master1.iloc[:idx_2_3].drop('ac1_pred', axis=1)\n",
    "a1_y_train = a1_master1['ac1_pred'].iloc[:idx_2_3]\n",
    "a1_X_test = a1_master1.iloc[idx_2_3:].drop('ac1_pred', axis=1)\n",
    "a1_y_test = a1_master1['ac1_pred'].iloc[idx_2_3:]"
   ]
  },
  {
   "cell_type": "code",
   "execution_count": null,
   "id": "6ba46736",
   "metadata": {},
   "outputs": [],
   "source": [
    "# sanity check first partition for training\n",
    "print(a1_master1.shape)\n",
    "print(a1_X_train.shape)\n",
    "print(a1_y_train.shape)\n",
    "print(a1_X_test.shape)\n",
    "print(a1_y_test.shape)"
   ]
  },
  {
   "cell_type": "code",
   "execution_count": null,
   "id": "284fc2b9",
   "metadata": {},
   "outputs": [],
   "source": [
    "# modeling partition 2nd 1/3\n",
    "\n",
    "xgb_model1 = xgb.XGBClassifier(objective='multi:softmax'\n",
    "                              , num_class=3\n",
    "                              , random_state=42\n",
    "                              , max_depth=7\n",
    "                              , n_estimators=55\n",
    "                              , learning_rate=0.01\n",
    "                              , min_child_weight=3\n",
    "                             )\n",
    "\n",
    "xgb_model1.fit(a1_X_train, a1_y_train)\n",
    "\n",
    "y_pred = xgb_model1.predict(a1_X_test)\n",
    "\n",
    "# y_pred_prob = xgb_model0.predict_proba(a1_X_test)[:, 1]\n",
    "\n",
    "acc = accuracy_score(a1_y_test, y_pred)\n",
    "\n",
    "print(f'Accuracy: {acc}')"
   ]
  },
  {
   "cell_type": "code",
   "execution_count": null,
   "id": "737a7b1c",
   "metadata": {},
   "outputs": [],
   "source": [
    "xgb_model1.feature_importances_"
   ]
  },
  {
   "cell_type": "code",
   "execution_count": null,
   "id": "28dec8ae",
   "metadata": {},
   "outputs": [],
   "source": [
    "# 4/16/2023 --to do: need to put back last row to fill pred0 column"
   ]
  },
  {
   "cell_type": "code",
   "execution_count": null,
   "id": "a53fbb8f",
   "metadata": {},
   "outputs": [],
   "source": []
  },
  {
   "cell_type": "code",
   "execution_count": null,
   "id": "e8c4a355",
   "metadata": {},
   "outputs": [],
   "source": []
  },
  {
   "cell_type": "code",
   "execution_count": null,
   "id": "c216fa6f",
   "metadata": {},
   "outputs": [],
   "source": []
  },
  {
   "cell_type": "code",
   "execution_count": null,
   "id": "ec6a0795",
   "metadata": {},
   "outputs": [],
   "source": [
    "a1_master1.tail(10)"
   ]
  },
  {
   "cell_type": "code",
   "execution_count": null,
   "id": "ef272c04",
   "metadata": {},
   "outputs": [],
   "source": [
    "a1_master1.shape"
   ]
  },
  {
   "cell_type": "code",
   "execution_count": null,
   "id": "ca0e81aa",
   "metadata": {},
   "outputs": [],
   "source": [
    "len(a1_X_train.columns)"
   ]
  },
  {
   "cell_type": "code",
   "execution_count": null,
   "id": "c3e7af76",
   "metadata": {},
   "outputs": [],
   "source": [
    "a1_X_columns = list(a1_X_train.columns)\n",
    "a1_X_columns.append('pred0')\n",
    "a1_X_columns"
   ]
  },
  {
   "cell_type": "code",
   "execution_count": null,
   "id": "1013eb97",
   "metadata": {},
   "outputs": [],
   "source": [
    "a1_X_pred1 = a1_master1[a1_X_columns].iloc[-1].copy()\n",
    "a1_X_pred1"
   ]
  },
  {
   "cell_type": "code",
   "execution_count": null,
   "id": "0d8106d9",
   "metadata": {},
   "outputs": [],
   "source": [
    "a1_master1_scrambled = a1_master1.iloc[:-1].copy()\n",
    "a1_master1_scrambled.tail(10)"
   ]
  },
  {
   "cell_type": "code",
   "execution_count": null,
   "id": "13b09a24",
   "metadata": {},
   "outputs": [],
   "source": [
    "a1_master1_scrambled = a1_master1_scrambled.sample(frac=1)\n",
    "a1_master1_scrambled = a1_master1_scrambled.sample(frac=1)\n",
    "\n",
    "a1_master1_scrambled.tail(10)"
   ]
  },
  {
   "cell_type": "code",
   "execution_count": null,
   "id": "1c55f872",
   "metadata": {},
   "outputs": [],
   "source": [
    "a1_idx_tt_split = int(a1_master1_scrambled.shape[0] * 0.9)\n",
    "a1_idx_tt_split"
   ]
  },
  {
   "cell_type": "code",
   "execution_count": null,
   "id": "19899b2c",
   "metadata": {},
   "outputs": [],
   "source": [
    "a1_X_train = a1_master1_scrambled[a1_X_columns].iloc[:a1_idx_tt_split]\n",
    "a1_y_train = a1_master1_scrambled['ac1_pred'].iloc[:a1_idx_tt_split]\n",
    "\n",
    "a1_X_test = a1_master1_scrambled[a1_X_columns].iloc[a1_idx_tt_split:]\n",
    "a1_y_test = a1_master1_scrambled['ac1_pred'].iloc[a1_idx_tt_split:]\n",
    "\n",
    "print(f'a1_master1 shape: {a1_master1.shape}')\n",
    "print(f'X_train shape: {a1_X_train.shape}')\n",
    "print(f'y_train shape: {a1_y_train.shape}')\n",
    "print(f'X_test shape: {a1_X_test.shape}')\n",
    "print(f'y_test shape: {a1_y_test.shape}')\n",
    "print(f'a1_X_pred1 shape: {a1_X_pred1.shape}')"
   ]
  },
  {
   "cell_type": "code",
   "execution_count": null,
   "id": "ed350d08",
   "metadata": {},
   "outputs": [],
   "source": [
    "# 2nd modeling\n",
    "\n",
    "xgb_model1 = xgb.XGBClassifier(objective='binary:logistic'\n",
    "                              # , num_class=2\n",
    "                              , random_state=42\n",
    "                              # , max_depth=7\n",
    "                              # , n_estimators=89\n",
    "                              # , learning_rate=0.05\n",
    "                              # , min_child_weight=4\n",
    "                             )\n",
    "\n",
    "xgb_model1.fit(a1_X_train, a1_y_train)\n",
    "\n",
    "y_pred = xgb_model1.predict(a1_X_test)\n",
    "\n",
    "y_pred_prob = xgb_model1.predict_proba(a1_X_test)[:, 1]\n",
    "\n",
    "acc = accuracy_score(a1_y_test, y_pred)\n",
    "\n",
    "print(f'Accuracy: {acc}')"
   ]
  },
  {
   "cell_type": "code",
   "execution_count": null,
   "id": "6ecd3dac",
   "metadata": {},
   "outputs": [],
   "source": [
    "xgb_model1.feature_importances_"
   ]
  },
  {
   "cell_type": "code",
   "execution_count": null,
   "id": "69e0bb16",
   "metadata": {},
   "outputs": [],
   "source": [
    "a1_X_columns"
   ]
  },
  {
   "cell_type": "code",
   "execution_count": null,
   "id": "362b7c05",
   "metadata": {},
   "outputs": [],
   "source": []
  },
  {
   "cell_type": "code",
   "execution_count": null,
   "id": "4e8719a2",
   "metadata": {},
   "outputs": [],
   "source": []
  },
  {
   "cell_type": "code",
   "execution_count": null,
   "id": "0b3f3b08",
   "metadata": {},
   "outputs": [],
   "source": []
  }
 ],
 "metadata": {
  "kernelspec": {
   "display_name": "Python 3",
   "language": "python",
   "name": "python3"
  },
  "language_info": {
   "codemirror_mode": {
    "name": "ipython",
    "version": 3
   },
   "file_extension": ".py",
   "mimetype": "text/x-python",
   "name": "python",
   "nbconvert_exporter": "python",
   "pygments_lexer": "ipython3",
   "version": "3.8.10"
  }
 },
 "nbformat": 4,
 "nbformat_minor": 5
}
