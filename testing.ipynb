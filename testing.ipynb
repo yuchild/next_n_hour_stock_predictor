{
 "cells": [
  {
   "cell_type": "code",
   "execution_count": 1,
   "id": "a349d607",
   "metadata": {},
   "outputs": [],
   "source": [
    "import yfinance as yf\n",
    "import pandas as pd\n",
    "import numpy as np\n",
    "from numpy import where\n",
    "import xgboost as xgb\n",
    "from sklearn.model_selection import GridSearchCV, StratifiedKFold\n",
    "from sklearn.metrics import accuracy_score"
   ]
  },
  {
   "cell_type": "code",
   "execution_count": 2,
   "id": "d63b5848",
   "metadata": {},
   "outputs": [],
   "source": [
    "# aapl_day = yf.download(\"AAPL\", start=\"1980-12-08\", end=None)\n",
    "# aapl_day.to_pickle('./data/aapl_day.pkl')\n",
    "# amd_day = yf.download(\"AMD\", start=\"1980-03-17\", end=None)\n",
    "# amd_day.to_pickle('./data/amd_day.pkl')"
   ]
  },
  {
   "cell_type": "code",
   "execution_count": 3,
   "id": "3bed1cf9",
   "metadata": {},
   "outputs": [],
   "source": [
    "# aapl_hour = yf.download(tickers=\"AAPL\",\n",
    "#                        period=\"2y\",\n",
    "#                        interval=\"1h\"\n",
    "#                       )\n",
    "# aapl_hour.to_pickle('./data/aapl_hr.pkl')"
   ]
  },
  {
   "cell_type": "code",
   "execution_count": 4,
   "id": "c61f3981",
   "metadata": {},
   "outputs": [],
   "source": [
    "def compute_up_down(begin, end):\n",
    "    if abs((end - begin) / begin) <= 275:\n",
    "        return 0\n",
    "    elif ((end - begin) / begin) > 275:\n",
    "        return 1\n",
    "    else:\n",
    "        return 2\n",
    "    \n",
    "def compute_volume_per_dollar(vol, begin, end):\n",
    "    if begin - end == 0:\n",
    "        return vol\n",
    "    else:\n",
    "        return vol / abs(begin - end)\n",
    "    \n",
    "def compute_pct_change(num1, num2, dem):\n",
    "    if dem == 0:\n",
    "        return 0\n",
    "    else:\n",
    "        return (num2 - num1) / dem\n",
    "\n",
    "def week_of_month(dt):\n",
    "    from math import ceil\n",
    "    \"\"\"\n",
    "    returns week of the month for the specified date.\n",
    "    \"\"\"\n",
    "    first_day = dt.replace(day=1)\n",
    "    dom = dt.day\n",
    "    adjusted_dom = dom + first_day.weekday()\n",
    "    return int(ceil(adjusted_dom/7.0))"
   ]
  },
  {
   "cell_type": "code",
   "execution_count": 5,
   "id": "bd6fc968",
   "metadata": {},
   "outputs": [],
   "source": [
    "a = pd.read_pickle('./data/amd_day.pkl')\n",
    "a = a.rename(columns={'Adj Close': 'ac'\n",
    "                      , 'Open': 'o'\n",
    "                      , 'Close': 'c'\n",
    "                      , 'High': 'h'\n",
    "                      , 'Low': 'l'\n",
    "                      , 'Volume': 'v'\n",
    "                     })"
   ]
  },
  {
   "cell_type": "code",
   "execution_count": 6,
   "id": "44444c89",
   "metadata": {
    "scrolled": false
   },
   "outputs": [
    {
     "name": "stderr",
     "output_type": "stream",
     "text": [
      "<ipython-input-4-045eed3b9c19>:2: RuntimeWarning: divide by zero encountered in double_scalars\n",
      "  if abs((end - begin) / begin) <= 275:\n",
      "<ipython-input-4-045eed3b9c19>:4: RuntimeWarning: divide by zero encountered in double_scalars\n",
      "  elif ((end - begin) / begin) > 275:\n"
     ]
    }
   ],
   "source": [
    "a['dow'] = a.index.weekday\n",
    "a['wom'] = a.index.to_series().apply(week_of_month)\n",
    "a['mon'] = a.index.month\n",
    "\n",
    "a['v_mu_rol3'] = a['v'].rolling(window=3).mean()\n",
    "a['v_mu_rol5'] = a['v'].rolling(window=5).mean()\n",
    "a['v_mu_rol8'] = a['v'].rolling(window=8).mean()\n",
    "a['v_mu_rol13'] = a['v'].rolling(window=13).mean()\n",
    "a['v_mu_rol21'] = a['v'].rolling(window=21).mean()\n",
    "\n",
    "a['v_std_rol3'] = a['v'].rolling(window=3).std()\n",
    "a['v_std_rol5'] = a['v'].rolling(window=5).std()\n",
    "a['v_std_rol8'] = a['v'].rolling(window=8).std()\n",
    "a['v_std_rol13'] = a['v'].rolling(window=13).std()\n",
    "a['v_std_rol21'] = a['v'].rolling(window=21).std()\n",
    "\n",
    "a['vpd_hlc'] = a.apply(lambda row: compute_volume_per_dollar(row['v'], row['h'], row['l']), axis=1)  # volume per dollar high low change\n",
    "a['vpd_opac'] = a.apply(lambda row: compute_volume_per_dollar(row['v'], row['o'], row['c']), axis=1)  # volume per dollar open close absolute change\n",
    "\n",
    "a['ac1'] = a['ac'].pct_change(1)\n",
    "a['ac3'] = a['ac'].pct_change(3)\n",
    "a['ac5'] = a['ac'].pct_change(5)\n",
    "a['ac8'] = a['ac'].pct_change(8)\n",
    "a['ac13'] = a['ac'].pct_change(13)\n",
    "a['ac21'] = a['ac'].pct_change(21)\n",
    "\n",
    "a['mu_rol3'] = a['ac1'].rolling(window=3).mean()\n",
    "a['mu_rol5'] = a['ac1'].rolling(window=5).mean()\n",
    "a['mu_rol8'] = a['ac1'].rolling(window=8).mean()\n",
    "a['mu_rol13'] = a['ac1'].rolling(window=13).mean()\n",
    "a['mu_rol21'] = a['ac1'].rolling(window=21).mean()\n",
    "\n",
    "a['std_rol3'] = a['ac1'].rolling(window=3).std()\n",
    "a['std_rol5'] = a['ac1'].rolling(window=5).std()\n",
    "a['std_rol8'] = a['ac1'].rolling(window=8).std()\n",
    "a['std_rol13'] = a['ac1'].rolling(window=13).std()\n",
    "a['std_rol21'] = a['ac1'].rolling(window=21).std()\n",
    "\n",
    "a['hl_pct'] = a.apply(lambda row: compute_pct_change(row['l'], row['h'], row['o']), axis=1)\n",
    "a['oc_pct'] = a.apply(lambda row: compute_pct_change(row['o'], row['c'], row['o']), axis=1)\n",
    "\n",
    "a.dropna(axis=0, inplace=True)\n",
    "\n",
    "a['ac'] = where(a['ac'] == 0.0, a['c'], a['ac'])\n",
    "a['ac1'] = where(a['ac1'] == 0.0, a['c'], a['ac1'])\n",
    "a['ac3'] = where(a['ac3'] == 0.0, a['c'], a['ac3'])\n",
    "a['ac5'] = where(a['ac5'] == 0.0, a['c'], a['ac5'])\n",
    "a['ac3'] = where(a['ac8'] == 0.0, a['c'], a['ac8'])\n",
    "a['ac13'] = where(a['ac13'] == 0.0, a['c'], a['ac13'])\n",
    "a['ac21'] = where(a['ac21'] == 0.0, a['c'], a['ac21'])\n",
    "\n",
    "a['v_z_rol3'] = (a['v'] - a['v_mu_rol3']) / a['v_std_rol3']\n",
    "a['v_z_rol5'] = (a['v'] - a['v_mu_rol5']) / a['v_std_rol5']\n",
    "a['v_z_rol8'] = (a['v'] - a['v_mu_rol8']) / a['v_std_rol8']\n",
    "a['v_z_rol13'] = (a['v'] - a['v_mu_rol13']) / a['v_std_rol13']\n",
    "a['v_z_rol21'] = (a['v'] - a['v_mu_rol21']) / a['v_std_rol21']\n",
    "\n",
    "a['ac_z_rol3'] = (a['ac'] - a['mu_rol3']) / a['std_rol3']\n",
    "a['ac_z_rol5'] = (a['ac'] - a['mu_rol5']) / a['std_rol5']\n",
    "a['ac_z_rol8'] = (a['ac'] - a['mu_rol8']) / a['std_rol8']\n",
    "a['ac_z_rol13'] = (a['ac'] - a['mu_rol13']) / a['std_rol13']\n",
    "a['ac_z_rol21'] = (a['ac'] - a['mu_rol21']) / a['std_rol21']\n",
    "\n",
    "a['ac1_up_dwn'] = a.apply(lambda row: compute_up_down(row['ac1'], row['ac']), axis=1)\n",
    "a['ac3_up_dwn'] = a.apply(lambda row: compute_up_down(row['ac3'], row['ac']), axis=1)\n",
    "a['ac5_up_dwn'] = a.apply(lambda row: compute_up_down(row['ac5'], row['ac']), axis=1)\n",
    "a['ac8_up_dwn'] = a.apply(lambda row: compute_up_down(row['ac8'], row['ac']), axis=1)\n",
    "a['ac13_up_dwn'] = a.apply(lambda row: compute_up_down(row['ac13'], row['ac']), axis=1)\n",
    "a['ac21_up_dwn'] = a.apply(lambda row: compute_up_down(row['ac21'], row['ac']), axis=1)\n",
    "\n",
    "a['ac1_avg5'] = a['ac1_up_dwn'].rolling(window=5).mean()\n",
    "a['ac1_avg13'] = a['ac1_up_dwn'].rolling(window=13).mean()\n",
    "a['ac1_avg21'] = a['ac1_up_dwn'].rolling(window=21).mean()\n",
    "\n",
    "a.dropna(axis=0, inplace=True)\n",
    "\n",
    "a['ac1_pred'] = a['ac1_up_dwn'].shift(-1)\n",
    "a['ac3_pred'] = a['ac3_up_dwn'].shift(-3)\n",
    "a['ac5_pred'] = a['ac5_up_dwn'].shift(-5)\n",
    "a['ac8_pred'] = a['ac8_up_dwn'].shift(-8)\n",
    "a['ac13_pred'] = a['ac13_up_dwn'].shift(-13)\n",
    "a['ac21_pred'] = a['ac21_up_dwn'].shift(-21)\n",
    "\n",
    "a = a[~a.isin([np.inf, -np.inf]).any(axis=1)]"
   ]
  },
  {
   "cell_type": "code",
   "execution_count": 7,
   "id": "5af66d4f",
   "metadata": {
    "scrolled": true
   },
   "outputs": [
    {
     "data": {
      "text/plain": [
       "0.0    3693\n",
       "2.0    3622\n",
       "1.0    3508\n",
       "Name: ac1_pred, dtype: int64"
      ]
     },
     "execution_count": 7,
     "metadata": {},
     "output_type": "execute_result"
    }
   ],
   "source": [
    "a['ac1_pred'].value_counts()"
   ]
  },
  {
   "cell_type": "code",
   "execution_count": 8,
   "id": "e4873dd8",
   "metadata": {},
   "outputs": [],
   "source": [
    "# Upsampling...\n",
    "\n",
    "# a0s = a[a['ac1_pred'] == 0.0]\n",
    "\n",
    "# for _ in range(7):\n",
    "#     a = pd.concat([a, a0s], axis=0)\n",
    "\n",
    "# a['ac1_pred'].value_counts()"
   ]
  },
  {
   "cell_type": "code",
   "execution_count": 9,
   "id": "d78664dd",
   "metadata": {},
   "outputs": [
    {
     "data": {
      "text/plain": [
       "Index(['o', 'h', 'l', 'c', 'ac', 'v', 'dow', 'wom', 'mon', 'v_mu_rol3',\n",
       "       'v_mu_rol5', 'v_mu_rol8', 'v_mu_rol13', 'v_mu_rol21', 'v_std_rol3',\n",
       "       'v_std_rol5', 'v_std_rol8', 'v_std_rol13', 'v_std_rol21', 'vpd_hlc',\n",
       "       'vpd_opac', 'ac1', 'ac3', 'ac5', 'ac8', 'ac13', 'ac21', 'mu_rol3',\n",
       "       'mu_rol5', 'mu_rol8', 'mu_rol13', 'mu_rol21', 'std_rol3', 'std_rol5',\n",
       "       'std_rol8', 'std_rol13', 'std_rol21', 'hl_pct', 'oc_pct', 'v_z_rol3',\n",
       "       'v_z_rol5', 'v_z_rol8', 'v_z_rol13', 'v_z_rol21', 'ac_z_rol3',\n",
       "       'ac_z_rol5', 'ac_z_rol8', 'ac_z_rol13', 'ac_z_rol21', 'ac1_up_dwn',\n",
       "       'ac3_up_dwn', 'ac5_up_dwn', 'ac8_up_dwn', 'ac13_up_dwn', 'ac21_up_dwn',\n",
       "       'ac1_avg5', 'ac1_avg13', 'ac1_avg21', 'ac1_pred', 'ac3_pred',\n",
       "       'ac5_pred', 'ac8_pred', 'ac13_pred', 'ac21_pred'],\n",
       "      dtype='object')"
      ]
     },
     "execution_count": 9,
     "metadata": {},
     "output_type": "execute_result"
    }
   ],
   "source": [
    "a.columns"
   ]
  },
  {
   "cell_type": "code",
   "execution_count": 10,
   "id": "6b7da458",
   "metadata": {},
   "outputs": [],
   "source": [
    "a1_col_list = ['o'\n",
    "               # , 'h'\n",
    "               # , 'l'\n",
    "               # , 'c'\n",
    "               , 'ac'\n",
    "               # , 'v'\n",
    "               , 'dow'\n",
    "               # , 'wom'\n",
    "               , 'mon'\n",
    "               # , 'v_mu_rol3'\n",
    "               # , 'v_mu_rol5'\n",
    "               # , 'v_mu_rol8'\n",
    "               # , 'v_mu_rol13'\n",
    "               # , 'v_mu_rol21'\n",
    "               # , 'v_std_rol3'\n",
    "               # , 'v_std_rol5'\n",
    "               # , 'v_std_rol8'\n",
    "               # , 'v_std_rol13'\n",
    "               # , 'v_std_rol21'\n",
    "               # , 'vpd_hlc'\n",
    "               # , 'vpd_opac'\n",
    "               # , 'ac1'\n",
    "               # , 'ac3'\n",
    "               # , 'ac5'\n",
    "               # , 'ac8'\n",
    "               # , 'ac13'\n",
    "               # , 'ac21'\n",
    "               , 'mu_rol3'\n",
    "               # , 'mu_rol5'\n",
    "               # , 'mu_rol8'\n",
    "               # , 'mu_rol13'\n",
    "               , 'mu_rol21'\n",
    "               # , 'std_rol3'\n",
    "               # , 'std_rol5'\n",
    "               # , 'std_rol8'\n",
    "               # , 'std_rol13'\n",
    "               # , 'std_rol21'\n",
    "               , 'hl_pct'\n",
    "               , 'oc_pct'\n",
    "               , 'v_z_rol3'\n",
    "               # , 'v_z_rol5'\n",
    "               # , 'v_z_rol8'\n",
    "               # , 'v_z_rol13'\n",
    "               , 'v_z_rol21'\n",
    "               , 'ac_z_rol3'\n",
    "               # , 'ac_z_rol5'\n",
    "               # , 'ac_z_rol8'\n",
    "               # , 'ac_z_rol13'\n",
    "               , 'ac_z_rol21'\n",
    "               , 'ac1_up_dwn'\n",
    "               # , 'ac3_up_dwn'\n",
    "               # , 'ac5_up_dwn'\n",
    "               # , 'ac8_up_dwn'\n",
    "               # , 'ac13_up_dwn'\n",
    "               # , 'ac21_up_dwn'\n",
    "               , 'ac1_avg5'\n",
    "               # , 'ac1_avg13'\n",
    "               , 'ac1_avg21'\n",
    "               , 'ac1_pred'\n",
    "               ,\n",
    "              ]\n",
    "\n",
    "a1_master0 = a[a1_col_list].copy()\n",
    "\n",
    "a1_X_pred = a1_master0[a1_col_list[:-1]].iloc[-1].copy()\n",
    "\n",
    "a1_master0.drop(a1_master0.index[-1], axis=0, inplace=True)\n",
    "\n",
    "a1_master0 = a1_master0.sample(frac=1, random_state=21)\n",
    "a1_master0 = a1_master0.sample(frac=1, random_state=42)\n",
    "\n",
    "idx_split2_9th = int(a.shape[0] * 2.0 / 9)\n",
    "idx_split3_9th = int(a.shape[0] * 1.0 / 3)\n",
    "idx_split5_9th = int(a.shape[0] * 5.0 / 9)\n",
    "idx_split6_9th = int(a.shape[0] * 2.0 / 3)\n",
    "idx_split8_9th = int(a.shape[0] * 8.0 / 9)\n",
    "\n",
    "a1_X_train = a1_master0.iloc[:idx_split2_9th].drop('ac1_pred', axis=1)\n",
    "a1_y_train = a1_master0['ac1_pred'].iloc[:idx_split2_9th]\n",
    "a1_X_test = a1_master0.iloc[idx_split2_9th:idx_split3_9th].drop('ac1_pred', axis=1)\n",
    "a1_y_test = a1_master0['ac1_pred'].iloc[idx_split2_9th:idx_split3_9th]"
   ]
  },
  {
   "cell_type": "code",
   "execution_count": null,
   "id": "fa4e5589",
   "metadata": {},
   "outputs": [],
   "source": []
  },
  {
   "cell_type": "code",
   "execution_count": null,
   "id": "567e75da",
   "metadata": {},
   "outputs": [],
   "source": []
  },
  {
   "cell_type": "code",
   "execution_count": 11,
   "id": "fd4e40d1",
   "metadata": {},
   "outputs": [
    {
     "name": "stdout",
     "output_type": "stream",
     "text": [
      "(10823, 16)\n",
      "(2405, 15)\n",
      "(2405,)\n",
      "(1203, 15)\n",
      "(1203,)\n"
     ]
    }
   ],
   "source": [
    "# sanity check first partition for training\n",
    "print(a1_master0.shape)\n",
    "print(a1_X_train.shape)\n",
    "print(a1_y_train.shape)\n",
    "print(a1_X_test.shape)\n",
    "print(a1_y_test.shape)"
   ]
  },
  {
   "cell_type": "code",
   "execution_count": 12,
   "id": "4521e183",
   "metadata": {
    "scrolled": true
   },
   "outputs": [
    {
     "data": {
      "text/plain": [
       "o             0\n",
       "ac            0\n",
       "dow           0\n",
       "mon           0\n",
       "mu_rol3       0\n",
       "mu_rol21      0\n",
       "hl_pct        0\n",
       "oc_pct        0\n",
       "v_z_rol3      0\n",
       "v_z_rol21     0\n",
       "ac_z_rol3     0\n",
       "ac_z_rol21    0\n",
       "ac1_up_dwn    0\n",
       "ac1_avg5      0\n",
       "ac1_avg21     0\n",
       "dtype: int64"
      ]
     },
     "execution_count": 12,
     "metadata": {},
     "output_type": "execute_result"
    }
   ],
   "source": [
    "# check for infinities\n",
    "a1_X_train.isin([np.inf, -np.inf]).sum()"
   ]
  },
  {
   "cell_type": "code",
   "execution_count": 13,
   "id": "068201c5",
   "metadata": {},
   "outputs": [
    {
     "data": {
      "text/html": [
       "<div>\n",
       "<style scoped>\n",
       "    .dataframe tbody tr th:only-of-type {\n",
       "        vertical-align: middle;\n",
       "    }\n",
       "\n",
       "    .dataframe tbody tr th {\n",
       "        vertical-align: top;\n",
       "    }\n",
       "\n",
       "    .dataframe thead th {\n",
       "        text-align: right;\n",
       "    }\n",
       "</style>\n",
       "<table border=\"1\" class=\"dataframe\">\n",
       "  <thead>\n",
       "    <tr style=\"text-align: right;\">\n",
       "      <th></th>\n",
       "      <th>o</th>\n",
       "      <th>ac</th>\n",
       "      <th>dow</th>\n",
       "      <th>mon</th>\n",
       "      <th>mu_rol3</th>\n",
       "      <th>mu_rol21</th>\n",
       "      <th>hl_pct</th>\n",
       "      <th>oc_pct</th>\n",
       "      <th>v_z_rol3</th>\n",
       "      <th>v_z_rol21</th>\n",
       "      <th>ac_z_rol3</th>\n",
       "      <th>ac_z_rol21</th>\n",
       "      <th>ac1_up_dwn</th>\n",
       "      <th>ac1_avg5</th>\n",
       "      <th>ac1_avg21</th>\n",
       "    </tr>\n",
       "    <tr>\n",
       "      <th>Date</th>\n",
       "      <th></th>\n",
       "      <th></th>\n",
       "      <th></th>\n",
       "      <th></th>\n",
       "      <th></th>\n",
       "      <th></th>\n",
       "      <th></th>\n",
       "      <th></th>\n",
       "      <th></th>\n",
       "      <th></th>\n",
       "      <th></th>\n",
       "      <th></th>\n",
       "      <th></th>\n",
       "      <th></th>\n",
       "      <th></th>\n",
       "    </tr>\n",
       "  </thead>\n",
       "  <tbody>\n",
       "  </tbody>\n",
       "</table>\n",
       "</div>"
      ],
      "text/plain": [
       "Empty DataFrame\n",
       "Columns: [o, ac, dow, mon, mu_rol3, mu_rol21, hl_pct, oc_pct, v_z_rol3, v_z_rol21, ac_z_rol3, ac_z_rol21, ac1_up_dwn, ac1_avg5, ac1_avg21]\n",
       "Index: []"
      ]
     },
     "execution_count": 13,
     "metadata": {},
     "output_type": "execute_result"
    }
   ],
   "source": [
    "mask = np.isinf(a1_X_train)\n",
    "\n",
    "result = a1_X_train[mask.any(axis=1)]\n",
    "\n",
    "result"
   ]
  },
  {
   "cell_type": "code",
   "execution_count": 14,
   "id": "76b9555c",
   "metadata": {},
   "outputs": [
    {
     "name": "stdout",
     "output_type": "stream",
     "text": [
      "Accuracy: 0.5112219451371571\n"
     ]
    }
   ],
   "source": [
    "# modeling partition first 1/3\n",
    "\n",
    "xgb_model0 = xgb.XGBClassifier(objective='multi:softmax'\n",
    "                              , num_class=3\n",
    "                              , random_state=42\n",
    "                              , max_depth=7\n",
    "                              , n_estimators=133\n",
    "                              , learning_rate=0.00001\n",
    "                              , min_child_weight=3\n",
    "                             )\n",
    "\n",
    "xgb_model0.fit(a1_X_train, a1_y_train)\n",
    "\n",
    "y_pred = xgb_model0.predict(a1_X_test)\n",
    "\n",
    "# y_pred_prob = xgb_model0.predict_proba(a1_X_test)[:, 1]\n",
    "\n",
    "acc = accuracy_score(a1_y_test, y_pred)\n",
    "\n",
    "print(f'Accuracy: {acc}')"
   ]
  },
  {
   "cell_type": "code",
   "execution_count": 15,
   "id": "6bcc728d",
   "metadata": {
    "scrolled": true
   },
   "outputs": [
    {
     "data": {
      "text/plain": [
       "array([0.18919557, 0.42138094, 0.01679974, 0.02872049, 0.02709858,\n",
       "       0.02486103, 0.03173922, 0.04232091, 0.03337557, 0.02837102,\n",
       "       0.03752108, 0.03318176, 0.00291322, 0.03164596, 0.05087491],\n",
       "      dtype=float32)"
      ]
     },
     "execution_count": 15,
     "metadata": {},
     "output_type": "execute_result"
    }
   ],
   "source": [
    "xgb_model0.feature_importances_"
   ]
  },
  {
   "cell_type": "code",
   "execution_count": 16,
   "id": "46987c09",
   "metadata": {},
   "outputs": [
    {
     "data": {
      "text/plain": [
       "Index(['o', 'ac', 'dow', 'mon', 'mu_rol3', 'mu_rol21', 'hl_pct', 'oc_pct',\n",
       "       'v_z_rol3', 'v_z_rol21', 'ac_z_rol3', 'ac_z_rol21', 'ac1_up_dwn',\n",
       "       'ac1_avg5', 'ac1_avg21'],\n",
       "      dtype='object')"
      ]
     },
     "execution_count": 16,
     "metadata": {},
     "output_type": "execute_result"
    }
   ],
   "source": [
    "a1_X_train.columns"
   ]
  },
  {
   "cell_type": "code",
   "execution_count": 17,
   "id": "5c326d29",
   "metadata": {},
   "outputs": [
    {
     "data": {
      "text/plain": [
       "2"
      ]
     },
     "execution_count": 17,
     "metadata": {},
     "output_type": "execute_result"
    }
   ],
   "source": [
    "xgb_model0.predict(a1_X_pred.to_numpy().reshape(1,-1))[0]"
   ]
  },
  {
   "cell_type": "code",
   "execution_count": 18,
   "id": "54246478",
   "metadata": {},
   "outputs": [
    {
     "data": {
      "text/plain": [
       "array([[0.3329274 , 0.3335138 , 0.33355874]], dtype=float32)"
      ]
     },
     "execution_count": 18,
     "metadata": {},
     "output_type": "execute_result"
    }
   ],
   "source": [
    "xgb_model0.predict_proba(a1_X_pred.to_numpy().reshape(1,-1))"
   ]
  },
  {
   "cell_type": "code",
   "execution_count": null,
   "id": "ebd0f047",
   "metadata": {},
   "outputs": [],
   "source": []
  },
  {
   "cell_type": "code",
   "execution_count": 19,
   "id": "39c6c8d8",
   "metadata": {
    "scrolled": false
   },
   "outputs": [
    {
     "name": "stderr",
     "output_type": "stream",
     "text": [
      "Exception ignored on calling ctypes callback function: <function _ThreadpoolInfo._find_modules_with_dl_iterate_phdr.<locals>.match_module_callback at 0x7f9bc05473a0>\n",
      "Traceback (most recent call last):\n",
      "  File \"/home/oem/.local/lib/python3.8/site-packages/threadpoolctl.py\", line 400, in match_module_callback\n",
      "    self._make_module_from_path(filepath)\n",
      "  File \"/home/oem/.local/lib/python3.8/site-packages/threadpoolctl.py\", line 515, in _make_module_from_path\n",
      "    module = module_class(filepath, prefix, user_api, internal_api)\n",
      "  File \"/home/oem/.local/lib/python3.8/site-packages/threadpoolctl.py\", line 606, in __init__\n",
      "    self.version = self.get_version()\n",
      "  File \"/home/oem/.local/lib/python3.8/site-packages/threadpoolctl.py\", line 646, in get_version\n",
      "    config = get_config().split()\n",
      "AttributeError: 'NoneType' object has no attribute 'split'\n"
     ]
    },
    {
     "data": {
      "text/html": [
       "<style type=\"text/css\">\n",
       "#T_4e132_row8_col1 {\n",
       "  background-color: lightgreen;\n",
       "}\n",
       "</style>\n",
       "<table id=\"T_4e132\">\n",
       "  <thead>\n",
       "    <tr>\n",
       "      <th class=\"blank level0\" >&nbsp;</th>\n",
       "      <th id=\"T_4e132_level0_col0\" class=\"col_heading level0 col0\" >Description</th>\n",
       "      <th id=\"T_4e132_level0_col1\" class=\"col_heading level0 col1\" >Value</th>\n",
       "    </tr>\n",
       "  </thead>\n",
       "  <tbody>\n",
       "    <tr>\n",
       "      <th id=\"T_4e132_level0_row0\" class=\"row_heading level0 row0\" >0</th>\n",
       "      <td id=\"T_4e132_row0_col0\" class=\"data row0 col0\" >Session id</td>\n",
       "      <td id=\"T_4e132_row0_col1\" class=\"data row0 col1\" >5415</td>\n",
       "    </tr>\n",
       "    <tr>\n",
       "      <th id=\"T_4e132_level0_row1\" class=\"row_heading level0 row1\" >1</th>\n",
       "      <td id=\"T_4e132_row1_col0\" class=\"data row1 col0\" >Target</td>\n",
       "      <td id=\"T_4e132_row1_col1\" class=\"data row1 col1\" >ac1_pred</td>\n",
       "    </tr>\n",
       "    <tr>\n",
       "      <th id=\"T_4e132_level0_row2\" class=\"row_heading level0 row2\" >2</th>\n",
       "      <td id=\"T_4e132_row2_col0\" class=\"data row2 col0\" >Target type</td>\n",
       "      <td id=\"T_4e132_row2_col1\" class=\"data row2 col1\" >Multiclass</td>\n",
       "    </tr>\n",
       "    <tr>\n",
       "      <th id=\"T_4e132_level0_row3\" class=\"row_heading level0 row3\" >3</th>\n",
       "      <td id=\"T_4e132_row3_col0\" class=\"data row3 col0\" >Original data shape</td>\n",
       "      <td id=\"T_4e132_row3_col1\" class=\"data row3 col1\" >(2405, 16)</td>\n",
       "    </tr>\n",
       "    <tr>\n",
       "      <th id=\"T_4e132_level0_row4\" class=\"row_heading level0 row4\" >4</th>\n",
       "      <td id=\"T_4e132_row4_col0\" class=\"data row4 col0\" >Transformed data shape</td>\n",
       "      <td id=\"T_4e132_row4_col1\" class=\"data row4 col1\" >(2405, 16)</td>\n",
       "    </tr>\n",
       "    <tr>\n",
       "      <th id=\"T_4e132_level0_row5\" class=\"row_heading level0 row5\" >5</th>\n",
       "      <td id=\"T_4e132_row5_col0\" class=\"data row5 col0\" >Transformed train set shape</td>\n",
       "      <td id=\"T_4e132_row5_col1\" class=\"data row5 col1\" >(1683, 16)</td>\n",
       "    </tr>\n",
       "    <tr>\n",
       "      <th id=\"T_4e132_level0_row6\" class=\"row_heading level0 row6\" >6</th>\n",
       "      <td id=\"T_4e132_row6_col0\" class=\"data row6 col0\" >Transformed test set shape</td>\n",
       "      <td id=\"T_4e132_row6_col1\" class=\"data row6 col1\" >(722, 16)</td>\n",
       "    </tr>\n",
       "    <tr>\n",
       "      <th id=\"T_4e132_level0_row7\" class=\"row_heading level0 row7\" >7</th>\n",
       "      <td id=\"T_4e132_row7_col0\" class=\"data row7 col0\" >Numeric features</td>\n",
       "      <td id=\"T_4e132_row7_col1\" class=\"data row7 col1\" >15</td>\n",
       "    </tr>\n",
       "    <tr>\n",
       "      <th id=\"T_4e132_level0_row8\" class=\"row_heading level0 row8\" >8</th>\n",
       "      <td id=\"T_4e132_row8_col0\" class=\"data row8 col0\" >Preprocess</td>\n",
       "      <td id=\"T_4e132_row8_col1\" class=\"data row8 col1\" >True</td>\n",
       "    </tr>\n",
       "    <tr>\n",
       "      <th id=\"T_4e132_level0_row9\" class=\"row_heading level0 row9\" >9</th>\n",
       "      <td id=\"T_4e132_row9_col0\" class=\"data row9 col0\" >Imputation type</td>\n",
       "      <td id=\"T_4e132_row9_col1\" class=\"data row9 col1\" >simple</td>\n",
       "    </tr>\n",
       "    <tr>\n",
       "      <th id=\"T_4e132_level0_row10\" class=\"row_heading level0 row10\" >10</th>\n",
       "      <td id=\"T_4e132_row10_col0\" class=\"data row10 col0\" >Numeric imputation</td>\n",
       "      <td id=\"T_4e132_row10_col1\" class=\"data row10 col1\" >mean</td>\n",
       "    </tr>\n",
       "    <tr>\n",
       "      <th id=\"T_4e132_level0_row11\" class=\"row_heading level0 row11\" >11</th>\n",
       "      <td id=\"T_4e132_row11_col0\" class=\"data row11 col0\" >Categorical imputation</td>\n",
       "      <td id=\"T_4e132_row11_col1\" class=\"data row11 col1\" >mode</td>\n",
       "    </tr>\n",
       "    <tr>\n",
       "      <th id=\"T_4e132_level0_row12\" class=\"row_heading level0 row12\" >12</th>\n",
       "      <td id=\"T_4e132_row12_col0\" class=\"data row12 col0\" >Fold Generator</td>\n",
       "      <td id=\"T_4e132_row12_col1\" class=\"data row12 col1\" >StratifiedKFold</td>\n",
       "    </tr>\n",
       "    <tr>\n",
       "      <th id=\"T_4e132_level0_row13\" class=\"row_heading level0 row13\" >13</th>\n",
       "      <td id=\"T_4e132_row13_col0\" class=\"data row13 col0\" >Fold Number</td>\n",
       "      <td id=\"T_4e132_row13_col1\" class=\"data row13 col1\" >10</td>\n",
       "    </tr>\n",
       "    <tr>\n",
       "      <th id=\"T_4e132_level0_row14\" class=\"row_heading level0 row14\" >14</th>\n",
       "      <td id=\"T_4e132_row14_col0\" class=\"data row14 col0\" >CPU Jobs</td>\n",
       "      <td id=\"T_4e132_row14_col1\" class=\"data row14 col1\" >-1</td>\n",
       "    </tr>\n",
       "    <tr>\n",
       "      <th id=\"T_4e132_level0_row15\" class=\"row_heading level0 row15\" >15</th>\n",
       "      <td id=\"T_4e132_row15_col0\" class=\"data row15 col0\" >Use GPU</td>\n",
       "      <td id=\"T_4e132_row15_col1\" class=\"data row15 col1\" >False</td>\n",
       "    </tr>\n",
       "    <tr>\n",
       "      <th id=\"T_4e132_level0_row16\" class=\"row_heading level0 row16\" >16</th>\n",
       "      <td id=\"T_4e132_row16_col0\" class=\"data row16 col0\" >Log Experiment</td>\n",
       "      <td id=\"T_4e132_row16_col1\" class=\"data row16 col1\" >False</td>\n",
       "    </tr>\n",
       "    <tr>\n",
       "      <th id=\"T_4e132_level0_row17\" class=\"row_heading level0 row17\" >17</th>\n",
       "      <td id=\"T_4e132_row17_col0\" class=\"data row17 col0\" >Experiment Name</td>\n",
       "      <td id=\"T_4e132_row17_col1\" class=\"data row17 col1\" >clf-default-name</td>\n",
       "    </tr>\n",
       "    <tr>\n",
       "      <th id=\"T_4e132_level0_row18\" class=\"row_heading level0 row18\" >18</th>\n",
       "      <td id=\"T_4e132_row18_col0\" class=\"data row18 col0\" >USI</td>\n",
       "      <td id=\"T_4e132_row18_col1\" class=\"data row18 col1\" >35c8</td>\n",
       "    </tr>\n",
       "  </tbody>\n",
       "</table>\n"
      ],
      "text/plain": [
       "<pandas.io.formats.style.Styler at 0x7f9bc3c64e50>"
      ]
     },
     "metadata": {},
     "output_type": "display_data"
    },
    {
     "data": {
      "text/html": [],
      "text/plain": [
       "<IPython.core.display.HTML object>"
      ]
     },
     "metadata": {},
     "output_type": "display_data"
    },
    {
     "data": {
      "text/html": [
       "<style type=\"text/css\">\n",
       "#T_c3adc th {\n",
       "  text-align: left;\n",
       "}\n",
       "#T_c3adc_row0_col0, #T_c3adc_row0_col2, #T_c3adc_row0_col4, #T_c3adc_row0_col7, #T_c3adc_row1_col0, #T_c3adc_row1_col1, #T_c3adc_row1_col2, #T_c3adc_row1_col3, #T_c3adc_row1_col4, #T_c3adc_row1_col5, #T_c3adc_row1_col6, #T_c3adc_row1_col7, #T_c3adc_row2_col0, #T_c3adc_row2_col1, #T_c3adc_row2_col2, #T_c3adc_row2_col3, #T_c3adc_row2_col4, #T_c3adc_row2_col5, #T_c3adc_row2_col6, #T_c3adc_row2_col7, #T_c3adc_row3_col0, #T_c3adc_row3_col1, #T_c3adc_row3_col2, #T_c3adc_row3_col3, #T_c3adc_row3_col4, #T_c3adc_row3_col5, #T_c3adc_row3_col6, #T_c3adc_row3_col7, #T_c3adc_row4_col0, #T_c3adc_row4_col1, #T_c3adc_row4_col2, #T_c3adc_row4_col3, #T_c3adc_row4_col4, #T_c3adc_row4_col5, #T_c3adc_row4_col6, #T_c3adc_row4_col7, #T_c3adc_row5_col0, #T_c3adc_row5_col1, #T_c3adc_row5_col2, #T_c3adc_row5_col3, #T_c3adc_row5_col4, #T_c3adc_row5_col5, #T_c3adc_row5_col6, #T_c3adc_row5_col7, #T_c3adc_row6_col0, #T_c3adc_row6_col1, #T_c3adc_row6_col2, #T_c3adc_row6_col3, #T_c3adc_row6_col4, #T_c3adc_row6_col5, #T_c3adc_row6_col6, #T_c3adc_row6_col7, #T_c3adc_row7_col0, #T_c3adc_row7_col1, #T_c3adc_row7_col3, #T_c3adc_row7_col5, #T_c3adc_row7_col6, #T_c3adc_row8_col0, #T_c3adc_row8_col1, #T_c3adc_row8_col2, #T_c3adc_row8_col3, #T_c3adc_row8_col4, #T_c3adc_row8_col5, #T_c3adc_row8_col6, #T_c3adc_row8_col7, #T_c3adc_row9_col0, #T_c3adc_row9_col1, #T_c3adc_row9_col2, #T_c3adc_row9_col3, #T_c3adc_row9_col4, #T_c3adc_row9_col5, #T_c3adc_row9_col6, #T_c3adc_row9_col7, #T_c3adc_row10_col0, #T_c3adc_row10_col1, #T_c3adc_row10_col2, #T_c3adc_row10_col3, #T_c3adc_row10_col4, #T_c3adc_row10_col5, #T_c3adc_row10_col6, #T_c3adc_row10_col7, #T_c3adc_row11_col0, #T_c3adc_row11_col1, #T_c3adc_row11_col2, #T_c3adc_row11_col3, #T_c3adc_row11_col4, #T_c3adc_row11_col5, #T_c3adc_row11_col6, #T_c3adc_row11_col7, #T_c3adc_row12_col0, #T_c3adc_row12_col1, #T_c3adc_row12_col2, #T_c3adc_row12_col3, #T_c3adc_row12_col4, #T_c3adc_row12_col5, #T_c3adc_row12_col6, #T_c3adc_row12_col7, #T_c3adc_row13_col0, #T_c3adc_row13_col1, #T_c3adc_row13_col2, #T_c3adc_row13_col3, #T_c3adc_row13_col4, #T_c3adc_row13_col5, #T_c3adc_row13_col6, #T_c3adc_row13_col7, #T_c3adc_row14_col0, #T_c3adc_row14_col1, #T_c3adc_row14_col2, #T_c3adc_row14_col3, #T_c3adc_row14_col4, #T_c3adc_row14_col5, #T_c3adc_row14_col6, #T_c3adc_row14_col7 {\n",
       "  text-align: left;\n",
       "}\n",
       "#T_c3adc_row0_col1, #T_c3adc_row0_col3, #T_c3adc_row0_col5, #T_c3adc_row0_col6, #T_c3adc_row7_col2, #T_c3adc_row7_col4, #T_c3adc_row7_col7 {\n",
       "  text-align: left;\n",
       "  background-color: yellow;\n",
       "}\n",
       "#T_c3adc_row0_col8, #T_c3adc_row1_col8, #T_c3adc_row2_col8, #T_c3adc_row3_col8, #T_c3adc_row4_col8, #T_c3adc_row5_col8, #T_c3adc_row6_col8, #T_c3adc_row7_col8, #T_c3adc_row8_col8, #T_c3adc_row9_col8, #T_c3adc_row10_col8, #T_c3adc_row11_col8, #T_c3adc_row12_col8, #T_c3adc_row14_col8 {\n",
       "  text-align: left;\n",
       "  background-color: lightgrey;\n",
       "}\n",
       "#T_c3adc_row13_col8 {\n",
       "  text-align: left;\n",
       "  background-color: yellow;\n",
       "  background-color: lightgrey;\n",
       "}\n",
       "</style>\n",
       "<table id=\"T_c3adc\">\n",
       "  <thead>\n",
       "    <tr>\n",
       "      <th class=\"blank level0\" >&nbsp;</th>\n",
       "      <th id=\"T_c3adc_level0_col0\" class=\"col_heading level0 col0\" >Model</th>\n",
       "      <th id=\"T_c3adc_level0_col1\" class=\"col_heading level0 col1\" >Accuracy</th>\n",
       "      <th id=\"T_c3adc_level0_col2\" class=\"col_heading level0 col2\" >AUC</th>\n",
       "      <th id=\"T_c3adc_level0_col3\" class=\"col_heading level0 col3\" >Recall</th>\n",
       "      <th id=\"T_c3adc_level0_col4\" class=\"col_heading level0 col4\" >Prec.</th>\n",
       "      <th id=\"T_c3adc_level0_col5\" class=\"col_heading level0 col5\" >F1</th>\n",
       "      <th id=\"T_c3adc_level0_col6\" class=\"col_heading level0 col6\" >Kappa</th>\n",
       "      <th id=\"T_c3adc_level0_col7\" class=\"col_heading level0 col7\" >MCC</th>\n",
       "      <th id=\"T_c3adc_level0_col8\" class=\"col_heading level0 col8\" >TT (Sec)</th>\n",
       "    </tr>\n",
       "  </thead>\n",
       "  <tbody>\n",
       "    <tr>\n",
       "      <th id=\"T_c3adc_level0_row0\" class=\"row_heading level0 row0\" >rf</th>\n",
       "      <td id=\"T_c3adc_row0_col0\" class=\"data row0 col0\" >Random Forest Classifier</td>\n",
       "      <td id=\"T_c3adc_row0_col1\" class=\"data row0 col1\" >0.5086</td>\n",
       "      <td id=\"T_c3adc_row0_col2\" class=\"data row0 col2\" >0.7054</td>\n",
       "      <td id=\"T_c3adc_row0_col3\" class=\"data row0 col3\" >0.5086</td>\n",
       "      <td id=\"T_c3adc_row0_col4\" class=\"data row0 col4\" >0.4989</td>\n",
       "      <td id=\"T_c3adc_row0_col5\" class=\"data row0 col5\" >0.5012</td>\n",
       "      <td id=\"T_c3adc_row0_col6\" class=\"data row0 col6\" >0.2618</td>\n",
       "      <td id=\"T_c3adc_row0_col7\" class=\"data row0 col7\" >0.2632</td>\n",
       "      <td id=\"T_c3adc_row0_col8\" class=\"data row0 col8\" >0.3640</td>\n",
       "    </tr>\n",
       "    <tr>\n",
       "      <th id=\"T_c3adc_level0_row1\" class=\"row_heading level0 row1\" >lda</th>\n",
       "      <td id=\"T_c3adc_row1_col0\" class=\"data row1 col0\" >Linear Discriminant Analysis</td>\n",
       "      <td id=\"T_c3adc_row1_col1\" class=\"data row1 col1\" >0.5057</td>\n",
       "      <td id=\"T_c3adc_row1_col2\" class=\"data row1 col2\" >0.7089</td>\n",
       "      <td id=\"T_c3adc_row1_col3\" class=\"data row1 col3\" >0.5057</td>\n",
       "      <td id=\"T_c3adc_row1_col4\" class=\"data row1 col4\" >0.4981</td>\n",
       "      <td id=\"T_c3adc_row1_col5\" class=\"data row1 col5\" >0.4990</td>\n",
       "      <td id=\"T_c3adc_row1_col6\" class=\"data row1 col6\" >0.2574</td>\n",
       "      <td id=\"T_c3adc_row1_col7\" class=\"data row1 col7\" >0.2589</td>\n",
       "      <td id=\"T_c3adc_row1_col8\" class=\"data row1 col8\" >0.0360</td>\n",
       "    </tr>\n",
       "    <tr>\n",
       "      <th id=\"T_c3adc_level0_row2\" class=\"row_heading level0 row2\" >ridge</th>\n",
       "      <td id=\"T_c3adc_row2_col0\" class=\"data row2 col0\" >Ridge Classifier</td>\n",
       "      <td id=\"T_c3adc_row2_col1\" class=\"data row2 col1\" >0.5022</td>\n",
       "      <td id=\"T_c3adc_row2_col2\" class=\"data row2 col2\" >0.0000</td>\n",
       "      <td id=\"T_c3adc_row2_col3\" class=\"data row2 col3\" >0.5022</td>\n",
       "      <td id=\"T_c3adc_row2_col4\" class=\"data row2 col4\" >0.4906</td>\n",
       "      <td id=\"T_c3adc_row2_col5\" class=\"data row2 col5\" >0.4900</td>\n",
       "      <td id=\"T_c3adc_row2_col6\" class=\"data row2 col6\" >0.2512</td>\n",
       "      <td id=\"T_c3adc_row2_col7\" class=\"data row2 col7\" >0.2546</td>\n",
       "      <td id=\"T_c3adc_row2_col8\" class=\"data row2 col8\" >0.0380</td>\n",
       "    </tr>\n",
       "    <tr>\n",
       "      <th id=\"T_c3adc_level0_row3\" class=\"row_heading level0 row3\" >gbc</th>\n",
       "      <td id=\"T_c3adc_row3_col0\" class=\"data row3 col0\" >Gradient Boosting Classifier</td>\n",
       "      <td id=\"T_c3adc_row3_col1\" class=\"data row3 col1\" >0.5003</td>\n",
       "      <td id=\"T_c3adc_row3_col2\" class=\"data row3 col2\" >0.7021</td>\n",
       "      <td id=\"T_c3adc_row3_col3\" class=\"data row3 col3\" >0.5003</td>\n",
       "      <td id=\"T_c3adc_row3_col4\" class=\"data row3 col4\" >0.4893</td>\n",
       "      <td id=\"T_c3adc_row3_col5\" class=\"data row3 col5\" >0.4918</td>\n",
       "      <td id=\"T_c3adc_row3_col6\" class=\"data row3 col6\" >0.2491</td>\n",
       "      <td id=\"T_c3adc_row3_col7\" class=\"data row3 col7\" >0.2507</td>\n",
       "      <td id=\"T_c3adc_row3_col8\" class=\"data row3 col8\" >1.0430</td>\n",
       "    </tr>\n",
       "    <tr>\n",
       "      <th id=\"T_c3adc_level0_row4\" class=\"row_heading level0 row4\" >ada</th>\n",
       "      <td id=\"T_c3adc_row4_col0\" class=\"data row4 col0\" >Ada Boost Classifier</td>\n",
       "      <td id=\"T_c3adc_row4_col1\" class=\"data row4 col1\" >0.4997</td>\n",
       "      <td id=\"T_c3adc_row4_col2\" class=\"data row4 col2\" >0.6855</td>\n",
       "      <td id=\"T_c3adc_row4_col3\" class=\"data row4 col3\" >0.4997</td>\n",
       "      <td id=\"T_c3adc_row4_col4\" class=\"data row4 col4\" >0.4908</td>\n",
       "      <td id=\"T_c3adc_row4_col5\" class=\"data row4 col5\" >0.4929</td>\n",
       "      <td id=\"T_c3adc_row4_col6\" class=\"data row4 col6\" >0.2485</td>\n",
       "      <td id=\"T_c3adc_row4_col7\" class=\"data row4 col7\" >0.2496</td>\n",
       "      <td id=\"T_c3adc_row4_col8\" class=\"data row4 col8\" >0.2510</td>\n",
       "    </tr>\n",
       "    <tr>\n",
       "      <th id=\"T_c3adc_level0_row5\" class=\"row_heading level0 row5\" >et</th>\n",
       "      <td id=\"T_c3adc_row5_col0\" class=\"data row5 col0\" >Extra Trees Classifier</td>\n",
       "      <td id=\"T_c3adc_row5_col1\" class=\"data row5 col1\" >0.4985</td>\n",
       "      <td id=\"T_c3adc_row5_col2\" class=\"data row5 col2\" >0.6970</td>\n",
       "      <td id=\"T_c3adc_row5_col3\" class=\"data row5 col3\" >0.4985</td>\n",
       "      <td id=\"T_c3adc_row5_col4\" class=\"data row5 col4\" >0.4875</td>\n",
       "      <td id=\"T_c3adc_row5_col5\" class=\"data row5 col5\" >0.4900</td>\n",
       "      <td id=\"T_c3adc_row5_col6\" class=\"data row5 col6\" >0.2465</td>\n",
       "      <td id=\"T_c3adc_row5_col7\" class=\"data row5 col7\" >0.2480</td>\n",
       "      <td id=\"T_c3adc_row5_col8\" class=\"data row5 col8\" >0.3740</td>\n",
       "    </tr>\n",
       "    <tr>\n",
       "      <th id=\"T_c3adc_level0_row6\" class=\"row_heading level0 row6\" >lr</th>\n",
       "      <td id=\"T_c3adc_row6_col0\" class=\"data row6 col0\" >Logistic Regression</td>\n",
       "      <td id=\"T_c3adc_row6_col1\" class=\"data row6 col1\" >0.4980</td>\n",
       "      <td id=\"T_c3adc_row6_col2\" class=\"data row6 col2\" >0.7069</td>\n",
       "      <td id=\"T_c3adc_row6_col3\" class=\"data row6 col3\" >0.4980</td>\n",
       "      <td id=\"T_c3adc_row6_col4\" class=\"data row6 col4\" >0.4877</td>\n",
       "      <td id=\"T_c3adc_row6_col5\" class=\"data row6 col5\" >0.4825</td>\n",
       "      <td id=\"T_c3adc_row6_col6\" class=\"data row6 col6\" >0.2449</td>\n",
       "      <td id=\"T_c3adc_row6_col7\" class=\"data row6 col7\" >0.2498</td>\n",
       "      <td id=\"T_c3adc_row6_col8\" class=\"data row6 col8\" >0.5500</td>\n",
       "    </tr>\n",
       "    <tr>\n",
       "      <th id=\"T_c3adc_level0_row7\" class=\"row_heading level0 row7\" >nb</th>\n",
       "      <td id=\"T_c3adc_row7_col0\" class=\"data row7 col0\" >Naive Bayes</td>\n",
       "      <td id=\"T_c3adc_row7_col1\" class=\"data row7 col1\" >0.4950</td>\n",
       "      <td id=\"T_c3adc_row7_col2\" class=\"data row7 col2\" >0.7144</td>\n",
       "      <td id=\"T_c3adc_row7_col3\" class=\"data row7 col3\" >0.4950</td>\n",
       "      <td id=\"T_c3adc_row7_col4\" class=\"data row7 col4\" >0.5027</td>\n",
       "      <td id=\"T_c3adc_row7_col5\" class=\"data row7 col5\" >0.4361</td>\n",
       "      <td id=\"T_c3adc_row7_col6\" class=\"data row7 col6\" >0.2366</td>\n",
       "      <td id=\"T_c3adc_row7_col7\" class=\"data row7 col7\" >0.2652</td>\n",
       "      <td id=\"T_c3adc_row7_col8\" class=\"data row7 col8\" >0.0470</td>\n",
       "    </tr>\n",
       "    <tr>\n",
       "      <th id=\"T_c3adc_level0_row8\" class=\"row_heading level0 row8\" >xgboost</th>\n",
       "      <td id=\"T_c3adc_row8_col0\" class=\"data row8 col0\" >Extreme Gradient Boosting</td>\n",
       "      <td id=\"T_c3adc_row8_col1\" class=\"data row8 col1\" >0.4908</td>\n",
       "      <td id=\"T_c3adc_row8_col2\" class=\"data row8 col2\" >0.6808</td>\n",
       "      <td id=\"T_c3adc_row8_col3\" class=\"data row8 col3\" >0.4908</td>\n",
       "      <td id=\"T_c3adc_row8_col4\" class=\"data row8 col4\" >0.4826</td>\n",
       "      <td id=\"T_c3adc_row8_col5\" class=\"data row8 col5\" >0.4850</td>\n",
       "      <td id=\"T_c3adc_row8_col6\" class=\"data row8 col6\" >0.2352</td>\n",
       "      <td id=\"T_c3adc_row8_col7\" class=\"data row8 col7\" >0.2361</td>\n",
       "      <td id=\"T_c3adc_row8_col8\" class=\"data row8 col8\" >0.6190</td>\n",
       "    </tr>\n",
       "    <tr>\n",
       "      <th id=\"T_c3adc_level0_row9\" class=\"row_heading level0 row9\" >lightgbm</th>\n",
       "      <td id=\"T_c3adc_row9_col0\" class=\"data row9 col0\" >Light Gradient Boosting Machine</td>\n",
       "      <td id=\"T_c3adc_row9_col1\" class=\"data row9 col1\" >0.4879</td>\n",
       "      <td id=\"T_c3adc_row9_col2\" class=\"data row9 col2\" >0.6888</td>\n",
       "      <td id=\"T_c3adc_row9_col3\" class=\"data row9 col3\" >0.4879</td>\n",
       "      <td id=\"T_c3adc_row9_col4\" class=\"data row9 col4\" >0.4796</td>\n",
       "      <td id=\"T_c3adc_row9_col5\" class=\"data row9 col5\" >0.4817</td>\n",
       "      <td id=\"T_c3adc_row9_col6\" class=\"data row9 col6\" >0.2307</td>\n",
       "      <td id=\"T_c3adc_row9_col7\" class=\"data row9 col7\" >0.2317</td>\n",
       "      <td id=\"T_c3adc_row9_col8\" class=\"data row9 col8\" >0.3040</td>\n",
       "    </tr>\n",
       "    <tr>\n",
       "      <th id=\"T_c3adc_level0_row10\" class=\"row_heading level0 row10\" >qda</th>\n",
       "      <td id=\"T_c3adc_row10_col0\" class=\"data row10 col0\" >Quadratic Discriminant Analysis</td>\n",
       "      <td id=\"T_c3adc_row10_col1\" class=\"data row10 col1\" >0.4688</td>\n",
       "      <td id=\"T_c3adc_row10_col2\" class=\"data row10 col2\" >0.6977</td>\n",
       "      <td id=\"T_c3adc_row10_col3\" class=\"data row10 col3\" >0.4688</td>\n",
       "      <td id=\"T_c3adc_row10_col4\" class=\"data row10 col4\" >0.4774</td>\n",
       "      <td id=\"T_c3adc_row10_col5\" class=\"data row10 col5\" >0.4048</td>\n",
       "      <td id=\"T_c3adc_row10_col6\" class=\"data row10 col6\" >0.1969</td>\n",
       "      <td id=\"T_c3adc_row10_col7\" class=\"data row10 col7\" >0.2228</td>\n",
       "      <td id=\"T_c3adc_row10_col8\" class=\"data row10 col8\" >0.0600</td>\n",
       "    </tr>\n",
       "    <tr>\n",
       "      <th id=\"T_c3adc_level0_row11\" class=\"row_heading level0 row11\" >knn</th>\n",
       "      <td id=\"T_c3adc_row11_col0\" class=\"data row11 col0\" >K Neighbors Classifier</td>\n",
       "      <td id=\"T_c3adc_row11_col1\" class=\"data row11 col1\" >0.4605</td>\n",
       "      <td id=\"T_c3adc_row11_col2\" class=\"data row11 col2\" >0.6317</td>\n",
       "      <td id=\"T_c3adc_row11_col3\" class=\"data row11 col3\" >0.4605</td>\n",
       "      <td id=\"T_c3adc_row11_col4\" class=\"data row11 col4\" >0.4453</td>\n",
       "      <td id=\"T_c3adc_row11_col5\" class=\"data row11 col5\" >0.4458</td>\n",
       "      <td id=\"T_c3adc_row11_col6\" class=\"data row11 col6\" >0.1883</td>\n",
       "      <td id=\"T_c3adc_row11_col7\" class=\"data row11 col7\" >0.1914</td>\n",
       "      <td id=\"T_c3adc_row11_col8\" class=\"data row11 col8\" >0.0580</td>\n",
       "    </tr>\n",
       "    <tr>\n",
       "      <th id=\"T_c3adc_level0_row12\" class=\"row_heading level0 row12\" >dt</th>\n",
       "      <td id=\"T_c3adc_row12_col0\" class=\"data row12 col0\" >Decision Tree Classifier</td>\n",
       "      <td id=\"T_c3adc_row12_col1\" class=\"data row12 col1\" >0.4343</td>\n",
       "      <td id=\"T_c3adc_row12_col2\" class=\"data row12 col2\" >0.5762</td>\n",
       "      <td id=\"T_c3adc_row12_col3\" class=\"data row12 col3\" >0.4343</td>\n",
       "      <td id=\"T_c3adc_row12_col4\" class=\"data row12 col4\" >0.4353</td>\n",
       "      <td id=\"T_c3adc_row12_col5\" class=\"data row12 col5\" >0.4337</td>\n",
       "      <td id=\"T_c3adc_row12_col6\" class=\"data row12 col6\" >0.1513</td>\n",
       "      <td id=\"T_c3adc_row12_col7\" class=\"data row12 col7\" >0.1517</td>\n",
       "      <td id=\"T_c3adc_row12_col8\" class=\"data row12 col8\" >0.0460</td>\n",
       "    </tr>\n",
       "    <tr>\n",
       "      <th id=\"T_c3adc_level0_row13\" class=\"row_heading level0 row13\" >svm</th>\n",
       "      <td id=\"T_c3adc_row13_col0\" class=\"data row13 col0\" >SVM - Linear Kernel</td>\n",
       "      <td id=\"T_c3adc_row13_col1\" class=\"data row13 col1\" >0.3547</td>\n",
       "      <td id=\"T_c3adc_row13_col2\" class=\"data row13 col2\" >0.0000</td>\n",
       "      <td id=\"T_c3adc_row13_col3\" class=\"data row13 col3\" >0.3547</td>\n",
       "      <td id=\"T_c3adc_row13_col4\" class=\"data row13 col4\" >0.2990</td>\n",
       "      <td id=\"T_c3adc_row13_col5\" class=\"data row13 col5\" >0.2410</td>\n",
       "      <td id=\"T_c3adc_row13_col6\" class=\"data row13 col6\" >0.0365</td>\n",
       "      <td id=\"T_c3adc_row13_col7\" class=\"data row13 col7\" >0.0643</td>\n",
       "      <td id=\"T_c3adc_row13_col8\" class=\"data row13 col8\" >0.0300</td>\n",
       "    </tr>\n",
       "    <tr>\n",
       "      <th id=\"T_c3adc_level0_row14\" class=\"row_heading level0 row14\" >dummy</th>\n",
       "      <td id=\"T_c3adc_row14_col0\" class=\"data row14 col0\" >Dummy Classifier</td>\n",
       "      <td id=\"T_c3adc_row14_col1\" class=\"data row14 col1\" >0.3452</td>\n",
       "      <td id=\"T_c3adc_row14_col2\" class=\"data row14 col2\" >0.5000</td>\n",
       "      <td id=\"T_c3adc_row14_col3\" class=\"data row14 col3\" >0.3452</td>\n",
       "      <td id=\"T_c3adc_row14_col4\" class=\"data row14 col4\" >0.1192</td>\n",
       "      <td id=\"T_c3adc_row14_col5\" class=\"data row14 col5\" >0.1772</td>\n",
       "      <td id=\"T_c3adc_row14_col6\" class=\"data row14 col6\" >0.0000</td>\n",
       "      <td id=\"T_c3adc_row14_col7\" class=\"data row14 col7\" >0.0000</td>\n",
       "      <td id=\"T_c3adc_row14_col8\" class=\"data row14 col8\" >0.0340</td>\n",
       "    </tr>\n",
       "  </tbody>\n",
       "</table>\n"
      ],
      "text/plain": [
       "<pandas.io.formats.style.Styler at 0x7f9bc3d16e80>"
      ]
     },
     "metadata": {},
     "output_type": "display_data"
    },
    {
     "data": {
      "application/vnd.jupyter.widget-view+json": {
       "model_id": "",
       "version_major": 2,
       "version_minor": 0
      },
      "text/plain": [
       "Processing:   0%|          | 0/65 [00:00<?, ?it/s]"
      ]
     },
     "metadata": {},
     "output_type": "display_data"
    },
    {
     "data": {
      "application/vnd.jupyter.widget-view+json": {
       "model_id": "fa77bacb2cfd4d5990884f0939b402b9",
       "version_major": 2,
       "version_minor": 0
      },
      "text/plain": [
       "interactive(children=(ToggleButtons(description='Plot Type:', icons=('',), options=(('Pipeline Plot', 'pipelin…"
      ]
     },
     "metadata": {},
     "output_type": "display_data"
    },
    {
     "data": {
      "image/png": "[encoded data removed]",
      "text/plain": [
       "<Figure size 1200x600 with 1 Axes>"
      ]
     },
     "metadata": {
      "needs_background": "light"
     },
     "output_type": "display_data"
    }
   ],
   "source": [
    "# pycaret model comparisons\n",
    "\n",
    "from pycaret.classification import *\n",
    "\n",
    "exp_name = setup(a1_master0.iloc[:idx_split2_9th]\n",
    "                 , target = 'ac1_pred'\n",
    "                )\n",
    "\n",
    "best_model = compare_models()\n",
    "\n",
    "evaluate_model(best_model)"
   ]
  },
  {
   "cell_type": "code",
   "execution_count": null,
   "id": "e75eb8fe",
   "metadata": {},
   "outputs": [],
   "source": []
  },
  {
   "cell_type": "code",
   "execution_count": null,
   "id": "823612fd",
   "metadata": {},
   "outputs": [],
   "source": []
  },
  {
   "cell_type": "code",
   "execution_count": null,
   "id": "c3558366",
   "metadata": {},
   "outputs": [],
   "source": []
  },
  {
   "cell_type": "code",
   "execution_count": null,
   "id": "bdf9e30b",
   "metadata": {},
   "outputs": [],
   "source": [
    "from sklearn.metrics import (roc_auc_score\n",
    "                             , precision_score\n",
    "                             , recall_score\n",
    "                             , roc_curve\n",
    "                             , confusion_matrix\n",
    "                             , plot_confusion_matrix\n",
    "                             , precision_recall_curve\n",
    "                             , auc\n",
    "                            )"
   ]
  },
  {
   "cell_type": "code",
   "execution_count": null,
   "id": "274e5fc0",
   "metadata": {},
   "outputs": [],
   "source": []
  },
  {
   "cell_type": "code",
   "execution_count": null,
   "id": "da6115ed",
   "metadata": {},
   "outputs": [],
   "source": []
  },
  {
   "cell_type": "code",
   "execution_count": null,
   "id": "1cffa6a3",
   "metadata": {},
   "outputs": [],
   "source": []
  },
  {
   "cell_type": "code",
   "execution_count": null,
   "id": "d83bd571",
   "metadata": {},
   "outputs": [],
   "source": []
  },
  {
   "cell_type": "code",
   "execution_count": null,
   "id": "18f94b53",
   "metadata": {},
   "outputs": [],
   "source": []
  },
  {
   "cell_type": "code",
   "execution_count": null,
   "id": "84e6b479",
   "metadata": {},
   "outputs": [],
   "source": []
  },
  {
   "cell_type": "code",
   "execution_count": null,
   "id": "84367916",
   "metadata": {},
   "outputs": [],
   "source": []
  },
  {
   "cell_type": "code",
   "execution_count": null,
   "id": "0e6a5cab",
   "metadata": {},
   "outputs": [],
   "source": [
    "# random forest classifier\n",
    "\n",
    "from sklearn.ensemble import RandomForestClassifier as rfc\n",
    "from sklearn.model_selection import GridSearchCV\n",
    "import joblib\n",
    "\n",
    "rfc_model = rfc(random_state = 42\n",
    "                , n_jobs = -1\n",
    "               )\n",
    "\n",
    "rfc_model.fit(a1_X_train, a1_y_train)\n",
    "\n",
    "y_pred = rfc_model.predict(a1_X_test)\n",
    "\n",
    "acc = accuracy_score(a1_y_test, y_pred)\n",
    "\n",
    "print(f'Accuaracy: {acc}')"
   ]
  },
  {
   "cell_type": "code",
   "execution_count": null,
   "id": "1004d510",
   "metadata": {},
   "outputs": [],
   "source": [
    "rfc_model.feature_importances_"
   ]
  },
  {
   "cell_type": "code",
   "execution_count": null,
   "id": "5b1610fd",
   "metadata": {},
   "outputs": [],
   "source": []
  },
  {
   "cell_type": "code",
   "execution_count": null,
   "id": "20f575b0",
   "metadata": {},
   "outputs": [],
   "source": []
  },
  {
   "cell_type": "code",
   "execution_count": null,
   "id": "afa7f834",
   "metadata": {},
   "outputs": [],
   "source": []
  },
  {
   "cell_type": "code",
   "execution_count": null,
   "id": "62c5dc82",
   "metadata": {},
   "outputs": [],
   "source": []
  },
  {
   "cell_type": "code",
   "execution_count": null,
   "id": "25bc0d97",
   "metadata": {},
   "outputs": [],
   "source": []
  },
  {
   "cell_type": "code",
   "execution_count": null,
   "id": "7d1ecea4",
   "metadata": {},
   "outputs": [],
   "source": []
  },
  {
   "cell_type": "code",
   "execution_count": null,
   "id": "72c4f4bf",
   "metadata": {},
   "outputs": [],
   "source": [
    "# add predictions to X_train\n",
    "\n",
    "# idx_split2_9th = int(a.shape[0] * 2.0 / 9)\n",
    "# idx_split3_9th = int(a.shape[0] * 1.0 / 3)\n",
    "# idx_split5_9th = int(a.shape[0] * 5.0 / 9)\n",
    "# idx_split6_9th = int(a.shape[0] * 2.0 / 3)\n",
    "# idx_split8_9th = int(a.shape[0] * 8.0 / 9)\n",
    "\n",
    "\n",
    "\n",
    "\n",
    "a1_master1 = a1_master0[a1_col_list].iloc[idx_split3_9th:idx_split6_9th].copy()\n",
    "a1_master1['pred0'] = xgb_model0.predict(a1_master1[a1_X_train.columns])\n",
    "\n",
    "idx_2_3 = int(a1_master1.shape[0] * 2 / 3)\n",
    "\n",
    "a1_X_train = a1_master1.iloc[:idx_2_3].drop('ac1_pred', axis=1)\n",
    "a1_y_train = a1_master1['ac1_pred'].iloc[:idx_2_3]\n",
    "a1_X_test = a1_master1.iloc[idx_2_3:].drop('ac1_pred', axis=1)\n",
    "a1_y_test = a1_master1['ac1_pred'].iloc[idx_2_3:]"
   ]
  },
  {
   "cell_type": "code",
   "execution_count": null,
   "id": "0b7b9e0a",
   "metadata": {},
   "outputs": [],
   "source": [
    "# sanity check first partition for training\n",
    "print(a1_master1.shape)\n",
    "print(a1_X_train.shape)\n",
    "print(a1_y_train.shape)\n",
    "print(a1_X_test.shape)\n",
    "print(a1_y_test.shape)"
   ]
  },
  {
   "cell_type": "code",
   "execution_count": null,
   "id": "7de59a38",
   "metadata": {},
   "outputs": [],
   "source": [
    "# modeling partition 2nd 1/3\n",
    "\n",
    "xgb_model1 = xgb.XGBClassifier(objective='multi:softmax'\n",
    "                              , num_class=3\n",
    "                              , random_state=42\n",
    "                              , max_depth=7\n",
    "                              , n_estimators=55\n",
    "                              , learning_rate=0.01\n",
    "                              , min_child_weight=3\n",
    "                             )\n",
    "\n",
    "xgb_model1.fit(a1_X_train, a1_y_train)\n",
    "\n",
    "y_pred = xgb_model1.predict(a1_X_test)\n",
    "\n",
    "# y_pred_prob = xgb_model0.predict_proba(a1_X_test)[:, 1]\n",
    "\n",
    "acc = accuracy_score(a1_y_test, y_pred)\n",
    "\n",
    "print(f'Accuracy: {acc}')"
   ]
  },
  {
   "cell_type": "code",
   "execution_count": null,
   "id": "cb03c904",
   "metadata": {},
   "outputs": [],
   "source": [
    "xgb_model1.feature_importances_"
   ]
  },
  {
   "cell_type": "code",
   "execution_count": null,
   "id": "df52f7b1",
   "metadata": {},
   "outputs": [],
   "source": [
    "# 4/16/2023 --to do: need to put back last row to fill pred0 column"
   ]
  },
  {
   "cell_type": "code",
   "execution_count": null,
   "id": "9cbe5a0a",
   "metadata": {},
   "outputs": [],
   "source": []
  },
  {
   "cell_type": "code",
   "execution_count": null,
   "id": "5dede5e2",
   "metadata": {},
   "outputs": [],
   "source": []
  },
  {
   "cell_type": "code",
   "execution_count": null,
   "id": "38cb9523",
   "metadata": {},
   "outputs": [],
   "source": []
  },
  {
   "cell_type": "code",
   "execution_count": null,
   "id": "b924ab1a",
   "metadata": {},
   "outputs": [],
   "source": [
    "a1_master1.tail(10)"
   ]
  },
  {
   "cell_type": "code",
   "execution_count": null,
   "id": "e66aa1e1",
   "metadata": {},
   "outputs": [],
   "source": [
    "a1_master1.shape"
   ]
  },
  {
   "cell_type": "code",
   "execution_count": null,
   "id": "abef3962",
   "metadata": {},
   "outputs": [],
   "source": [
    "len(a1_X_train.columns)"
   ]
  },
  {
   "cell_type": "code",
   "execution_count": null,
   "id": "59d1098e",
   "metadata": {},
   "outputs": [],
   "source": [
    "a1_X_columns = list(a1_X_train.columns)\n",
    "a1_X_columns.append('pred0')\n",
    "a1_X_columns"
   ]
  },
  {
   "cell_type": "code",
   "execution_count": null,
   "id": "0afd1751",
   "metadata": {},
   "outputs": [],
   "source": [
    "a1_X_pred1 = a1_master1[a1_X_columns].iloc[-1].copy()\n",
    "a1_X_pred1"
   ]
  },
  {
   "cell_type": "code",
   "execution_count": null,
   "id": "7b28f0f1",
   "metadata": {},
   "outputs": [],
   "source": [
    "a1_master1_scrambled = a1_master1.iloc[:-1].copy()\n",
    "a1_master1_scrambled.tail(10)"
   ]
  },
  {
   "cell_type": "code",
   "execution_count": null,
   "id": "31e6afa2",
   "metadata": {},
   "outputs": [],
   "source": [
    "a1_master1_scrambled = a1_master1_scrambled.sample(frac=1)\n",
    "a1_master1_scrambled = a1_master1_scrambled.sample(frac=1)\n",
    "\n",
    "a1_master1_scrambled.tail(10)"
   ]
  },
  {
   "cell_type": "code",
   "execution_count": null,
   "id": "c0de1add",
   "metadata": {},
   "outputs": [],
   "source": [
    "a1_idx_tt_split = int(a1_master1_scrambled.shape[0] * 0.9)\n",
    "a1_idx_tt_split"
   ]
  },
  {
   "cell_type": "code",
   "execution_count": null,
   "id": "2427aa06",
   "metadata": {},
   "outputs": [],
   "source": [
    "a1_X_train = a1_master1_scrambled[a1_X_columns].iloc[:a1_idx_tt_split]\n",
    "a1_y_train = a1_master1_scrambled['ac1_pred'].iloc[:a1_idx_tt_split]\n",
    "\n",
    "a1_X_test = a1_master1_scrambled[a1_X_columns].iloc[a1_idx_tt_split:]\n",
    "a1_y_test = a1_master1_scrambled['ac1_pred'].iloc[a1_idx_tt_split:]\n",
    "\n",
    "print(f'a1_master1 shape: {a1_master1.shape}')\n",
    "print(f'X_train shape: {a1_X_train.shape}')\n",
    "print(f'y_train shape: {a1_y_train.shape}')\n",
    "print(f'X_test shape: {a1_X_test.shape}')\n",
    "print(f'y_test shape: {a1_y_test.shape}')\n",
    "print(f'a1_X_pred1 shape: {a1_X_pred1.shape}')"
   ]
  },
  {
   "cell_type": "code",
   "execution_count": null,
   "id": "ccbdabe2",
   "metadata": {},
   "outputs": [],
   "source": [
    "# 2nd modeling\n",
    "\n",
    "xgb_model1 = xgb.XGBClassifier(objective='binary:logistic'\n",
    "                              # , num_class=2\n",
    "                              , random_state=42\n",
    "                              # , max_depth=7\n",
    "                              # , n_estimators=89\n",
    "                              # , learning_rate=0.05\n",
    "                              # , min_child_weight=4\n",
    "                             )\n",
    "\n",
    "xgb_model1.fit(a1_X_train, a1_y_train)\n",
    "\n",
    "y_pred = xgb_model1.predict(a1_X_test)\n",
    "\n",
    "y_pred_prob = xgb_model1.predict_proba(a1_X_test)[:, 1]\n",
    "\n",
    "acc = accuracy_score(a1_y_test, y_pred)\n",
    "\n",
    "print(f'Accuracy: {acc}')"
   ]
  },
  {
   "cell_type": "code",
   "execution_count": null,
   "id": "1d734184",
   "metadata": {},
   "outputs": [],
   "source": [
    "xgb_model1.feature_importances_"
   ]
  },
  {
   "cell_type": "code",
   "execution_count": null,
   "id": "17c142ec",
   "metadata": {},
   "outputs": [],
   "source": [
    "a1_X_columns"
   ]
  },
  {
   "cell_type": "code",
   "execution_count": null,
   "id": "37e7b92e",
   "metadata": {},
   "outputs": [],
   "source": []
  },
  {
   "cell_type": "code",
   "execution_count": null,
   "id": "987cf414",
   "metadata": {},
   "outputs": [],
   "source": []
  },
  {
   "cell_type": "code",
   "execution_count": null,
   "id": "4bfe5d18",
   "metadata": {},
   "outputs": [],
   "source": []
  }
 ],
 "metadata": {
  "kernelspec": {
   "display_name": "Python 3",
   "language": "python",
   "name": "python3"
  },
  "language_info": {
   "codemirror_mode": {
    "name": "ipython",
    "version": 3
   },
   "file_extension": ".py",
   "mimetype": "text/x-python",
   "name": "python",
   "nbconvert_exporter": "python",
   "pygments_lexer": "ipython3",
   "version": "3.8.10"
  }
 },
 "nbformat": 4,
 "nbformat_minor": 5
}
