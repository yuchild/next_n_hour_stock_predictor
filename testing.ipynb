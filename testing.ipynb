{
 "cells": [
  {
   "cell_type": "code",
   "execution_count": 1,
   "id": "e28e9905",
   "metadata": {},
   "outputs": [],
   "source": [
    "import yfinance as yf\n",
    "import pandas as pd\n",
    "import numpy as np\n",
    "from numpy import where\n",
    "import xgboost as xgb\n",
    "from sklearn.model_selection import GridSearchCV, StratifiedKFold\n",
    "from sklearn.metrics import accuracy_score"
   ]
  },
  {
   "cell_type": "code",
   "execution_count": 704,
   "id": "54132001",
   "metadata": {},
   "outputs": [],
   "source": [
    "# aapl_day = yf.download(\"AAPL\", start=\"1980-12-08\", end=None) # 15\n",
    "# aapl_day.to_pickle('./data/aapl_day.pkl')\n",
    "# adbe_day = yf.download(\"ADBE\", start=\"1986-08-11\", end=None) # 265\n",
    "# adbe_day.to_pickle('./data/adbe_day.pkl')\n",
    "# amd_day = yf.download(\"AMD\", start=\"1980-03-17\", end=None) # 265\n",
    "# amd_day.to_pickle('./data/amd_day.pkl')\n",
    "# amat_day = yf.download(\"AMAT\", start=\"1980-03-16\", end=None) # 75\n",
    "# amat_day.to_pickle('./data/amat_day.pkl')\n",
    "# brkb_day = yf.download(\"BRK-B\", start=\"1996-05-06\", end=None) # 7555\n",
    "# brkb_day.to_pickle('./data/brkb_day.pkl')\n",
    "# cost_day = yf.download(\"COST\", start=\"1986-07-07\", end=None) # 1125\n",
    "# cost_day.to_pickle('./data/cost_day.pkl')\n",
    "# goog_day = yf.download(\"GOOG\", start=\"2004-08-16\", end=None) # 1955\n",
    "# goog_day.to_pickle('./data/goog_day.pkl') \n",
    "# intc_day = yf.download(\"INTC\", start=\"1980-03-186\", end=None) # 175\n",
    "# intc_day.to_pickle('./data/intc_day.pkl')\n",
    "# msft_day = yf.download(\"MSFT\", start=\"1986-03-10\", end=None) # 575\n",
    "# msft_day.to_pickle('./data/msft_day.pkl')\n",
    "# mu_day = yf.download(\"MU\", start=\"2013-05-29\", end=None) # 1475\n",
    "# mu_day.to_pickle('./data/mu_day.pkl')\n",
    "# nvda_day = yf.download(\"NVDA\", start=\"1999-01-22\", end=None) # 155\n",
    "# nvda_day.to_pickle('./data/nvda_day.pkl')\n",
    "# tsm_day = yf.download(\"TSM\", start=\"1997-10-06\", end=None) # 395\n",
    "# tsm_day.to_pickle('./data/tsm_day.pkl')\n",
    "# xlk_day = yf.download(\"XLK\", start=\"1998-12-21\", end=None) # 2395\n",
    "# xlk_day.to_pickle('./data/xlk_day.pkl')"
   ]
  },
  {
   "cell_type": "code",
   "execution_count": 369,
   "id": "c4874ad3",
   "metadata": {},
   "outputs": [],
   "source": [
    "# aapl_hour = yf.download(tickers=\"AAPL\",\n",
    "#                        period=\"2y\",\n",
    "#                        interval=\"1h\"\n",
    "#                       )\n",
    "# aapl_hour.to_pickle('./data/aapl_hr.pkl')"
   ]
  },
  {
   "cell_type": "code",
   "execution_count": 705,
   "id": "864d10f8",
   "metadata": {},
   "outputs": [],
   "source": [
    "def compute_up_down(begin, end):\n",
    "    if abs((end - begin) / begin) <= 2395:\n",
    "        return 0\n",
    "    elif ((end - begin) / begin) > 2395:\n",
    "        return 1\n",
    "    else:\n",
    "        return 2\n",
    "    \n",
    "def compute_volume_per_dollar(vol, begin, end):\n",
    "    if begin - end == 0:\n",
    "        return vol\n",
    "    else:\n",
    "        return vol / abs(begin - end)\n",
    "    \n",
    "def compute_pct_change(num1, num2, dem):\n",
    "    if dem == 0:\n",
    "        return 0\n",
    "    else:\n",
    "        return (num2 - num1) / dem\n",
    "\n",
    "def week_of_month(dt):\n",
    "    from math import ceil\n",
    "    \"\"\"\n",
    "    returns week of the month for the specified date.\n",
    "    \"\"\"\n",
    "    first_day = dt.replace(day=1)\n",
    "    dom = dt.day\n",
    "    adjusted_dom = dom + first_day.weekday()\n",
    "    return int(ceil(adjusted_dom/7.0))"
   ]
  },
  {
   "cell_type": "code",
   "execution_count": 706,
   "id": "72671a06",
   "metadata": {},
   "outputs": [],
   "source": [
    "a = pd.read_pickle('./data/xlk_day.pkl')\n",
    "a = a.rename(columns={'Adj Close': 'ac'\n",
    "                      , 'Open': 'o'\n",
    "                      , 'Close': 'c'\n",
    "                      , 'High': 'h'\n",
    "                      , 'Low': 'l'\n",
    "                      , 'Volume': 'v'\n",
    "                     })"
   ]
  },
  {
   "cell_type": "code",
   "execution_count": 707,
   "id": "cfedc71d",
   "metadata": {
    "scrolled": false
   },
   "outputs": [],
   "source": [
    "a['dow'] = a.index.weekday\n",
    "a['wom'] = a.index.to_series().apply(week_of_month)\n",
    "a['mon'] = a.index.month\n",
    "\n",
    "a['v_mu_rol3'] = a['v'].rolling(window=3).mean()\n",
    "a['v_mu_rol5'] = a['v'].rolling(window=5).mean()\n",
    "a['v_mu_rol8'] = a['v'].rolling(window=8).mean()\n",
    "a['v_mu_rol13'] = a['v'].rolling(window=13).mean()\n",
    "a['v_mu_rol21'] = a['v'].rolling(window=21).mean()\n",
    "\n",
    "a['v_std_rol3'] = a['v'].rolling(window=3).std()\n",
    "a['v_std_rol5'] = a['v'].rolling(window=5).std()\n",
    "a['v_std_rol8'] = a['v'].rolling(window=8).std()\n",
    "a['v_std_rol13'] = a['v'].rolling(window=13).std()\n",
    "a['v_std_rol21'] = a['v'].rolling(window=21).std()\n",
    "\n",
    "a['vpd_hlc'] = a.apply(lambda row: compute_volume_per_dollar(row['v'], row['h'], row['l']), axis=1)  # volume per dollar high low change\n",
    "a['vpd_opac'] = a.apply(lambda row: compute_volume_per_dollar(row['v'], row['o'], row['c']), axis=1)  # volume per dollar open close absolute change\n",
    "\n",
    "a['ac1'] = a['ac'].pct_change(1)\n",
    "a['ac3'] = a['ac'].pct_change(3)\n",
    "a['ac5'] = a['ac'].pct_change(5)\n",
    "a['ac8'] = a['ac'].pct_change(8)\n",
    "a['ac13'] = a['ac'].pct_change(13)\n",
    "a['ac21'] = a['ac'].pct_change(21)\n",
    "\n",
    "a['mu_rol3'] = a['ac1'].rolling(window=3).mean()\n",
    "a['mu_rol5'] = a['ac1'].rolling(window=5).mean()\n",
    "a['mu_rol8'] = a['ac1'].rolling(window=8).mean()\n",
    "a['mu_rol13'] = a['ac1'].rolling(window=13).mean()\n",
    "a['mu_rol21'] = a['ac1'].rolling(window=21).mean()\n",
    "\n",
    "a['std_rol3'] = a['ac1'].rolling(window=3).std()\n",
    "a['std_rol5'] = a['ac1'].rolling(window=5).std()\n",
    "a['std_rol8'] = a['ac1'].rolling(window=8).std()\n",
    "a['std_rol13'] = a['ac1'].rolling(window=13).std()\n",
    "a['std_rol21'] = a['ac1'].rolling(window=21).std()\n",
    "\n",
    "a['hl_pct'] = a.apply(lambda row: compute_pct_change(row['l'], row['h'], row['o']), axis=1)\n",
    "a['oc_pct'] = a.apply(lambda row: compute_pct_change(row['o'], row['c'], row['o']), axis=1)\n",
    "\n",
    "a.dropna(axis=0, inplace=True)\n",
    "\n",
    "a['ac'] = where(a['ac'] == 0.0, a['c'], a['ac'])\n",
    "a['ac1'] = where(a['ac1'] == 0.0, a['c'], a['ac1'])\n",
    "a['ac3'] = where(a['ac3'] == 0.0, a['c'], a['ac3'])\n",
    "a['ac5'] = where(a['ac5'] == 0.0, a['c'], a['ac5'])\n",
    "a['ac3'] = where(a['ac8'] == 0.0, a['c'], a['ac8'])\n",
    "a['ac13'] = where(a['ac13'] == 0.0, a['c'], a['ac13'])\n",
    "a['ac21'] = where(a['ac21'] == 0.0, a['c'], a['ac21'])\n",
    "\n",
    "a['v_z_rol3'] = (a['v'] - a['v_mu_rol3']) / a['v_std_rol3']\n",
    "a['v_z_rol5'] = (a['v'] - a['v_mu_rol5']) / a['v_std_rol5']\n",
    "a['v_z_rol8'] = (a['v'] - a['v_mu_rol8']) / a['v_std_rol8']\n",
    "a['v_z_rol13'] = (a['v'] - a['v_mu_rol13']) / a['v_std_rol13']\n",
    "a['v_z_rol21'] = (a['v'] - a['v_mu_rol21']) / a['v_std_rol21']\n",
    "\n",
    "a['ac_z_rol3'] = (a['ac'] - a['mu_rol3']) / a['std_rol3']\n",
    "a['ac_z_rol5'] = (a['ac'] - a['mu_rol5']) / a['std_rol5']\n",
    "a['ac_z_rol8'] = (a['ac'] - a['mu_rol8']) / a['std_rol8']\n",
    "a['ac_z_rol13'] = (a['ac'] - a['mu_rol13']) / a['std_rol13']\n",
    "a['ac_z_rol21'] = (a['ac'] - a['mu_rol21']) / a['std_rol21']\n",
    "\n",
    "a['ac1_up_dwn'] = a.apply(lambda row: compute_up_down(row['ac1'], row['ac']), axis=1)\n",
    "a['ac3_up_dwn'] = a.apply(lambda row: compute_up_down(row['ac3'], row['ac']), axis=1)\n",
    "a['ac5_up_dwn'] = a.apply(lambda row: compute_up_down(row['ac5'], row['ac']), axis=1)\n",
    "a['ac8_up_dwn'] = a.apply(lambda row: compute_up_down(row['ac8'], row['ac']), axis=1)\n",
    "a['ac13_up_dwn'] = a.apply(lambda row: compute_up_down(row['ac13'], row['ac']), axis=1)\n",
    "a['ac21_up_dwn'] = a.apply(lambda row: compute_up_down(row['ac21'], row['ac']), axis=1)\n",
    "\n",
    "a['ac1_avg5'] = a['ac1_up_dwn'].rolling(window=5).mean()\n",
    "a['ac1_avg13'] = a['ac1_up_dwn'].rolling(window=13).mean()\n",
    "a['ac1_avg21'] = a['ac1_up_dwn'].rolling(window=21).mean()\n",
    "\n",
    "a.dropna(axis=0, inplace=True)\n",
    "\n",
    "a['ac1_pred'] = a['ac1_up_dwn'].shift(-1)\n",
    "a['ac3_pred'] = a['ac3_up_dwn'].shift(-3)\n",
    "a['ac5_pred'] = a['ac5_up_dwn'].shift(-5)\n",
    "a['ac8_pred'] = a['ac8_up_dwn'].shift(-8)\n",
    "a['ac13_pred'] = a['ac13_up_dwn'].shift(-13)\n",
    "a['ac21_pred'] = a['ac21_up_dwn'].shift(-21)\n",
    "\n",
    "a = a[~a.isin([np.inf, -np.inf]).any(axis=1)]"
   ]
  },
  {
   "cell_type": "code",
   "execution_count": 708,
   "id": "bb7e9189",
   "metadata": {
    "scrolled": true
   },
   "outputs": [
    {
     "data": {
      "text/plain": [
       "1.0    2275\n",
       "0.0    2049\n",
       "2.0    1775\n",
       "Name: ac1_pred, dtype: int64"
      ]
     },
     "execution_count": 708,
     "metadata": {},
     "output_type": "execute_result"
    }
   ],
   "source": [
    "a['ac1_pred'].value_counts()"
   ]
  },
  {
   "cell_type": "code",
   "execution_count": 709,
   "id": "8af72904",
   "metadata": {},
   "outputs": [],
   "source": [
    "# Upsampling...\n",
    "\n",
    "# a0s = a[a['ac1_pred'] == 0.0]\n",
    "\n",
    "# for _ in range(7):\n",
    "#     a = pd.concat([a, a0s], axis=0)\n",
    "\n",
    "# a['ac1_pred'].value_counts()"
   ]
  },
  {
   "cell_type": "code",
   "execution_count": 596,
   "id": "7b451ff0",
   "metadata": {},
   "outputs": [
    {
     "data": {
      "text/plain": [
       "Index(['o', 'h', 'l', 'c', 'ac', 'v', 'dow', 'wom', 'mon', 'v_mu_rol3',\n",
       "       'v_mu_rol5', 'v_mu_rol8', 'v_mu_rol13', 'v_mu_rol21', 'v_std_rol3',\n",
       "       'v_std_rol5', 'v_std_rol8', 'v_std_rol13', 'v_std_rol21', 'vpd_hlc',\n",
       "       'vpd_opac', 'ac1', 'ac3', 'ac5', 'ac8', 'ac13', 'ac21', 'mu_rol3',\n",
       "       'mu_rol5', 'mu_rol8', 'mu_rol13', 'mu_rol21', 'std_rol3', 'std_rol5',\n",
       "       'std_rol8', 'std_rol13', 'std_rol21', 'hl_pct', 'oc_pct', 'v_z_rol3',\n",
       "       'v_z_rol5', 'v_z_rol8', 'v_z_rol13', 'v_z_rol21', 'ac_z_rol3',\n",
       "       'ac_z_rol5', 'ac_z_rol8', 'ac_z_rol13', 'ac_z_rol21', 'ac1_up_dwn',\n",
       "       'ac3_up_dwn', 'ac5_up_dwn', 'ac8_up_dwn', 'ac13_up_dwn', 'ac21_up_dwn',\n",
       "       'ac1_avg5', 'ac1_avg13', 'ac1_avg21', 'ac1_pred', 'ac3_pred',\n",
       "       'ac5_pred', 'ac8_pred', 'ac13_pred', 'ac21_pred'],\n",
       "      dtype='object')"
      ]
     },
     "execution_count": 596,
     "metadata": {},
     "output_type": "execute_result"
    }
   ],
   "source": [
    "a.columns"
   ]
  },
  {
   "cell_type": "code",
   "execution_count": 597,
   "id": "5dd70508",
   "metadata": {},
   "outputs": [],
   "source": [
    "a1_col_list = ['o'\n",
    "               # , 'h'\n",
    "               # , 'l'\n",
    "               # , 'c'\n",
    "               , 'ac'\n",
    "               # , 'v'\n",
    "               , 'dow'\n",
    "               # , 'wom'\n",
    "               , 'mon'\n",
    "               # , 'v_mu_rol3'\n",
    "               # , 'v_mu_rol5'\n",
    "               # , 'v_mu_rol8'\n",
    "               # , 'v_mu_rol13'\n",
    "               # , 'v_mu_rol21'\n",
    "               # , 'v_std_rol3'\n",
    "               # , 'v_std_rol5'\n",
    "               # , 'v_std_rol8'\n",
    "               # , 'v_std_rol13'\n",
    "               # , 'v_std_rol21'\n",
    "               # , 'vpd_hlc'\n",
    "               # , 'vpd_opac'\n",
    "               # , 'ac1'\n",
    "               # , 'ac3'\n",
    "               # , 'ac5'\n",
    "               # , 'ac8'\n",
    "               # , 'ac13'\n",
    "               # , 'ac21'\n",
    "               , 'mu_rol3'\n",
    "               # , 'mu_rol5'\n",
    "               # , 'mu_rol8'\n",
    "               # , 'mu_rol13'\n",
    "               , 'mu_rol21'\n",
    "               # , 'std_rol3'\n",
    "               # , 'std_rol5'\n",
    "               # , 'std_rol8'\n",
    "               # , 'std_rol13'\n",
    "               # , 'std_rol21'\n",
    "               , 'hl_pct'\n",
    "               , 'oc_pct'\n",
    "               , 'v_z_rol3'\n",
    "               # , 'v_z_rol5'\n",
    "               # , 'v_z_rol8'\n",
    "               # , 'v_z_rol13'\n",
    "               , 'v_z_rol21'\n",
    "               , 'ac_z_rol3'\n",
    "               # , 'ac_z_rol5'\n",
    "               # , 'ac_z_rol8'\n",
    "               # , 'ac_z_rol13'\n",
    "               , 'ac_z_rol21'\n",
    "               , 'ac1_up_dwn'\n",
    "               # , 'ac3_up_dwn'\n",
    "               # , 'ac5_up_dwn'\n",
    "               # , 'ac8_up_dwn'\n",
    "               # , 'ac13_up_dwn'\n",
    "               # , 'ac21_up_dwn'\n",
    "               , 'ac1_avg5'\n",
    "               # , 'ac1_avg13'\n",
    "               , 'ac1_avg21'\n",
    "               , 'ac1_pred'\n",
    "               ,\n",
    "              ]\n",
    "\n",
    "a1_master0 = a[a1_col_list].copy()\n",
    "\n",
    "a1_X_pred = a1_master0[a1_col_list[:-1]].iloc[-1].copy()\n",
    "\n",
    "a1_master0.drop(a1_master0.index[-1], axis=0, inplace=True)\n",
    "\n",
    "a1_master0 = a1_master0.sample(frac=1, random_state=21)\n",
    "a1_master0 = a1_master0.sample(frac=1, random_state=42)\n",
    "\n",
    "idx_split2_9th = int(a.shape[0] * 2.0 / 9)\n",
    "idx_split3_9th = int(a.shape[0] * 1.0 / 3)\n",
    "idx_split5_9th = int(a.shape[0] * 5.0 / 9)\n",
    "idx_split6_9th = int(a.shape[0] * 2.0 / 3)\n",
    "idx_split8_9th = int(a.shape[0] * 8.0 / 9)\n",
    "\n",
    "a1_X_train = a1_master0.iloc[:idx_split2_9th].drop('ac1_pred', axis=1)\n",
    "a1_y_train = a1_master0['ac1_pred'].iloc[:idx_split2_9th]\n",
    "a1_X_test = a1_master0.iloc[idx_split2_9th:idx_split3_9th].drop('ac1_pred', axis=1)\n",
    "a1_y_test = a1_master0['ac1_pred'].iloc[idx_split2_9th:idx_split3_9th]"
   ]
  },
  {
   "cell_type": "code",
   "execution_count": null,
   "id": "c9c563be",
   "metadata": {},
   "outputs": [],
   "source": []
  },
  {
   "cell_type": "code",
   "execution_count": null,
   "id": "2238c232",
   "metadata": {},
   "outputs": [],
   "source": []
  },
  {
   "cell_type": "code",
   "execution_count": 523,
   "id": "402dcde5",
   "metadata": {},
   "outputs": [
    {
     "name": "stdout",
     "output_type": "stream",
     "text": [
      "(6761, 16)\n",
      "(1502, 15)\n",
      "(1502,)\n",
      "(752, 15)\n",
      "(752,)\n"
     ]
    }
   ],
   "source": [
    "# sanity check first partition for training\n",
    "print(a1_master0.shape)\n",
    "print(a1_X_train.shape)\n",
    "print(a1_y_train.shape)\n",
    "print(a1_X_test.shape)\n",
    "print(a1_y_test.shape)"
   ]
  },
  {
   "cell_type": "code",
   "execution_count": 524,
   "id": "2d8638a8",
   "metadata": {
    "scrolled": true
   },
   "outputs": [
    {
     "data": {
      "text/plain": [
       "o             0\n",
       "ac            0\n",
       "dow           0\n",
       "mon           0\n",
       "mu_rol3       0\n",
       "mu_rol21      0\n",
       "hl_pct        0\n",
       "oc_pct        0\n",
       "v_z_rol3      0\n",
       "v_z_rol21     0\n",
       "ac_z_rol3     0\n",
       "ac_z_rol21    0\n",
       "ac1_up_dwn    0\n",
       "ac1_avg5      0\n",
       "ac1_avg21     0\n",
       "dtype: int64"
      ]
     },
     "execution_count": 524,
     "metadata": {},
     "output_type": "execute_result"
    }
   ],
   "source": [
    "# check for infinities\n",
    "a1_X_train.isin([np.inf, -np.inf]).sum()"
   ]
  },
  {
   "cell_type": "code",
   "execution_count": 525,
   "id": "d6d55aeb",
   "metadata": {},
   "outputs": [
    {
     "data": {
      "text/html": [
       "<div>\n",
       "<style scoped>\n",
       "    .dataframe tbody tr th:only-of-type {\n",
       "        vertical-align: middle;\n",
       "    }\n",
       "\n",
       "    .dataframe tbody tr th {\n",
       "        vertical-align: top;\n",
       "    }\n",
       "\n",
       "    .dataframe thead th {\n",
       "        text-align: right;\n",
       "    }\n",
       "</style>\n",
       "<table border=\"1\" class=\"dataframe\">\n",
       "  <thead>\n",
       "    <tr style=\"text-align: right;\">\n",
       "      <th></th>\n",
       "      <th>o</th>\n",
       "      <th>ac</th>\n",
       "      <th>dow</th>\n",
       "      <th>mon</th>\n",
       "      <th>mu_rol3</th>\n",
       "      <th>mu_rol21</th>\n",
       "      <th>hl_pct</th>\n",
       "      <th>oc_pct</th>\n",
       "      <th>v_z_rol3</th>\n",
       "      <th>v_z_rol21</th>\n",
       "      <th>ac_z_rol3</th>\n",
       "      <th>ac_z_rol21</th>\n",
       "      <th>ac1_up_dwn</th>\n",
       "      <th>ac1_avg5</th>\n",
       "      <th>ac1_avg21</th>\n",
       "    </tr>\n",
       "    <tr>\n",
       "      <th>Date</th>\n",
       "      <th></th>\n",
       "      <th></th>\n",
       "      <th></th>\n",
       "      <th></th>\n",
       "      <th></th>\n",
       "      <th></th>\n",
       "      <th></th>\n",
       "      <th></th>\n",
       "      <th></th>\n",
       "      <th></th>\n",
       "      <th></th>\n",
       "      <th></th>\n",
       "      <th></th>\n",
       "      <th></th>\n",
       "      <th></th>\n",
       "    </tr>\n",
       "  </thead>\n",
       "  <tbody>\n",
       "  </tbody>\n",
       "</table>\n",
       "</div>"
      ],
      "text/plain": [
       "Empty DataFrame\n",
       "Columns: [o, ac, dow, mon, mu_rol3, mu_rol21, hl_pct, oc_pct, v_z_rol3, v_z_rol21, ac_z_rol3, ac_z_rol21, ac1_up_dwn, ac1_avg5, ac1_avg21]\n",
       "Index: []"
      ]
     },
     "execution_count": 525,
     "metadata": {},
     "output_type": "execute_result"
    }
   ],
   "source": [
    "mask = np.isinf(a1_X_train)\n",
    "\n",
    "result = a1_X_train[mask.any(axis=1)]\n",
    "\n",
    "result"
   ]
  },
  {
   "cell_type": "code",
   "execution_count": 526,
   "id": "d57179bc",
   "metadata": {},
   "outputs": [
    {
     "name": "stdout",
     "output_type": "stream",
     "text": [
      "Accuracy: 0.4720744680851064\n"
     ]
    }
   ],
   "source": [
    "# modeling partition first 1/3\n",
    "\n",
    "xgb_model0 = xgb.XGBClassifier(objective='multi:softmax'\n",
    "                              , num_class=3\n",
    "                              , random_state=42\n",
    "                              , max_depth=5\n",
    "                              , n_estimators=255\n",
    "                              , learning_rate=0.0001\n",
    "                              , min_child_weight=3\n",
    "                             )\n",
    "\n",
    "xgb_model0.fit(a1_X_train, a1_y_train)\n",
    "\n",
    "y_pred = xgb_model0.predict(a1_X_test)\n",
    "\n",
    "# y_pred_prob = xgb_model0.predict_proba(a1_X_test)[:, 1]\n",
    "\n",
    "acc = accuracy_score(a1_y_test, y_pred)\n",
    "\n",
    "print(f'Accuracy: {acc}')"
   ]
  },
  {
   "cell_type": "code",
   "execution_count": 527,
   "id": "9c1183f2",
   "metadata": {
    "scrolled": true
   },
   "outputs": [
    {
     "data": {
      "text/plain": [
       "array([0.03474912, 0.06263138, 0.03226607, 0.03165032, 0.05289899,\n",
       "       0.05896105, 0.06933462, 0.04251241, 0.04894278, 0.04113087,\n",
       "       0.03371864, 0.3484019 , 0.03506446, 0.05440865, 0.05332874],\n",
       "      dtype=float32)"
      ]
     },
     "execution_count": 527,
     "metadata": {},
     "output_type": "execute_result"
    }
   ],
   "source": [
    "xgb_model0.feature_importances_"
   ]
  },
  {
   "cell_type": "code",
   "execution_count": 528,
   "id": "6063a102",
   "metadata": {},
   "outputs": [
    {
     "data": {
      "text/plain": [
       "Index(['o', 'ac', 'dow', 'mon', 'mu_rol3', 'mu_rol21', 'hl_pct', 'oc_pct',\n",
       "       'v_z_rol3', 'v_z_rol21', 'ac_z_rol3', 'ac_z_rol21', 'ac1_up_dwn',\n",
       "       'ac1_avg5', 'ac1_avg21'],\n",
       "      dtype='object')"
      ]
     },
     "execution_count": 528,
     "metadata": {},
     "output_type": "execute_result"
    }
   ],
   "source": [
    "a1_X_train.columns"
   ]
  },
  {
   "cell_type": "code",
   "execution_count": 529,
   "id": "7415b601",
   "metadata": {},
   "outputs": [
    {
     "data": {
      "text/plain": [
       "1"
      ]
     },
     "execution_count": 529,
     "metadata": {},
     "output_type": "execute_result"
    }
   ],
   "source": [
    "xgb_model0.predict(a1_X_pred.to_numpy().reshape(1,-1))[0]"
   ]
  },
  {
   "cell_type": "code",
   "execution_count": 530,
   "id": "e4ced991",
   "metadata": {},
   "outputs": [
    {
     "data": {
      "text/plain": [
       "array([[0.32823443, 0.3362959 , 0.33546963]], dtype=float32)"
      ]
     },
     "execution_count": 530,
     "metadata": {},
     "output_type": "execute_result"
    }
   ],
   "source": [
    "xgb_model0.predict_proba(a1_X_pred.to_numpy().reshape(1,-1))"
   ]
  },
  {
   "cell_type": "code",
   "execution_count": null,
   "id": "25a85363",
   "metadata": {},
   "outputs": [],
   "source": []
  },
  {
   "cell_type": "code",
   "execution_count": 531,
   "id": "c1d422cd",
   "metadata": {
    "scrolled": false
   },
   "outputs": [
    {
     "data": {
      "text/html": [
       "<style type=\"text/css\">\n",
       "#T_f5226_row8_col1 {\n",
       "  background-color: lightgreen;\n",
       "}\n",
       "</style>\n",
       "<table id=\"T_f5226_\">\n",
       "  <thead>\n",
       "    <tr>\n",
       "      <th class=\"blank level0\" >&nbsp;</th>\n",
       "      <th class=\"col_heading level0 col0\" >Description</th>\n",
       "      <th class=\"col_heading level0 col1\" >Value</th>\n",
       "    </tr>\n",
       "  </thead>\n",
       "  <tbody>\n",
       "    <tr>\n",
       "      <th id=\"T_f5226_level0_row0\" class=\"row_heading level0 row0\" >0</th>\n",
       "      <td id=\"T_f5226_row0_col0\" class=\"data row0 col0\" >Session id</td>\n",
       "      <td id=\"T_f5226_row0_col1\" class=\"data row0 col1\" >3313</td>\n",
       "    </tr>\n",
       "    <tr>\n",
       "      <th id=\"T_f5226_level0_row1\" class=\"row_heading level0 row1\" >1</th>\n",
       "      <td id=\"T_f5226_row1_col0\" class=\"data row1 col0\" >Target</td>\n",
       "      <td id=\"T_f5226_row1_col1\" class=\"data row1 col1\" >ac1_pred</td>\n",
       "    </tr>\n",
       "    <tr>\n",
       "      <th id=\"T_f5226_level0_row2\" class=\"row_heading level0 row2\" >2</th>\n",
       "      <td id=\"T_f5226_row2_col0\" class=\"data row2 col0\" >Target type</td>\n",
       "      <td id=\"T_f5226_row2_col1\" class=\"data row2 col1\" >Multiclass</td>\n",
       "    </tr>\n",
       "    <tr>\n",
       "      <th id=\"T_f5226_level0_row3\" class=\"row_heading level0 row3\" >3</th>\n",
       "      <td id=\"T_f5226_row3_col0\" class=\"data row3 col0\" >Original data shape</td>\n",
       "      <td id=\"T_f5226_row3_col1\" class=\"data row3 col1\" >(1502, 16)</td>\n",
       "    </tr>\n",
       "    <tr>\n",
       "      <th id=\"T_f5226_level0_row4\" class=\"row_heading level0 row4\" >4</th>\n",
       "      <td id=\"T_f5226_row4_col0\" class=\"data row4 col0\" >Transformed data shape</td>\n",
       "      <td id=\"T_f5226_row4_col1\" class=\"data row4 col1\" >(1502, 16)</td>\n",
       "    </tr>\n",
       "    <tr>\n",
       "      <th id=\"T_f5226_level0_row5\" class=\"row_heading level0 row5\" >5</th>\n",
       "      <td id=\"T_f5226_row5_col0\" class=\"data row5 col0\" >Transformed train set shape</td>\n",
       "      <td id=\"T_f5226_row5_col1\" class=\"data row5 col1\" >(1051, 16)</td>\n",
       "    </tr>\n",
       "    <tr>\n",
       "      <th id=\"T_f5226_level0_row6\" class=\"row_heading level0 row6\" >6</th>\n",
       "      <td id=\"T_f5226_row6_col0\" class=\"data row6 col0\" >Transformed test set shape</td>\n",
       "      <td id=\"T_f5226_row6_col1\" class=\"data row6 col1\" >(451, 16)</td>\n",
       "    </tr>\n",
       "    <tr>\n",
       "      <th id=\"T_f5226_level0_row7\" class=\"row_heading level0 row7\" >7</th>\n",
       "      <td id=\"T_f5226_row7_col0\" class=\"data row7 col0\" >Numeric features</td>\n",
       "      <td id=\"T_f5226_row7_col1\" class=\"data row7 col1\" >15</td>\n",
       "    </tr>\n",
       "    <tr>\n",
       "      <th id=\"T_f5226_level0_row8\" class=\"row_heading level0 row8\" >8</th>\n",
       "      <td id=\"T_f5226_row8_col0\" class=\"data row8 col0\" >Preprocess</td>\n",
       "      <td id=\"T_f5226_row8_col1\" class=\"data row8 col1\" >True</td>\n",
       "    </tr>\n",
       "    <tr>\n",
       "      <th id=\"T_f5226_level0_row9\" class=\"row_heading level0 row9\" >9</th>\n",
       "      <td id=\"T_f5226_row9_col0\" class=\"data row9 col0\" >Imputation type</td>\n",
       "      <td id=\"T_f5226_row9_col1\" class=\"data row9 col1\" >simple</td>\n",
       "    </tr>\n",
       "    <tr>\n",
       "      <th id=\"T_f5226_level0_row10\" class=\"row_heading level0 row10\" >10</th>\n",
       "      <td id=\"T_f5226_row10_col0\" class=\"data row10 col0\" >Numeric imputation</td>\n",
       "      <td id=\"T_f5226_row10_col1\" class=\"data row10 col1\" >mean</td>\n",
       "    </tr>\n",
       "    <tr>\n",
       "      <th id=\"T_f5226_level0_row11\" class=\"row_heading level0 row11\" >11</th>\n",
       "      <td id=\"T_f5226_row11_col0\" class=\"data row11 col0\" >Categorical imputation</td>\n",
       "      <td id=\"T_f5226_row11_col1\" class=\"data row11 col1\" >mode</td>\n",
       "    </tr>\n",
       "    <tr>\n",
       "      <th id=\"T_f5226_level0_row12\" class=\"row_heading level0 row12\" >12</th>\n",
       "      <td id=\"T_f5226_row12_col0\" class=\"data row12 col0\" >Fold Generator</td>\n",
       "      <td id=\"T_f5226_row12_col1\" class=\"data row12 col1\" >StratifiedKFold</td>\n",
       "    </tr>\n",
       "    <tr>\n",
       "      <th id=\"T_f5226_level0_row13\" class=\"row_heading level0 row13\" >13</th>\n",
       "      <td id=\"T_f5226_row13_col0\" class=\"data row13 col0\" >Fold Number</td>\n",
       "      <td id=\"T_f5226_row13_col1\" class=\"data row13 col1\" >10</td>\n",
       "    </tr>\n",
       "    <tr>\n",
       "      <th id=\"T_f5226_level0_row14\" class=\"row_heading level0 row14\" >14</th>\n",
       "      <td id=\"T_f5226_row14_col0\" class=\"data row14 col0\" >CPU Jobs</td>\n",
       "      <td id=\"T_f5226_row14_col1\" class=\"data row14 col1\" >-1</td>\n",
       "    </tr>\n",
       "    <tr>\n",
       "      <th id=\"T_f5226_level0_row15\" class=\"row_heading level0 row15\" >15</th>\n",
       "      <td id=\"T_f5226_row15_col0\" class=\"data row15 col0\" >Use GPU</td>\n",
       "      <td id=\"T_f5226_row15_col1\" class=\"data row15 col1\" >False</td>\n",
       "    </tr>\n",
       "    <tr>\n",
       "      <th id=\"T_f5226_level0_row16\" class=\"row_heading level0 row16\" >16</th>\n",
       "      <td id=\"T_f5226_row16_col0\" class=\"data row16 col0\" >Log Experiment</td>\n",
       "      <td id=\"T_f5226_row16_col1\" class=\"data row16 col1\" >False</td>\n",
       "    </tr>\n",
       "    <tr>\n",
       "      <th id=\"T_f5226_level0_row17\" class=\"row_heading level0 row17\" >17</th>\n",
       "      <td id=\"T_f5226_row17_col0\" class=\"data row17 col0\" >Experiment Name</td>\n",
       "      <td id=\"T_f5226_row17_col1\" class=\"data row17 col1\" >clf-default-name</td>\n",
       "    </tr>\n",
       "    <tr>\n",
       "      <th id=\"T_f5226_level0_row18\" class=\"row_heading level0 row18\" >18</th>\n",
       "      <td id=\"T_f5226_row18_col0\" class=\"data row18 col0\" >USI</td>\n",
       "      <td id=\"T_f5226_row18_col1\" class=\"data row18 col1\" >2e5a</td>\n",
       "    </tr>\n",
       "  </tbody>\n",
       "</table>\n"
      ],
      "text/plain": [
       "<pandas.io.formats.style.Styler at 0x7fbb81dc3940>"
      ]
     },
     "metadata": {},
     "output_type": "display_data"
    },
    {
     "data": {
      "text/html": [],
      "text/plain": [
       "<IPython.core.display.HTML object>"
      ]
     },
     "metadata": {},
     "output_type": "display_data"
    },
    {
     "data": {
      "text/html": [
       "<style type=\"text/css\">\n",
       "#T_aa174_ th {\n",
       "  text-align: left;\n",
       "}\n",
       "#T_aa174_row0_col0, #T_aa174_row0_col2, #T_aa174_row0_col4, #T_aa174_row0_col7, #T_aa174_row1_col0, #T_aa174_row1_col1, #T_aa174_row1_col3, #T_aa174_row1_col4, #T_aa174_row1_col5, #T_aa174_row1_col6, #T_aa174_row1_col7, #T_aa174_row2_col0, #T_aa174_row2_col1, #T_aa174_row2_col2, #T_aa174_row2_col3, #T_aa174_row2_col4, #T_aa174_row2_col5, #T_aa174_row2_col6, #T_aa174_row2_col7, #T_aa174_row3_col0, #T_aa174_row3_col1, #T_aa174_row3_col2, #T_aa174_row3_col3, #T_aa174_row3_col4, #T_aa174_row3_col5, #T_aa174_row3_col6, #T_aa174_row3_col7, #T_aa174_row4_col0, #T_aa174_row4_col1, #T_aa174_row4_col2, #T_aa174_row4_col3, #T_aa174_row4_col4, #T_aa174_row4_col5, #T_aa174_row4_col6, #T_aa174_row4_col7, #T_aa174_row5_col0, #T_aa174_row5_col1, #T_aa174_row5_col2, #T_aa174_row5_col3, #T_aa174_row5_col4, #T_aa174_row5_col5, #T_aa174_row5_col6, #T_aa174_row5_col7, #T_aa174_row6_col0, #T_aa174_row6_col1, #T_aa174_row6_col2, #T_aa174_row6_col3, #T_aa174_row6_col4, #T_aa174_row6_col5, #T_aa174_row6_col6, #T_aa174_row6_col7, #T_aa174_row7_col0, #T_aa174_row7_col1, #T_aa174_row7_col2, #T_aa174_row7_col3, #T_aa174_row7_col5, #T_aa174_row7_col6, #T_aa174_row8_col0, #T_aa174_row8_col1, #T_aa174_row8_col2, #T_aa174_row8_col3, #T_aa174_row8_col4, #T_aa174_row8_col5, #T_aa174_row8_col6, #T_aa174_row8_col7, #T_aa174_row9_col0, #T_aa174_row9_col1, #T_aa174_row9_col2, #T_aa174_row9_col3, #T_aa174_row9_col4, #T_aa174_row9_col5, #T_aa174_row9_col6, #T_aa174_row9_col7, #T_aa174_row10_col0, #T_aa174_row10_col1, #T_aa174_row10_col2, #T_aa174_row10_col3, #T_aa174_row10_col4, #T_aa174_row10_col5, #T_aa174_row10_col6, #T_aa174_row10_col7, #T_aa174_row11_col0, #T_aa174_row11_col1, #T_aa174_row11_col2, #T_aa174_row11_col3, #T_aa174_row11_col4, #T_aa174_row11_col5, #T_aa174_row11_col6, #T_aa174_row11_col7, #T_aa174_row12_col0, #T_aa174_row12_col1, #T_aa174_row12_col2, #T_aa174_row12_col3, #T_aa174_row12_col4, #T_aa174_row12_col5, #T_aa174_row12_col6, #T_aa174_row12_col7, #T_aa174_row13_col0, #T_aa174_row13_col1, #T_aa174_row13_col2, #T_aa174_row13_col3, #T_aa174_row13_col4, #T_aa174_row13_col5, #T_aa174_row13_col6, #T_aa174_row13_col7, #T_aa174_row14_col0, #T_aa174_row14_col1, #T_aa174_row14_col2, #T_aa174_row14_col3, #T_aa174_row14_col4, #T_aa174_row14_col5, #T_aa174_row14_col6, #T_aa174_row14_col7 {\n",
       "  text-align: left;\n",
       "}\n",
       "#T_aa174_row0_col1, #T_aa174_row0_col3, #T_aa174_row0_col5, #T_aa174_row0_col6, #T_aa174_row1_col2, #T_aa174_row7_col4, #T_aa174_row7_col7 {\n",
       "  text-align: left;\n",
       "  background-color: yellow;\n",
       "}\n",
       "#T_aa174_row0_col8, #T_aa174_row1_col8, #T_aa174_row2_col8, #T_aa174_row3_col8, #T_aa174_row4_col8, #T_aa174_row5_col8, #T_aa174_row6_col8, #T_aa174_row7_col8, #T_aa174_row8_col8, #T_aa174_row9_col8, #T_aa174_row10_col8, #T_aa174_row11_col8, #T_aa174_row12_col8, #T_aa174_row13_col8 {\n",
       "  text-align: left;\n",
       "  background-color: lightgrey;\n",
       "}\n",
       "#T_aa174_row14_col8 {\n",
       "  text-align: left;\n",
       "  background-color: yellow;\n",
       "  background-color: lightgrey;\n",
       "}\n",
       "</style>\n",
       "<table id=\"T_aa174_\">\n",
       "  <thead>\n",
       "    <tr>\n",
       "      <th class=\"blank level0\" >&nbsp;</th>\n",
       "      <th class=\"col_heading level0 col0\" >Model</th>\n",
       "      <th class=\"col_heading level0 col1\" >Accuracy</th>\n",
       "      <th class=\"col_heading level0 col2\" >AUC</th>\n",
       "      <th class=\"col_heading level0 col3\" >Recall</th>\n",
       "      <th class=\"col_heading level0 col4\" >Prec.</th>\n",
       "      <th class=\"col_heading level0 col5\" >F1</th>\n",
       "      <th class=\"col_heading level0 col6\" >Kappa</th>\n",
       "      <th class=\"col_heading level0 col7\" >MCC</th>\n",
       "      <th class=\"col_heading level0 col8\" >TT (Sec)</th>\n",
       "    </tr>\n",
       "  </thead>\n",
       "  <tbody>\n",
       "    <tr>\n",
       "      <th id=\"T_aa174_level0_row0\" class=\"row_heading level0 row0\" >rf</th>\n",
       "      <td id=\"T_aa174_row0_col0\" class=\"data row0 col0\" >Random Forest Classifier</td>\n",
       "      <td id=\"T_aa174_row0_col1\" class=\"data row0 col1\" >0.4834</td>\n",
       "      <td id=\"T_aa174_row0_col2\" class=\"data row0 col2\" >0.6759</td>\n",
       "      <td id=\"T_aa174_row0_col3\" class=\"data row0 col3\" >0.4834</td>\n",
       "      <td id=\"T_aa174_row0_col4\" class=\"data row0 col4\" >0.4729</td>\n",
       "      <td id=\"T_aa174_row0_col5\" class=\"data row0 col5\" >0.4738</td>\n",
       "      <td id=\"T_aa174_row0_col6\" class=\"data row0 col6\" >0.2259</td>\n",
       "      <td id=\"T_aa174_row0_col7\" class=\"data row0 col7\" >0.2278</td>\n",
       "      <td id=\"T_aa174_row0_col8\" class=\"data row0 col8\" >0.4060</td>\n",
       "    </tr>\n",
       "    <tr>\n",
       "      <th id=\"T_aa174_level0_row1\" class=\"row_heading level0 row1\" >lda</th>\n",
       "      <td id=\"T_aa174_row1_col0\" class=\"data row1 col0\" >Linear Discriminant Analysis</td>\n",
       "      <td id=\"T_aa174_row1_col1\" class=\"data row1 col1\" >0.4805</td>\n",
       "      <td id=\"T_aa174_row1_col2\" class=\"data row1 col2\" >0.6846</td>\n",
       "      <td id=\"T_aa174_row1_col3\" class=\"data row1 col3\" >0.4805</td>\n",
       "      <td id=\"T_aa174_row1_col4\" class=\"data row1 col4\" >0.4730</td>\n",
       "      <td id=\"T_aa174_row1_col5\" class=\"data row1 col5\" >0.4717</td>\n",
       "      <td id=\"T_aa174_row1_col6\" class=\"data row1 col6\" >0.2202</td>\n",
       "      <td id=\"T_aa174_row1_col7\" class=\"data row1 col7\" >0.2226</td>\n",
       "      <td id=\"T_aa174_row1_col8\" class=\"data row1 col8\" >0.0800</td>\n",
       "    </tr>\n",
       "    <tr>\n",
       "      <th id=\"T_aa174_level0_row2\" class=\"row_heading level0 row2\" >et</th>\n",
       "      <td id=\"T_aa174_row2_col0\" class=\"data row2 col0\" >Extra Trees Classifier</td>\n",
       "      <td id=\"T_aa174_row2_col1\" class=\"data row2 col1\" >0.4795</td>\n",
       "      <td id=\"T_aa174_row2_col2\" class=\"data row2 col2\" >0.6830</td>\n",
       "      <td id=\"T_aa174_row2_col3\" class=\"data row2 col3\" >0.4795</td>\n",
       "      <td id=\"T_aa174_row2_col4\" class=\"data row2 col4\" >0.4719</td>\n",
       "      <td id=\"T_aa174_row2_col5\" class=\"data row2 col5\" >0.4709</td>\n",
       "      <td id=\"T_aa174_row2_col6\" class=\"data row2 col6\" >0.2194</td>\n",
       "      <td id=\"T_aa174_row2_col7\" class=\"data row2 col7\" >0.2216</td>\n",
       "      <td id=\"T_aa174_row2_col8\" class=\"data row2 col8\" >0.3050</td>\n",
       "    </tr>\n",
       "    <tr>\n",
       "      <th id=\"T_aa174_level0_row3\" class=\"row_heading level0 row3\" >ridge</th>\n",
       "      <td id=\"T_aa174_row3_col0\" class=\"data row3 col0\" >Ridge Classifier</td>\n",
       "      <td id=\"T_aa174_row3_col1\" class=\"data row3 col1\" >0.4767</td>\n",
       "      <td id=\"T_aa174_row3_col2\" class=\"data row3 col2\" >0.0000</td>\n",
       "      <td id=\"T_aa174_row3_col3\" class=\"data row3 col3\" >0.4767</td>\n",
       "      <td id=\"T_aa174_row3_col4\" class=\"data row3 col4\" >0.4626</td>\n",
       "      <td id=\"T_aa174_row3_col5\" class=\"data row3 col5\" >0.4604</td>\n",
       "      <td id=\"T_aa174_row3_col6\" class=\"data row3 col6\" >0.2200</td>\n",
       "      <td id=\"T_aa174_row3_col7\" class=\"data row3 col7\" >0.2244</td>\n",
       "      <td id=\"T_aa174_row3_col8\" class=\"data row3 col8\" >0.0560</td>\n",
       "    </tr>\n",
       "    <tr>\n",
       "      <th id=\"T_aa174_level0_row4\" class=\"row_heading level0 row4\" >ada</th>\n",
       "      <td id=\"T_aa174_row4_col0\" class=\"data row4 col0\" >Ada Boost Classifier</td>\n",
       "      <td id=\"T_aa174_row4_col1\" class=\"data row4 col1\" >0.4757</td>\n",
       "      <td id=\"T_aa174_row4_col2\" class=\"data row4 col2\" >0.6784</td>\n",
       "      <td id=\"T_aa174_row4_col3\" class=\"data row4 col3\" >0.4757</td>\n",
       "      <td id=\"T_aa174_row4_col4\" class=\"data row4 col4\" >0.4719</td>\n",
       "      <td id=\"T_aa174_row4_col5\" class=\"data row4 col5\" >0.4689</td>\n",
       "      <td id=\"T_aa174_row4_col6\" class=\"data row4 col6\" >0.2107</td>\n",
       "      <td id=\"T_aa174_row4_col7\" class=\"data row4 col7\" >0.2133</td>\n",
       "      <td id=\"T_aa174_row4_col8\" class=\"data row4 col8\" >0.2820</td>\n",
       "    </tr>\n",
       "    <tr>\n",
       "      <th id=\"T_aa174_level0_row5\" class=\"row_heading level0 row5\" >qda</th>\n",
       "      <td id=\"T_aa174_row5_col0\" class=\"data row5 col0\" >Quadratic Discriminant Analysis</td>\n",
       "      <td id=\"T_aa174_row5_col1\" class=\"data row5 col1\" >0.4672</td>\n",
       "      <td id=\"T_aa174_row5_col2\" class=\"data row5 col2\" >0.6742</td>\n",
       "      <td id=\"T_aa174_row5_col3\" class=\"data row5 col3\" >0.4672</td>\n",
       "      <td id=\"T_aa174_row5_col4\" class=\"data row5 col4\" >0.4630</td>\n",
       "      <td id=\"T_aa174_row5_col5\" class=\"data row5 col5\" >0.4329</td>\n",
       "      <td id=\"T_aa174_row5_col6\" class=\"data row5 col6\" >0.2165</td>\n",
       "      <td id=\"T_aa174_row5_col7\" class=\"data row5 col7\" >0.2325</td>\n",
       "      <td id=\"T_aa174_row5_col8\" class=\"data row5 col8\" >0.0900</td>\n",
       "    </tr>\n",
       "    <tr>\n",
       "      <th id=\"T_aa174_level0_row6\" class=\"row_heading level0 row6\" >xgboost</th>\n",
       "      <td id=\"T_aa174_row6_col0\" class=\"data row6 col0\" >Extreme Gradient Boosting</td>\n",
       "      <td id=\"T_aa174_row6_col1\" class=\"data row6 col1\" >0.4662</td>\n",
       "      <td id=\"T_aa174_row6_col2\" class=\"data row6 col2\" >0.6476</td>\n",
       "      <td id=\"T_aa174_row6_col3\" class=\"data row6 col3\" >0.4662</td>\n",
       "      <td id=\"T_aa174_row6_col4\" class=\"data row6 col4\" >0.4615</td>\n",
       "      <td id=\"T_aa174_row6_col5\" class=\"data row6 col5\" >0.4617</td>\n",
       "      <td id=\"T_aa174_row6_col6\" class=\"data row6 col6\" >0.1955</td>\n",
       "      <td id=\"T_aa174_row6_col7\" class=\"data row6 col7\" >0.1965</td>\n",
       "      <td id=\"T_aa174_row6_col8\" class=\"data row6 col8\" >0.4400</td>\n",
       "    </tr>\n",
       "    <tr>\n",
       "      <th id=\"T_aa174_level0_row7\" class=\"row_heading level0 row7\" >nb</th>\n",
       "      <td id=\"T_aa174_row7_col0\" class=\"data row7 col0\" >Naive Bayes</td>\n",
       "      <td id=\"T_aa174_row7_col1\" class=\"data row7 col1\" >0.4634</td>\n",
       "      <td id=\"T_aa174_row7_col2\" class=\"data row7 col2\" >0.6806</td>\n",
       "      <td id=\"T_aa174_row7_col3\" class=\"data row7 col3\" >0.4634</td>\n",
       "      <td id=\"T_aa174_row7_col4\" class=\"data row7 col4\" >0.4955</td>\n",
       "      <td id=\"T_aa174_row7_col5\" class=\"data row7 col5\" >0.3902</td>\n",
       "      <td id=\"T_aa174_row7_col6\" class=\"data row7 col6\" >0.2187</td>\n",
       "      <td id=\"T_aa174_row7_col7\" class=\"data row7 col7\" >0.2544</td>\n",
       "      <td id=\"T_aa174_row7_col8\" class=\"data row7 col8\" >0.0550</td>\n",
       "    </tr>\n",
       "    <tr>\n",
       "      <th id=\"T_aa174_level0_row8\" class=\"row_heading level0 row8\" >lightgbm</th>\n",
       "      <td id=\"T_aa174_row8_col0\" class=\"data row8 col0\" >Light Gradient Boosting Machine</td>\n",
       "      <td id=\"T_aa174_row8_col1\" class=\"data row8 col1\" >0.4615</td>\n",
       "      <td id=\"T_aa174_row8_col2\" class=\"data row8 col2\" >0.6578</td>\n",
       "      <td id=\"T_aa174_row8_col3\" class=\"data row8 col3\" >0.4615</td>\n",
       "      <td id=\"T_aa174_row8_col4\" class=\"data row8 col4\" >0.4594</td>\n",
       "      <td id=\"T_aa174_row8_col5\" class=\"data row8 col5\" >0.4578</td>\n",
       "      <td id=\"T_aa174_row8_col6\" class=\"data row8 col6\" >0.1882</td>\n",
       "      <td id=\"T_aa174_row8_col7\" class=\"data row8 col7\" >0.1893</td>\n",
       "      <td id=\"T_aa174_row8_col8\" class=\"data row8 col8\" >0.3280</td>\n",
       "    </tr>\n",
       "    <tr>\n",
       "      <th id=\"T_aa174_level0_row9\" class=\"row_heading level0 row9\" >gbc</th>\n",
       "      <td id=\"T_aa174_row9_col0\" class=\"data row9 col0\" >Gradient Boosting Classifier</td>\n",
       "      <td id=\"T_aa174_row9_col1\" class=\"data row9 col1\" >0.4529</td>\n",
       "      <td id=\"T_aa174_row9_col2\" class=\"data row9 col2\" >0.6549</td>\n",
       "      <td id=\"T_aa174_row9_col3\" class=\"data row9 col3\" >0.4529</td>\n",
       "      <td id=\"T_aa174_row9_col4\" class=\"data row9 col4\" >0.4449</td>\n",
       "      <td id=\"T_aa174_row9_col5\" class=\"data row9 col5\" >0.4446</td>\n",
       "      <td id=\"T_aa174_row9_col6\" class=\"data row9 col6\" >0.1773</td>\n",
       "      <td id=\"T_aa174_row9_col7\" class=\"data row9 col7\" >0.1791</td>\n",
       "      <td id=\"T_aa174_row9_col8\" class=\"data row9 col8\" >0.8580</td>\n",
       "    </tr>\n",
       "    <tr>\n",
       "      <th id=\"T_aa174_level0_row10\" class=\"row_heading level0 row10\" >lr</th>\n",
       "      <td id=\"T_aa174_row10_col0\" class=\"data row10 col0\" >Logistic Regression</td>\n",
       "      <td id=\"T_aa174_row10_col1\" class=\"data row10 col1\" >0.4482</td>\n",
       "      <td id=\"T_aa174_row10_col2\" class=\"data row10 col2\" >0.6712</td>\n",
       "      <td id=\"T_aa174_row10_col3\" class=\"data row10 col3\" >0.4482</td>\n",
       "      <td id=\"T_aa174_row10_col4\" class=\"data row10 col4\" >0.4358</td>\n",
       "      <td id=\"T_aa174_row10_col5\" class=\"data row10 col5\" >0.4323</td>\n",
       "      <td id=\"T_aa174_row10_col6\" class=\"data row10 col6\" >0.1736</td>\n",
       "      <td id=\"T_aa174_row10_col7\" class=\"data row10 col7\" >0.1776</td>\n",
       "      <td id=\"T_aa174_row10_col8\" class=\"data row10 col8\" >0.3900</td>\n",
       "    </tr>\n",
       "    <tr>\n",
       "      <th id=\"T_aa174_level0_row11\" class=\"row_heading level0 row11\" >knn</th>\n",
       "      <td id=\"T_aa174_row11_col0\" class=\"data row11 col0\" >K Neighbors Classifier</td>\n",
       "      <td id=\"T_aa174_row11_col1\" class=\"data row11 col1\" >0.4396</td>\n",
       "      <td id=\"T_aa174_row11_col2\" class=\"data row11 col2\" >0.6020</td>\n",
       "      <td id=\"T_aa174_row11_col3\" class=\"data row11 col3\" >0.4396</td>\n",
       "      <td id=\"T_aa174_row11_col4\" class=\"data row11 col4\" >0.4293</td>\n",
       "      <td id=\"T_aa174_row11_col5\" class=\"data row11 col5\" >0.4273</td>\n",
       "      <td id=\"T_aa174_row11_col6\" class=\"data row11 col6\" >0.1617</td>\n",
       "      <td id=\"T_aa174_row11_col7\" class=\"data row11 col7\" >0.1644</td>\n",
       "      <td id=\"T_aa174_row11_col8\" class=\"data row11 col8\" >0.0570</td>\n",
       "    </tr>\n",
       "    <tr>\n",
       "      <th id=\"T_aa174_level0_row12\" class=\"row_heading level0 row12\" >dt</th>\n",
       "      <td id=\"T_aa174_row12_col0\" class=\"data row12 col0\" >Decision Tree Classifier</td>\n",
       "      <td id=\"T_aa174_row12_col1\" class=\"data row12 col1\" >0.4149</td>\n",
       "      <td id=\"T_aa174_row12_col2\" class=\"data row12 col2\" >0.5547</td>\n",
       "      <td id=\"T_aa174_row12_col3\" class=\"data row12 col3\" >0.4149</td>\n",
       "      <td id=\"T_aa174_row12_col4\" class=\"data row12 col4\" >0.4151</td>\n",
       "      <td id=\"T_aa174_row12_col5\" class=\"data row12 col5\" >0.4136</td>\n",
       "      <td id=\"T_aa174_row12_col6\" class=\"data row12 col6\" >0.1161</td>\n",
       "      <td id=\"T_aa174_row12_col7\" class=\"data row12 col7\" >0.1166</td>\n",
       "      <td id=\"T_aa174_row12_col8\" class=\"data row12 col8\" >0.0890</td>\n",
       "    </tr>\n",
       "    <tr>\n",
       "      <th id=\"T_aa174_level0_row13\" class=\"row_heading level0 row13\" >dummy</th>\n",
       "      <td id=\"T_aa174_row13_col0\" class=\"data row13 col0\" >Dummy Classifier</td>\n",
       "      <td id=\"T_aa174_row13_col1\" class=\"data row13 col1\" >0.3625</td>\n",
       "      <td id=\"T_aa174_row13_col2\" class=\"data row13 col2\" >0.5000</td>\n",
       "      <td id=\"T_aa174_row13_col3\" class=\"data row13 col3\" >0.3625</td>\n",
       "      <td id=\"T_aa174_row13_col4\" class=\"data row13 col4\" >0.1314</td>\n",
       "      <td id=\"T_aa174_row13_col5\" class=\"data row13 col5\" >0.1929</td>\n",
       "      <td id=\"T_aa174_row13_col6\" class=\"data row13 col6\" >0.0000</td>\n",
       "      <td id=\"T_aa174_row13_col7\" class=\"data row13 col7\" >0.0000</td>\n",
       "      <td id=\"T_aa174_row13_col8\" class=\"data row13 col8\" >0.0700</td>\n",
       "    </tr>\n",
       "    <tr>\n",
       "      <th id=\"T_aa174_level0_row14\" class=\"row_heading level0 row14\" >svm</th>\n",
       "      <td id=\"T_aa174_row14_col0\" class=\"data row14 col0\" >SVM - Linear Kernel</td>\n",
       "      <td id=\"T_aa174_row14_col1\" class=\"data row14 col1\" >0.3454</td>\n",
       "      <td id=\"T_aa174_row14_col2\" class=\"data row14 col2\" >0.0000</td>\n",
       "      <td id=\"T_aa174_row14_col3\" class=\"data row14 col3\" >0.3454</td>\n",
       "      <td id=\"T_aa174_row14_col4\" class=\"data row14 col4\" >0.1853</td>\n",
       "      <td id=\"T_aa174_row14_col5\" class=\"data row14 col5\" >0.2155</td>\n",
       "      <td id=\"T_aa174_row14_col6\" class=\"data row14 col6\" >0.0081</td>\n",
       "      <td id=\"T_aa174_row14_col7\" class=\"data row14 col7\" >0.0020</td>\n",
       "      <td id=\"T_aa174_row14_col8\" class=\"data row14 col8\" >0.0510</td>\n",
       "    </tr>\n",
       "  </tbody>\n",
       "</table>\n"
      ],
      "text/plain": [
       "<pandas.io.formats.style.Styler at 0x7fbb82a45820>"
      ]
     },
     "metadata": {},
     "output_type": "display_data"
    },
    {
     "data": {
      "application/vnd.jupyter.widget-view+json": {
       "model_id": "",
       "version_major": 2,
       "version_minor": 0
      },
      "text/plain": [
       "Processing:   0%|          | 0/65 [00:00<?, ?it/s]"
      ]
     },
     "metadata": {},
     "output_type": "display_data"
    },
    {
     "data": {
      "application/vnd.jupyter.widget-view+json": {
       "model_id": "72d644a659104528ac64aaa812de2333",
       "version_major": 2,
       "version_minor": 0
      },
      "text/plain": [
       "interactive(children=(ToggleButtons(description='Plot Type:', icons=('',), options=(('Pipeline Plot', 'pipelin…"
      ]
     },
     "metadata": {},
     "output_type": "display_data"
    },
    {
     "data": {
      "image/png": "[encoded data removed]",
      "text/plain": [
       "<Figure size 1200x600 with 1 Axes>"
      ]
     },
     "metadata": {
      "needs_background": "light"
     },
     "output_type": "display_data"
    }
   ],
   "source": [
    "# pycaret model comparisons\n",
    "\n",
    "from pycaret.classification import *\n",
    "\n",
    "exp_name = setup(a1_master0.iloc[:idx_split2_9th]\n",
    "                 , target = 'ac1_pred'\n",
    "                )\n",
    "\n",
    "best_model = compare_models()\n",
    "\n",
    "evaluate_model(best_model)"
   ]
  },
  {
   "cell_type": "code",
   "execution_count": null,
   "id": "44bcbd1e",
   "metadata": {},
   "outputs": [],
   "source": []
  },
  {
   "cell_type": "code",
   "execution_count": 532,
   "id": "0cff8b05",
   "metadata": {},
   "outputs": [
    {
     "name": "stdout",
     "output_type": "stream",
     "text": [
      "Accuracy: 0.4734042553191489\n"
     ]
    }
   ],
   "source": [
    "from sklearn.linear_model import LogisticRegression\n",
    "from sklearn.model_selection import train_test_split\n",
    "from sklearn.metrics import accuracy_score\n",
    "\n",
    "# Split the data into training and test sets\n",
    "a1_X_train = a1_master0.iloc[:idx_split2_9th].drop('ac1_pred', axis=1)\n",
    "a1_y_train = a1_master0['ac1_pred'].iloc[:idx_split2_9th]\n",
    "a1_X_test = a1_master0.iloc[idx_split2_9th:idx_split3_9th].drop('ac1_pred', axis=1)\n",
    "a1_y_test = a1_master0['ac1_pred'].iloc[idx_split2_9th:idx_split3_9th]\n",
    "\n",
    "X_train = a1_X_train\n",
    "X_test = a1_X_test\n",
    "y_train = a1_y_train\n",
    "y_test = a1_y_test\n",
    "\n",
    "# Create a logistic regression classifier parameters\n",
    "# C\t1.0\n",
    "# class_weight\tNone\n",
    "# dual\tFalse\n",
    "# fit_intercept\tTrue\n",
    "# intercept_scaling\t1\n",
    "# l1_ratio\tNone\n",
    "# max_iter\t1000\n",
    "# multi_class\tauto\n",
    "# n_jobs\tNone\n",
    "# penalty\tl2\n",
    "# random_state\t1906\n",
    "# solver\tlbfgs\n",
    "# tol\t0.0001\n",
    "# verbose\t0\n",
    "# warm_start\tFalse\n",
    "\n",
    "clf = LogisticRegression(random_state=1906\n",
    "                         , C=1.0\n",
    "                         , class_weight=None\n",
    "                         , dual=False\n",
    "                         , fit_intercept=True\n",
    "                         , intercept_scaling=1\n",
    "                         , l1_ratio=None\n",
    "                         , max_iter=1000\n",
    "                         , multi_class='auto'\n",
    "                         , n_jobs=-1\n",
    "                         , penalty='l2'\n",
    "                         , solver='lbfgs'\n",
    "                         , tol=0.0001\n",
    "                         , verbose=0\n",
    "                         , warm_start=False\n",
    "                        )\n",
    "\n",
    "# Train the classifier on the training data\n",
    "clf.fit(X_train, y_train)\n",
    "\n",
    "# Make predictions on the test data\n",
    "y_pred = clf.predict(X_test)\n",
    "\n",
    "# Evaluate the accuracy of the classifier\n",
    "accuracy = accuracy_score(y_test, y_pred)\n",
    "print(\"Accuracy:\", accuracy)\n"
   ]
  },
  {
   "cell_type": "code",
   "execution_count": 533,
   "id": "23d352b8",
   "metadata": {},
   "outputs": [
    {
     "data": {
      "text/plain": [
       "array([ 1.64407887e-03, -5.57901344e-04,  2.97285347e-02,  9.64100177e-02,\n",
       "       -2.82653573e-05, -1.71333635e-05,  4.04960035e-04, -1.72524511e-05,\n",
       "        1.47011786e-03,  7.74234625e-03, -2.34261160e-06, -1.34663873e-04,\n",
       "        3.70756368e-03,  5.16204369e-03,  6.23755341e-03])"
      ]
     },
     "execution_count": 533,
     "metadata": {},
     "output_type": "execute_result"
    }
   ],
   "source": [
    "clf.coef_[0]"
   ]
  },
  {
   "cell_type": "code",
   "execution_count": 534,
   "id": "3a121971",
   "metadata": {},
   "outputs": [
    {
     "data": {
      "image/png": "[encoded data removed]",
      "text/plain": [
       "<Figure size 432x288 with 1 Axes>"
      ]
     },
     "metadata": {
      "needs_background": "light"
     },
     "output_type": "display_data"
    }
   ],
   "source": [
    "importance = clf.coef_[0]\n",
    "#importance is a list so you can plot it. \n",
    "feat_importances = pd.Series(importance)\n",
    "feat_importances.nlargest(15).plot(kind='barh',title = 'Feature Importance');"
   ]
  },
  {
   "cell_type": "code",
   "execution_count": 535,
   "id": "b29983be",
   "metadata": {},
   "outputs": [
    {
     "data": {
      "text/plain": [
       "1.0"
      ]
     },
     "execution_count": 535,
     "metadata": {},
     "output_type": "execute_result"
    }
   ],
   "source": [
    "clf.predict(a1_X_pred.to_numpy().reshape(1,-1))[0]"
   ]
  },
  {
   "cell_type": "code",
   "execution_count": 536,
   "id": "5c33070c",
   "metadata": {},
   "outputs": [
    {
     "data": {
      "text/plain": [
       "[0.0004925602118264555, 0.5779478695813929, 0.42155957020678064]"
      ]
     },
     "execution_count": 536,
     "metadata": {},
     "output_type": "execute_result"
    }
   ],
   "source": [
    "list(clf.predict_proba(a1_X_pred.to_numpy().reshape(1,-1))[0])"
   ]
  },
  {
   "cell_type": "code",
   "execution_count": null,
   "id": "2953460a",
   "metadata": {},
   "outputs": [],
   "source": []
  },
  {
   "cell_type": "code",
   "execution_count": null,
   "id": "e7af21ca",
   "metadata": {},
   "outputs": [],
   "source": []
  },
  {
   "cell_type": "code",
   "execution_count": null,
   "id": "a91c15e2",
   "metadata": {},
   "outputs": [],
   "source": []
  },
  {
   "cell_type": "code",
   "execution_count": null,
   "id": "95af4c7a",
   "metadata": {},
   "outputs": [],
   "source": []
  },
  {
   "cell_type": "code",
   "execution_count": null,
   "id": "76e0f49b",
   "metadata": {},
   "outputs": [],
   "source": []
  },
  {
   "cell_type": "code",
   "execution_count": 537,
   "id": "e7c756b8",
   "metadata": {},
   "outputs": [
    {
     "ename": "ImportError",
     "evalue": "cannot import name 'plot_confusion_matrix' from 'sklearn.metrics' (/home/oem/.local/lib/python3.8/site-packages/sklearn/metrics/__init__.py)",
     "output_type": "error",
     "traceback": [
      "\u001b[0;31m---------------------------------------------------------------------------\u001b[0m",
      "\u001b[0;31mImportError\u001b[0m                               Traceback (most recent call last)",
      "\u001b[0;32m<ipython-input-537-858881f93b06>\u001b[0m in \u001b[0;36m<module>\u001b[0;34m\u001b[0m\n\u001b[1;32m      1\u001b[0m \u001b[0;31m# random forest classifier\u001b[0m\u001b[0;34m\u001b[0m\u001b[0;34m\u001b[0m\u001b[0;34m\u001b[0m\u001b[0m\n\u001b[1;32m      2\u001b[0m \u001b[0;34m\u001b[0m\u001b[0m\n\u001b[0;32m----> 3\u001b[0;31m from sklearn.metrics import (roc_auc_score\n\u001b[0m\u001b[1;32m      4\u001b[0m                              \u001b[0;34m,\u001b[0m \u001b[0mprecision_score\u001b[0m\u001b[0;34m\u001b[0m\u001b[0;34m\u001b[0m\u001b[0m\n\u001b[1;32m      5\u001b[0m                              \u001b[0;34m,\u001b[0m \u001b[0mrecall_score\u001b[0m\u001b[0;34m\u001b[0m\u001b[0;34m\u001b[0m\u001b[0m\n",
      "\u001b[0;31mImportError\u001b[0m: cannot import name 'plot_confusion_matrix' from 'sklearn.metrics' (/home/oem/.local/lib/python3.8/site-packages/sklearn/metrics/__init__.py)"
     ]
    }
   ],
   "source": [
    "# random forest classifier\n",
    " \n",
    "from sklearn.metrics import (roc_auc_score\n",
    "                             , precision_score\n",
    "                             , recall_score\n",
    "                             , roc_curve\n",
    "                             , confusion_matrix\n",
    "                             , plot_confusion_matrix\n",
    "                             , precision_recall_curve\n",
    "                             , auc\n",
    "                            )\n",
    "\n",
    "from sklearn.ensemble import RandomForestClassifier as rfc\n",
    "from sklearn.model_selection import GridSearchCV\n",
    "import joblib\n",
    "\n",
    "rfc_model = rfc(random_state = 42\n",
    "                , n_jobs = -1\n",
    "               )\n",
    "\n",
    "rfc_model.fit(a1_X_train, a1_y_train)\n",
    "\n",
    "y_pred = rfc_model.predict(a1_X_test)\n",
    "\n",
    "acc = accuracy_score(a1_y_test, y_pred)\n",
    "\n",
    "print(f'Accuaracy: {acc}')"
   ]
  },
  {
   "cell_type": "code",
   "execution_count": null,
   "id": "13b7e3ef",
   "metadata": {},
   "outputs": [],
   "source": [
    "rfc_model.feature_importances_"
   ]
  },
  {
   "cell_type": "code",
   "execution_count": null,
   "id": "d36f0f84",
   "metadata": {},
   "outputs": [],
   "source": []
  },
  {
   "cell_type": "code",
   "execution_count": null,
   "id": "5295b343",
   "metadata": {},
   "outputs": [],
   "source": []
  },
  {
   "cell_type": "code",
   "execution_count": null,
   "id": "51a0dd09",
   "metadata": {},
   "outputs": [],
   "source": []
  },
  {
   "cell_type": "code",
   "execution_count": null,
   "id": "749dcc46",
   "metadata": {},
   "outputs": [],
   "source": []
  },
  {
   "cell_type": "code",
   "execution_count": null,
   "id": "513fb222",
   "metadata": {},
   "outputs": [],
   "source": []
  },
  {
   "cell_type": "code",
   "execution_count": null,
   "id": "c962d9c2",
   "metadata": {},
   "outputs": [],
   "source": []
  },
  {
   "cell_type": "code",
   "execution_count": null,
   "id": "820bd238",
   "metadata": {},
   "outputs": [],
   "source": [
    "# add predictions to X_train\n",
    "\n",
    "# idx_split2_9th = int(a.shape[0] * 2.0 / 9)\n",
    "# idx_split3_9th = int(a.shape[0] * 1.0 / 3)\n",
    "# idx_split5_9th = int(a.shape[0] * 5.0 / 9)\n",
    "# idx_split6_9th = int(a.shape[0] * 2.0 / 3)\n",
    "# idx_split8_9th = int(a.shape[0] * 8.0 / 9)\n",
    "\n",
    "\n",
    "\n",
    "\n",
    "a1_master1 = a1_master0[a1_col_list].iloc[idx_split3_9th:idx_split6_9th].copy()\n",
    "a1_master1['pred0'] = xgb_model0.predict(a1_master1[a1_X_train.columns])\n",
    "\n",
    "idx_2_3 = int(a1_master1.shape[0] * 2 / 3)\n",
    "\n",
    "a1_X_train = a1_master1.iloc[:idx_2_3].drop('ac1_pred', axis=1)\n",
    "a1_y_train = a1_master1['ac1_pred'].iloc[:idx_2_3]\n",
    "a1_X_test = a1_master1.iloc[idx_2_3:].drop('ac1_pred', axis=1)\n",
    "a1_y_test = a1_master1['ac1_pred'].iloc[idx_2_3:]"
   ]
  },
  {
   "cell_type": "code",
   "execution_count": null,
   "id": "62c28085",
   "metadata": {},
   "outputs": [],
   "source": [
    "# sanity check first partition for training\n",
    "print(a1_master1.shape)\n",
    "print(a1_X_train.shape)\n",
    "print(a1_y_train.shape)\n",
    "print(a1_X_test.shape)\n",
    "print(a1_y_test.shape)"
   ]
  },
  {
   "cell_type": "code",
   "execution_count": null,
   "id": "0832867a",
   "metadata": {},
   "outputs": [],
   "source": [
    "# modeling partition 2nd 1/3\n",
    "\n",
    "xgb_model1 = xgb.XGBClassifier(objective='multi:softmax'\n",
    "                              , num_class=3\n",
    "                              , random_state=42\n",
    "                              , max_depth=7\n",
    "                              , n_estimators=55\n",
    "                              , learning_rate=0.01\n",
    "                              , min_child_weight=3\n",
    "                             )\n",
    "\n",
    "xgb_model1.fit(a1_X_train, a1_y_train)\n",
    "\n",
    "y_pred = xgb_model1.predict(a1_X_test)\n",
    "\n",
    "# y_pred_prob = xgb_model0.predict_proba(a1_X_test)[:, 1]\n",
    "\n",
    "acc = accuracy_score(a1_y_test, y_pred)\n",
    "\n",
    "print(f'Accuracy: {acc}')"
   ]
  },
  {
   "cell_type": "code",
   "execution_count": null,
   "id": "8ded8c1d",
   "metadata": {},
   "outputs": [],
   "source": [
    "xgb_model1.feature_importances_"
   ]
  },
  {
   "cell_type": "code",
   "execution_count": null,
   "id": "3bd6c910",
   "metadata": {},
   "outputs": [],
   "source": [
    "# 4/16/2023 --to do: need to put back last row to fill pred0 column"
   ]
  },
  {
   "cell_type": "code",
   "execution_count": null,
   "id": "688900ef",
   "metadata": {},
   "outputs": [],
   "source": []
  },
  {
   "cell_type": "code",
   "execution_count": null,
   "id": "09877600",
   "metadata": {},
   "outputs": [],
   "source": []
  },
  {
   "cell_type": "code",
   "execution_count": null,
   "id": "eb4f3179",
   "metadata": {},
   "outputs": [],
   "source": []
  },
  {
   "cell_type": "code",
   "execution_count": null,
   "id": "52e87cbc",
   "metadata": {},
   "outputs": [],
   "source": [
    "a1_master1.tail(10)"
   ]
  },
  {
   "cell_type": "code",
   "execution_count": null,
   "id": "fb16a7ad",
   "metadata": {},
   "outputs": [],
   "source": [
    "a1_master1.shape"
   ]
  },
  {
   "cell_type": "code",
   "execution_count": null,
   "id": "52ebc44d",
   "metadata": {},
   "outputs": [],
   "source": [
    "len(a1_X_train.columns)"
   ]
  },
  {
   "cell_type": "code",
   "execution_count": null,
   "id": "fb873021",
   "metadata": {},
   "outputs": [],
   "source": [
    "a1_X_columns = list(a1_X_train.columns)\n",
    "a1_X_columns.append('pred0')\n",
    "a1_X_columns"
   ]
  },
  {
   "cell_type": "code",
   "execution_count": null,
   "id": "dead8aed",
   "metadata": {},
   "outputs": [],
   "source": [
    "a1_X_pred1 = a1_master1[a1_X_columns].iloc[-1].copy()\n",
    "a1_X_pred1"
   ]
  },
  {
   "cell_type": "code",
   "execution_count": null,
   "id": "931c1b88",
   "metadata": {},
   "outputs": [],
   "source": [
    "a1_master1_scrambled = a1_master1.iloc[:-1].copy()\n",
    "a1_master1_scrambled.tail(10)"
   ]
  },
  {
   "cell_type": "code",
   "execution_count": null,
   "id": "1b3f4006",
   "metadata": {},
   "outputs": [],
   "source": [
    "a1_master1_scrambled = a1_master1_scrambled.sample(frac=1)\n",
    "a1_master1_scrambled = a1_master1_scrambled.sample(frac=1)\n",
    "\n",
    "a1_master1_scrambled.tail(10)"
   ]
  },
  {
   "cell_type": "code",
   "execution_count": null,
   "id": "557cd1a4",
   "metadata": {},
   "outputs": [],
   "source": [
    "a1_idx_tt_split = int(a1_master1_scrambled.shape[0] * 0.9)\n",
    "a1_idx_tt_split"
   ]
  },
  {
   "cell_type": "code",
   "execution_count": null,
   "id": "5bf3f6a4",
   "metadata": {},
   "outputs": [],
   "source": [
    "a1_X_train = a1_master1_scrambled[a1_X_columns].iloc[:a1_idx_tt_split]\n",
    "a1_y_train = a1_master1_scrambled['ac1_pred'].iloc[:a1_idx_tt_split]\n",
    "\n",
    "a1_X_test = a1_master1_scrambled[a1_X_columns].iloc[a1_idx_tt_split:]\n",
    "a1_y_test = a1_master1_scrambled['ac1_pred'].iloc[a1_idx_tt_split:]\n",
    "\n",
    "print(f'a1_master1 shape: {a1_master1.shape}')\n",
    "print(f'X_train shape: {a1_X_train.shape}')\n",
    "print(f'y_train shape: {a1_y_train.shape}')\n",
    "print(f'X_test shape: {a1_X_test.shape}')\n",
    "print(f'y_test shape: {a1_y_test.shape}')\n",
    "print(f'a1_X_pred1 shape: {a1_X_pred1.shape}')"
   ]
  },
  {
   "cell_type": "code",
   "execution_count": null,
   "id": "62b30a26",
   "metadata": {},
   "outputs": [],
   "source": [
    "# 2nd modeling\n",
    "\n",
    "xgb_model1 = xgb.XGBClassifier(objective='binary:logistic'\n",
    "                              # , num_class=2\n",
    "                              , random_state=42\n",
    "                              # , max_depth=7\n",
    "                              # , n_estimators=89\n",
    "                              # , learning_rate=0.05\n",
    "                              # , min_child_weight=4\n",
    "                             )\n",
    "\n",
    "xgb_model1.fit(a1_X_train, a1_y_train)\n",
    "\n",
    "y_pred = xgb_model1.predict(a1_X_test)\n",
    "\n",
    "y_pred_prob = xgb_model1.predict_proba(a1_X_test)[:, 1]\n",
    "\n",
    "acc = accuracy_score(a1_y_test, y_pred)\n",
    "\n",
    "print(f'Accuracy: {acc}')"
   ]
  },
  {
   "cell_type": "code",
   "execution_count": null,
   "id": "c9f67d29",
   "metadata": {},
   "outputs": [],
   "source": [
    "xgb_model1.feature_importances_"
   ]
  },
  {
   "cell_type": "code",
   "execution_count": null,
   "id": "85f52d72",
   "metadata": {},
   "outputs": [],
   "source": [
    "a1_X_columns"
   ]
  },
  {
   "cell_type": "code",
   "execution_count": null,
   "id": "78fa5da8",
   "metadata": {},
   "outputs": [],
   "source": []
  },
  {
   "cell_type": "code",
   "execution_count": null,
   "id": "3973b5fc",
   "metadata": {},
   "outputs": [],
   "source": []
  },
  {
   "cell_type": "code",
   "execution_count": null,
   "id": "8e3f82da",
   "metadata": {},
   "outputs": [],
   "source": []
  }
 ],
 "metadata": {
  "kernelspec": {
   "display_name": "Python 3",
   "language": "python",
   "name": "python3"
  },
  "language_info": {
   "codemirror_mode": {
    "name": "ipython",
    "version": 3
   },
   "file_extension": ".py",
   "mimetype": "text/x-python",
   "name": "python",
   "nbconvert_exporter": "python",
   "pygments_lexer": "ipython3",
   "version": "3.8.10"
  }
 },
 "nbformat": 4,
 "nbformat_minor": 5
}
