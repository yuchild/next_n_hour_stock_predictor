{
 "cells": [
  {
   "cell_type": "code",
   "execution_count": 1,
   "id": "0313c7c0",
   "metadata": {},
   "outputs": [
    {
     "name": "stderr",
     "output_type": "stream",
     "text": [
      "/home/oem/.local/lib/python3.8/site-packages/scipy/__init__.py:138: UserWarning: A NumPy version >=1.16.5 and <1.23.0 is required for this version of SciPy (detected version 1.24.3)\n",
      "  warnings.warn(f\"A NumPy version >={np_minversion} and <{np_maxversion} is required for this version of \"\n"
     ]
    }
   ],
   "source": [
    "import yfinance as yf\n",
    "import pandas as pd\n",
    "import numpy as np\n",
    "from numpy import where\n",
    "import xgboost as xgb\n",
    "from sklearn.model_selection import GridSearchCV, StratifiedKFold\n",
    "from sklearn.metrics import accuracy_score"
   ]
  },
  {
   "cell_type": "code",
   "execution_count": 2,
   "id": "d3ce70be",
   "metadata": {},
   "outputs": [],
   "source": [
    "# aapl_day = yf.download(\"AAPL\", start=\"1980-12-08\", end=None)\n",
    "# aapl_day.to_pickle('./data/aapl_day.pkl')\n",
    "# amd_day = yf.download(\"AMD\", start=\"1980-03-17\", end=None)\n",
    "# amd_day.to_pickle('./data/amd_day.pkl')"
   ]
  },
  {
   "cell_type": "code",
   "execution_count": 3,
   "id": "296c2826",
   "metadata": {},
   "outputs": [],
   "source": [
    "# aapl_hour = yf.download(tickers=\"AAPL\",\n",
    "#                        period=\"2y\",\n",
    "#                        interval=\"1h\"\n",
    "#                       )\n",
    "# aapl_hour.to_pickle('./data/aapl_hr.pkl')"
   ]
  },
  {
   "cell_type": "code",
   "execution_count": 4,
   "id": "dcc7f7dc",
   "metadata": {},
   "outputs": [],
   "source": [
    "def compute_up_down(begin, end):\n",
    "    if abs((end - begin) / begin) <= 275:\n",
    "        return 0\n",
    "    elif ((end - begin) / begin) > 275:\n",
    "        return 1\n",
    "    else:\n",
    "        return 2\n",
    "    \n",
    "def compute_volume_per_dollar(vol, begin, end):\n",
    "    if begin - end == 0:\n",
    "        return vol\n",
    "    else:\n",
    "        return vol / abs(begin - end)\n",
    "    \n",
    "def compute_pct_change(num1, num2, dem):\n",
    "    if dem == 0:\n",
    "        return 0\n",
    "    else:\n",
    "        return (num2 - num1) / dem\n",
    "\n",
    "def week_of_month(dt):\n",
    "    from math import ceil\n",
    "    \"\"\"\n",
    "    returns week of the month for the specified date.\n",
    "    \"\"\"\n",
    "    first_day = dt.replace(day=1)\n",
    "    dom = dt.day\n",
    "    adjusted_dom = dom + first_day.weekday()\n",
    "    return int(ceil(adjusted_dom/7.0))"
   ]
  },
  {
   "cell_type": "code",
   "execution_count": 5,
   "id": "0b5acd32",
   "metadata": {},
   "outputs": [],
   "source": [
    "a = pd.read_pickle('./data/amd_day.pkl')\n",
    "a = a.rename(columns={'Adj Close': 'ac'\n",
    "                      , 'Open': 'o'\n",
    "                      , 'Close': 'c'\n",
    "                      , 'High': 'h'\n",
    "                      , 'Low': 'l'\n",
    "                      , 'Volume': 'v'\n",
    "                     })"
   ]
  },
  {
   "cell_type": "code",
   "execution_count": 6,
   "id": "e6d9360d",
   "metadata": {
    "scrolled": false
   },
   "outputs": [
    {
     "name": "stderr",
     "output_type": "stream",
     "text": [
      "<ipython-input-4-045eed3b9c19>:2: RuntimeWarning: divide by zero encountered in scalar divide\n",
      "  if abs((end - begin) / begin) <= 275:\n",
      "<ipython-input-4-045eed3b9c19>:4: RuntimeWarning: divide by zero encountered in scalar divide\n",
      "  elif ((end - begin) / begin) > 275:\n"
     ]
    }
   ],
   "source": [
    "a['dow'] = a.index.weekday\n",
    "a['wom'] = a.index.to_series().apply(week_of_month)\n",
    "a['mon'] = a.index.month\n",
    "\n",
    "a['v_mu_rol3'] = a['v'].rolling(window=3).mean()\n",
    "a['v_mu_rol5'] = a['v'].rolling(window=5).mean()\n",
    "a['v_mu_rol8'] = a['v'].rolling(window=8).mean()\n",
    "a['v_mu_rol13'] = a['v'].rolling(window=13).mean()\n",
    "a['v_mu_rol21'] = a['v'].rolling(window=21).mean()\n",
    "\n",
    "a['v_std_rol3'] = a['v'].rolling(window=3).std()\n",
    "a['v_std_rol5'] = a['v'].rolling(window=5).std()\n",
    "a['v_std_rol8'] = a['v'].rolling(window=8).std()\n",
    "a['v_std_rol13'] = a['v'].rolling(window=13).std()\n",
    "a['v_std_rol21'] = a['v'].rolling(window=21).std()\n",
    "\n",
    "a['vpd_hlc'] = a.apply(lambda row: compute_volume_per_dollar(row['v'], row['h'], row['l']), axis=1)  # volume per dollar high low change\n",
    "a['vpd_opac'] = a.apply(lambda row: compute_volume_per_dollar(row['v'], row['o'], row['c']), axis=1)  # volume per dollar open close absolute change\n",
    "\n",
    "a['ac1'] = a['ac'].pct_change(1)\n",
    "a['ac3'] = a['ac'].pct_change(3)\n",
    "a['ac5'] = a['ac'].pct_change(5)\n",
    "a['ac8'] = a['ac'].pct_change(8)\n",
    "a['ac13'] = a['ac'].pct_change(13)\n",
    "a['ac21'] = a['ac'].pct_change(21)\n",
    "\n",
    "a['mu_rol3'] = a['ac1'].rolling(window=3).mean()\n",
    "a['mu_rol5'] = a['ac1'].rolling(window=5).mean()\n",
    "a['mu_rol8'] = a['ac1'].rolling(window=8).mean()\n",
    "a['mu_rol13'] = a['ac1'].rolling(window=13).mean()\n",
    "a['mu_rol21'] = a['ac1'].rolling(window=21).mean()\n",
    "\n",
    "a['std_rol3'] = a['ac1'].rolling(window=3).std()\n",
    "a['std_rol5'] = a['ac1'].rolling(window=5).std()\n",
    "a['std_rol8'] = a['ac1'].rolling(window=8).std()\n",
    "a['std_rol13'] = a['ac1'].rolling(window=13).std()\n",
    "a['std_rol21'] = a['ac1'].rolling(window=21).std()\n",
    "\n",
    "a['hl_pct'] = a.apply(lambda row: compute_pct_change(row['l'], row['h'], row['o']), axis=1)\n",
    "a['oc_pct'] = a.apply(lambda row: compute_pct_change(row['o'], row['c'], row['o']), axis=1)\n",
    "\n",
    "a.dropna(axis=0, inplace=True)\n",
    "\n",
    "a['ac'] = where(a['ac'] == 0.0, a['c'], a['ac'])\n",
    "a['ac1'] = where(a['ac1'] == 0.0, a['c'], a['ac1'])\n",
    "a['ac3'] = where(a['ac3'] == 0.0, a['c'], a['ac3'])\n",
    "a['ac5'] = where(a['ac5'] == 0.0, a['c'], a['ac5'])\n",
    "a['ac3'] = where(a['ac8'] == 0.0, a['c'], a['ac8'])\n",
    "a['ac13'] = where(a['ac13'] == 0.0, a['c'], a['ac13'])\n",
    "a['ac21'] = where(a['ac21'] == 0.0, a['c'], a['ac21'])\n",
    "\n",
    "a['v_z_rol3'] = (a['v'] - a['v_mu_rol3']) / a['v_std_rol3']\n",
    "a['v_z_rol5'] = (a['v'] - a['v_mu_rol5']) / a['v_std_rol5']\n",
    "a['v_z_rol8'] = (a['v'] - a['v_mu_rol8']) / a['v_std_rol8']\n",
    "a['v_z_rol13'] = (a['v'] - a['v_mu_rol13']) / a['v_std_rol13']\n",
    "a['v_z_rol21'] = (a['v'] - a['v_mu_rol21']) / a['v_std_rol21']\n",
    "\n",
    "a['ac_z_rol3'] = (a['ac'] - a['mu_rol3']) / a['std_rol3']\n",
    "a['ac_z_rol5'] = (a['ac'] - a['mu_rol5']) / a['std_rol5']\n",
    "a['ac_z_rol8'] = (a['ac'] - a['mu_rol8']) / a['std_rol8']\n",
    "a['ac_z_rol13'] = (a['ac'] - a['mu_rol13']) / a['std_rol13']\n",
    "a['ac_z_rol21'] = (a['ac'] - a['mu_rol21']) / a['std_rol21']\n",
    "\n",
    "a['ac1_up_dwn'] = a.apply(lambda row: compute_up_down(row['ac1'], row['ac']), axis=1)\n",
    "a['ac3_up_dwn'] = a.apply(lambda row: compute_up_down(row['ac3'], row['ac']), axis=1)\n",
    "a['ac5_up_dwn'] = a.apply(lambda row: compute_up_down(row['ac5'], row['ac']), axis=1)\n",
    "a['ac8_up_dwn'] = a.apply(lambda row: compute_up_down(row['ac8'], row['ac']), axis=1)\n",
    "a['ac13_up_dwn'] = a.apply(lambda row: compute_up_down(row['ac13'], row['ac']), axis=1)\n",
    "a['ac21_up_dwn'] = a.apply(lambda row: compute_up_down(row['ac21'], row['ac']), axis=1)\n",
    "\n",
    "a['ac1_avg5'] = a['ac1_up_dwn'].rolling(window=5).mean()\n",
    "a['ac1_avg13'] = a['ac1_up_dwn'].rolling(window=13).mean()\n",
    "a['ac1_avg21'] = a['ac1_up_dwn'].rolling(window=21).mean()\n",
    "\n",
    "a.dropna(axis=0, inplace=True)\n",
    "\n",
    "a['ac1_pred'] = a['ac1_up_dwn'].shift(-1)\n",
    "a['ac3_pred'] = a['ac3_up_dwn'].shift(-3)\n",
    "a['ac5_pred'] = a['ac5_up_dwn'].shift(-5)\n",
    "a['ac8_pred'] = a['ac8_up_dwn'].shift(-8)\n",
    "a['ac13_pred'] = a['ac13_up_dwn'].shift(-13)\n",
    "a['ac21_pred'] = a['ac21_up_dwn'].shift(-21)\n",
    "\n",
    "a = a[~a.isin([np.inf, -np.inf]).any(axis=1)]"
   ]
  },
  {
   "cell_type": "code",
   "execution_count": 7,
   "id": "ca98d18f",
   "metadata": {
    "scrolled": true
   },
   "outputs": [
    {
     "data": {
      "text/plain": [
       "0.0    3693\n",
       "2.0    3623\n",
       "1.0    3509\n",
       "Name: ac1_pred, dtype: int64"
      ]
     },
     "execution_count": 7,
     "metadata": {},
     "output_type": "execute_result"
    }
   ],
   "source": [
    "a['ac1_pred'].value_counts()"
   ]
  },
  {
   "cell_type": "code",
   "execution_count": 8,
   "id": "74ada219",
   "metadata": {},
   "outputs": [],
   "source": [
    "# Upsampling...\n",
    "\n",
    "# a0s = a[a['ac1_pred'] == 0.0]\n",
    "\n",
    "# for _ in range(7):\n",
    "#     a = pd.concat([a, a0s], axis=0)\n",
    "\n",
    "# a['ac1_pred'].value_counts()"
   ]
  },
  {
   "cell_type": "code",
   "execution_count": 9,
   "id": "775f683c",
   "metadata": {},
   "outputs": [
    {
     "data": {
      "text/plain": [
       "Index(['o', 'h', 'l', 'c', 'ac', 'v', 'dow', 'wom', 'mon', 'v_mu_rol3',\n",
       "       'v_mu_rol5', 'v_mu_rol8', 'v_mu_rol13', 'v_mu_rol21', 'v_std_rol3',\n",
       "       'v_std_rol5', 'v_std_rol8', 'v_std_rol13', 'v_std_rol21', 'vpd_hlc',\n",
       "       'vpd_opac', 'ac1', 'ac3', 'ac5', 'ac8', 'ac13', 'ac21', 'mu_rol3',\n",
       "       'mu_rol5', 'mu_rol8', 'mu_rol13', 'mu_rol21', 'std_rol3', 'std_rol5',\n",
       "       'std_rol8', 'std_rol13', 'std_rol21', 'hl_pct', 'oc_pct', 'v_z_rol3',\n",
       "       'v_z_rol5', 'v_z_rol8', 'v_z_rol13', 'v_z_rol21', 'ac_z_rol3',\n",
       "       'ac_z_rol5', 'ac_z_rol8', 'ac_z_rol13', 'ac_z_rol21', 'ac1_up_dwn',\n",
       "       'ac3_up_dwn', 'ac5_up_dwn', 'ac8_up_dwn', 'ac13_up_dwn', 'ac21_up_dwn',\n",
       "       'ac1_avg5', 'ac1_avg13', 'ac1_avg21', 'ac1_pred', 'ac3_pred',\n",
       "       'ac5_pred', 'ac8_pred', 'ac13_pred', 'ac21_pred'],\n",
       "      dtype='object')"
      ]
     },
     "execution_count": 9,
     "metadata": {},
     "output_type": "execute_result"
    }
   ],
   "source": [
    "a.columns"
   ]
  },
  {
   "cell_type": "code",
   "execution_count": 10,
   "id": "f24f7458",
   "metadata": {},
   "outputs": [],
   "source": [
    "a1_col_list = ['o'\n",
    "               # , 'h'\n",
    "               # , 'l'\n",
    "               # , 'c'\n",
    "               , 'ac'\n",
    "               # , 'v'\n",
    "               , 'dow'\n",
    "               # , 'wom'\n",
    "               , 'mon'\n",
    "               # , 'v_mu_rol3'\n",
    "               # , 'v_mu_rol5'\n",
    "               # , 'v_mu_rol8'\n",
    "               # , 'v_mu_rol13'\n",
    "               # , 'v_mu_rol21'\n",
    "               # , 'v_std_rol3'\n",
    "               # , 'v_std_rol5'\n",
    "               # , 'v_std_rol8'\n",
    "               # , 'v_std_rol13'\n",
    "               # , 'v_std_rol21'\n",
    "               # , 'vpd_hlc'\n",
    "               # , 'vpd_opac'\n",
    "               # , 'ac1'\n",
    "               # , 'ac3'\n",
    "               # , 'ac5'\n",
    "               # , 'ac8'\n",
    "               # , 'ac13'\n",
    "               # , 'ac21'\n",
    "               , 'mu_rol3'\n",
    "               # , 'mu_rol5'\n",
    "               # , 'mu_rol8'\n",
    "               # , 'mu_rol13'\n",
    "               , 'mu_rol21'\n",
    "               # , 'std_rol3'\n",
    "               # , 'std_rol5'\n",
    "               # , 'std_rol8'\n",
    "               # , 'std_rol13'\n",
    "               # , 'std_rol21'\n",
    "               , 'hl_pct'\n",
    "               , 'oc_pct'\n",
    "               , 'v_z_rol3'\n",
    "               # , 'v_z_rol5'\n",
    "               # , 'v_z_rol8'\n",
    "               # , 'v_z_rol13'\n",
    "               , 'v_z_rol21'\n",
    "               , 'ac_z_rol3'\n",
    "               # , 'ac_z_rol5'\n",
    "               # , 'ac_z_rol8'\n",
    "               # , 'ac_z_rol13'\n",
    "               , 'ac_z_rol21'\n",
    "               , 'ac1_up_dwn'\n",
    "               # , 'ac3_up_dwn'\n",
    "               # , 'ac5_up_dwn'\n",
    "               # , 'ac8_up_dwn'\n",
    "               # , 'ac13_up_dwn'\n",
    "               # , 'ac21_up_dwn'\n",
    "               , 'ac1_avg5'\n",
    "               # , 'ac1_avg13'\n",
    "               , 'ac1_avg21'\n",
    "               , 'ac1_pred'\n",
    "               ,\n",
    "              ]\n",
    "\n",
    "a1_master0 = a[a1_col_list].copy()\n",
    "\n",
    "a1_X_pred = a1_master0[a1_col_list[:-1]].iloc[-1].copy()\n",
    "\n",
    "a1_master0.drop(a1_master0.index[-1], axis=0, inplace=True)\n",
    "\n",
    "a1_master0 = a1_master0.sample(frac=1, random_state=21)\n",
    "a1_master0 = a1_master0.sample(frac=1, random_state=42)\n",
    "\n",
    "idx_split2_9th = int(a.shape[0] * 2.0 / 9)\n",
    "idx_split3_9th = int(a.shape[0] * 1.0 / 3)\n",
    "idx_split5_9th = int(a.shape[0] * 5.0 / 9)\n",
    "idx_split6_9th = int(a.shape[0] * 2.0 / 3)\n",
    "idx_split8_9th = int(a.shape[0] * 8.0 / 9)\n",
    "\n",
    "a1_X_train = a1_master0.iloc[:idx_split2_9th].drop('ac1_pred', axis=1)\n",
    "a1_y_train = a1_master0['ac1_pred'].iloc[:idx_split2_9th]\n",
    "a1_X_test = a1_master0.iloc[idx_split2_9th:idx_split3_9th].drop('ac1_pred', axis=1)\n",
    "a1_y_test = a1_master0['ac1_pred'].iloc[idx_split2_9th:idx_split3_9th]"
   ]
  },
  {
   "cell_type": "code",
   "execution_count": null,
   "id": "6f61e8ec",
   "metadata": {},
   "outputs": [],
   "source": []
  },
  {
   "cell_type": "code",
   "execution_count": null,
   "id": "bf0f8e14",
   "metadata": {},
   "outputs": [],
   "source": []
  },
  {
   "cell_type": "code",
   "execution_count": 11,
   "id": "a5b10fa0",
   "metadata": {},
   "outputs": [
    {
     "name": "stdout",
     "output_type": "stream",
     "text": [
      "(10825, 16)\n",
      "(2405, 15)\n",
      "(2405,)\n",
      "(1203, 15)\n",
      "(1203,)\n"
     ]
    }
   ],
   "source": [
    "# sanity check first partition for training\n",
    "print(a1_master0.shape)\n",
    "print(a1_X_train.shape)\n",
    "print(a1_y_train.shape)\n",
    "print(a1_X_test.shape)\n",
    "print(a1_y_test.shape)"
   ]
  },
  {
   "cell_type": "code",
   "execution_count": 12,
   "id": "e83b9a33",
   "metadata": {
    "scrolled": true
   },
   "outputs": [
    {
     "data": {
      "text/plain": [
       "o             0\n",
       "ac            0\n",
       "dow           0\n",
       "mon           0\n",
       "mu_rol3       0\n",
       "mu_rol21      0\n",
       "hl_pct        0\n",
       "oc_pct        0\n",
       "v_z_rol3      0\n",
       "v_z_rol21     0\n",
       "ac_z_rol3     0\n",
       "ac_z_rol21    0\n",
       "ac1_up_dwn    0\n",
       "ac1_avg5      0\n",
       "ac1_avg21     0\n",
       "dtype: int64"
      ]
     },
     "execution_count": 12,
     "metadata": {},
     "output_type": "execute_result"
    }
   ],
   "source": [
    "# check for infinities\n",
    "a1_X_train.isin([np.inf, -np.inf]).sum()"
   ]
  },
  {
   "cell_type": "code",
   "execution_count": 13,
   "id": "23cde2be",
   "metadata": {},
   "outputs": [
    {
     "data": {
      "text/html": [
       "<div>\n",
       "<style scoped>\n",
       "    .dataframe tbody tr th:only-of-type {\n",
       "        vertical-align: middle;\n",
       "    }\n",
       "\n",
       "    .dataframe tbody tr th {\n",
       "        vertical-align: top;\n",
       "    }\n",
       "\n",
       "    .dataframe thead th {\n",
       "        text-align: right;\n",
       "    }\n",
       "</style>\n",
       "<table border=\"1\" class=\"dataframe\">\n",
       "  <thead>\n",
       "    <tr style=\"text-align: right;\">\n",
       "      <th></th>\n",
       "      <th>o</th>\n",
       "      <th>ac</th>\n",
       "      <th>dow</th>\n",
       "      <th>mon</th>\n",
       "      <th>mu_rol3</th>\n",
       "      <th>mu_rol21</th>\n",
       "      <th>hl_pct</th>\n",
       "      <th>oc_pct</th>\n",
       "      <th>v_z_rol3</th>\n",
       "      <th>v_z_rol21</th>\n",
       "      <th>ac_z_rol3</th>\n",
       "      <th>ac_z_rol21</th>\n",
       "      <th>ac1_up_dwn</th>\n",
       "      <th>ac1_avg5</th>\n",
       "      <th>ac1_avg21</th>\n",
       "    </tr>\n",
       "    <tr>\n",
       "      <th>Date</th>\n",
       "      <th></th>\n",
       "      <th></th>\n",
       "      <th></th>\n",
       "      <th></th>\n",
       "      <th></th>\n",
       "      <th></th>\n",
       "      <th></th>\n",
       "      <th></th>\n",
       "      <th></th>\n",
       "      <th></th>\n",
       "      <th></th>\n",
       "      <th></th>\n",
       "      <th></th>\n",
       "      <th></th>\n",
       "      <th></th>\n",
       "    </tr>\n",
       "  </thead>\n",
       "  <tbody>\n",
       "  </tbody>\n",
       "</table>\n",
       "</div>"
      ],
      "text/plain": [
       "Empty DataFrame\n",
       "Columns: [o, ac, dow, mon, mu_rol3, mu_rol21, hl_pct, oc_pct, v_z_rol3, v_z_rol21, ac_z_rol3, ac_z_rol21, ac1_up_dwn, ac1_avg5, ac1_avg21]\n",
       "Index: []"
      ]
     },
     "execution_count": 13,
     "metadata": {},
     "output_type": "execute_result"
    }
   ],
   "source": [
    "mask = np.isinf(a1_X_train)\n",
    "\n",
    "result = a1_X_train[mask.any(axis=1)]\n",
    "\n",
    "result"
   ]
  },
  {
   "cell_type": "code",
   "execution_count": 20,
   "id": "2234daf8",
   "metadata": {},
   "outputs": [
    {
     "name": "stdout",
     "output_type": "stream",
     "text": [
      "Accuracy: 0.516209476309227\n"
     ]
    }
   ],
   "source": [
    "# modeling partition first 1/3\n",
    "\n",
    "xgb_model0 = xgb.XGBClassifier(objective='multi:softmax'\n",
    "                              , num_class=3\n",
    "                              , random_state=42\n",
    "                              , max_depth=5\n",
    "                              , n_estimators=133\n",
    "                              , learning_rate=0.00001\n",
    "                              , min_child_weight=3\n",
    "                             )\n",
    "\n",
    "xgb_model0.fit(a1_X_train, a1_y_train)\n",
    "\n",
    "y_pred = xgb_model0.predict(a1_X_test)\n",
    "\n",
    "# y_pred_prob = xgb_model0.predict_proba(a1_X_test)[:, 1]\n",
    "\n",
    "acc = accuracy_score(a1_y_test, y_pred)\n",
    "\n",
    "print(f'Accuracy: {acc}')"
   ]
  },
  {
   "cell_type": "code",
   "execution_count": 21,
   "id": "4f79ffb4",
   "metadata": {
    "scrolled": true
   },
   "outputs": [
    {
     "data": {
      "text/plain": [
       "array([0.0559295 , 0.10412519, 0.01940924, 0.02502332, 0.0266151 ,\n",
       "       0.0288114 , 0.0318232 , 0.02867814, 0.02544646, 0.01136297,\n",
       "       0.02134124, 0.57732457, 0.00652256, 0.02772816, 0.00985892],\n",
       "      dtype=float32)"
      ]
     },
     "execution_count": 21,
     "metadata": {},
     "output_type": "execute_result"
    }
   ],
   "source": [
    "xgb_model0.feature_importances_"
   ]
  },
  {
   "cell_type": "code",
   "execution_count": 22,
   "id": "310867cc",
   "metadata": {},
   "outputs": [
    {
     "data": {
      "text/plain": [
       "Index(['o', 'ac', 'dow', 'mon', 'mu_rol3', 'mu_rol21', 'hl_pct', 'oc_pct',\n",
       "       'v_z_rol3', 'v_z_rol21', 'ac_z_rol3', 'ac_z_rol21', 'ac1_up_dwn',\n",
       "       'ac1_avg5', 'ac1_avg21'],\n",
       "      dtype='object')"
      ]
     },
     "execution_count": 22,
     "metadata": {},
     "output_type": "execute_result"
    }
   ],
   "source": [
    "a1_X_train.columns"
   ]
  },
  {
   "cell_type": "code",
   "execution_count": 23,
   "id": "6e49c703",
   "metadata": {},
   "outputs": [
    {
     "data": {
      "text/plain": [
       "1"
      ]
     },
     "execution_count": 23,
     "metadata": {},
     "output_type": "execute_result"
    }
   ],
   "source": [
    "xgb_model0.predict(a1_X_pred.to_numpy().reshape(1,-1))[0]"
   ]
  },
  {
   "cell_type": "code",
   "execution_count": 24,
   "id": "3202b614",
   "metadata": {},
   "outputs": [
    {
     "data": {
      "text/plain": [
       "array([[0.33301368, 0.3334972 , 0.3334892 ]], dtype=float32)"
      ]
     },
     "execution_count": 24,
     "metadata": {},
     "output_type": "execute_result"
    }
   ],
   "source": [
    "xgb_model0.predict_proba(a1_X_pred.to_numpy().reshape(1,-1))"
   ]
  },
  {
   "cell_type": "code",
   "execution_count": null,
   "id": "b9f7aa6a",
   "metadata": {},
   "outputs": [],
   "source": []
  },
  {
   "cell_type": "code",
   "execution_count": 19,
   "id": "12758c9f",
   "metadata": {
    "scrolled": false
   },
   "outputs": [
    {
     "name": "stderr",
     "output_type": "stream",
     "text": [
      "Exception ignored on calling ctypes callback function: <function _ThreadpoolInfo._find_modules_with_dl_iterate_phdr.<locals>.match_module_callback at 0x7fa25d6858b0>\n",
      "Traceback (most recent call last):\n",
      "  File \"/home/oem/.local/lib/python3.8/site-packages/threadpoolctl.py\", line 400, in match_module_callback\n",
      "    self._make_module_from_path(filepath)\n",
      "  File \"/home/oem/.local/lib/python3.8/site-packages/threadpoolctl.py\", line 515, in _make_module_from_path\n",
      "    module = module_class(filepath, prefix, user_api, internal_api)\n",
      "  File \"/home/oem/.local/lib/python3.8/site-packages/threadpoolctl.py\", line 606, in __init__\n",
      "    self.version = self.get_version()\n",
      "  File \"/home/oem/.local/lib/python3.8/site-packages/threadpoolctl.py\", line 646, in get_version\n",
      "    config = get_config().split()\n",
      "AttributeError: 'NoneType' object has no attribute 'split'\n"
     ]
    },
    {
     "data": {
      "text/html": [
       "<style type=\"text/css\">\n",
       "#T_e6fc0_row8_col1 {\n",
       "  background-color: lightgreen;\n",
       "}\n",
       "</style>\n",
       "<table id=\"T_e6fc0_\">\n",
       "  <thead>\n",
       "    <tr>\n",
       "      <th class=\"blank level0\" >&nbsp;</th>\n",
       "      <th class=\"col_heading level0 col0\" >Description</th>\n",
       "      <th class=\"col_heading level0 col1\" >Value</th>\n",
       "    </tr>\n",
       "  </thead>\n",
       "  <tbody>\n",
       "    <tr>\n",
       "      <th id=\"T_e6fc0_level0_row0\" class=\"row_heading level0 row0\" >0</th>\n",
       "      <td id=\"T_e6fc0_row0_col0\" class=\"data row0 col0\" >Session id</td>\n",
       "      <td id=\"T_e6fc0_row0_col1\" class=\"data row0 col1\" >1906</td>\n",
       "    </tr>\n",
       "    <tr>\n",
       "      <th id=\"T_e6fc0_level0_row1\" class=\"row_heading level0 row1\" >1</th>\n",
       "      <td id=\"T_e6fc0_row1_col0\" class=\"data row1 col0\" >Target</td>\n",
       "      <td id=\"T_e6fc0_row1_col1\" class=\"data row1 col1\" >ac1_pred</td>\n",
       "    </tr>\n",
       "    <tr>\n",
       "      <th id=\"T_e6fc0_level0_row2\" class=\"row_heading level0 row2\" >2</th>\n",
       "      <td id=\"T_e6fc0_row2_col0\" class=\"data row2 col0\" >Target type</td>\n",
       "      <td id=\"T_e6fc0_row2_col1\" class=\"data row2 col1\" >Multiclass</td>\n",
       "    </tr>\n",
       "    <tr>\n",
       "      <th id=\"T_e6fc0_level0_row3\" class=\"row_heading level0 row3\" >3</th>\n",
       "      <td id=\"T_e6fc0_row3_col0\" class=\"data row3 col0\" >Original data shape</td>\n",
       "      <td id=\"T_e6fc0_row3_col1\" class=\"data row3 col1\" >(2405, 16)</td>\n",
       "    </tr>\n",
       "    <tr>\n",
       "      <th id=\"T_e6fc0_level0_row4\" class=\"row_heading level0 row4\" >4</th>\n",
       "      <td id=\"T_e6fc0_row4_col0\" class=\"data row4 col0\" >Transformed data shape</td>\n",
       "      <td id=\"T_e6fc0_row4_col1\" class=\"data row4 col1\" >(2405, 16)</td>\n",
       "    </tr>\n",
       "    <tr>\n",
       "      <th id=\"T_e6fc0_level0_row5\" class=\"row_heading level0 row5\" >5</th>\n",
       "      <td id=\"T_e6fc0_row5_col0\" class=\"data row5 col0\" >Transformed train set shape</td>\n",
       "      <td id=\"T_e6fc0_row5_col1\" class=\"data row5 col1\" >(1683, 16)</td>\n",
       "    </tr>\n",
       "    <tr>\n",
       "      <th id=\"T_e6fc0_level0_row6\" class=\"row_heading level0 row6\" >6</th>\n",
       "      <td id=\"T_e6fc0_row6_col0\" class=\"data row6 col0\" >Transformed test set shape</td>\n",
       "      <td id=\"T_e6fc0_row6_col1\" class=\"data row6 col1\" >(722, 16)</td>\n",
       "    </tr>\n",
       "    <tr>\n",
       "      <th id=\"T_e6fc0_level0_row7\" class=\"row_heading level0 row7\" >7</th>\n",
       "      <td id=\"T_e6fc0_row7_col0\" class=\"data row7 col0\" >Numeric features</td>\n",
       "      <td id=\"T_e6fc0_row7_col1\" class=\"data row7 col1\" >15</td>\n",
       "    </tr>\n",
       "    <tr>\n",
       "      <th id=\"T_e6fc0_level0_row8\" class=\"row_heading level0 row8\" >8</th>\n",
       "      <td id=\"T_e6fc0_row8_col0\" class=\"data row8 col0\" >Preprocess</td>\n",
       "      <td id=\"T_e6fc0_row8_col1\" class=\"data row8 col1\" >True</td>\n",
       "    </tr>\n",
       "    <tr>\n",
       "      <th id=\"T_e6fc0_level0_row9\" class=\"row_heading level0 row9\" >9</th>\n",
       "      <td id=\"T_e6fc0_row9_col0\" class=\"data row9 col0\" >Imputation type</td>\n",
       "      <td id=\"T_e6fc0_row9_col1\" class=\"data row9 col1\" >simple</td>\n",
       "    </tr>\n",
       "    <tr>\n",
       "      <th id=\"T_e6fc0_level0_row10\" class=\"row_heading level0 row10\" >10</th>\n",
       "      <td id=\"T_e6fc0_row10_col0\" class=\"data row10 col0\" >Numeric imputation</td>\n",
       "      <td id=\"T_e6fc0_row10_col1\" class=\"data row10 col1\" >mean</td>\n",
       "    </tr>\n",
       "    <tr>\n",
       "      <th id=\"T_e6fc0_level0_row11\" class=\"row_heading level0 row11\" >11</th>\n",
       "      <td id=\"T_e6fc0_row11_col0\" class=\"data row11 col0\" >Categorical imputation</td>\n",
       "      <td id=\"T_e6fc0_row11_col1\" class=\"data row11 col1\" >mode</td>\n",
       "    </tr>\n",
       "    <tr>\n",
       "      <th id=\"T_e6fc0_level0_row12\" class=\"row_heading level0 row12\" >12</th>\n",
       "      <td id=\"T_e6fc0_row12_col0\" class=\"data row12 col0\" >Fold Generator</td>\n",
       "      <td id=\"T_e6fc0_row12_col1\" class=\"data row12 col1\" >StratifiedKFold</td>\n",
       "    </tr>\n",
       "    <tr>\n",
       "      <th id=\"T_e6fc0_level0_row13\" class=\"row_heading level0 row13\" >13</th>\n",
       "      <td id=\"T_e6fc0_row13_col0\" class=\"data row13 col0\" >Fold Number</td>\n",
       "      <td id=\"T_e6fc0_row13_col1\" class=\"data row13 col1\" >10</td>\n",
       "    </tr>\n",
       "    <tr>\n",
       "      <th id=\"T_e6fc0_level0_row14\" class=\"row_heading level0 row14\" >14</th>\n",
       "      <td id=\"T_e6fc0_row14_col0\" class=\"data row14 col0\" >CPU Jobs</td>\n",
       "      <td id=\"T_e6fc0_row14_col1\" class=\"data row14 col1\" >-1</td>\n",
       "    </tr>\n",
       "    <tr>\n",
       "      <th id=\"T_e6fc0_level0_row15\" class=\"row_heading level0 row15\" >15</th>\n",
       "      <td id=\"T_e6fc0_row15_col0\" class=\"data row15 col0\" >Use GPU</td>\n",
       "      <td id=\"T_e6fc0_row15_col1\" class=\"data row15 col1\" >False</td>\n",
       "    </tr>\n",
       "    <tr>\n",
       "      <th id=\"T_e6fc0_level0_row16\" class=\"row_heading level0 row16\" >16</th>\n",
       "      <td id=\"T_e6fc0_row16_col0\" class=\"data row16 col0\" >Log Experiment</td>\n",
       "      <td id=\"T_e6fc0_row16_col1\" class=\"data row16 col1\" >False</td>\n",
       "    </tr>\n",
       "    <tr>\n",
       "      <th id=\"T_e6fc0_level0_row17\" class=\"row_heading level0 row17\" >17</th>\n",
       "      <td id=\"T_e6fc0_row17_col0\" class=\"data row17 col0\" >Experiment Name</td>\n",
       "      <td id=\"T_e6fc0_row17_col1\" class=\"data row17 col1\" >clf-default-name</td>\n",
       "    </tr>\n",
       "    <tr>\n",
       "      <th id=\"T_e6fc0_level0_row18\" class=\"row_heading level0 row18\" >18</th>\n",
       "      <td id=\"T_e6fc0_row18_col0\" class=\"data row18 col0\" >USI</td>\n",
       "      <td id=\"T_e6fc0_row18_col1\" class=\"data row18 col1\" >1932</td>\n",
       "    </tr>\n",
       "  </tbody>\n",
       "</table>\n"
      ],
      "text/plain": [
       "<pandas.io.formats.style.Styler at 0x7fa289719430>"
      ]
     },
     "metadata": {},
     "output_type": "display_data"
    },
    {
     "data": {
      "text/html": [],
      "text/plain": [
       "<IPython.core.display.HTML object>"
      ]
     },
     "metadata": {},
     "output_type": "display_data"
    },
    {
     "data": {
      "text/html": [
       "<style type=\"text/css\">\n",
       "#T_50f8b_ th {\n",
       "  text-align: left;\n",
       "}\n",
       "#T_50f8b_row0_col0, #T_50f8b_row0_col2, #T_50f8b_row0_col4, #T_50f8b_row0_col5, #T_50f8b_row1_col0, #T_50f8b_row1_col1, #T_50f8b_row1_col2, #T_50f8b_row1_col3, #T_50f8b_row1_col4, #T_50f8b_row1_col5, #T_50f8b_row1_col6, #T_50f8b_row1_col7, #T_50f8b_row2_col0, #T_50f8b_row2_col1, #T_50f8b_row2_col3, #T_50f8b_row2_col6, #T_50f8b_row2_col7, #T_50f8b_row3_col0, #T_50f8b_row3_col1, #T_50f8b_row3_col2, #T_50f8b_row3_col3, #T_50f8b_row3_col4, #T_50f8b_row3_col5, #T_50f8b_row3_col6, #T_50f8b_row3_col7, #T_50f8b_row4_col0, #T_50f8b_row4_col1, #T_50f8b_row4_col2, #T_50f8b_row4_col3, #T_50f8b_row4_col4, #T_50f8b_row4_col5, #T_50f8b_row4_col6, #T_50f8b_row4_col7, #T_50f8b_row5_col0, #T_50f8b_row5_col1, #T_50f8b_row5_col2, #T_50f8b_row5_col3, #T_50f8b_row5_col4, #T_50f8b_row5_col5, #T_50f8b_row5_col6, #T_50f8b_row5_col7, #T_50f8b_row6_col0, #T_50f8b_row6_col1, #T_50f8b_row6_col2, #T_50f8b_row6_col3, #T_50f8b_row6_col4, #T_50f8b_row6_col5, #T_50f8b_row6_col6, #T_50f8b_row6_col7, #T_50f8b_row7_col0, #T_50f8b_row7_col1, #T_50f8b_row7_col2, #T_50f8b_row7_col3, #T_50f8b_row7_col4, #T_50f8b_row7_col5, #T_50f8b_row7_col6, #T_50f8b_row7_col7, #T_50f8b_row8_col0, #T_50f8b_row8_col1, #T_50f8b_row8_col2, #T_50f8b_row8_col3, #T_50f8b_row8_col4, #T_50f8b_row8_col5, #T_50f8b_row8_col6, #T_50f8b_row8_col7, #T_50f8b_row9_col0, #T_50f8b_row9_col1, #T_50f8b_row9_col2, #T_50f8b_row9_col3, #T_50f8b_row9_col4, #T_50f8b_row9_col5, #T_50f8b_row9_col6, #T_50f8b_row9_col7, #T_50f8b_row10_col0, #T_50f8b_row10_col1, #T_50f8b_row10_col2, #T_50f8b_row10_col3, #T_50f8b_row10_col4, #T_50f8b_row10_col5, #T_50f8b_row10_col6, #T_50f8b_row10_col7, #T_50f8b_row11_col0, #T_50f8b_row11_col1, #T_50f8b_row11_col2, #T_50f8b_row11_col3, #T_50f8b_row11_col4, #T_50f8b_row11_col5, #T_50f8b_row11_col6, #T_50f8b_row11_col7, #T_50f8b_row12_col0, #T_50f8b_row12_col1, #T_50f8b_row12_col2, #T_50f8b_row12_col3, #T_50f8b_row12_col4, #T_50f8b_row12_col5, #T_50f8b_row12_col6, #T_50f8b_row12_col7, #T_50f8b_row13_col0, #T_50f8b_row13_col1, #T_50f8b_row13_col2, #T_50f8b_row13_col3, #T_50f8b_row13_col4, #T_50f8b_row13_col5, #T_50f8b_row13_col6, #T_50f8b_row13_col7, #T_50f8b_row14_col0, #T_50f8b_row14_col1, #T_50f8b_row14_col2, #T_50f8b_row14_col3, #T_50f8b_row14_col4, #T_50f8b_row14_col5, #T_50f8b_row14_col6, #T_50f8b_row14_col7 {\n",
       "  text-align: left;\n",
       "}\n",
       "#T_50f8b_row0_col1, #T_50f8b_row0_col3, #T_50f8b_row0_col6, #T_50f8b_row0_col7, #T_50f8b_row2_col2, #T_50f8b_row2_col4, #T_50f8b_row2_col5 {\n",
       "  text-align: left;\n",
       "  background-color: yellow;\n",
       "}\n",
       "#T_50f8b_row0_col8, #T_50f8b_row2_col8, #T_50f8b_row3_col8, #T_50f8b_row4_col8, #T_50f8b_row5_col8, #T_50f8b_row6_col8, #T_50f8b_row7_col8, #T_50f8b_row8_col8, #T_50f8b_row9_col8, #T_50f8b_row10_col8, #T_50f8b_row11_col8, #T_50f8b_row12_col8, #T_50f8b_row13_col8, #T_50f8b_row14_col8 {\n",
       "  text-align: left;\n",
       "  background-color: lightgrey;\n",
       "}\n",
       "#T_50f8b_row1_col8 {\n",
       "  text-align: left;\n",
       "  background-color: yellow;\n",
       "  background-color: lightgrey;\n",
       "}\n",
       "</style>\n",
       "<table id=\"T_50f8b_\">\n",
       "  <thead>\n",
       "    <tr>\n",
       "      <th class=\"blank level0\" >&nbsp;</th>\n",
       "      <th class=\"col_heading level0 col0\" >Model</th>\n",
       "      <th class=\"col_heading level0 col1\" >Accuracy</th>\n",
       "      <th class=\"col_heading level0 col2\" >AUC</th>\n",
       "      <th class=\"col_heading level0 col3\" >Recall</th>\n",
       "      <th class=\"col_heading level0 col4\" >Prec.</th>\n",
       "      <th class=\"col_heading level0 col5\" >F1</th>\n",
       "      <th class=\"col_heading level0 col6\" >Kappa</th>\n",
       "      <th class=\"col_heading level0 col7\" >MCC</th>\n",
       "      <th class=\"col_heading level0 col8\" >TT (Sec)</th>\n",
       "    </tr>\n",
       "  </thead>\n",
       "  <tbody>\n",
       "    <tr>\n",
       "      <th id=\"T_50f8b_level0_row0\" class=\"row_heading level0 row0\" >lr</th>\n",
       "      <td id=\"T_50f8b_row0_col0\" class=\"data row0 col0\" >Logistic Regression</td>\n",
       "      <td id=\"T_50f8b_row0_col1\" class=\"data row0 col1\" >0.5288</td>\n",
       "      <td id=\"T_50f8b_row0_col2\" class=\"data row0 col2\" >0.7313</td>\n",
       "      <td id=\"T_50f8b_row0_col3\" class=\"data row0 col3\" >0.5288</td>\n",
       "      <td id=\"T_50f8b_row0_col4\" class=\"data row0 col4\" >0.5113</td>\n",
       "      <td id=\"T_50f8b_row0_col5\" class=\"data row0 col5\" >0.5120</td>\n",
       "      <td id=\"T_50f8b_row0_col6\" class=\"data row0 col6\" >0.2905</td>\n",
       "      <td id=\"T_50f8b_row0_col7\" class=\"data row0 col7\" >0.2953</td>\n",
       "      <td id=\"T_50f8b_row0_col8\" class=\"data row0 col8\" >0.6510</td>\n",
       "    </tr>\n",
       "    <tr>\n",
       "      <th id=\"T_50f8b_level0_row1\" class=\"row_heading level0 row1\" >ridge</th>\n",
       "      <td id=\"T_50f8b_row1_col0\" class=\"data row1 col0\" >Ridge Classifier</td>\n",
       "      <td id=\"T_50f8b_row1_col1\" class=\"data row1 col1\" >0.5264</td>\n",
       "      <td id=\"T_50f8b_row1_col2\" class=\"data row1 col2\" >0.0000</td>\n",
       "      <td id=\"T_50f8b_row1_col3\" class=\"data row1 col3\" >0.5264</td>\n",
       "      <td id=\"T_50f8b_row1_col4\" class=\"data row1 col4\" >0.5108</td>\n",
       "      <td id=\"T_50f8b_row1_col5\" class=\"data row1 col5\" >0.5129</td>\n",
       "      <td id=\"T_50f8b_row1_col6\" class=\"data row1 col6\" >0.2869</td>\n",
       "      <td id=\"T_50f8b_row1_col7\" class=\"data row1 col7\" >0.2901</td>\n",
       "      <td id=\"T_50f8b_row1_col8\" class=\"data row1 col8\" >0.0300</td>\n",
       "    </tr>\n",
       "    <tr>\n",
       "      <th id=\"T_50f8b_level0_row2\" class=\"row_heading level0 row2\" >lda</th>\n",
       "      <td id=\"T_50f8b_row2_col0\" class=\"data row2 col0\" >Linear Discriminant Analysis</td>\n",
       "      <td id=\"T_50f8b_row2_col1\" class=\"data row2 col1\" >0.5252</td>\n",
       "      <td id=\"T_50f8b_row2_col2\" class=\"data row2 col2\" >0.7402</td>\n",
       "      <td id=\"T_50f8b_row2_col3\" class=\"data row2 col3\" >0.5252</td>\n",
       "      <td id=\"T_50f8b_row2_col4\" class=\"data row2 col4\" >0.5172</td>\n",
       "      <td id=\"T_50f8b_row2_col5\" class=\"data row2 col5\" >0.5185</td>\n",
       "      <td id=\"T_50f8b_row2_col6\" class=\"data row2 col6\" >0.2863</td>\n",
       "      <td id=\"T_50f8b_row2_col7\" class=\"data row2 col7\" >0.2878</td>\n",
       "      <td id=\"T_50f8b_row2_col8\" class=\"data row2 col8\" >0.0870</td>\n",
       "    </tr>\n",
       "    <tr>\n",
       "      <th id=\"T_50f8b_level0_row3\" class=\"row_heading level0 row3\" >rf</th>\n",
       "      <td id=\"T_50f8b_row3_col0\" class=\"data row3 col0\" >Random Forest Classifier</td>\n",
       "      <td id=\"T_50f8b_row3_col1\" class=\"data row3 col1\" >0.5187</td>\n",
       "      <td id=\"T_50f8b_row3_col2\" class=\"data row3 col2\" >0.7202</td>\n",
       "      <td id=\"T_50f8b_row3_col3\" class=\"data row3 col3\" >0.5187</td>\n",
       "      <td id=\"T_50f8b_row3_col4\" class=\"data row3 col4\" >0.5039</td>\n",
       "      <td id=\"T_50f8b_row3_col5\" class=\"data row3 col5\" >0.5070</td>\n",
       "      <td id=\"T_50f8b_row3_col6\" class=\"data row3 col6\" >0.2758</td>\n",
       "      <td id=\"T_50f8b_row3_col7\" class=\"data row3 col7\" >0.2782</td>\n",
       "      <td id=\"T_50f8b_row3_col8\" class=\"data row3 col8\" >0.4270</td>\n",
       "    </tr>\n",
       "    <tr>\n",
       "      <th id=\"T_50f8b_level0_row4\" class=\"row_heading level0 row4\" >gbc</th>\n",
       "      <td id=\"T_50f8b_row4_col0\" class=\"data row4 col0\" >Gradient Boosting Classifier</td>\n",
       "      <td id=\"T_50f8b_row4_col1\" class=\"data row4 col1\" >0.5181</td>\n",
       "      <td id=\"T_50f8b_row4_col2\" class=\"data row4 col2\" >0.7179</td>\n",
       "      <td id=\"T_50f8b_row4_col3\" class=\"data row4 col3\" >0.5181</td>\n",
       "      <td id=\"T_50f8b_row4_col4\" class=\"data row4 col4\" >0.5026</td>\n",
       "      <td id=\"T_50f8b_row4_col5\" class=\"data row4 col5\" >0.5050</td>\n",
       "      <td id=\"T_50f8b_row4_col6\" class=\"data row4 col6\" >0.2748</td>\n",
       "      <td id=\"T_50f8b_row4_col7\" class=\"data row4 col7\" >0.2780</td>\n",
       "      <td id=\"T_50f8b_row4_col8\" class=\"data row4 col8\" >1.2880</td>\n",
       "    </tr>\n",
       "    <tr>\n",
       "      <th id=\"T_50f8b_level0_row5\" class=\"row_heading level0 row5\" >knn</th>\n",
       "      <td id=\"T_50f8b_row5_col0\" class=\"data row5 col0\" >K Neighbors Classifier</td>\n",
       "      <td id=\"T_50f8b_row5_col1\" class=\"data row5 col1\" >0.5170</td>\n",
       "      <td id=\"T_50f8b_row5_col2\" class=\"data row5 col2\" >0.6802</td>\n",
       "      <td id=\"T_50f8b_row5_col3\" class=\"data row5 col3\" >0.5170</td>\n",
       "      <td id=\"T_50f8b_row5_col4\" class=\"data row5 col4\" >0.5034</td>\n",
       "      <td id=\"T_50f8b_row5_col5\" class=\"data row5 col5\" >0.5020</td>\n",
       "      <td id=\"T_50f8b_row5_col6\" class=\"data row5 col6\" >0.2727</td>\n",
       "      <td id=\"T_50f8b_row5_col7\" class=\"data row5 col7\" >0.2774</td>\n",
       "      <td id=\"T_50f8b_row5_col8\" class=\"data row5 col8\" >0.0410</td>\n",
       "    </tr>\n",
       "    <tr>\n",
       "      <th id=\"T_50f8b_level0_row6\" class=\"row_heading level0 row6\" >lightgbm</th>\n",
       "      <td id=\"T_50f8b_row6_col0\" class=\"data row6 col0\" >Light Gradient Boosting Machine</td>\n",
       "      <td id=\"T_50f8b_row6_col1\" class=\"data row6 col1\" >0.5164</td>\n",
       "      <td id=\"T_50f8b_row6_col2\" class=\"data row6 col2\" >0.7080</td>\n",
       "      <td id=\"T_50f8b_row6_col3\" class=\"data row6 col3\" >0.5164</td>\n",
       "      <td id=\"T_50f8b_row6_col4\" class=\"data row6 col4\" >0.5041</td>\n",
       "      <td id=\"T_50f8b_row6_col5\" class=\"data row6 col5\" >0.5072</td>\n",
       "      <td id=\"T_50f8b_row6_col6\" class=\"data row6 col6\" >0.2725</td>\n",
       "      <td id=\"T_50f8b_row6_col7\" class=\"data row6 col7\" >0.2742</td>\n",
       "      <td id=\"T_50f8b_row6_col8\" class=\"data row6 col8\" >0.3710</td>\n",
       "    </tr>\n",
       "    <tr>\n",
       "      <th id=\"T_50f8b_level0_row7\" class=\"row_heading level0 row7\" >et</th>\n",
       "      <td id=\"T_50f8b_row7_col0\" class=\"data row7 col0\" >Extra Trees Classifier</td>\n",
       "      <td id=\"T_50f8b_row7_col1\" class=\"data row7 col1\" >0.5080</td>\n",
       "      <td id=\"T_50f8b_row7_col2\" class=\"data row7 col2\" >0.7215</td>\n",
       "      <td id=\"T_50f8b_row7_col3\" class=\"data row7 col3\" >0.5080</td>\n",
       "      <td id=\"T_50f8b_row7_col4\" class=\"data row7 col4\" >0.4946</td>\n",
       "      <td id=\"T_50f8b_row7_col5\" class=\"data row7 col5\" >0.4976</td>\n",
       "      <td id=\"T_50f8b_row7_col6\" class=\"data row7 col6\" >0.2599</td>\n",
       "      <td id=\"T_50f8b_row7_col7\" class=\"data row7 col7\" >0.2618</td>\n",
       "      <td id=\"T_50f8b_row7_col8\" class=\"data row7 col8\" >0.4420</td>\n",
       "    </tr>\n",
       "    <tr>\n",
       "      <th id=\"T_50f8b_level0_row8\" class=\"row_heading level0 row8\" >xgboost</th>\n",
       "      <td id=\"T_50f8b_row8_col0\" class=\"data row8 col0\" >Extreme Gradient Boosting</td>\n",
       "      <td id=\"T_50f8b_row8_col1\" class=\"data row8 col1\" >0.5074</td>\n",
       "      <td id=\"T_50f8b_row8_col2\" class=\"data row8 col2\" >0.6937</td>\n",
       "      <td id=\"T_50f8b_row8_col3\" class=\"data row8 col3\" >0.5074</td>\n",
       "      <td id=\"T_50f8b_row8_col4\" class=\"data row8 col4\" >0.4960</td>\n",
       "      <td id=\"T_50f8b_row8_col5\" class=\"data row8 col5\" >0.4991</td>\n",
       "      <td id=\"T_50f8b_row8_col6\" class=\"data row8 col6\" >0.2591</td>\n",
       "      <td id=\"T_50f8b_row8_col7\" class=\"data row8 col7\" >0.2605</td>\n",
       "      <td id=\"T_50f8b_row8_col8\" class=\"data row8 col8\" >0.8110</td>\n",
       "    </tr>\n",
       "    <tr>\n",
       "      <th id=\"T_50f8b_level0_row9\" class=\"row_heading level0 row9\" >nb</th>\n",
       "      <td id=\"T_50f8b_row9_col0\" class=\"data row9 col0\" >Naive Bayes</td>\n",
       "      <td id=\"T_50f8b_row9_col1\" class=\"data row9 col1\" >0.5039</td>\n",
       "      <td id=\"T_50f8b_row9_col2\" class=\"data row9 col2\" >0.7375</td>\n",
       "      <td id=\"T_50f8b_row9_col3\" class=\"data row9 col3\" >0.5039</td>\n",
       "      <td id=\"T_50f8b_row9_col4\" class=\"data row9 col4\" >0.4927</td>\n",
       "      <td id=\"T_50f8b_row9_col5\" class=\"data row9 col5\" >0.4278</td>\n",
       "      <td id=\"T_50f8b_row9_col6\" class=\"data row9 col6\" >0.2511</td>\n",
       "      <td id=\"T_50f8b_row9_col7\" class=\"data row9 col7\" >0.2826</td>\n",
       "      <td id=\"T_50f8b_row9_col8\" class=\"data row9 col8\" >0.0360</td>\n",
       "    </tr>\n",
       "    <tr>\n",
       "      <th id=\"T_50f8b_level0_row10\" class=\"row_heading level0 row10\" >ada</th>\n",
       "      <td id=\"T_50f8b_row10_col0\" class=\"data row10 col0\" >Ada Boost Classifier</td>\n",
       "      <td id=\"T_50f8b_row10_col1\" class=\"data row10 col1\" >0.5032</td>\n",
       "      <td id=\"T_50f8b_row10_col2\" class=\"data row10 col2\" >0.7137</td>\n",
       "      <td id=\"T_50f8b_row10_col3\" class=\"data row10 col3\" >0.5032</td>\n",
       "      <td id=\"T_50f8b_row10_col4\" class=\"data row10 col4\" >0.4928</td>\n",
       "      <td id=\"T_50f8b_row10_col5\" class=\"data row10 col5\" >0.4940</td>\n",
       "      <td id=\"T_50f8b_row10_col6\" class=\"data row10 col6\" >0.2530</td>\n",
       "      <td id=\"T_50f8b_row10_col7\" class=\"data row10 col7\" >0.2552</td>\n",
       "      <td id=\"T_50f8b_row10_col8\" class=\"data row10 col8\" >0.1980</td>\n",
       "    </tr>\n",
       "    <tr>\n",
       "      <th id=\"T_50f8b_level0_row11\" class=\"row_heading level0 row11\" >qda</th>\n",
       "      <td id=\"T_50f8b_row11_col0\" class=\"data row11 col0\" >Quadratic Discriminant Analysis</td>\n",
       "      <td id=\"T_50f8b_row11_col1\" class=\"data row11 col1\" >0.4861</td>\n",
       "      <td id=\"T_50f8b_row11_col2\" class=\"data row11 col2\" >0.7181</td>\n",
       "      <td id=\"T_50f8b_row11_col3\" class=\"data row11 col3\" >0.4861</td>\n",
       "      <td id=\"T_50f8b_row11_col4\" class=\"data row11 col4\" >0.4319</td>\n",
       "      <td id=\"T_50f8b_row11_col5\" class=\"data row11 col5\" >0.4062</td>\n",
       "      <td id=\"T_50f8b_row11_col6\" class=\"data row11 col6\" >0.2227</td>\n",
       "      <td id=\"T_50f8b_row11_col7\" class=\"data row11 col7\" >0.2548</td>\n",
       "      <td id=\"T_50f8b_row11_col8\" class=\"data row11 col8\" >0.0430</td>\n",
       "    </tr>\n",
       "    <tr>\n",
       "      <th id=\"T_50f8b_level0_row12\" class=\"row_heading level0 row12\" >dt</th>\n",
       "      <td id=\"T_50f8b_row12_col0\" class=\"data row12 col0\" >Decision Tree Classifier</td>\n",
       "      <td id=\"T_50f8b_row12_col1\" class=\"data row12 col1\" >0.4474</td>\n",
       "      <td id=\"T_50f8b_row12_col2\" class=\"data row12 col2\" >0.5863</td>\n",
       "      <td id=\"T_50f8b_row12_col3\" class=\"data row12 col3\" >0.4474</td>\n",
       "      <td id=\"T_50f8b_row12_col4\" class=\"data row12 col4\" >0.4467</td>\n",
       "      <td id=\"T_50f8b_row12_col5\" class=\"data row12 col5\" >0.4464</td>\n",
       "      <td id=\"T_50f8b_row12_col6\" class=\"data row12 col6\" >0.1705</td>\n",
       "      <td id=\"T_50f8b_row12_col7\" class=\"data row12 col7\" >0.1707</td>\n",
       "      <td id=\"T_50f8b_row12_col8\" class=\"data row12 col8\" >0.0410</td>\n",
       "    </tr>\n",
       "    <tr>\n",
       "      <th id=\"T_50f8b_level0_row13\" class=\"row_heading level0 row13\" >dummy</th>\n",
       "      <td id=\"T_50f8b_row13_col0\" class=\"data row13 col0\" >Dummy Classifier</td>\n",
       "      <td id=\"T_50f8b_row13_col1\" class=\"data row13 col1\" >0.3500</td>\n",
       "      <td id=\"T_50f8b_row13_col2\" class=\"data row13 col2\" >0.5000</td>\n",
       "      <td id=\"T_50f8b_row13_col3\" class=\"data row13 col3\" >0.3500</td>\n",
       "      <td id=\"T_50f8b_row13_col4\" class=\"data row13 col4\" >0.1225</td>\n",
       "      <td id=\"T_50f8b_row13_col5\" class=\"data row13 col5\" >0.1815</td>\n",
       "      <td id=\"T_50f8b_row13_col6\" class=\"data row13 col6\" >0.0000</td>\n",
       "      <td id=\"T_50f8b_row13_col7\" class=\"data row13 col7\" >0.0000</td>\n",
       "      <td id=\"T_50f8b_row13_col8\" class=\"data row13 col8\" >0.0400</td>\n",
       "    </tr>\n",
       "    <tr>\n",
       "      <th id=\"T_50f8b_level0_row14\" class=\"row_heading level0 row14\" >svm</th>\n",
       "      <td id=\"T_50f8b_row14_col0\" class=\"data row14 col0\" >SVM - Linear Kernel</td>\n",
       "      <td id=\"T_50f8b_row14_col1\" class=\"data row14 col1\" >0.3310</td>\n",
       "      <td id=\"T_50f8b_row14_col2\" class=\"data row14 col2\" >0.0000</td>\n",
       "      <td id=\"T_50f8b_row14_col3\" class=\"data row14 col3\" >0.3310</td>\n",
       "      <td id=\"T_50f8b_row14_col4\" class=\"data row14 col4\" >0.3403</td>\n",
       "      <td id=\"T_50f8b_row14_col5\" class=\"data row14 col5\" >0.2456</td>\n",
       "      <td id=\"T_50f8b_row14_col6\" class=\"data row14 col6\" >0.0076</td>\n",
       "      <td id=\"T_50f8b_row14_col7\" class=\"data row14 col7\" >0.0148</td>\n",
       "      <td id=\"T_50f8b_row14_col8\" class=\"data row14 col8\" >0.0350</td>\n",
       "    </tr>\n",
       "  </tbody>\n",
       "</table>\n"
      ],
      "text/plain": [
       "<pandas.io.formats.style.Styler at 0x7fa28988c430>"
      ]
     },
     "metadata": {},
     "output_type": "display_data"
    },
    {
     "data": {
      "application/vnd.jupyter.widget-view+json": {
       "model_id": "",
       "version_major": 2,
       "version_minor": 0
      },
      "text/plain": [
       "Processing:   0%|          | 0/65 [00:00<?, ?it/s]"
      ]
     },
     "metadata": {},
     "output_type": "display_data"
    },
    {
     "data": {
      "application/vnd.jupyter.widget-view+json": {
       "model_id": "dd94dda4d70542ef80a983f68a2c03b8",
       "version_major": 2,
       "version_minor": 0
      },
      "text/plain": [
       "interactive(children=(ToggleButtons(description='Plot Type:', icons=('',), options=(('Pipeline Plot', 'pipelin…"
      ]
     },
     "metadata": {},
     "output_type": "display_data"
    },
    {
     "data": {
      "image/png": "[encoded data removed]",
      "text/plain": [
       "<Figure size 1200x600 with 1 Axes>"
      ]
     },
     "metadata": {
      "needs_background": "light"
     },
     "output_type": "display_data"
    },
    {
     "data": {
      "image/png": "[encoded data removed]",
      "text/plain": [
       "<Figure size 1200x600 with 1 Axes>"
      ]
     },
     "metadata": {
      "needs_background": "light"
     },
     "output_type": "display_data"
    },
    {
     "data": {
      "image/png": "[encoded data removed]",
      "text/plain": [
       "<Figure size 1200x600 with 1 Axes>"
      ]
     },
     "metadata": {
      "needs_background": "light"
     },
     "output_type": "display_data"
    },
    {
     "data": {
      "image/png": "[encoded data removed]",
      "text/plain": [
       "<Figure size 1200x600 with 1 Axes>"
      ]
     },
     "metadata": {
      "needs_background": "light"
     },
     "output_type": "display_data"
    },
    {
     "data": {
      "image/png": "[encoded data removed]",
      "text/plain": [
       "<Figure size 1200x600 with 1 Axes>"
      ]
     },
     "metadata": {
      "needs_background": "light"
     },
     "output_type": "display_data"
    },
    {
     "data": {
      "image/png": "[encoded data removed]",
      "text/plain": [
       "<Figure size 1200x600 with 1 Axes>"
      ]
     },
     "metadata": {
      "needs_background": "light"
     },
     "output_type": "display_data"
    },
    {
     "data": {
      "image/png": "[encoded data removed]",
      "text/plain": [
       "<Figure size 1200x600 with 1 Axes>"
      ]
     },
     "metadata": {
      "needs_background": "light"
     },
     "output_type": "display_data"
    },
    {
     "data": {
      "image/png": "[encoded data removed]",
      "text/plain": [
       "<Figure size 1200x600 with 1 Axes>"
      ]
     },
     "metadata": {
      "needs_background": "light"
     },
     "output_type": "display_data"
    }
   ],
   "source": [
    "# pycaret model comparisons\n",
    "\n",
    "from pycaret.classification import *\n",
    "\n",
    "exp_name = setup(a1_master0.iloc[:idx_split2_9th]\n",
    "                 , target = 'ac1_pred'\n",
    "                )\n",
    "\n",
    "best_model = compare_models()\n",
    "\n",
    "evaluate_model(best_model)"
   ]
  },
  {
   "cell_type": "code",
   "execution_count": null,
   "id": "f0dd5c33",
   "metadata": {},
   "outputs": [],
   "source": []
  },
  {
   "cell_type": "code",
   "execution_count": 32,
   "id": "aa401912",
   "metadata": {},
   "outputs": [
    {
     "name": "stdout",
     "output_type": "stream",
     "text": [
      "Accuracy: 0.5369908561928513\n"
     ]
    }
   ],
   "source": [
    "from sklearn.linear_model import LogisticRegression\n",
    "from sklearn.model_selection import train_test_split\n",
    "from sklearn.metrics import accuracy_score\n",
    "\n",
    "# Split the data into training and test sets\n",
    "a1_X_train = a1_master0.iloc[:idx_split2_9th].drop('ac1_pred', axis=1)\n",
    "a1_y_train = a1_master0['ac1_pred'].iloc[:idx_split2_9th]\n",
    "a1_X_test = a1_master0.iloc[idx_split2_9th:idx_split3_9th].drop('ac1_pred', axis=1)\n",
    "a1_y_test = a1_master0['ac1_pred'].iloc[idx_split2_9th:idx_split3_9th]\n",
    "\n",
    "X_train = a1_X_train\n",
    "X_test = a1_X_test\n",
    "y_train = a1_y_train\n",
    "y_test = a1_y_test\n",
    "\n",
    "# Create a logistic regression classifier parameters\n",
    "# C\t1.0\n",
    "# class_weight\tNone\n",
    "# dual\tFalse\n",
    "# fit_intercept\tTrue\n",
    "# intercept_scaling\t1\n",
    "# l1_ratio\tNone\n",
    "# max_iter\t1000\n",
    "# multi_class\tauto\n",
    "# n_jobs\tNone\n",
    "# penalty\tl2\n",
    "# random_state\t1906\n",
    "# solver\tlbfgs\n",
    "# tol\t0.0001\n",
    "# verbose\t0\n",
    "# warm_start\tFalse\n",
    "\n",
    "clf = LogisticRegression(random_state=1906\n",
    "                         , C=1.0\n",
    "                         , class_weight=None\n",
    "                         , dual=False\n",
    "                         , fit_intercept=True\n",
    "                         , intercept_scaling=1\n",
    "                         , l1_ratio=None\n",
    "                         , max_iter=1000\n",
    "                         , multi_class='auto'\n",
    "                         , n_jobs=-1\n",
    "                         , penalty='l2'\n",
    "                         , solver='lbfgs'\n",
    "                         , tol=0.0001\n",
    "                         , verbose=0\n",
    "                         , warm_start=False\n",
    "                        )\n",
    "\n",
    "# Train the classifier on the training data\n",
    "clf.fit(X_train, y_train)\n",
    "\n",
    "# Make predictions on the test data\n",
    "y_pred = clf.predict(X_test)\n",
    "\n",
    "# Evaluate the accuracy of the classifier\n",
    "accuracy = accuracy_score(y_test, y_pred)\n",
    "print(\"Accuracy:\", accuracy)\n"
   ]
  },
  {
   "cell_type": "code",
   "execution_count": 34,
   "id": "2f7f841e",
   "metadata": {},
   "outputs": [
    {
     "data": {
      "text/plain": [
       "array([-9.01598025e-02,  3.04222244e-03, -3.37962655e-02, -5.96181730e-03,\n",
       "       -5.86170449e-03, -3.06581185e-03,  9.55171016e-02,  3.10285645e-03,\n",
       "        1.27390679e-01,  1.36093061e-01,  5.74099536e-06, -1.55421769e-03,\n",
       "       -6.59817001e-02, -1.06062306e-01,  9.00561181e-03])"
      ]
     },
     "execution_count": 34,
     "metadata": {},
     "output_type": "execute_result"
    }
   ],
   "source": [
    "clf.coef_[0]"
   ]
  },
  {
   "cell_type": "code",
   "execution_count": 40,
   "id": "785762cc",
   "metadata": {},
   "outputs": [
    {
     "data": {
      "image/png": "[encoded data removed]",
      "text/plain": [
       "<Figure size 432x288 with 1 Axes>"
      ]
     },
     "metadata": {
      "needs_background": "light"
     },
     "output_type": "display_data"
    }
   ],
   "source": [
    "importance = clf.coef_[0]\n",
    "#importance is a list so you can plot it. \n",
    "feat_importances = pd.Series(importance)\n",
    "feat_importances.nlargest(15).plot(kind='barh',title = 'Feature Importance');"
   ]
  },
  {
   "cell_type": "code",
   "execution_count": 41,
   "id": "0530b9e7",
   "metadata": {},
   "outputs": [
    {
     "data": {
      "text/plain": [
       "2.0"
      ]
     },
     "execution_count": 41,
     "metadata": {},
     "output_type": "execute_result"
    }
   ],
   "source": [
    "clf.predict(a1_X_pred.to_numpy().reshape(1,-1))[0]"
   ]
  },
  {
   "cell_type": "code",
   "execution_count": 48,
   "id": "4873bce4",
   "metadata": {},
   "outputs": [
    {
     "data": {
      "text/plain": [
       "[1.2335454494062077e-07, 0.47302836834790013, 0.526971508297555]"
      ]
     },
     "execution_count": 48,
     "metadata": {},
     "output_type": "execute_result"
    }
   ],
   "source": [
    "list(clf.predict_proba(a1_X_pred.to_numpy().reshape(1,-1))[0])"
   ]
  },
  {
   "cell_type": "code",
   "execution_count": null,
   "id": "0779b1c7",
   "metadata": {},
   "outputs": [],
   "source": []
  },
  {
   "cell_type": "code",
   "execution_count": null,
   "id": "71fbec8d",
   "metadata": {},
   "outputs": [],
   "source": []
  },
  {
   "cell_type": "code",
   "execution_count": null,
   "id": "b10b8aa8",
   "metadata": {},
   "outputs": [],
   "source": []
  },
  {
   "cell_type": "code",
   "execution_count": null,
   "id": "2d38ee36",
   "metadata": {},
   "outputs": [],
   "source": []
  },
  {
   "cell_type": "code",
   "execution_count": null,
   "id": "00d1c4b8",
   "metadata": {},
   "outputs": [],
   "source": []
  },
  {
   "cell_type": "code",
   "execution_count": null,
   "id": "1206b68c",
   "metadata": {},
   "outputs": [],
   "source": [
    "# random forest classifier\n",
    " \n",
    "from sklearn.metrics import (roc_auc_score\n",
    "                             , precision_score\n",
    "                             , recall_score\n",
    "                             , roc_curve\n",
    "                             , confusion_matrix\n",
    "                             , plot_confusion_matrix\n",
    "                             , precision_recall_curve\n",
    "                             , auc\n",
    "                            )\n",
    "\n",
    "from sklearn.ensemble import RandomForestClassifier as rfc\n",
    "from sklearn.model_selection import GridSearchCV\n",
    "import joblib\n",
    "\n",
    "rfc_model = rfc(random_state = 42\n",
    "                , n_jobs = -1\n",
    "               )\n",
    "\n",
    "rfc_model.fit(a1_X_train, a1_y_train)\n",
    "\n",
    "y_pred = rfc_model.predict(a1_X_test)\n",
    "\n",
    "acc = accuracy_score(a1_y_test, y_pred)\n",
    "\n",
    "print(f'Accuaracy: {acc}')"
   ]
  },
  {
   "cell_type": "code",
   "execution_count": null,
   "id": "5b9c4ab2",
   "metadata": {},
   "outputs": [],
   "source": [
    "rfc_model.feature_importances_"
   ]
  },
  {
   "cell_type": "code",
   "execution_count": null,
   "id": "944e67a8",
   "metadata": {},
   "outputs": [],
   "source": []
  },
  {
   "cell_type": "code",
   "execution_count": null,
   "id": "3ba2ba72",
   "metadata": {},
   "outputs": [],
   "source": []
  },
  {
   "cell_type": "code",
   "execution_count": null,
   "id": "2685690f",
   "metadata": {},
   "outputs": [],
   "source": []
  },
  {
   "cell_type": "code",
   "execution_count": null,
   "id": "196e114d",
   "metadata": {},
   "outputs": [],
   "source": []
  },
  {
   "cell_type": "code",
   "execution_count": null,
   "id": "a4b226d5",
   "metadata": {},
   "outputs": [],
   "source": []
  },
  {
   "cell_type": "code",
   "execution_count": null,
   "id": "83dcedd4",
   "metadata": {},
   "outputs": [],
   "source": []
  },
  {
   "cell_type": "code",
   "execution_count": null,
   "id": "ff49238f",
   "metadata": {},
   "outputs": [],
   "source": [
    "# add predictions to X_train\n",
    "\n",
    "# idx_split2_9th = int(a.shape[0] * 2.0 / 9)\n",
    "# idx_split3_9th = int(a.shape[0] * 1.0 / 3)\n",
    "# idx_split5_9th = int(a.shape[0] * 5.0 / 9)\n",
    "# idx_split6_9th = int(a.shape[0] * 2.0 / 3)\n",
    "# idx_split8_9th = int(a.shape[0] * 8.0 / 9)\n",
    "\n",
    "\n",
    "\n",
    "\n",
    "a1_master1 = a1_master0[a1_col_list].iloc[idx_split3_9th:idx_split6_9th].copy()\n",
    "a1_master1['pred0'] = xgb_model0.predict(a1_master1[a1_X_train.columns])\n",
    "\n",
    "idx_2_3 = int(a1_master1.shape[0] * 2 / 3)\n",
    "\n",
    "a1_X_train = a1_master1.iloc[:idx_2_3].drop('ac1_pred', axis=1)\n",
    "a1_y_train = a1_master1['ac1_pred'].iloc[:idx_2_3]\n",
    "a1_X_test = a1_master1.iloc[idx_2_3:].drop('ac1_pred', axis=1)\n",
    "a1_y_test = a1_master1['ac1_pred'].iloc[idx_2_3:]"
   ]
  },
  {
   "cell_type": "code",
   "execution_count": null,
   "id": "93e8a091",
   "metadata": {},
   "outputs": [],
   "source": [
    "# sanity check first partition for training\n",
    "print(a1_master1.shape)\n",
    "print(a1_X_train.shape)\n",
    "print(a1_y_train.shape)\n",
    "print(a1_X_test.shape)\n",
    "print(a1_y_test.shape)"
   ]
  },
  {
   "cell_type": "code",
   "execution_count": null,
   "id": "70b81b0c",
   "metadata": {},
   "outputs": [],
   "source": [
    "# modeling partition 2nd 1/3\n",
    "\n",
    "xgb_model1 = xgb.XGBClassifier(objective='multi:softmax'\n",
    "                              , num_class=3\n",
    "                              , random_state=42\n",
    "                              , max_depth=7\n",
    "                              , n_estimators=55\n",
    "                              , learning_rate=0.01\n",
    "                              , min_child_weight=3\n",
    "                             )\n",
    "\n",
    "xgb_model1.fit(a1_X_train, a1_y_train)\n",
    "\n",
    "y_pred = xgb_model1.predict(a1_X_test)\n",
    "\n",
    "# y_pred_prob = xgb_model0.predict_proba(a1_X_test)[:, 1]\n",
    "\n",
    "acc = accuracy_score(a1_y_test, y_pred)\n",
    "\n",
    "print(f'Accuracy: {acc}')"
   ]
  },
  {
   "cell_type": "code",
   "execution_count": null,
   "id": "e1c39b91",
   "metadata": {},
   "outputs": [],
   "source": [
    "xgb_model1.feature_importances_"
   ]
  },
  {
   "cell_type": "code",
   "execution_count": null,
   "id": "2cf200a9",
   "metadata": {},
   "outputs": [],
   "source": [
    "# 4/16/2023 --to do: need to put back last row to fill pred0 column"
   ]
  },
  {
   "cell_type": "code",
   "execution_count": null,
   "id": "084e1507",
   "metadata": {},
   "outputs": [],
   "source": []
  },
  {
   "cell_type": "code",
   "execution_count": null,
   "id": "869eac20",
   "metadata": {},
   "outputs": [],
   "source": []
  },
  {
   "cell_type": "code",
   "execution_count": null,
   "id": "4db11862",
   "metadata": {},
   "outputs": [],
   "source": []
  },
  {
   "cell_type": "code",
   "execution_count": null,
   "id": "e8b14383",
   "metadata": {},
   "outputs": [],
   "source": [
    "a1_master1.tail(10)"
   ]
  },
  {
   "cell_type": "code",
   "execution_count": null,
   "id": "130f0f19",
   "metadata": {},
   "outputs": [],
   "source": [
    "a1_master1.shape"
   ]
  },
  {
   "cell_type": "code",
   "execution_count": null,
   "id": "ea81ce44",
   "metadata": {},
   "outputs": [],
   "source": [
    "len(a1_X_train.columns)"
   ]
  },
  {
   "cell_type": "code",
   "execution_count": null,
   "id": "c8f718b1",
   "metadata": {},
   "outputs": [],
   "source": [
    "a1_X_columns = list(a1_X_train.columns)\n",
    "a1_X_columns.append('pred0')\n",
    "a1_X_columns"
   ]
  },
  {
   "cell_type": "code",
   "execution_count": null,
   "id": "8496fc1d",
   "metadata": {},
   "outputs": [],
   "source": [
    "a1_X_pred1 = a1_master1[a1_X_columns].iloc[-1].copy()\n",
    "a1_X_pred1"
   ]
  },
  {
   "cell_type": "code",
   "execution_count": null,
   "id": "41b5cd4b",
   "metadata": {},
   "outputs": [],
   "source": [
    "a1_master1_scrambled = a1_master1.iloc[:-1].copy()\n",
    "a1_master1_scrambled.tail(10)"
   ]
  },
  {
   "cell_type": "code",
   "execution_count": null,
   "id": "8edae478",
   "metadata": {},
   "outputs": [],
   "source": [
    "a1_master1_scrambled = a1_master1_scrambled.sample(frac=1)\n",
    "a1_master1_scrambled = a1_master1_scrambled.sample(frac=1)\n",
    "\n",
    "a1_master1_scrambled.tail(10)"
   ]
  },
  {
   "cell_type": "code",
   "execution_count": null,
   "id": "b2b6218f",
   "metadata": {},
   "outputs": [],
   "source": [
    "a1_idx_tt_split = int(a1_master1_scrambled.shape[0] * 0.9)\n",
    "a1_idx_tt_split"
   ]
  },
  {
   "cell_type": "code",
   "execution_count": null,
   "id": "2f887946",
   "metadata": {},
   "outputs": [],
   "source": [
    "a1_X_train = a1_master1_scrambled[a1_X_columns].iloc[:a1_idx_tt_split]\n",
    "a1_y_train = a1_master1_scrambled['ac1_pred'].iloc[:a1_idx_tt_split]\n",
    "\n",
    "a1_X_test = a1_master1_scrambled[a1_X_columns].iloc[a1_idx_tt_split:]\n",
    "a1_y_test = a1_master1_scrambled['ac1_pred'].iloc[a1_idx_tt_split:]\n",
    "\n",
    "print(f'a1_master1 shape: {a1_master1.shape}')\n",
    "print(f'X_train shape: {a1_X_train.shape}')\n",
    "print(f'y_train shape: {a1_y_train.shape}')\n",
    "print(f'X_test shape: {a1_X_test.shape}')\n",
    "print(f'y_test shape: {a1_y_test.shape}')\n",
    "print(f'a1_X_pred1 shape: {a1_X_pred1.shape}')"
   ]
  },
  {
   "cell_type": "code",
   "execution_count": null,
   "id": "9991fccd",
   "metadata": {},
   "outputs": [],
   "source": [
    "# 2nd modeling\n",
    "\n",
    "xgb_model1 = xgb.XGBClassifier(objective='binary:logistic'\n",
    "                              # , num_class=2\n",
    "                              , random_state=42\n",
    "                              # , max_depth=7\n",
    "                              # , n_estimators=89\n",
    "                              # , learning_rate=0.05\n",
    "                              # , min_child_weight=4\n",
    "                             )\n",
    "\n",
    "xgb_model1.fit(a1_X_train, a1_y_train)\n",
    "\n",
    "y_pred = xgb_model1.predict(a1_X_test)\n",
    "\n",
    "y_pred_prob = xgb_model1.predict_proba(a1_X_test)[:, 1]\n",
    "\n",
    "acc = accuracy_score(a1_y_test, y_pred)\n",
    "\n",
    "print(f'Accuracy: {acc}')"
   ]
  },
  {
   "cell_type": "code",
   "execution_count": null,
   "id": "b44603f0",
   "metadata": {},
   "outputs": [],
   "source": [
    "xgb_model1.feature_importances_"
   ]
  },
  {
   "cell_type": "code",
   "execution_count": null,
   "id": "ad4f4524",
   "metadata": {},
   "outputs": [],
   "source": [
    "a1_X_columns"
   ]
  },
  {
   "cell_type": "code",
   "execution_count": null,
   "id": "8348a476",
   "metadata": {},
   "outputs": [],
   "source": []
  },
  {
   "cell_type": "code",
   "execution_count": null,
   "id": "41fe2c2d",
   "metadata": {},
   "outputs": [],
   "source": []
  },
  {
   "cell_type": "code",
   "execution_count": null,
   "id": "7b13735d",
   "metadata": {},
   "outputs": [],
   "source": []
  }
 ],
 "metadata": {
  "kernelspec": {
   "display_name": "Python 3",
   "language": "python",
   "name": "python3"
  },
  "language_info": {
   "codemirror_mode": {
    "name": "ipython",
    "version": 3
   },
   "file_extension": ".py",
   "mimetype": "text/x-python",
   "name": "python",
   "nbconvert_exporter": "python",
   "pygments_lexer": "ipython3",
   "version": "3.8.10"
  }
 },
 "nbformat": 4,
 "nbformat_minor": 5
}
