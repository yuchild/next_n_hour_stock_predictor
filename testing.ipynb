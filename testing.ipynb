{
 "cells": [
  {
   "cell_type": "code",
   "execution_count": 1,
   "id": "02f782d0",
   "metadata": {},
   "outputs": [],
   "source": [
    "import yfinance as yf\n",
    "import pandas as pd\n",
    "import numpy as np\n",
    "import xgboost as xgb\n",
    "from sklearn.model_selection import GridSearchCV, StratifiedKFold\n",
    "from sklearn.metrics import accuracy_score"
   ]
  },
  {
   "cell_type": "code",
   "execution_count": 2,
   "id": "e445081d",
   "metadata": {},
   "outputs": [],
   "source": [
    "# aapl_day = yf.download(\"AAPL\", start=\"1980-12-08\", end=None)\n",
    "# aapl_day.to_pickle('./data/aapl_day.pkl')\n",
    "# amd_day = yf.download(\"AMD\", start=\"1980-03-17\", end=None)\n",
    "# amd_day.to_pickle('./data/amd_day.pkl')"
   ]
  },
  {
   "cell_type": "code",
   "execution_count": 3,
   "id": "97818293",
   "metadata": {},
   "outputs": [],
   "source": [
    "# aapl_hour = yf.download(tickers=\"AAPL\",\n",
    "#                        period=\"2y\",\n",
    "#                        interval=\"1h\"\n",
    "#                       )\n",
    "# aapl_hour.to_pickle('./data/aapl_hr.pkl')"
   ]
  },
  {
   "cell_type": "code",
   "execution_count": 4,
   "id": "84347676",
   "metadata": {},
   "outputs": [],
   "source": [
    "def compute_up_down(begin, end):\n",
    "    if abs((begin - end) / begin) <= 0.007:\n",
    "        return 0\n",
    "    elif (begin - end) / begin > 0.007:\n",
    "        return 1\n",
    "    else:\n",
    "        return 2\n",
    "    \n",
    "def compute_volume_per_dollar(vol, begin, end):\n",
    "    if begin - end == 0:\n",
    "        return vol\n",
    "    else:\n",
    "        return vol / abs(begin - end)\n",
    "    \n",
    "def compute_pct_change(num1, num2, dem):\n",
    "    if dem == 0:\n",
    "        return 0\n",
    "    else:\n",
    "        return (num2 - num1) / dem"
   ]
  },
  {
   "cell_type": "code",
   "execution_count": 5,
   "id": "60cc1c53",
   "metadata": {},
   "outputs": [],
   "source": [
    "a = pd.read_pickle('./data/amd_day.pkl')\n",
    "a = a.rename(columns={'Adj Close': 'ac'\n",
    "                      , 'Open': 'o'\n",
    "                      , 'Close': 'c'\n",
    "                      , 'High': 'h'\n",
    "                      , 'Low': 'l'\n",
    "                      , 'Volume': 'v'\n",
    "                     })"
   ]
  },
  {
   "cell_type": "code",
   "execution_count": 6,
   "id": "5c5bbe37",
   "metadata": {
    "scrolled": false
   },
   "outputs": [],
   "source": [
    "a['dow'] = a.index.weekday\n",
    "\n",
    "a['vpd_hlc'] = a.apply(lambda row: compute_volume_per_dollar(row['v'], row['h'], row['l']), axis=1)  # volume per dollar high low change\n",
    "a['vpd_opac'] = a.apply(lambda row: compute_volume_per_dollar(row['v'], row['o'], row['c']), axis=1)  # volume per dollar open close absolute change\n",
    "\n",
    "a['ac1'] = a['ac'].shift(1)\n",
    "a['ac3'] = a['ac'].shift(3)\n",
    "a['ac5'] = a['ac'].shift(5)\n",
    "a['ac8'] = a['ac'].shift(8)\n",
    "a['ac13'] = a['ac'].shift(13)\n",
    "a['ac21'] = a['ac'].shift(21)\n",
    "\n",
    "a['mu_rol3'] = a['ac'].rolling(window=3).mean()\n",
    "a['mu_rol5'] = a['ac'].rolling(window=5).mean()\n",
    "a['mu_rol8'] = a['ac'].rolling(window=8).mean()\n",
    "a['mu_rol13'] = a['ac'].rolling(window=13).mean()\n",
    "a['mu_rol21'] = a['ac'].rolling(window=21).mean()\n",
    "\n",
    "a['std_rol3'] = a['ac'].rolling(window=3).std()\n",
    "a['std_rol5'] = a['ac'].rolling(window=5).std()\n",
    "a['std_rol8'] = a['ac'].rolling(window=8).std()\n",
    "a['std_rol13'] = a['ac'].rolling(window=13).std()\n",
    "a['std_rol21'] = a['ac'].rolling(window=21).std()\n",
    "\n",
    "a['hl_pct'] = a.apply(lambda row: compute_pct_change(row['l'], row['h'], row['o']), axis=1)\n",
    "a['oc_pct'] = a.apply(lambda row: compute_pct_change(row['o'], row['c'], row['o']), axis=1)\n",
    "\n",
    "a['ac1_pct'] = a['ac1'] - a['ac'] / a['ac']\n",
    "a['ac3_pct'] = a['ac3'] - a['ac'] / a['ac']\n",
    "a['ac5_pct'] = a['ac5'] - a['ac'] / a['ac']\n",
    "a['ac8_pct'] = a['ac8'] - a['ac'] / a['ac']\n",
    "a['ac13_pct'] = a['ac13'] - a['ac'] / a['ac']\n",
    "a['ac21_pct'] = a['ac21'] - a['ac'] / a['ac']\n",
    "\n",
    "a.dropna(axis=0, inplace=True)\n",
    "\n",
    "a['ac1_up_dwn'] = a.apply(lambda row: compute_up_down(row['ac1'], row['ac']), axis=1)\n",
    "a['ac3_up_dwn'] = a.apply(lambda row: compute_up_down(row['ac3'], row['ac']), axis=1)\n",
    "a['ac5_up_dwn'] = a.apply(lambda row: compute_up_down(row['ac5'], row['ac']), axis=1)\n",
    "a['ac8_up_dwn'] = a.apply(lambda row: compute_up_down(row['ac8'], row['ac']), axis=1)\n",
    "a['ac13_up_dwn'] = a.apply(lambda row: compute_up_down(row['ac13'], row['ac']), axis=1)\n",
    "a['ac21_up_dwn'] = a.apply(lambda row: compute_up_down(row['ac21'], row['ac']), axis=1)\n",
    "\n",
    "a['ac1_pred'] = a['ac1_up_dwn'].shift(-1)\n",
    "a['ac3_pred'] = a['ac3_up_dwn'].shift(-3)\n",
    "a['ac5_pred'] = a['ac5_up_dwn'].shift(-5)\n",
    "a['ac8_pred'] = a['ac8_up_dwn'].shift(-8)\n",
    "a['ac13_pred'] = a['ac13_up_dwn'].shift(-13)\n",
    "a['ac21_pred'] = a['ac21_up_dwn'].shift(-21)"
   ]
  },
  {
   "cell_type": "code",
   "execution_count": 7,
   "id": "21ff40a7",
   "metadata": {
    "scrolled": false
   },
   "outputs": [
    {
     "data": {
      "text/plain": [
       "o              9.279000e+01\n",
       "h              9.316000e+01\n",
       "l              9.183000e+01\n",
       "c              9.209000e+01\n",
       "ac             9.209000e+01\n",
       "v              4.052330e+07\n",
       "dow            3.000000e+00\n",
       "vpd_hlc        3.046860e+07\n",
       "vpd_opac       5.789005e+07\n",
       "ac1            9.233000e+01\n",
       "ac3            9.548000e+01\n",
       "ac5            9.256000e+01\n",
       "ac8            9.801000e+01\n",
       "ac13           9.795000e+01\n",
       "ac21           8.745000e+01\n",
       "mu_rol3        9.281667e+01\n",
       "mu_rol5        9.328000e+01\n",
       "mu_rol8        9.392375e+01\n",
       "mu_rol13       9.496461e+01\n",
       "mu_rol21       9.558143e+01\n",
       "std_rol3       1.057607e+00\n",
       "std_rol5       1.447171e+00\n",
       "std_rol8       1.814497e+00\n",
       "std_rol13      2.113948e+00\n",
       "std_rol21      2.577292e+00\n",
       "hl_pct         1.433346e-02\n",
       "oc_pct        -7.543966e-03\n",
       "ac1_pct        9.133000e+01\n",
       "ac3_pct        9.448000e+01\n",
       "ac5_pct        9.156000e+01\n",
       "ac8_pct        9.701000e+01\n",
       "ac13_pct       9.695000e+01\n",
       "ac21_pct       8.645000e+01\n",
       "ac1_up_dwn     0.000000e+00\n",
       "ac3_up_dwn     1.000000e+00\n",
       "ac5_up_dwn     0.000000e+00\n",
       "ac8_up_dwn     1.000000e+00\n",
       "ac13_up_dwn    1.000000e+00\n",
       "ac21_up_dwn    2.000000e+00\n",
       "ac1_pred                NaN\n",
       "ac3_pred                NaN\n",
       "ac5_pred                NaN\n",
       "ac8_pred                NaN\n",
       "ac13_pred               NaN\n",
       "ac21_pred               NaN\n",
       "Name: 2023-04-13 00:00:00, dtype: float64"
      ]
     },
     "execution_count": 7,
     "metadata": {},
     "output_type": "execute_result"
    }
   ],
   "source": [
    "a.iloc[-1]"
   ]
  },
  {
   "cell_type": "code",
   "execution_count": 8,
   "id": "0773b87d",
   "metadata": {
    "scrolled": true
   },
   "outputs": [
    {
     "data": {
      "text/plain": [
       "Index(['o', 'h', 'l', 'c', 'ac', 'v', 'dow', 'vpd_hlc', 'vpd_opac', 'ac1',\n",
       "       'ac3', 'ac5', 'ac8', 'ac13', 'ac21', 'mu_rol3', 'mu_rol5', 'mu_rol8',\n",
       "       'mu_rol13', 'mu_rol21', 'std_rol3', 'std_rol5', 'std_rol8', 'std_rol13',\n",
       "       'std_rol21', 'hl_pct', 'oc_pct', 'ac1_pct', 'ac3_pct', 'ac5_pct',\n",
       "       'ac8_pct', 'ac13_pct', 'ac21_pct', 'ac1_up_dwn', 'ac3_up_dwn',\n",
       "       'ac5_up_dwn', 'ac8_up_dwn', 'ac13_up_dwn', 'ac21_up_dwn', 'ac1_pred',\n",
       "       'ac3_pred', 'ac5_pred', 'ac8_pred', 'ac13_pred', 'ac21_pred'],\n",
       "      dtype='object')"
      ]
     },
     "execution_count": 8,
     "metadata": {},
     "output_type": "execute_result"
    }
   ],
   "source": [
    "a.columns"
   ]
  },
  {
   "cell_type": "code",
   "execution_count": 9,
   "id": "13661466",
   "metadata": {},
   "outputs": [],
   "source": [
    "a1_col_list = ['o'\n",
    "               # , 'h'\n",
    "               # , 'l'\n",
    "               , 'c'\n",
    "               # ,\n",
    "               , 'ac'\n",
    "               # , 'v'\n",
    "               , 'vpd_hlc'\n",
    "               , 'vpd_opac'\n",
    "               # , 'ac1'\n",
    "               # , 'ac3'\n",
    "               # , 'ac5'\n",
    "               # , 'ac8'\n",
    "               # , 'ac13'\n",
    "               # , 'ac21'\n",
    "               , 'mu_rol3'\n",
    "               # , 'mu_rol5'\n",
    "               , 'mu_rol8'\n",
    "               # , 'mu_rol13'\n",
    "               , 'mu_rol21'\n",
    "               , 'std_rol3'\n",
    "               # , 'std_rol5'\n",
    "               , 'std_rol8'\n",
    "               # , 'std_rol13'\n",
    "               , 'std_rol21'\n",
    "               , 'hl_pct'\n",
    "               , 'oc_pct'\n",
    "               , 'ac1_pct'\n",
    "               # , 'ac3_pct'\n",
    "               # , 'ac5_pct'\n",
    "               , 'ac8_pct'\n",
    "               # , 'ac13_pct'\n",
    "               , 'ac21_pct'\n",
    "               # , 'ac1_up_dwn'\n",
    "               # , 'ac3_up_dwn'\n",
    "               # , 'ac5_up_dwn'\n",
    "               # , 'ac8_up_dwn'\n",
    "               # , 'ac13_up_dwn'\n",
    "               # , 'ac21_up_dwn'\n",
    "               , 'ac1_pred'\n",
    "              ]\n",
    "\n",
    "a1_master = a[a1_col_list].copy()\n",
    "\n",
    "a1_X_pred = a1_master[a1_col_list[:-1]].iloc[-1].copy()\n",
    "\n",
    "a1_master0 = a1_master.iloc[:-1].sample(frac=1, random_state=21)\n",
    "a1_master0 = a1_master0.sample(frac=1, random_state=42)\n",
    "\n",
    "idx_split = int(a.shape[0] * 0.9)\n",
    "\n",
    "a1_X_train = a1_master0.iloc[:idx_split].drop('ac1_pred', axis=1)\n",
    "a1_y_train = a1_master0['ac1_pred'].iloc[:idx_split]\n",
    "a1_X_test = a1_master0.iloc[idx_split:].drop('ac1_pred', axis=1)\n",
    "a1_y_test = a1_master0['ac1_pred'].iloc[idx_split:]"
   ]
  },
  {
   "cell_type": "code",
   "execution_count": 10,
   "id": "02a0c573",
   "metadata": {
    "scrolled": false
   },
   "outputs": [
    {
     "data": {
      "text/plain": [
       "o            9.279000e+01\n",
       "c            9.209000e+01\n",
       "ac           9.209000e+01\n",
       "vpd_hlc      3.046860e+07\n",
       "vpd_opac     5.789005e+07\n",
       "mu_rol3      9.281667e+01\n",
       "mu_rol8      9.392375e+01\n",
       "mu_rol21     9.558143e+01\n",
       "std_rol3     1.057607e+00\n",
       "std_rol8     1.814497e+00\n",
       "std_rol21    2.577292e+00\n",
       "hl_pct       1.433346e-02\n",
       "oc_pct      -7.543966e-03\n",
       "ac1_pct      9.133000e+01\n",
       "ac8_pct      9.701000e+01\n",
       "ac21_pct     8.645000e+01\n",
       "Name: 2023-04-13 00:00:00, dtype: float64"
      ]
     },
     "execution_count": 10,
     "metadata": {},
     "output_type": "execute_result"
    }
   ],
   "source": [
    "a1_X_pred"
   ]
  },
  {
   "cell_type": "code",
   "execution_count": 11,
   "id": "5ef54b9b",
   "metadata": {},
   "outputs": [
    {
     "data": {
      "text/plain": [
       "o              9.279000e+01\n",
       "h              9.316000e+01\n",
       "l              9.183000e+01\n",
       "c              9.209000e+01\n",
       "ac             9.209000e+01\n",
       "v              4.052330e+07\n",
       "dow            3.000000e+00\n",
       "vpd_hlc        3.046860e+07\n",
       "vpd_opac       5.789005e+07\n",
       "ac1            9.233000e+01\n",
       "ac3            9.548000e+01\n",
       "ac5            9.256000e+01\n",
       "ac8            9.801000e+01\n",
       "ac13           9.795000e+01\n",
       "ac21           8.745000e+01\n",
       "mu_rol3        9.281667e+01\n",
       "mu_rol5        9.328000e+01\n",
       "mu_rol8        9.392375e+01\n",
       "mu_rol13       9.496461e+01\n",
       "mu_rol21       9.558143e+01\n",
       "std_rol3       1.057607e+00\n",
       "std_rol5       1.447171e+00\n",
       "std_rol8       1.814497e+00\n",
       "std_rol13      2.113948e+00\n",
       "std_rol21      2.577292e+00\n",
       "hl_pct         1.433346e-02\n",
       "oc_pct        -7.543966e-03\n",
       "ac1_pct        9.133000e+01\n",
       "ac3_pct        9.448000e+01\n",
       "ac5_pct        9.156000e+01\n",
       "ac8_pct        9.701000e+01\n",
       "ac13_pct       9.695000e+01\n",
       "ac21_pct       8.645000e+01\n",
       "ac1_up_dwn     0.000000e+00\n",
       "ac3_up_dwn     1.000000e+00\n",
       "ac5_up_dwn     0.000000e+00\n",
       "ac8_up_dwn     1.000000e+00\n",
       "ac13_up_dwn    1.000000e+00\n",
       "ac21_up_dwn    2.000000e+00\n",
       "ac1_pred                NaN\n",
       "ac3_pred                NaN\n",
       "ac5_pred                NaN\n",
       "ac8_pred                NaN\n",
       "ac13_pred               NaN\n",
       "ac21_pred               NaN\n",
       "Name: 2023-04-13 00:00:00, dtype: float64"
      ]
     },
     "execution_count": 11,
     "metadata": {},
     "output_type": "execute_result"
    }
   ],
   "source": [
    "a.iloc[-1]"
   ]
  },
  {
   "cell_type": "code",
   "execution_count": 12,
   "id": "2715cee4",
   "metadata": {},
   "outputs": [
    {
     "name": "stdout",
     "output_type": "stream",
     "text": [
      "(10840, 45)\n",
      "9756\n",
      "(9756, 16)\n",
      "(9756,)\n",
      "(1083, 16)\n",
      "(1083,)\n"
     ]
    }
   ],
   "source": [
    "print(a.shape)\n",
    "print(idx_split)\n",
    "print(a1_X_train.shape)\n",
    "print(a1_y_train.shape)\n",
    "print(a1_X_test.shape)\n",
    "print(a1_y_test.shape)"
   ]
  },
  {
   "cell_type": "code",
   "execution_count": 13,
   "id": "ebe36b39",
   "metadata": {},
   "outputs": [
    {
     "data": {
      "text/plain": [
       "10647"
      ]
     },
     "execution_count": 13,
     "metadata": {},
     "output_type": "execute_result"
    }
   ],
   "source": [
    "9583+1064"
   ]
  },
  {
   "cell_type": "code",
   "execution_count": 14,
   "id": "71103c00",
   "metadata": {},
   "outputs": [
    {
     "data": {
      "text/plain": [
       "(10840, 45)"
      ]
     },
     "execution_count": 14,
     "metadata": {},
     "output_type": "execute_result"
    }
   ],
   "source": [
    "a.shape"
   ]
  },
  {
   "cell_type": "code",
   "execution_count": 15,
   "id": "47fc8292",
   "metadata": {},
   "outputs": [
    {
     "data": {
      "text/plain": [
       "o            8.250000e+00\n",
       "c            8.281250e+00\n",
       "ac           8.281250e+00\n",
       "vpd_hlc      2.245818e+06\n",
       "vpd_opac     2.470400e+07\n",
       "mu_rol3      8.468750e+00\n",
       "mu_rol8      8.613281e+00\n",
       "mu_rol21     8.617560e+00\n",
       "std_rol3     2.480392e-01\n",
       "std_rol8     2.171096e-01\n",
       "std_rol21    2.484139e-01\n",
       "hl_pct       4.166667e-02\n",
       "oc_pct       3.787879e-03\n",
       "ac1_pct      7.375000e+00\n",
       "ac8_pct      7.500000e+00\n",
       "ac21_pct     7.656250e+00\n",
       "Name: 1983-04-04 00:00:00, dtype: float64"
      ]
     },
     "execution_count": 15,
     "metadata": {},
     "output_type": "execute_result"
    }
   ],
   "source": [
    "a1_X_train.iloc[0]"
   ]
  },
  {
   "cell_type": "code",
   "execution_count": 16,
   "id": "995dc138",
   "metadata": {},
   "outputs": [
    {
     "data": {
      "text/plain": [
       "1.0"
      ]
     },
     "execution_count": 16,
     "metadata": {},
     "output_type": "execute_result"
    }
   ],
   "source": [
    "a1_y_train[0]"
   ]
  },
  {
   "cell_type": "code",
   "execution_count": 17,
   "id": "7614ccb1",
   "metadata": {},
   "outputs": [
    {
     "data": {
      "text/plain": [
       "o            1.037500e+01\n",
       "c            1.100000e+01\n",
       "ac           1.100000e+01\n",
       "vpd_hlc      3.687855e+06\n",
       "vpd_opac     4.056640e+06\n",
       "mu_rol3      1.085417e+01\n",
       "mu_rol8      1.061719e+01\n",
       "mu_rol21     1.015476e+01\n",
       "std_rol3     1.572882e-01\n",
       "std_rol8     4.070219e-01\n",
       "std_rol21    5.041310e-01\n",
       "hl_pct       6.626506e-02\n",
       "oc_pct       6.024096e-02\n",
       "ac1_pct      9.687500e+00\n",
       "ac8_pct      9.500000e+00\n",
       "ac21_pct     8.937500e+00\n",
       "Name: 1993-02-24 00:00:00, dtype: float64"
      ]
     },
     "execution_count": 17,
     "metadata": {},
     "output_type": "execute_result"
    }
   ],
   "source": [
    "a1_X_test.iloc[0]"
   ]
  },
  {
   "cell_type": "code",
   "execution_count": 18,
   "id": "afef9ab2",
   "metadata": {},
   "outputs": [
    {
     "data": {
      "text/plain": [
       "0.0"
      ]
     },
     "execution_count": 18,
     "metadata": {},
     "output_type": "execute_result"
    }
   ],
   "source": [
    "a1_y_test[0]"
   ]
  },
  {
   "cell_type": "code",
   "execution_count": 19,
   "id": "07384201",
   "metadata": {},
   "outputs": [
    {
     "data": {
      "text/plain": [
       "1.0    4376\n",
       "2.0    4322\n",
       "0.0    2141\n",
       "Name: ac1_pred, dtype: int64"
      ]
     },
     "execution_count": 19,
     "metadata": {},
     "output_type": "execute_result"
    }
   ],
   "source": [
    "a1_master['ac1_pred'].value_counts()"
   ]
  },
  {
   "cell_type": "code",
   "execution_count": 20,
   "id": "2e475f34",
   "metadata": {},
   "outputs": [
    {
     "data": {
      "text/plain": [
       "o            0\n",
       "c            0\n",
       "ac           0\n",
       "vpd_hlc      0\n",
       "vpd_opac     0\n",
       "mu_rol3      0\n",
       "mu_rol8      0\n",
       "mu_rol21     0\n",
       "std_rol3     0\n",
       "std_rol8     0\n",
       "std_rol21    0\n",
       "hl_pct       0\n",
       "oc_pct       0\n",
       "ac1_pct      0\n",
       "ac8_pct      0\n",
       "ac21_pct     0\n",
       "dtype: int64"
      ]
     },
     "execution_count": 20,
     "metadata": {},
     "output_type": "execute_result"
    }
   ],
   "source": [
    "a1_X_train.isin([np.inf, -np.inf]).sum()"
   ]
  },
  {
   "cell_type": "code",
   "execution_count": 21,
   "id": "550c27e2",
   "metadata": {},
   "outputs": [
    {
     "name": "stdout",
     "output_type": "stream",
     "text": [
      "Accuracy: 0.41458910433979684\n"
     ]
    }
   ],
   "source": [
    "# modeling\n",
    "\n",
    "xgb_model = xgb.XGBClassifier(objective='reg:squaredlogerror'\n",
    "                              # , num_class=2\n",
    "                              , random_state=42\n",
    "                              # , max_depth=7\n",
    "                              # , n_estimators=89\n",
    "                              # , learning_rate=0.05\n",
    "                              # , min_child_weight=4\n",
    "                             )\n",
    "\n",
    "xgb_model.fit(a1_X_train, a1_y_train)\n",
    "\n",
    "y_pred = xgb_model.predict(a1_X_test)\n",
    "\n",
    "y_pred_prob = xgb_model.predict_proba(a1_X_test)[:, 1]\n",
    "\n",
    "acc = accuracy_score(a1_y_test, y_pred)\n",
    "\n",
    "print(f'Accuracy: {acc}')"
   ]
  },
  {
   "cell_type": "code",
   "execution_count": 22,
   "id": "71fcd7ca",
   "metadata": {},
   "outputs": [
    {
     "data": {
      "text/plain": [
       "array([0.05271924, 0.06967137, 0.        , 0.05985871, 0.06139939,\n",
       "       0.07436428, 0.07765953, 0.0702377 , 0.0622757 , 0.06404307,\n",
       "       0.06709889, 0.06735954, 0.06180384, 0.07564788, 0.07048443,\n",
       "       0.06537647], dtype=float32)"
      ]
     },
     "execution_count": 22,
     "metadata": {},
     "output_type": "execute_result"
    }
   ],
   "source": [
    "xgb_model.feature_importances_"
   ]
  },
  {
   "cell_type": "code",
   "execution_count": 23,
   "id": "f1beb7ad",
   "metadata": {},
   "outputs": [
    {
     "data": {
      "text/plain": [
       "Index(['o', 'c', 'ac', 'vpd_hlc', 'vpd_opac', 'mu_rol3', 'mu_rol8', 'mu_rol21',\n",
       "       'std_rol3', 'std_rol8', 'std_rol21', 'hl_pct', 'oc_pct', 'ac1_pct',\n",
       "       'ac8_pct', 'ac21_pct'],\n",
       "      dtype='object')"
      ]
     },
     "execution_count": 23,
     "metadata": {},
     "output_type": "execute_result"
    }
   ],
   "source": [
    "a1_X_train.columns"
   ]
  },
  {
   "cell_type": "code",
   "execution_count": 24,
   "id": "124ab609",
   "metadata": {},
   "outputs": [
    {
     "data": {
      "text/plain": [
       "2"
      ]
     },
     "execution_count": 24,
     "metadata": {},
     "output_type": "execute_result"
    }
   ],
   "source": [
    "xgb_model.predict(a1_X_pred.to_numpy().reshape(1,-1))[0]"
   ]
  },
  {
   "cell_type": "code",
   "execution_count": 25,
   "id": "f718da13",
   "metadata": {},
   "outputs": [
    {
     "data": {
      "text/plain": [
       "array([[0.33997232, 0.24933687, 0.4106908 ]], dtype=float32)"
      ]
     },
     "execution_count": 25,
     "metadata": {},
     "output_type": "execute_result"
    }
   ],
   "source": [
    "xgb_model.predict_proba(a1_X_pred.to_numpy().reshape(1,-1))"
   ]
  },
  {
   "cell_type": "code",
   "execution_count": 26,
   "id": "a526fefe",
   "metadata": {},
   "outputs": [
    {
     "data": {
      "text/plain": [
       "pandas.core.series.Series"
      ]
     },
     "execution_count": 26,
     "metadata": {},
     "output_type": "execute_result"
    }
   ],
   "source": [
    "type(a1_X_pred)"
   ]
  },
  {
   "cell_type": "code",
   "execution_count": 27,
   "id": "84a79561",
   "metadata": {},
   "outputs": [
    {
     "data": {
      "text/plain": [
       "(16,)"
      ]
     },
     "execution_count": 27,
     "metadata": {},
     "output_type": "execute_result"
    }
   ],
   "source": [
    "a1_X_pred.shape"
   ]
  },
  {
   "cell_type": "code",
   "execution_count": 28,
   "id": "2c41bbd6",
   "metadata": {},
   "outputs": [],
   "source": [
    "# add predictions to X_train\n",
    "\n",
    "a1_master1 = a[a1_col_list].copy()\n",
    "a1_master1['pred0'] = xgb_model.predict(a1_master1[a1_X_train.columns])"
   ]
  },
  {
   "cell_type": "code",
   "execution_count": 30,
   "id": "0ddf8a8a",
   "metadata": {},
   "outputs": [
    {
     "data": {
      "text/html": [
       "<div>\n",
       "<style scoped>\n",
       "    .dataframe tbody tr th:only-of-type {\n",
       "        vertical-align: middle;\n",
       "    }\n",
       "\n",
       "    .dataframe tbody tr th {\n",
       "        vertical-align: top;\n",
       "    }\n",
       "\n",
       "    .dataframe thead th {\n",
       "        text-align: right;\n",
       "    }\n",
       "</style>\n",
       "<table border=\"1\" class=\"dataframe\">\n",
       "  <thead>\n",
       "    <tr style=\"text-align: right;\">\n",
       "      <th></th>\n",
       "      <th>o</th>\n",
       "      <th>c</th>\n",
       "      <th>ac</th>\n",
       "      <th>vpd_hlc</th>\n",
       "      <th>vpd_opac</th>\n",
       "      <th>mu_rol3</th>\n",
       "      <th>mu_rol8</th>\n",
       "      <th>mu_rol21</th>\n",
       "      <th>std_rol3</th>\n",
       "      <th>std_rol8</th>\n",
       "      <th>std_rol21</th>\n",
       "      <th>hl_pct</th>\n",
       "      <th>oc_pct</th>\n",
       "      <th>ac1_pct</th>\n",
       "      <th>ac8_pct</th>\n",
       "      <th>ac21_pct</th>\n",
       "      <th>ac1_pred</th>\n",
       "      <th>pred0</th>\n",
       "    </tr>\n",
       "    <tr>\n",
       "      <th>Date</th>\n",
       "      <th></th>\n",
       "      <th></th>\n",
       "      <th></th>\n",
       "      <th></th>\n",
       "      <th></th>\n",
       "      <th></th>\n",
       "      <th></th>\n",
       "      <th></th>\n",
       "      <th></th>\n",
       "      <th></th>\n",
       "      <th></th>\n",
       "      <th></th>\n",
       "      <th></th>\n",
       "      <th></th>\n",
       "      <th></th>\n",
       "      <th></th>\n",
       "      <th></th>\n",
       "      <th></th>\n",
       "    </tr>\n",
       "  </thead>\n",
       "  <tbody>\n",
       "    <tr>\n",
       "      <th>2023-03-30</th>\n",
       "      <td>98.000000</td>\n",
       "      <td>97.879997</td>\n",
       "      <td>97.879997</td>\n",
       "      <td>2.617479e+07</td>\n",
       "      <td>4.973095e+08</td>\n",
       "      <td>96.176664</td>\n",
       "      <td>97.109999</td>\n",
       "      <td>90.693809</td>\n",
       "      <td>1.661696</td>\n",
       "      <td>1.721860</td>\n",
       "      <td>7.250574</td>\n",
       "      <td>0.023265</td>\n",
       "      <td>-0.001225</td>\n",
       "      <td>95.089996</td>\n",
       "      <td>95.809998</td>\n",
       "      <td>77.290001</td>\n",
       "      <td>0.0</td>\n",
       "      <td>0</td>\n",
       "    </tr>\n",
       "    <tr>\n",
       "      <th>2023-03-31</th>\n",
       "      <td>96.339996</td>\n",
       "      <td>98.010002</td>\n",
       "      <td>98.010002</td>\n",
       "      <td>1.806716e+07</td>\n",
       "      <td>3.342958e+07</td>\n",
       "      <td>97.326665</td>\n",
       "      <td>97.369999</td>\n",
       "      <td>91.530475</td>\n",
       "      <td>1.072958</td>\n",
       "      <td>1.674618</td>\n",
       "      <td>7.018199</td>\n",
       "      <td>0.032074</td>\n",
       "      <td>0.017335</td>\n",
       "      <td>96.879997</td>\n",
       "      <td>94.930000</td>\n",
       "      <td>79.440002</td>\n",
       "      <td>1.0</td>\n",
       "      <td>1</td>\n",
       "    </tr>\n",
       "    <tr>\n",
       "      <th>2023-04-03</th>\n",
       "      <td>96.699997</td>\n",
       "      <td>96.559998</td>\n",
       "      <td>96.559998</td>\n",
       "      <td>2.558344e+07</td>\n",
       "      <td>3.618251e+08</td>\n",
       "      <td>97.483332</td>\n",
       "      <td>97.242498</td>\n",
       "      <td>92.246666</td>\n",
       "      <td>0.802269</td>\n",
       "      <td>1.695050</td>\n",
       "      <td>6.706032</td>\n",
       "      <td>0.020476</td>\n",
       "      <td>-0.001448</td>\n",
       "      <td>97.010002</td>\n",
       "      <td>96.580002</td>\n",
       "      <td>80.519997</td>\n",
       "      <td>1.0</td>\n",
       "      <td>1</td>\n",
       "    </tr>\n",
       "    <tr>\n",
       "      <th>2023-04-04</th>\n",
       "      <td>97.040001</td>\n",
       "      <td>95.870003</td>\n",
       "      <td>95.870003</td>\n",
       "      <td>2.096891e+07</td>\n",
       "      <td>3.691963e+07</td>\n",
       "      <td>96.813334</td>\n",
       "      <td>96.691249</td>\n",
       "      <td>92.947142</td>\n",
       "      <td>1.092261</td>\n",
       "      <td>1.215301</td>\n",
       "      <td>6.242306</td>\n",
       "      <td>0.021228</td>\n",
       "      <td>-0.012057</td>\n",
       "      <td>95.559998</td>\n",
       "      <td>99.279999</td>\n",
       "      <td>80.160004</td>\n",
       "      <td>1.0</td>\n",
       "      <td>1</td>\n",
       "    </tr>\n",
       "    <tr>\n",
       "      <th>2023-04-05</th>\n",
       "      <td>94.349998</td>\n",
       "      <td>92.559998</td>\n",
       "      <td>92.559998</td>\n",
       "      <td>1.687239e+07</td>\n",
       "      <td>2.959736e+07</td>\n",
       "      <td>94.996666</td>\n",
       "      <td>96.017499</td>\n",
       "      <td>93.444761</td>\n",
       "      <td>2.138232</td>\n",
       "      <td>1.780448</td>\n",
       "      <td>5.730767</td>\n",
       "      <td>0.033280</td>\n",
       "      <td>-0.018972</td>\n",
       "      <td>94.870003</td>\n",
       "      <td>96.949997</td>\n",
       "      <td>81.110001</td>\n",
       "      <td>0.0</td>\n",
       "      <td>1</td>\n",
       "    </tr>\n",
       "    <tr>\n",
       "      <th>2023-04-06</th>\n",
       "      <td>91.470001</td>\n",
       "      <td>92.470001</td>\n",
       "      <td>92.470001</td>\n",
       "      <td>2.086392e+07</td>\n",
       "      <td>4.777840e+07</td>\n",
       "      <td>93.633334</td>\n",
       "      <td>95.499999</td>\n",
       "      <td>93.782856</td>\n",
       "      <td>1.937535</td>\n",
       "      <td>2.147464</td>\n",
       "      <td>5.432227</td>\n",
       "      <td>0.025036</td>\n",
       "      <td>0.010933</td>\n",
       "      <td>91.559998</td>\n",
       "      <td>95.610001</td>\n",
       "      <td>84.370003</td>\n",
       "      <td>2.0</td>\n",
       "      <td>2</td>\n",
       "    </tr>\n",
       "    <tr>\n",
       "      <th>2023-04-10</th>\n",
       "      <td>91.320000</td>\n",
       "      <td>95.480003</td>\n",
       "      <td>95.480003</td>\n",
       "      <td>1.099084e+07</td>\n",
       "      <td>1.262891e+07</td>\n",
       "      <td>93.503334</td>\n",
       "      <td>95.615000</td>\n",
       "      <td>94.328094</td>\n",
       "      <td>1.712437</td>\n",
       "      <td>2.114312</td>\n",
       "      <td>4.958331</td>\n",
       "      <td>0.052343</td>\n",
       "      <td>0.045554</td>\n",
       "      <td>91.470001</td>\n",
       "      <td>93.559998</td>\n",
       "      <td>83.029999</td>\n",
       "      <td>1.0</td>\n",
       "      <td>1</td>\n",
       "    </tr>\n",
       "    <tr>\n",
       "      <th>2023-04-11</th>\n",
       "      <td>96.059998</td>\n",
       "      <td>94.029999</td>\n",
       "      <td>94.029999</td>\n",
       "      <td>1.536563e+07</td>\n",
       "      <td>2.558415e+07</td>\n",
       "      <td>93.993334</td>\n",
       "      <td>95.357500</td>\n",
       "      <td>94.869047</td>\n",
       "      <td>1.505336</td>\n",
       "      <td>2.172831</td>\n",
       "      <td>4.181706</td>\n",
       "      <td>0.035186</td>\n",
       "      <td>-0.021133</td>\n",
       "      <td>94.480003</td>\n",
       "      <td>95.089996</td>\n",
       "      <td>81.669998</td>\n",
       "      <td>1.0</td>\n",
       "      <td>1</td>\n",
       "    </tr>\n",
       "    <tr>\n",
       "      <th>2023-04-12</th>\n",
       "      <td>94.970001</td>\n",
       "      <td>92.330002</td>\n",
       "      <td>92.330002</td>\n",
       "      <td>1.637517e+07</td>\n",
       "      <td>2.022088e+07</td>\n",
       "      <td>93.946668</td>\n",
       "      <td>94.663751</td>\n",
       "      <td>95.360475</td>\n",
       "      <td>1.576653</td>\n",
       "      <td>2.138117</td>\n",
       "      <td>3.047569</td>\n",
       "      <td>0.034327</td>\n",
       "      <td>-0.027798</td>\n",
       "      <td>93.029999</td>\n",
       "      <td>96.879997</td>\n",
       "      <td>81.010002</td>\n",
       "      <td>0.0</td>\n",
       "      <td>0</td>\n",
       "    </tr>\n",
       "    <tr>\n",
       "      <th>2023-04-13</th>\n",
       "      <td>92.790001</td>\n",
       "      <td>92.089996</td>\n",
       "      <td>92.089996</td>\n",
       "      <td>3.046860e+07</td>\n",
       "      <td>5.789005e+07</td>\n",
       "      <td>92.816666</td>\n",
       "      <td>93.923750</td>\n",
       "      <td>95.581428</td>\n",
       "      <td>1.057607</td>\n",
       "      <td>1.814497</td>\n",
       "      <td>2.577292</td>\n",
       "      <td>0.014333</td>\n",
       "      <td>-0.007544</td>\n",
       "      <td>91.330002</td>\n",
       "      <td>97.010002</td>\n",
       "      <td>86.449997</td>\n",
       "      <td>NaN</td>\n",
       "      <td>2</td>\n",
       "    </tr>\n",
       "  </tbody>\n",
       "</table>\n",
       "</div>"
      ],
      "text/plain": [
       "                    o          c         ac       vpd_hlc      vpd_opac  \\\n",
       "Date                                                                      \n",
       "2023-03-30  98.000000  97.879997  97.879997  2.617479e+07  4.973095e+08   \n",
       "2023-03-31  96.339996  98.010002  98.010002  1.806716e+07  3.342958e+07   \n",
       "2023-04-03  96.699997  96.559998  96.559998  2.558344e+07  3.618251e+08   \n",
       "2023-04-04  97.040001  95.870003  95.870003  2.096891e+07  3.691963e+07   \n",
       "2023-04-05  94.349998  92.559998  92.559998  1.687239e+07  2.959736e+07   \n",
       "2023-04-06  91.470001  92.470001  92.470001  2.086392e+07  4.777840e+07   \n",
       "2023-04-10  91.320000  95.480003  95.480003  1.099084e+07  1.262891e+07   \n",
       "2023-04-11  96.059998  94.029999  94.029999  1.536563e+07  2.558415e+07   \n",
       "2023-04-12  94.970001  92.330002  92.330002  1.637517e+07  2.022088e+07   \n",
       "2023-04-13  92.790001  92.089996  92.089996  3.046860e+07  5.789005e+07   \n",
       "\n",
       "              mu_rol3    mu_rol8   mu_rol21  std_rol3  std_rol8  std_rol21  \\\n",
       "Date                                                                         \n",
       "2023-03-30  96.176664  97.109999  90.693809  1.661696  1.721860   7.250574   \n",
       "2023-03-31  97.326665  97.369999  91.530475  1.072958  1.674618   7.018199   \n",
       "2023-04-03  97.483332  97.242498  92.246666  0.802269  1.695050   6.706032   \n",
       "2023-04-04  96.813334  96.691249  92.947142  1.092261  1.215301   6.242306   \n",
       "2023-04-05  94.996666  96.017499  93.444761  2.138232  1.780448   5.730767   \n",
       "2023-04-06  93.633334  95.499999  93.782856  1.937535  2.147464   5.432227   \n",
       "2023-04-10  93.503334  95.615000  94.328094  1.712437  2.114312   4.958331   \n",
       "2023-04-11  93.993334  95.357500  94.869047  1.505336  2.172831   4.181706   \n",
       "2023-04-12  93.946668  94.663751  95.360475  1.576653  2.138117   3.047569   \n",
       "2023-04-13  92.816666  93.923750  95.581428  1.057607  1.814497   2.577292   \n",
       "\n",
       "              hl_pct    oc_pct    ac1_pct    ac8_pct   ac21_pct  ac1_pred  \\\n",
       "Date                                                                        \n",
       "2023-03-30  0.023265 -0.001225  95.089996  95.809998  77.290001       0.0   \n",
       "2023-03-31  0.032074  0.017335  96.879997  94.930000  79.440002       1.0   \n",
       "2023-04-03  0.020476 -0.001448  97.010002  96.580002  80.519997       1.0   \n",
       "2023-04-04  0.021228 -0.012057  95.559998  99.279999  80.160004       1.0   \n",
       "2023-04-05  0.033280 -0.018972  94.870003  96.949997  81.110001       0.0   \n",
       "2023-04-06  0.025036  0.010933  91.559998  95.610001  84.370003       2.0   \n",
       "2023-04-10  0.052343  0.045554  91.470001  93.559998  83.029999       1.0   \n",
       "2023-04-11  0.035186 -0.021133  94.480003  95.089996  81.669998       1.0   \n",
       "2023-04-12  0.034327 -0.027798  93.029999  96.879997  81.010002       0.0   \n",
       "2023-04-13  0.014333 -0.007544  91.330002  97.010002  86.449997       NaN   \n",
       "\n",
       "            pred0  \n",
       "Date               \n",
       "2023-03-30      0  \n",
       "2023-03-31      1  \n",
       "2023-04-03      1  \n",
       "2023-04-04      1  \n",
       "2023-04-05      1  \n",
       "2023-04-06      2  \n",
       "2023-04-10      1  \n",
       "2023-04-11      1  \n",
       "2023-04-12      0  \n",
       "2023-04-13      2  "
      ]
     },
     "execution_count": 30,
     "metadata": {},
     "output_type": "execute_result"
    }
   ],
   "source": [
    "a1_master1.tail(10)"
   ]
  },
  {
   "cell_type": "code",
   "execution_count": null,
   "id": "bb69b939",
   "metadata": {},
   "outputs": [],
   "source": []
  }
 ],
 "metadata": {
  "kernelspec": {
   "display_name": "Python 3",
   "language": "python",
   "name": "python3"
  },
  "language_info": {
   "codemirror_mode": {
    "name": "ipython",
    "version": 3
   },
   "file_extension": ".py",
   "mimetype": "text/x-python",
   "name": "python",
   "nbconvert_exporter": "python",
   "pygments_lexer": "ipython3",
   "version": "3.8.10"
  }
 },
 "nbformat": 4,
 "nbformat_minor": 5
}
