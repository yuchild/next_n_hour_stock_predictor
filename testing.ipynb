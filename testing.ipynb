{
 "cells": [
  {
   "cell_type": "code",
   "execution_count": 1,
   "id": "f87bc726",
   "metadata": {},
   "outputs": [],
   "source": [
    "import yfinance as yf\n",
    "import pandas as pd\n",
    "import numpy as np\n",
    "from numpy import where\n",
    "import xgboost as xgb\n",
    "from sklearn.model_selection import GridSearchCV, StratifiedKFold\n",
    "from sklearn.metrics import accuracy_score"
   ]
  },
  {
   "cell_type": "code",
   "execution_count": 2,
   "id": "f57c8eac",
   "metadata": {},
   "outputs": [
    {
     "name": "stdout",
     "output_type": "stream",
     "text": [
      "[*********************100%***********************]  1 of 1 completed\n",
      "[*********************100%***********************]  1 of 1 completed\n",
      "[*********************100%***********************]  1 of 1 completed\n",
      "[*********************100%***********************]  1 of 1 completed\n",
      "[*********************100%***********************]  1 of 1 completed\n",
      "[*********************100%***********************]  1 of 1 completed\n",
      "[*********************100%***********************]  1 of 1 completed\n",
      "[*********************100%***********************]  1 of 1 completed\n",
      "[*********************100%***********************]  1 of 1 completed\n",
      "[*********************100%***********************]  1 of 1 completed\n",
      "[*********************100%***********************]  1 of 1 completed\n",
      "[*********************100%***********************]  1 of 1 completed\n",
      "[*********************100%***********************]  1 of 1 completed\n"
     ]
    }
   ],
   "source": [
    "aapl_day = yf.download(\"AAPL\", start=\"1980-12-08\", end=None) # 15\n",
    "aapl_day.to_pickle('./data/aapl_day.pkl')\n",
    "adbe_day = yf.download(\"ADBE\", start=\"1986-08-11\", end=None) # 265\n",
    "adbe_day.to_pickle('./data/adbe_day.pkl')\n",
    "amd_day = yf.download(\"AMD\", start=\"1980-03-17\", end=None) # 265\n",
    "amd_day.to_pickle('./data/amd_day.pkl')\n",
    "amat_day = yf.download(\"AMAT\", start=\"1980-03-16\", end=None) # 75\n",
    "amat_day.to_pickle('./data/amat_day.pkl')\n",
    "brkb_day = yf.download(\"BRK-B\", start=\"1996-05-06\", end=None) # 7555\n",
    "brkb_day.to_pickle('./data/brkb_day.pkl')\n",
    "cost_day = yf.download(\"COST\", start=\"1986-07-07\", end=None) # 1125\n",
    "cost_day.to_pickle('./data/cost_day.pkl')\n",
    "goog_day = yf.download(\"GOOG\", start=\"2004-08-16\", end=None) # 1955\n",
    "goog_day.to_pickle('./data/goog_day.pkl') \n",
    "intc_day = yf.download(\"INTC\", start=\"1980-03-16\", end=None) # 175\n",
    "intc_day.to_pickle('./data/intc_day.pkl')\n",
    "msft_day = yf.download(\"MSFT\", start=\"1986-03-10\", end=None) # 575\n",
    "msft_day.to_pickle('./data/msft_day.pkl')\n",
    "mu_day = yf.download(\"MU\", start=\"2013-05-29\", end=None) # 1475\n",
    "mu_day.to_pickle('./data/mu_day.pkl')\n",
    "nvda_day = yf.download(\"NVDA\", start=\"1999-01-22\", end=None) # 155\n",
    "nvda_day.to_pickle('./data/nvda_day.pkl')\n",
    "tsm_day = yf.download(\"TSM\", start=\"1997-10-06\", end=None) # 395\n",
    "tsm_day.to_pickle('./data/tsm_day.pkl')\n",
    "xlk_day = yf.download(\"XLK\", start=\"1998-12-21\", end=None) # 2395\n",
    "xlk_day.to_pickle('./data/xlk_day.pkl')"
   ]
  },
  {
   "cell_type": "code",
   "execution_count": null,
   "id": "a063bba1",
   "metadata": {},
   "outputs": [],
   "source": [
    "# aapl_hour = yf.download(tickers=\"AAPL\",\n",
    "#                        period=\"2y\",\n",
    "#                        interval=\"1h\"\n",
    "#                       )\n",
    "# aapl_hour.to_pickle('./data/aapl_hr.pkl')"
   ]
  },
  {
   "cell_type": "code",
   "execution_count": null,
   "id": "e2c765f1",
   "metadata": {},
   "outputs": [],
   "source": [
    "def compute_up_down(begin, end):\n",
    "    if abs((end - begin) / begin) <= 1475:\n",
    "        return 0\n",
    "    elif ((end - begin) / begin) > 1475:\n",
    "        return 1\n",
    "    else:\n",
    "        return 2\n",
    "    \n",
    "def compute_volume_per_dollar(vol, begin, end):\n",
    "    if begin - end == 0:\n",
    "        return vol\n",
    "    else:\n",
    "        return vol / abs(begin - end)\n",
    "    \n",
    "def compute_pct_change(num1, num2, dem):\n",
    "    if dem == 0:\n",
    "        return 0\n",
    "    else:\n",
    "        return (num2 - num1) / dem\n",
    "\n",
    "def week_of_month(dt):\n",
    "    from math import ceil\n",
    "    \"\"\"\n",
    "    returns week of the month for the specified date.\n",
    "    \"\"\"\n",
    "    first_day = dt.replace(day=1)\n",
    "    dom = dt.day\n",
    "    adjusted_dom = dom + first_day.weekday()\n",
    "    return int(ceil(adjusted_dom/7.0))"
   ]
  },
  {
   "cell_type": "code",
   "execution_count": null,
   "id": "f357bda6",
   "metadata": {},
   "outputs": [],
   "source": [
    "a = pd.read_pickle('./data/mu_day.pkl')\n",
    "a = a.rename(columns={'Adj Close': 'ac'\n",
    "                      , 'Open': 'o'\n",
    "                      , 'Close': 'c'\n",
    "                      , 'High': 'h'\n",
    "                      , 'Low': 'l'\n",
    "                      , 'Volume': 'v'\n",
    "                     })"
   ]
  },
  {
   "cell_type": "code",
   "execution_count": null,
   "id": "3ee9f403",
   "metadata": {
    "scrolled": false
   },
   "outputs": [],
   "source": [
    "a['dow'] = a.index.weekday\n",
    "a['wom'] = a.index.to_series().apply(week_of_month)\n",
    "a['mon'] = a.index.month\n",
    "\n",
    "a['v_mu_rol3'] = a['v'].rolling(window=3).mean()\n",
    "a['v_mu_rol5'] = a['v'].rolling(window=5).mean()\n",
    "a['v_mu_rol8'] = a['v'].rolling(window=8).mean()\n",
    "a['v_mu_rol13'] = a['v'].rolling(window=13).mean()\n",
    "a['v_mu_rol21'] = a['v'].rolling(window=21).mean()\n",
    "\n",
    "a['v_std_rol3'] = a['v'].rolling(window=3).std()\n",
    "a['v_std_rol5'] = a['v'].rolling(window=5).std()\n",
    "a['v_std_rol8'] = a['v'].rolling(window=8).std()\n",
    "a['v_std_rol13'] = a['v'].rolling(window=13).std()\n",
    "a['v_std_rol21'] = a['v'].rolling(window=21).std()\n",
    "\n",
    "a['vpd_hlc'] = a.apply(lambda row: compute_volume_per_dollar(row['v'], row['h'], row['l']), axis=1)  # volume per dollar high low change\n",
    "a['vpd_opac'] = a.apply(lambda row: compute_volume_per_dollar(row['v'], row['o'], row['c']), axis=1)  # volume per dollar open close absolute change\n",
    "\n",
    "a['ac1'] = a['ac'].pct_change(1)\n",
    "a['ac3'] = a['ac'].pct_change(3)\n",
    "a['ac5'] = a['ac'].pct_change(5)\n",
    "a['ac8'] = a['ac'].pct_change(8)\n",
    "a['ac13'] = a['ac'].pct_change(13)\n",
    "a['ac21'] = a['ac'].pct_change(21)\n",
    "\n",
    "a['mu_rol3'] = a['ac1'].rolling(window=3).mean()\n",
    "a['mu_rol5'] = a['ac1'].rolling(window=5).mean()\n",
    "a['mu_rol8'] = a['ac1'].rolling(window=8).mean()\n",
    "a['mu_rol13'] = a['ac1'].rolling(window=13).mean()\n",
    "a['mu_rol21'] = a['ac1'].rolling(window=21).mean()\n",
    "\n",
    "a['std_rol3'] = a['ac1'].rolling(window=3).std()\n",
    "a['std_rol5'] = a['ac1'].rolling(window=5).std()\n",
    "a['std_rol8'] = a['ac1'].rolling(window=8).std()\n",
    "a['std_rol13'] = a['ac1'].rolling(window=13).std()\n",
    "a['std_rol21'] = a['ac1'].rolling(window=21).std()\n",
    "\n",
    "a['hl_pct'] = a.apply(lambda row: compute_pct_change(row['l'], row['h'], row['o']), axis=1)\n",
    "a['oc_pct'] = a.apply(lambda row: compute_pct_change(row['o'], row['c'], row['o']), axis=1)\n",
    "\n",
    "a.dropna(axis=0, inplace=True)\n",
    "\n",
    "a['ac'] = where(a['ac'] == 0.0, a['c'], a['ac'])\n",
    "a['ac1'] = where(a['ac1'] == 0.0, a['c'], a['ac1'])\n",
    "a['ac3'] = where(a['ac3'] == 0.0, a['c'], a['ac3'])\n",
    "a['ac5'] = where(a['ac5'] == 0.0, a['c'], a['ac5'])\n",
    "a['ac3'] = where(a['ac8'] == 0.0, a['c'], a['ac8'])\n",
    "a['ac13'] = where(a['ac13'] == 0.0, a['c'], a['ac13'])\n",
    "a['ac21'] = where(a['ac21'] == 0.0, a['c'], a['ac21'])\n",
    "\n",
    "a['v_z_rol3'] = (a['v'] - a['v_mu_rol3']) / a['v_std_rol3']\n",
    "a['v_z_rol5'] = (a['v'] - a['v_mu_rol5']) / a['v_std_rol5']\n",
    "a['v_z_rol8'] = (a['v'] - a['v_mu_rol8']) / a['v_std_rol8']\n",
    "a['v_z_rol13'] = (a['v'] - a['v_mu_rol13']) / a['v_std_rol13']\n",
    "a['v_z_rol21'] = (a['v'] - a['v_mu_rol21']) / a['v_std_rol21']\n",
    "\n",
    "a['ac_z_rol3'] = (a['ac'] - a['mu_rol3']) / a['std_rol3']\n",
    "a['ac_z_rol5'] = (a['ac'] - a['mu_rol5']) / a['std_rol5']\n",
    "a['ac_z_rol8'] = (a['ac'] - a['mu_rol8']) / a['std_rol8']\n",
    "a['ac_z_rol13'] = (a['ac'] - a['mu_rol13']) / a['std_rol13']\n",
    "a['ac_z_rol21'] = (a['ac'] - a['mu_rol21']) / a['std_rol21']\n",
    "\n",
    "a['ac1_up_dwn'] = a.apply(lambda row: compute_up_down(row['ac1'], row['ac']), axis=1)\n",
    "a['ac3_up_dwn'] = a.apply(lambda row: compute_up_down(row['ac3'], row['ac']), axis=1)\n",
    "a['ac5_up_dwn'] = a.apply(lambda row: compute_up_down(row['ac5'], row['ac']), axis=1)\n",
    "a['ac8_up_dwn'] = a.apply(lambda row: compute_up_down(row['ac8'], row['ac']), axis=1)\n",
    "a['ac13_up_dwn'] = a.apply(lambda row: compute_up_down(row['ac13'], row['ac']), axis=1)\n",
    "a['ac21_up_dwn'] = a.apply(lambda row: compute_up_down(row['ac21'], row['ac']), axis=1)\n",
    "\n",
    "a['ac1_avg5'] = a['ac1_up_dwn'].rolling(window=5).mean()\n",
    "a['ac1_avg13'] = a['ac1_up_dwn'].rolling(window=13).mean()\n",
    "a['ac1_avg21'] = a['ac1_up_dwn'].rolling(window=21).mean()\n",
    "\n",
    "a.dropna(axis=0, inplace=True)\n",
    "\n",
    "a['ac1_pred'] = a['ac1_up_dwn'].shift(-1)\n",
    "a['ac3_pred'] = a['ac3_up_dwn'].shift(-3)\n",
    "a['ac5_pred'] = a['ac5_up_dwn'].shift(-5)\n",
    "a['ac8_pred'] = a['ac8_up_dwn'].shift(-8)\n",
    "a['ac13_pred'] = a['ac13_up_dwn'].shift(-13)\n",
    "a['ac21_pred'] = a['ac21_up_dwn'].shift(-21)\n",
    "\n",
    "a = a[~a.isin([np.inf, -np.inf]).any(axis=1)]"
   ]
  },
  {
   "cell_type": "code",
   "execution_count": null,
   "id": "5129a71e",
   "metadata": {
    "scrolled": true
   },
   "outputs": [],
   "source": [
    "a['ac1_pred'].value_counts()"
   ]
  },
  {
   "cell_type": "code",
   "execution_count": null,
   "id": "d2fd6980",
   "metadata": {},
   "outputs": [],
   "source": [
    "# Upsampling...\n",
    "\n",
    "# a0s = a[a['ac1_pred'] == 0.0]\n",
    "\n",
    "# for _ in range(7):\n",
    "#     a = pd.concat([a, a0s], axis=0)\n",
    "\n",
    "# a['ac1_pred'].value_counts()"
   ]
  },
  {
   "cell_type": "code",
   "execution_count": null,
   "id": "9c538ec2",
   "metadata": {},
   "outputs": [],
   "source": [
    "a.columns"
   ]
  },
  {
   "cell_type": "code",
   "execution_count": null,
   "id": "9515e64f",
   "metadata": {},
   "outputs": [],
   "source": [
    "a1_col_list = ['o'\n",
    "               # , 'h'\n",
    "               # , 'l'\n",
    "               # , 'c'\n",
    "               , 'ac'\n",
    "               # , 'v'\n",
    "               , 'dow'\n",
    "               # , 'wom'\n",
    "               , 'mon'\n",
    "               # , 'v_mu_rol3'\n",
    "               # , 'v_mu_rol5'\n",
    "               # , 'v_mu_rol8'\n",
    "               # , 'v_mu_rol13'\n",
    "               # , 'v_mu_rol21'\n",
    "               # , 'v_std_rol3'\n",
    "               # , 'v_std_rol5'\n",
    "               # , 'v_std_rol8'\n",
    "               # , 'v_std_rol13'\n",
    "               # , 'v_std_rol21'\n",
    "               # , 'vpd_hlc'\n",
    "               # , 'vpd_opac'\n",
    "               # , 'ac1'\n",
    "               # , 'ac3'\n",
    "               # , 'ac5'\n",
    "               # , 'ac8'\n",
    "               # , 'ac13'\n",
    "               # , 'ac21'\n",
    "               , 'mu_rol3'\n",
    "               # , 'mu_rol5'\n",
    "               # , 'mu_rol8'\n",
    "               # , 'mu_rol13'\n",
    "               , 'mu_rol21'\n",
    "               # , 'std_rol3'\n",
    "               # , 'std_rol5'\n",
    "               # , 'std_rol8'\n",
    "               # , 'std_rol13'\n",
    "               # , 'std_rol21'\n",
    "               , 'hl_pct'\n",
    "               , 'oc_pct'\n",
    "               , 'v_z_rol3'\n",
    "               # , 'v_z_rol5'\n",
    "               # , 'v_z_rol8'\n",
    "               # , 'v_z_rol13'\n",
    "               , 'v_z_rol21'\n",
    "               , 'ac_z_rol3'\n",
    "               # , 'ac_z_rol5'\n",
    "               # , 'ac_z_rol8'\n",
    "               # , 'ac_z_rol13'\n",
    "               , 'ac_z_rol21'\n",
    "               , 'ac1_up_dwn'\n",
    "               # , 'ac3_up_dwn'\n",
    "               # , 'ac5_up_dwn'\n",
    "               # , 'ac8_up_dwn'\n",
    "               # , 'ac13_up_dwn'\n",
    "               # , 'ac21_up_dwn'\n",
    "               , 'ac1_avg5'\n",
    "               # , 'ac1_avg13'\n",
    "               , 'ac1_avg21'\n",
    "               , 'ac1_pred'\n",
    "               ,\n",
    "              ]\n",
    "\n",
    "a1_master0 = a[a1_col_list].copy()\n",
    "\n",
    "a1_X_pred = a1_master0[a1_col_list[:-1]].iloc[-1].copy()\n",
    "\n",
    "a1_master0.drop(a1_master0.index[-1], axis=0, inplace=True)\n",
    "\n",
    "a1_master0 = a1_master0.sample(frac=1, random_state=21)\n",
    "a1_master0 = a1_master0.sample(frac=1, random_state=42)\n",
    "\n",
    "idx_split2_9th = int(a.shape[0] * 2.0 / 9)\n",
    "idx_split3_9th = int(a.shape[0] * 1.0 / 3)\n",
    "idx_split5_9th = int(a.shape[0] * 5.0 / 9)\n",
    "idx_split6_9th = int(a.shape[0] * 2.0 / 3)\n",
    "idx_split8_9th = int(a.shape[0] * 8.0 / 9)\n",
    "\n",
    "a1_X_train = a1_master0.iloc[:idx_split2_9th].drop('ac1_pred', axis=1)\n",
    "a1_y_train = a1_master0['ac1_pred'].iloc[:idx_split2_9th]\n",
    "a1_X_test = a1_master0.iloc[idx_split2_9th:idx_split3_9th].drop('ac1_pred', axis=1)\n",
    "a1_y_test = a1_master0['ac1_pred'].iloc[idx_split2_9th:idx_split3_9th]"
   ]
  },
  {
   "cell_type": "code",
   "execution_count": null,
   "id": "a9f32e7c",
   "metadata": {},
   "outputs": [],
   "source": []
  },
  {
   "cell_type": "code",
   "execution_count": null,
   "id": "eaeff83f",
   "metadata": {},
   "outputs": [],
   "source": []
  },
  {
   "cell_type": "code",
   "execution_count": null,
   "id": "4032c1aa",
   "metadata": {},
   "outputs": [],
   "source": [
    "# sanity check first partition for training\n",
    "print(a1_master0.shape)\n",
    "print(a1_X_train.shape)\n",
    "print(a1_y_train.shape)\n",
    "print(a1_X_test.shape)\n",
    "print(a1_y_test.shape)"
   ]
  },
  {
   "cell_type": "code",
   "execution_count": null,
   "id": "f1009e42",
   "metadata": {
    "scrolled": true
   },
   "outputs": [],
   "source": [
    "# check for infinities\n",
    "a1_X_train.isin([np.inf, -np.inf]).sum()"
   ]
  },
  {
   "cell_type": "code",
   "execution_count": null,
   "id": "389e8b3e",
   "metadata": {},
   "outputs": [],
   "source": [
    "mask = np.isinf(a1_X_train)\n",
    "\n",
    "result = a1_X_train[mask.any(axis=1)]\n",
    "\n",
    "result"
   ]
  },
  {
   "cell_type": "code",
   "execution_count": null,
   "id": "aebdc164",
   "metadata": {},
   "outputs": [],
   "source": [
    "# modeling partition first 1/3\n",
    "\n",
    "xgb_model0 = xgb.XGBClassifier(objective='multi:softmax'\n",
    "                              , num_class=3\n",
    "                              , random_state=42\n",
    "                              , max_depth=5\n",
    "                              , n_estimators=255\n",
    "                              , learning_rate=0.0001\n",
    "                              , min_child_weight=3\n",
    "                             )\n",
    "\n",
    "xgb_model0.fit(a1_X_train, a1_y_train)\n",
    "\n",
    "y_pred = xgb_model0.predict(a1_X_test)\n",
    "\n",
    "# y_pred_prob = xgb_model0.predict_proba(a1_X_test)[:, 1]\n",
    "\n",
    "acc = accuracy_score(a1_y_test, y_pred)\n",
    "\n",
    "print(f'Accuracy: {acc}')"
   ]
  },
  {
   "cell_type": "code",
   "execution_count": null,
   "id": "d90e4c1a",
   "metadata": {
    "scrolled": true
   },
   "outputs": [],
   "source": [
    "xgb_model0.feature_importances_"
   ]
  },
  {
   "cell_type": "code",
   "execution_count": null,
   "id": "c4ac8a80",
   "metadata": {},
   "outputs": [],
   "source": [
    "a1_X_train.columns"
   ]
  },
  {
   "cell_type": "code",
   "execution_count": null,
   "id": "595b3502",
   "metadata": {},
   "outputs": [],
   "source": [
    "xgb_model0.predict(a1_X_pred.to_numpy().reshape(1,-1))[0]"
   ]
  },
  {
   "cell_type": "code",
   "execution_count": null,
   "id": "c66b2641",
   "metadata": {},
   "outputs": [],
   "source": [
    "xgb_model0.predict_proba(a1_X_pred.to_numpy().reshape(1,-1))"
   ]
  },
  {
   "cell_type": "code",
   "execution_count": null,
   "id": "f9839684",
   "metadata": {},
   "outputs": [],
   "source": []
  },
  {
   "cell_type": "code",
   "execution_count": null,
   "id": "ae4f4282",
   "metadata": {},
   "outputs": [],
   "source": []
  },
  {
   "cell_type": "code",
   "execution_count": null,
   "id": "905dbfd7",
   "metadata": {},
   "outputs": [],
   "source": []
  },
  {
   "cell_type": "code",
   "execution_count": null,
   "id": "afb6e2e9",
   "metadata": {},
   "outputs": [],
   "source": []
  },
  {
   "cell_type": "code",
   "execution_count": null,
   "id": "07e8292e",
   "metadata": {
    "scrolled": false
   },
   "outputs": [],
   "source": [
    "# pycaret model comparisons\n",
    "\n",
    "from pycaret.classification import *\n",
    "\n",
    "exp_name = setup(a1_master0.iloc[:idx_split2_9th]\n",
    "                 , target = 'ac1_pred'\n",
    "                )\n",
    "\n",
    "best_model = compare_models()\n",
    "\n",
    "evaluate_model(best_model)"
   ]
  },
  {
   "cell_type": "code",
   "execution_count": null,
   "id": "30273273",
   "metadata": {},
   "outputs": [],
   "source": []
  },
  {
   "cell_type": "code",
   "execution_count": null,
   "id": "062ba08e",
   "metadata": {},
   "outputs": [],
   "source": [
    "from sklearn.linear_model import LogisticRegression\n",
    "from sklearn.model_selection import train_test_split\n",
    "from sklearn.metrics import accuracy_score\n",
    "\n",
    "# Split the data into training and test sets\n",
    "a1_X_train = a1_master0.iloc[:idx_split2_9th].drop('ac1_pred', axis=1)\n",
    "a1_y_train = a1_master0['ac1_pred'].iloc[:idx_split2_9th]\n",
    "a1_X_test = a1_master0.iloc[idx_split2_9th:idx_split3_9th].drop('ac1_pred', axis=1)\n",
    "a1_y_test = a1_master0['ac1_pred'].iloc[idx_split2_9th:idx_split3_9th]\n",
    "\n",
    "X_train = a1_X_train\n",
    "X_test = a1_X_test\n",
    "y_train = a1_y_train\n",
    "y_test = a1_y_test\n",
    "\n",
    "# Create a logistic regression classifier parameters\n",
    "# C\t1.0\n",
    "# class_weight\tNone\n",
    "# dual\tFalse\n",
    "# fit_intercept\tTrue\n",
    "# intercept_scaling\t1\n",
    "# l1_ratio\tNone\n",
    "# max_iter\t1000\n",
    "# multi_class\tauto\n",
    "# n_jobs\tNone\n",
    "# penalty\tl2\n",
    "# random_state\t1906\n",
    "# solver\tlbfgs\n",
    "# tol\t0.0001\n",
    "# verbose\t0\n",
    "# warm_start\tFalse\n",
    "\n",
    "clf = LogisticRegression(random_state=1906\n",
    "                         , C=1.0\n",
    "                         , class_weight=None\n",
    "                         , dual=False\n",
    "                         , fit_intercept=True\n",
    "                         , intercept_scaling=1\n",
    "                         , l1_ratio=None\n",
    "                         , max_iter=1000\n",
    "                         , multi_class='auto'\n",
    "                         , n_jobs=-1\n",
    "                         , penalty='l2'\n",
    "                         , solver='lbfgs'\n",
    "                         , tol=0.0001\n",
    "                         , verbose=0\n",
    "                         , warm_start=False\n",
    "                        )\n",
    "\n",
    "# Train the classifier on the training data\n",
    "clf.fit(X_train, y_train)\n",
    "\n",
    "# Make predictions on the test data\n",
    "y_pred = clf.predict(X_test)\n",
    "\n",
    "# Evaluate the accuracy of the classifier\n",
    "accuracy = accuracy_score(y_test, y_pred)\n",
    "print(\"Accuracy:\", accuracy)\n"
   ]
  },
  {
   "cell_type": "code",
   "execution_count": null,
   "id": "530fa7c9",
   "metadata": {},
   "outputs": [],
   "source": [
    "clf.coef_[0]"
   ]
  },
  {
   "cell_type": "code",
   "execution_count": null,
   "id": "7c0d517f",
   "metadata": {},
   "outputs": [],
   "source": [
    "importance = clf.coef_[0]\n",
    "#importance is a list so you can plot it. \n",
    "feat_importances = pd.Series(importance)\n",
    "feat_importances.nlargest(15).plot(kind='barh',title = 'Feature Importance');"
   ]
  },
  {
   "cell_type": "code",
   "execution_count": null,
   "id": "87460f39",
   "metadata": {},
   "outputs": [],
   "source": [
    "clf.predict(a1_X_pred.to_numpy().reshape(1,-1))[0]"
   ]
  },
  {
   "cell_type": "code",
   "execution_count": null,
   "id": "7b75a445",
   "metadata": {},
   "outputs": [],
   "source": [
    "list(clf.predict_proba(a1_X_pred.to_numpy().reshape(1,-1))[0])"
   ]
  },
  {
   "cell_type": "code",
   "execution_count": null,
   "id": "2e32f338",
   "metadata": {},
   "outputs": [],
   "source": []
  },
  {
   "cell_type": "code",
   "execution_count": null,
   "id": "cb2dca24",
   "metadata": {},
   "outputs": [],
   "source": []
  },
  {
   "cell_type": "code",
   "execution_count": null,
   "id": "038a0022",
   "metadata": {},
   "outputs": [],
   "source": []
  },
  {
   "cell_type": "code",
   "execution_count": null,
   "id": "8271bb88",
   "metadata": {},
   "outputs": [],
   "source": []
  },
  {
   "cell_type": "code",
   "execution_count": null,
   "id": "94d738d6",
   "metadata": {},
   "outputs": [],
   "source": []
  },
  {
   "cell_type": "code",
   "execution_count": null,
   "id": "af45d821",
   "metadata": {},
   "outputs": [],
   "source": [
    "# random forest classifier\n",
    " \n",
    "from sklearn.metrics import (roc_auc_score\n",
    "                             , precision_score\n",
    "                             , recall_score\n",
    "                             , roc_curve\n",
    "                             , confusion_matrix\n",
    "                             , plot_confusion_matrix\n",
    "                             , precision_recall_curve\n",
    "                             , auc\n",
    "                            )\n",
    "\n",
    "from sklearn.ensemble import RandomForestClassifier as rfc\n",
    "from sklearn.model_selection import GridSearchCV\n",
    "import joblib\n",
    "\n",
    "rfc_model = rfc(random_state = 42\n",
    "                , n_jobs = -1\n",
    "               )\n",
    "\n",
    "rfc_model.fit(a1_X_train, a1_y_train)\n",
    "\n",
    "y_pred = rfc_model.predict(a1_X_test)\n",
    "\n",
    "acc = accuracy_score(a1_y_test, y_pred)\n",
    "\n",
    "print(f'Accuaracy: {acc}')"
   ]
  },
  {
   "cell_type": "code",
   "execution_count": null,
   "id": "5342e2c6",
   "metadata": {},
   "outputs": [],
   "source": [
    "rfc_model.feature_importances_"
   ]
  },
  {
   "cell_type": "code",
   "execution_count": null,
   "id": "7d505ebf",
   "metadata": {},
   "outputs": [],
   "source": []
  },
  {
   "cell_type": "code",
   "execution_count": null,
   "id": "3085bf3c",
   "metadata": {},
   "outputs": [],
   "source": []
  },
  {
   "cell_type": "code",
   "execution_count": null,
   "id": "80f60c53",
   "metadata": {},
   "outputs": [],
   "source": []
  },
  {
   "cell_type": "code",
   "execution_count": null,
   "id": "f6d2420a",
   "metadata": {},
   "outputs": [],
   "source": []
  },
  {
   "cell_type": "code",
   "execution_count": null,
   "id": "9c9b83cb",
   "metadata": {},
   "outputs": [],
   "source": []
  },
  {
   "cell_type": "code",
   "execution_count": null,
   "id": "590e2343",
   "metadata": {},
   "outputs": [],
   "source": []
  },
  {
   "cell_type": "code",
   "execution_count": null,
   "id": "023fcaf5",
   "metadata": {},
   "outputs": [],
   "source": [
    "# add predictions to X_train\n",
    "\n",
    "# idx_split2_9th = int(a.shape[0] * 2.0 / 9)\n",
    "# idx_split3_9th = int(a.shape[0] * 1.0 / 3)\n",
    "# idx_split5_9th = int(a.shape[0] * 5.0 / 9)\n",
    "# idx_split6_9th = int(a.shape[0] * 2.0 / 3)\n",
    "# idx_split8_9th = int(a.shape[0] * 8.0 / 9)\n",
    "\n",
    "\n",
    "\n",
    "\n",
    "a1_master1 = a1_master0[a1_col_list].iloc[idx_split3_9th:idx_split6_9th].copy()\n",
    "a1_master1['pred0'] = xgb_model0.predict(a1_master1[a1_X_train.columns])\n",
    "\n",
    "idx_2_3 = int(a1_master1.shape[0] * 2 / 3)\n",
    "\n",
    "a1_X_train = a1_master1.iloc[:idx_2_3].drop('ac1_pred', axis=1)\n",
    "a1_y_train = a1_master1['ac1_pred'].iloc[:idx_2_3]\n",
    "a1_X_test = a1_master1.iloc[idx_2_3:].drop('ac1_pred', axis=1)\n",
    "a1_y_test = a1_master1['ac1_pred'].iloc[idx_2_3:]"
   ]
  },
  {
   "cell_type": "code",
   "execution_count": null,
   "id": "82f6b9b7",
   "metadata": {},
   "outputs": [],
   "source": [
    "# sanity check first partition for training\n",
    "print(a1_master1.shape)\n",
    "print(a1_X_train.shape)\n",
    "print(a1_y_train.shape)\n",
    "print(a1_X_test.shape)\n",
    "print(a1_y_test.shape)"
   ]
  },
  {
   "cell_type": "code",
   "execution_count": null,
   "id": "ceaf5e7a",
   "metadata": {},
   "outputs": [],
   "source": [
    "# modeling partition 2nd 1/3\n",
    "\n",
    "xgb_model1 = xgb.XGBClassifier(objective='multi:softmax'\n",
    "                              , num_class=3\n",
    "                              , random_state=42\n",
    "                              , max_depth=7\n",
    "                              , n_estimators=55\n",
    "                              , learning_rate=0.01\n",
    "                              , min_child_weight=3\n",
    "                             )\n",
    "\n",
    "xgb_model1.fit(a1_X_train, a1_y_train)\n",
    "\n",
    "y_pred = xgb_model1.predict(a1_X_test)\n",
    "\n",
    "# y_pred_prob = xgb_model0.predict_proba(a1_X_test)[:, 1]\n",
    "\n",
    "acc = accuracy_score(a1_y_test, y_pred)\n",
    "\n",
    "print(f'Accuracy: {acc}')"
   ]
  },
  {
   "cell_type": "code",
   "execution_count": null,
   "id": "8c314104",
   "metadata": {},
   "outputs": [],
   "source": [
    "xgb_model1.feature_importances_"
   ]
  },
  {
   "cell_type": "code",
   "execution_count": null,
   "id": "9a6a6380",
   "metadata": {},
   "outputs": [],
   "source": [
    "# 4/16/2023 --to do: need to put back last row to fill pred0 column"
   ]
  },
  {
   "cell_type": "code",
   "execution_count": null,
   "id": "9c22dfc9",
   "metadata": {},
   "outputs": [],
   "source": []
  },
  {
   "cell_type": "code",
   "execution_count": null,
   "id": "3b27c26a",
   "metadata": {},
   "outputs": [],
   "source": []
  },
  {
   "cell_type": "code",
   "execution_count": null,
   "id": "9d9736c5",
   "metadata": {},
   "outputs": [],
   "source": []
  },
  {
   "cell_type": "code",
   "execution_count": null,
   "id": "78e56a83",
   "metadata": {},
   "outputs": [],
   "source": [
    "a1_master1.tail(10)"
   ]
  },
  {
   "cell_type": "code",
   "execution_count": null,
   "id": "f63721d3",
   "metadata": {},
   "outputs": [],
   "source": [
    "a1_master1.shape"
   ]
  },
  {
   "cell_type": "code",
   "execution_count": null,
   "id": "52133a9a",
   "metadata": {},
   "outputs": [],
   "source": [
    "len(a1_X_train.columns)"
   ]
  },
  {
   "cell_type": "code",
   "execution_count": null,
   "id": "ecfd3e2d",
   "metadata": {},
   "outputs": [],
   "source": [
    "a1_X_columns = list(a1_X_train.columns)\n",
    "a1_X_columns.append('pred0')\n",
    "a1_X_columns"
   ]
  },
  {
   "cell_type": "code",
   "execution_count": null,
   "id": "b16b1bf3",
   "metadata": {},
   "outputs": [],
   "source": [
    "a1_X_pred1 = a1_master1[a1_X_columns].iloc[-1].copy()\n",
    "a1_X_pred1"
   ]
  },
  {
   "cell_type": "code",
   "execution_count": null,
   "id": "4e37761e",
   "metadata": {},
   "outputs": [],
   "source": [
    "a1_master1_scrambled = a1_master1.iloc[:-1].copy()\n",
    "a1_master1_scrambled.tail(10)"
   ]
  },
  {
   "cell_type": "code",
   "execution_count": null,
   "id": "2162ad81",
   "metadata": {},
   "outputs": [],
   "source": [
    "a1_master1_scrambled = a1_master1_scrambled.sample(frac=1)\n",
    "a1_master1_scrambled = a1_master1_scrambled.sample(frac=1)\n",
    "\n",
    "a1_master1_scrambled.tail(10)"
   ]
  },
  {
   "cell_type": "code",
   "execution_count": null,
   "id": "eb93d104",
   "metadata": {},
   "outputs": [],
   "source": [
    "a1_idx_tt_split = int(a1_master1_scrambled.shape[0] * 0.9)\n",
    "a1_idx_tt_split"
   ]
  },
  {
   "cell_type": "code",
   "execution_count": null,
   "id": "7bf48028",
   "metadata": {},
   "outputs": [],
   "source": [
    "a1_X_train = a1_master1_scrambled[a1_X_columns].iloc[:a1_idx_tt_split]\n",
    "a1_y_train = a1_master1_scrambled['ac1_pred'].iloc[:a1_idx_tt_split]\n",
    "\n",
    "a1_X_test = a1_master1_scrambled[a1_X_columns].iloc[a1_idx_tt_split:]\n",
    "a1_y_test = a1_master1_scrambled['ac1_pred'].iloc[a1_idx_tt_split:]\n",
    "\n",
    "print(f'a1_master1 shape: {a1_master1.shape}')\n",
    "print(f'X_train shape: {a1_X_train.shape}')\n",
    "print(f'y_train shape: {a1_y_train.shape}')\n",
    "print(f'X_test shape: {a1_X_test.shape}')\n",
    "print(f'y_test shape: {a1_y_test.shape}')\n",
    "print(f'a1_X_pred1 shape: {a1_X_pred1.shape}')"
   ]
  },
  {
   "cell_type": "code",
   "execution_count": null,
   "id": "79fbbbd6",
   "metadata": {},
   "outputs": [],
   "source": [
    "# 2nd modeling\n",
    "\n",
    "xgb_model1 = xgb.XGBClassifier(objective='binary:logistic'\n",
    "                              # , num_class=2\n",
    "                              , random_state=42\n",
    "                              # , max_depth=7\n",
    "                              # , n_estimators=89\n",
    "                              # , learning_rate=0.05\n",
    "                              # , min_child_weight=4\n",
    "                             )\n",
    "\n",
    "xgb_model1.fit(a1_X_train, a1_y_train)\n",
    "\n",
    "y_pred = xgb_model1.predict(a1_X_test)\n",
    "\n",
    "y_pred_prob = xgb_model1.predict_proba(a1_X_test)[:, 1]\n",
    "\n",
    "acc = accuracy_score(a1_y_test, y_pred)\n",
    "\n",
    "print(f'Accuracy: {acc}')"
   ]
  },
  {
   "cell_type": "code",
   "execution_count": null,
   "id": "ea90ade9",
   "metadata": {},
   "outputs": [],
   "source": [
    "xgb_model1.feature_importances_"
   ]
  },
  {
   "cell_type": "code",
   "execution_count": null,
   "id": "e3a7e3f4",
   "metadata": {},
   "outputs": [],
   "source": [
    "a1_X_columns"
   ]
  },
  {
   "cell_type": "code",
   "execution_count": null,
   "id": "0403cab2",
   "metadata": {},
   "outputs": [],
   "source": []
  },
  {
   "cell_type": "code",
   "execution_count": null,
   "id": "e57a4acf",
   "metadata": {},
   "outputs": [],
   "source": []
  },
  {
   "cell_type": "code",
   "execution_count": null,
   "id": "a2eeaf1c",
   "metadata": {},
   "outputs": [],
   "source": []
  }
 ],
 "metadata": {
  "kernelspec": {
   "display_name": "Python 3",
   "language": "python",
   "name": "python3"
  },
  "language_info": {
   "codemirror_mode": {
    "name": "ipython",
    "version": 3
   },
   "file_extension": ".py",
   "mimetype": "text/x-python",
   "name": "python",
   "nbconvert_exporter": "python",
   "pygments_lexer": "ipython3",
   "version": "3.8.10"
  }
 },
 "nbformat": 4,
 "nbformat_minor": 5
}
