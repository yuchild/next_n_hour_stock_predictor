{
 "cells": [
  {
   "cell_type": "code",
   "execution_count": 1,
   "id": "eba83673",
   "metadata": {},
   "outputs": [],
   "source": [
    "import yfinance as yf\n",
    "import pandas as pd\n",
    "import numpy as np\n",
    "from numpy import where\n",
    "import xgboost as xgb\n",
    "from sklearn.model_selection import GridSearchCV, StratifiedKFold\n",
    "from sklearn.metrics import accuracy_score"
   ]
  },
  {
   "cell_type": "code",
   "execution_count": 66,
   "id": "6fb4a26c",
   "metadata": {},
   "outputs": [
    {
     "name": "stdout",
     "output_type": "stream",
     "text": [
      "[*********************100%***********************]  1 of 1 completed\n"
     ]
    }
   ],
   "source": [
    "# aapl_day = yf.download(\"AAPL\", start=\"1980-12-08\", end=None)\n",
    "# aapl_day.to_pickle('./data/aapl_day.pkl')\n",
    "# amd_day = yf.download(\"AMD\", start=\"1980-03-17\", end=None)\n",
    "# amd_day.to_pickle('./data/amd_day.pkl')\n",
    "# amat_day = yf.download(\"AMAT\", start=\"1980-03-16\", end=None)\n",
    "# amat_day.to_pickle('./data/amat_day.pkl')\n",
    "brkb_day = yf.download(\"BRK-B\", start=\"1996-05-06\", end=None)\n",
    "brkb_day.to_pickle('./data/brrkb_day.pkl')\n",
    "# intc_day = yf.download(\"INTC\", start=\"1980-03-16\", end=None)\n",
    "# intc_day.to_pickle('./data/intc_day.pkl')\n",
    "# msft_day = yf.download(\"MSFT\", start=\"1986-03-10\", end=None)\n",
    "# msft_day.to_pickle('./data/msft_day.pkl')"
   ]
  },
  {
   "cell_type": "code",
   "execution_count": 67,
   "id": "379a2b72",
   "metadata": {},
   "outputs": [],
   "source": [
    "# aapl_hour = yf.download(tickers=\"AAPL\",\n",
    "#                        period=\"2y\",\n",
    "#                        interval=\"1h\"\n",
    "#                       )\n",
    "# aapl_hour.to_pickle('./data/aapl_hr.pkl')"
   ]
  },
  {
   "cell_type": "code",
   "execution_count": 68,
   "id": "7785354e",
   "metadata": {},
   "outputs": [],
   "source": [
    "def compute_up_down(begin, end):\n",
    "    if abs((end - begin) / begin) <= 275:\n",
    "        return 0\n",
    "    elif ((end - begin) / begin) > 275:\n",
    "        return 1\n",
    "    else:\n",
    "        return 2\n",
    "    \n",
    "def compute_volume_per_dollar(vol, begin, end):\n",
    "    if begin - end == 0:\n",
    "        return vol\n",
    "    else:\n",
    "        return vol / abs(begin - end)\n",
    "    \n",
    "def compute_pct_change(num1, num2, dem):\n",
    "    if dem == 0:\n",
    "        return 0\n",
    "    else:\n",
    "        return (num2 - num1) / dem\n",
    "\n",
    "def week_of_month(dt):\n",
    "    from math import ceil\n",
    "    \"\"\"\n",
    "    returns week of the month for the specified date.\n",
    "    \"\"\"\n",
    "    first_day = dt.replace(day=1)\n",
    "    dom = dt.day\n",
    "    adjusted_dom = dom + first_day.weekday()\n",
    "    return int(ceil(adjusted_dom/7.0))"
   ]
  },
  {
   "cell_type": "code",
   "execution_count": 69,
   "id": "6af4b074",
   "metadata": {},
   "outputs": [
    {
     "ename": "FileNotFoundError",
     "evalue": "[Errno 2] No such file or directory: './data/brkb_day.pkl'",
     "output_type": "error",
     "traceback": [
      "\u001b[0;31m---------------------------------------------------------------------------\u001b[0m",
      "\u001b[0;31mFileNotFoundError\u001b[0m                         Traceback (most recent call last)",
      "\u001b[0;32m<ipython-input-69-e990b6dd9c91>\u001b[0m in \u001b[0;36m<module>\u001b[0;34m\u001b[0m\n\u001b[0;32m----> 1\u001b[0;31m \u001b[0ma\u001b[0m \u001b[0;34m=\u001b[0m \u001b[0mpd\u001b[0m\u001b[0;34m.\u001b[0m\u001b[0mread_pickle\u001b[0m\u001b[0;34m(\u001b[0m\u001b[0;34m'./data/brkb_day.pkl'\u001b[0m\u001b[0;34m)\u001b[0m\u001b[0;34m\u001b[0m\u001b[0;34m\u001b[0m\u001b[0m\n\u001b[0m\u001b[1;32m      2\u001b[0m a = a.rename(columns={'Adj Close': 'ac'\n\u001b[1;32m      3\u001b[0m                       \u001b[0;34m,\u001b[0m \u001b[0;34m'Open'\u001b[0m\u001b[0;34m:\u001b[0m \u001b[0;34m'o'\u001b[0m\u001b[0;34m\u001b[0m\u001b[0;34m\u001b[0m\u001b[0m\n\u001b[1;32m      4\u001b[0m                       \u001b[0;34m,\u001b[0m \u001b[0;34m'Close'\u001b[0m\u001b[0;34m:\u001b[0m \u001b[0;34m'c'\u001b[0m\u001b[0;34m\u001b[0m\u001b[0;34m\u001b[0m\u001b[0m\n\u001b[1;32m      5\u001b[0m                       \u001b[0;34m,\u001b[0m \u001b[0;34m'High'\u001b[0m\u001b[0;34m:\u001b[0m \u001b[0;34m'h'\u001b[0m\u001b[0;34m\u001b[0m\u001b[0;34m\u001b[0m\u001b[0m\n",
      "\u001b[0;32m~/.local/lib/python3.8/site-packages/pandas/io/pickle.py\u001b[0m in \u001b[0;36mread_pickle\u001b[0;34m(filepath_or_buffer, compression, storage_options)\u001b[0m\n\u001b[1;32m    194\u001b[0m     \"\"\"\n\u001b[1;32m    195\u001b[0m     \u001b[0mexcs_to_catch\u001b[0m \u001b[0;34m=\u001b[0m \u001b[0;34m(\u001b[0m\u001b[0mAttributeError\u001b[0m\u001b[0;34m,\u001b[0m \u001b[0mImportError\u001b[0m\u001b[0;34m,\u001b[0m \u001b[0mModuleNotFoundError\u001b[0m\u001b[0;34m,\u001b[0m \u001b[0mTypeError\u001b[0m\u001b[0;34m)\u001b[0m\u001b[0;34m\u001b[0m\u001b[0;34m\u001b[0m\u001b[0m\n\u001b[0;32m--> 196\u001b[0;31m     with get_handle(\n\u001b[0m\u001b[1;32m    197\u001b[0m         \u001b[0mfilepath_or_buffer\u001b[0m\u001b[0;34m,\u001b[0m\u001b[0;34m\u001b[0m\u001b[0;34m\u001b[0m\u001b[0m\n\u001b[1;32m    198\u001b[0m         \u001b[0;34m\"rb\"\u001b[0m\u001b[0;34m,\u001b[0m\u001b[0;34m\u001b[0m\u001b[0;34m\u001b[0m\u001b[0m\n",
      "\u001b[0;32m~/.local/lib/python3.8/site-packages/pandas/io/common.py\u001b[0m in \u001b[0;36mget_handle\u001b[0;34m(path_or_buf, mode, encoding, compression, memory_map, is_text, errors, storage_options)\u001b[0m\n\u001b[1;32m    709\u001b[0m         \u001b[0;32melse\u001b[0m\u001b[0;34m:\u001b[0m\u001b[0;34m\u001b[0m\u001b[0;34m\u001b[0m\u001b[0m\n\u001b[1;32m    710\u001b[0m             \u001b[0;31m# Binary mode\u001b[0m\u001b[0;34m\u001b[0m\u001b[0;34m\u001b[0m\u001b[0;34m\u001b[0m\u001b[0m\n\u001b[0;32m--> 711\u001b[0;31m             \u001b[0mhandle\u001b[0m \u001b[0;34m=\u001b[0m \u001b[0mopen\u001b[0m\u001b[0;34m(\u001b[0m\u001b[0mhandle\u001b[0m\u001b[0;34m,\u001b[0m \u001b[0mioargs\u001b[0m\u001b[0;34m.\u001b[0m\u001b[0mmode\u001b[0m\u001b[0;34m)\u001b[0m\u001b[0;34m\u001b[0m\u001b[0;34m\u001b[0m\u001b[0m\n\u001b[0m\u001b[1;32m    712\u001b[0m         \u001b[0mhandles\u001b[0m\u001b[0;34m.\u001b[0m\u001b[0mappend\u001b[0m\u001b[0;34m(\u001b[0m\u001b[0mhandle\u001b[0m\u001b[0;34m)\u001b[0m\u001b[0;34m\u001b[0m\u001b[0;34m\u001b[0m\u001b[0m\n\u001b[1;32m    713\u001b[0m \u001b[0;34m\u001b[0m\u001b[0m\n",
      "\u001b[0;31mFileNotFoundError\u001b[0m: [Errno 2] No such file or directory: './data/brkb_day.pkl'"
     ]
    }
   ],
   "source": [
    "a = pd.read_pickle('./data/brkb_day.pkl')\n",
    "a = a.rename(columns={'Adj Close': 'ac'\n",
    "                      , 'Open': 'o'\n",
    "                      , 'Close': 'c'\n",
    "                      , 'High': 'h'\n",
    "                      , 'Low': 'l'\n",
    "                      , 'Volume': 'v'\n",
    "                     })"
   ]
  },
  {
   "cell_type": "code",
   "execution_count": 70,
   "id": "e04afffc",
   "metadata": {
    "scrolled": false
   },
   "outputs": [],
   "source": [
    "a['dow'] = a.index.weekday\n",
    "a['wom'] = a.index.to_series().apply(week_of_month)\n",
    "a['mon'] = a.index.month\n",
    "\n",
    "a['v_mu_rol3'] = a['v'].rolling(window=3).mean()\n",
    "a['v_mu_rol5'] = a['v'].rolling(window=5).mean()\n",
    "a['v_mu_rol8'] = a['v'].rolling(window=8).mean()\n",
    "a['v_mu_rol13'] = a['v'].rolling(window=13).mean()\n",
    "a['v_mu_rol21'] = a['v'].rolling(window=21).mean()\n",
    "\n",
    "a['v_std_rol3'] = a['v'].rolling(window=3).std()\n",
    "a['v_std_rol5'] = a['v'].rolling(window=5).std()\n",
    "a['v_std_rol8'] = a['v'].rolling(window=8).std()\n",
    "a['v_std_rol13'] = a['v'].rolling(window=13).std()\n",
    "a['v_std_rol21'] = a['v'].rolling(window=21).std()\n",
    "\n",
    "a['vpd_hlc'] = a.apply(lambda row: compute_volume_per_dollar(row['v'], row['h'], row['l']), axis=1)  # volume per dollar high low change\n",
    "a['vpd_opac'] = a.apply(lambda row: compute_volume_per_dollar(row['v'], row['o'], row['c']), axis=1)  # volume per dollar open close absolute change\n",
    "\n",
    "a['ac1'] = a['ac'].pct_change(1)\n",
    "a['ac3'] = a['ac'].pct_change(3)\n",
    "a['ac5'] = a['ac'].pct_change(5)\n",
    "a['ac8'] = a['ac'].pct_change(8)\n",
    "a['ac13'] = a['ac'].pct_change(13)\n",
    "a['ac21'] = a['ac'].pct_change(21)\n",
    "\n",
    "a['mu_rol3'] = a['ac1'].rolling(window=3).mean()\n",
    "a['mu_rol5'] = a['ac1'].rolling(window=5).mean()\n",
    "a['mu_rol8'] = a['ac1'].rolling(window=8).mean()\n",
    "a['mu_rol13'] = a['ac1'].rolling(window=13).mean()\n",
    "a['mu_rol21'] = a['ac1'].rolling(window=21).mean()\n",
    "\n",
    "a['std_rol3'] = a['ac1'].rolling(window=3).std()\n",
    "a['std_rol5'] = a['ac1'].rolling(window=5).std()\n",
    "a['std_rol8'] = a['ac1'].rolling(window=8).std()\n",
    "a['std_rol13'] = a['ac1'].rolling(window=13).std()\n",
    "a['std_rol21'] = a['ac1'].rolling(window=21).std()\n",
    "\n",
    "a['hl_pct'] = a.apply(lambda row: compute_pct_change(row['l'], row['h'], row['o']), axis=1)\n",
    "a['oc_pct'] = a.apply(lambda row: compute_pct_change(row['o'], row['c'], row['o']), axis=1)\n",
    "\n",
    "a.dropna(axis=0, inplace=True)\n",
    "\n",
    "a['ac'] = where(a['ac'] == 0.0, a['c'], a['ac'])\n",
    "a['ac1'] = where(a['ac1'] == 0.0, a['c'], a['ac1'])\n",
    "a['ac3'] = where(a['ac3'] == 0.0, a['c'], a['ac3'])\n",
    "a['ac5'] = where(a['ac5'] == 0.0, a['c'], a['ac5'])\n",
    "a['ac3'] = where(a['ac8'] == 0.0, a['c'], a['ac8'])\n",
    "a['ac13'] = where(a['ac13'] == 0.0, a['c'], a['ac13'])\n",
    "a['ac21'] = where(a['ac21'] == 0.0, a['c'], a['ac21'])\n",
    "\n",
    "a['v_z_rol3'] = (a['v'] - a['v_mu_rol3']) / a['v_std_rol3']\n",
    "a['v_z_rol5'] = (a['v'] - a['v_mu_rol5']) / a['v_std_rol5']\n",
    "a['v_z_rol8'] = (a['v'] - a['v_mu_rol8']) / a['v_std_rol8']\n",
    "a['v_z_rol13'] = (a['v'] - a['v_mu_rol13']) / a['v_std_rol13']\n",
    "a['v_z_rol21'] = (a['v'] - a['v_mu_rol21']) / a['v_std_rol21']\n",
    "\n",
    "a['ac_z_rol3'] = (a['ac'] - a['mu_rol3']) / a['std_rol3']\n",
    "a['ac_z_rol5'] = (a['ac'] - a['mu_rol5']) / a['std_rol5']\n",
    "a['ac_z_rol8'] = (a['ac'] - a['mu_rol8']) / a['std_rol8']\n",
    "a['ac_z_rol13'] = (a['ac'] - a['mu_rol13']) / a['std_rol13']\n",
    "a['ac_z_rol21'] = (a['ac'] - a['mu_rol21']) / a['std_rol21']\n",
    "\n",
    "a['ac1_up_dwn'] = a.apply(lambda row: compute_up_down(row['ac1'], row['ac']), axis=1)\n",
    "a['ac3_up_dwn'] = a.apply(lambda row: compute_up_down(row['ac3'], row['ac']), axis=1)\n",
    "a['ac5_up_dwn'] = a.apply(lambda row: compute_up_down(row['ac5'], row['ac']), axis=1)\n",
    "a['ac8_up_dwn'] = a.apply(lambda row: compute_up_down(row['ac8'], row['ac']), axis=1)\n",
    "a['ac13_up_dwn'] = a.apply(lambda row: compute_up_down(row['ac13'], row['ac']), axis=1)\n",
    "a['ac21_up_dwn'] = a.apply(lambda row: compute_up_down(row['ac21'], row['ac']), axis=1)\n",
    "\n",
    "a['ac1_avg5'] = a['ac1_up_dwn'].rolling(window=5).mean()\n",
    "a['ac1_avg13'] = a['ac1_up_dwn'].rolling(window=13).mean()\n",
    "a['ac1_avg21'] = a['ac1_up_dwn'].rolling(window=21).mean()\n",
    "\n",
    "a.dropna(axis=0, inplace=True)\n",
    "\n",
    "a['ac1_pred'] = a['ac1_up_dwn'].shift(-1)\n",
    "a['ac3_pred'] = a['ac3_up_dwn'].shift(-3)\n",
    "a['ac5_pred'] = a['ac5_up_dwn'].shift(-5)\n",
    "a['ac8_pred'] = a['ac8_up_dwn'].shift(-8)\n",
    "a['ac13_pred'] = a['ac13_up_dwn'].shift(-13)\n",
    "a['ac21_pred'] = a['ac21_up_dwn'].shift(-21)\n",
    "\n",
    "a = a[~a.isin([np.inf, -np.inf]).any(axis=1)]"
   ]
  },
  {
   "cell_type": "code",
   "execution_count": 71,
   "id": "0ea57b55",
   "metadata": {
    "scrolled": true
   },
   "outputs": [
    {
     "data": {
      "text/plain": [
       "0.0    6739\n",
       "1.0    2039\n",
       "2.0    1813\n",
       "Name: ac1_pred, dtype: int64"
      ]
     },
     "execution_count": 71,
     "metadata": {},
     "output_type": "execute_result"
    }
   ],
   "source": [
    "a['ac1_pred'].value_counts()"
   ]
  },
  {
   "cell_type": "code",
   "execution_count": 72,
   "id": "488d63c4",
   "metadata": {},
   "outputs": [],
   "source": [
    "# Upsampling...\n",
    "\n",
    "# a0s = a[a['ac1_pred'] == 0.0]\n",
    "\n",
    "# for _ in range(7):\n",
    "#     a = pd.concat([a, a0s], axis=0)\n",
    "\n",
    "# a['ac1_pred'].value_counts()"
   ]
  },
  {
   "cell_type": "code",
   "execution_count": 73,
   "id": "252a2f7f",
   "metadata": {},
   "outputs": [
    {
     "data": {
      "text/plain": [
       "Index(['o', 'h', 'l', 'c', 'ac', 'v', 'dow', 'wom', 'mon', 'v_mu_rol3',\n",
       "       'v_mu_rol5', 'v_mu_rol8', 'v_mu_rol13', 'v_mu_rol21', 'v_std_rol3',\n",
       "       'v_std_rol5', 'v_std_rol8', 'v_std_rol13', 'v_std_rol21', 'vpd_hlc',\n",
       "       'vpd_opac', 'ac1', 'ac3', 'ac5', 'ac8', 'ac13', 'ac21', 'mu_rol3',\n",
       "       'mu_rol5', 'mu_rol8', 'mu_rol13', 'mu_rol21', 'std_rol3', 'std_rol5',\n",
       "       'std_rol8', 'std_rol13', 'std_rol21', 'hl_pct', 'oc_pct', 'v_z_rol3',\n",
       "       'v_z_rol5', 'v_z_rol8', 'v_z_rol13', 'v_z_rol21', 'ac_z_rol3',\n",
       "       'ac_z_rol5', 'ac_z_rol8', 'ac_z_rol13', 'ac_z_rol21', 'ac1_up_dwn',\n",
       "       'ac3_up_dwn', 'ac5_up_dwn', 'ac8_up_dwn', 'ac13_up_dwn', 'ac21_up_dwn',\n",
       "       'ac1_avg5', 'ac1_avg13', 'ac1_avg21', 'ac1_pred', 'ac3_pred',\n",
       "       'ac5_pred', 'ac8_pred', 'ac13_pred', 'ac21_pred'],\n",
       "      dtype='object')"
      ]
     },
     "execution_count": 73,
     "metadata": {},
     "output_type": "execute_result"
    }
   ],
   "source": [
    "a.columns"
   ]
  },
  {
   "cell_type": "code",
   "execution_count": 74,
   "id": "7ca30515",
   "metadata": {},
   "outputs": [],
   "source": [
    "a1_col_list = ['o'\n",
    "               # , 'h'\n",
    "               # , 'l'\n",
    "               # , 'c'\n",
    "               , 'ac'\n",
    "               # , 'v'\n",
    "               , 'dow'\n",
    "               # , 'wom'\n",
    "               , 'mon'\n",
    "               # , 'v_mu_rol3'\n",
    "               # , 'v_mu_rol5'\n",
    "               # , 'v_mu_rol8'\n",
    "               # , 'v_mu_rol13'\n",
    "               # , 'v_mu_rol21'\n",
    "               # , 'v_std_rol3'\n",
    "               # , 'v_std_rol5'\n",
    "               # , 'v_std_rol8'\n",
    "               # , 'v_std_rol13'\n",
    "               # , 'v_std_rol21'\n",
    "               # , 'vpd_hlc'\n",
    "               # , 'vpd_opac'\n",
    "               # , 'ac1'\n",
    "               # , 'ac3'\n",
    "               # , 'ac5'\n",
    "               # , 'ac8'\n",
    "               # , 'ac13'\n",
    "               # , 'ac21'\n",
    "               , 'mu_rol3'\n",
    "               # , 'mu_rol5'\n",
    "               # , 'mu_rol8'\n",
    "               # , 'mu_rol13'\n",
    "               , 'mu_rol21'\n",
    "               # , 'std_rol3'\n",
    "               # , 'std_rol5'\n",
    "               # , 'std_rol8'\n",
    "               # , 'std_rol13'\n",
    "               # , 'std_rol21'\n",
    "               , 'hl_pct'\n",
    "               , 'oc_pct'\n",
    "               , 'v_z_rol3'\n",
    "               # , 'v_z_rol5'\n",
    "               # , 'v_z_rol8'\n",
    "               # , 'v_z_rol13'\n",
    "               , 'v_z_rol21'\n",
    "               , 'ac_z_rol3'\n",
    "               # , 'ac_z_rol5'\n",
    "               # , 'ac_z_rol8'\n",
    "               # , 'ac_z_rol13'\n",
    "               , 'ac_z_rol21'\n",
    "               , 'ac1_up_dwn'\n",
    "               # , 'ac3_up_dwn'\n",
    "               # , 'ac5_up_dwn'\n",
    "               # , 'ac8_up_dwn'\n",
    "               # , 'ac13_up_dwn'\n",
    "               # , 'ac21_up_dwn'\n",
    "               , 'ac1_avg5'\n",
    "               # , 'ac1_avg13'\n",
    "               , 'ac1_avg21'\n",
    "               , 'ac1_pred'\n",
    "               ,\n",
    "              ]\n",
    "\n",
    "a1_master0 = a[a1_col_list].copy()\n",
    "\n",
    "a1_X_pred = a1_master0[a1_col_list[:-1]].iloc[-1].copy()\n",
    "\n",
    "a1_master0.drop(a1_master0.index[-1], axis=0, inplace=True)\n",
    "\n",
    "a1_master0 = a1_master0.sample(frac=1, random_state=21)\n",
    "a1_master0 = a1_master0.sample(frac=1, random_state=42)\n",
    "\n",
    "idx_split2_9th = int(a.shape[0] * 2.0 / 9)\n",
    "idx_split3_9th = int(a.shape[0] * 1.0 / 3)\n",
    "idx_split5_9th = int(a.shape[0] * 5.0 / 9)\n",
    "idx_split6_9th = int(a.shape[0] * 2.0 / 3)\n",
    "idx_split8_9th = int(a.shape[0] * 8.0 / 9)\n",
    "\n",
    "a1_X_train = a1_master0.iloc[:idx_split2_9th].drop('ac1_pred', axis=1)\n",
    "a1_y_train = a1_master0['ac1_pred'].iloc[:idx_split2_9th]\n",
    "a1_X_test = a1_master0.iloc[idx_split2_9th:idx_split3_9th].drop('ac1_pred', axis=1)\n",
    "a1_y_test = a1_master0['ac1_pred'].iloc[idx_split2_9th:idx_split3_9th]"
   ]
  },
  {
   "cell_type": "code",
   "execution_count": null,
   "id": "126a5f1e",
   "metadata": {},
   "outputs": [],
   "source": []
  },
  {
   "cell_type": "code",
   "execution_count": null,
   "id": "2f08594c",
   "metadata": {},
   "outputs": [],
   "source": []
  },
  {
   "cell_type": "code",
   "execution_count": 75,
   "id": "2b080ddc",
   "metadata": {},
   "outputs": [
    {
     "name": "stdout",
     "output_type": "stream",
     "text": [
      "(10591, 16)\n",
      "(2353, 15)\n",
      "(2353,)\n",
      "(1177, 15)\n",
      "(1177,)\n"
     ]
    }
   ],
   "source": [
    "# sanity check first partition for training\n",
    "print(a1_master0.shape)\n",
    "print(a1_X_train.shape)\n",
    "print(a1_y_train.shape)\n",
    "print(a1_X_test.shape)\n",
    "print(a1_y_test.shape)"
   ]
  },
  {
   "cell_type": "code",
   "execution_count": 76,
   "id": "040caa0b",
   "metadata": {
    "scrolled": true
   },
   "outputs": [
    {
     "data": {
      "text/plain": [
       "o             0\n",
       "ac            0\n",
       "dow           0\n",
       "mon           0\n",
       "mu_rol3       0\n",
       "mu_rol21      0\n",
       "hl_pct        0\n",
       "oc_pct        0\n",
       "v_z_rol3      0\n",
       "v_z_rol21     0\n",
       "ac_z_rol3     0\n",
       "ac_z_rol21    0\n",
       "ac1_up_dwn    0\n",
       "ac1_avg5      0\n",
       "ac1_avg21     0\n",
       "dtype: int64"
      ]
     },
     "execution_count": 76,
     "metadata": {},
     "output_type": "execute_result"
    }
   ],
   "source": [
    "# check for infinities\n",
    "a1_X_train.isin([np.inf, -np.inf]).sum()"
   ]
  },
  {
   "cell_type": "code",
   "execution_count": 77,
   "id": "dc3fba9a",
   "metadata": {},
   "outputs": [
    {
     "data": {
      "text/html": [
       "<div>\n",
       "<style scoped>\n",
       "    .dataframe tbody tr th:only-of-type {\n",
       "        vertical-align: middle;\n",
       "    }\n",
       "\n",
       "    .dataframe tbody tr th {\n",
       "        vertical-align: top;\n",
       "    }\n",
       "\n",
       "    .dataframe thead th {\n",
       "        text-align: right;\n",
       "    }\n",
       "</style>\n",
       "<table border=\"1\" class=\"dataframe\">\n",
       "  <thead>\n",
       "    <tr style=\"text-align: right;\">\n",
       "      <th></th>\n",
       "      <th>o</th>\n",
       "      <th>ac</th>\n",
       "      <th>dow</th>\n",
       "      <th>mon</th>\n",
       "      <th>mu_rol3</th>\n",
       "      <th>mu_rol21</th>\n",
       "      <th>hl_pct</th>\n",
       "      <th>oc_pct</th>\n",
       "      <th>v_z_rol3</th>\n",
       "      <th>v_z_rol21</th>\n",
       "      <th>ac_z_rol3</th>\n",
       "      <th>ac_z_rol21</th>\n",
       "      <th>ac1_up_dwn</th>\n",
       "      <th>ac1_avg5</th>\n",
       "      <th>ac1_avg21</th>\n",
       "    </tr>\n",
       "    <tr>\n",
       "      <th>Date</th>\n",
       "      <th></th>\n",
       "      <th></th>\n",
       "      <th></th>\n",
       "      <th></th>\n",
       "      <th></th>\n",
       "      <th></th>\n",
       "      <th></th>\n",
       "      <th></th>\n",
       "      <th></th>\n",
       "      <th></th>\n",
       "      <th></th>\n",
       "      <th></th>\n",
       "      <th></th>\n",
       "      <th></th>\n",
       "      <th></th>\n",
       "    </tr>\n",
       "  </thead>\n",
       "  <tbody>\n",
       "  </tbody>\n",
       "</table>\n",
       "</div>"
      ],
      "text/plain": [
       "Empty DataFrame\n",
       "Columns: [o, ac, dow, mon, mu_rol3, mu_rol21, hl_pct, oc_pct, v_z_rol3, v_z_rol21, ac_z_rol3, ac_z_rol21, ac1_up_dwn, ac1_avg5, ac1_avg21]\n",
       "Index: []"
      ]
     },
     "execution_count": 77,
     "metadata": {},
     "output_type": "execute_result"
    }
   ],
   "source": [
    "mask = np.isinf(a1_X_train)\n",
    "\n",
    "result = a1_X_train[mask.any(axis=1)]\n",
    "\n",
    "result"
   ]
  },
  {
   "cell_type": "code",
   "execution_count": 78,
   "id": "6e3b8362",
   "metadata": {},
   "outputs": [
    {
     "name": "stdout",
     "output_type": "stream",
     "text": [
      "Accuracy: 0.7892948173322005\n"
     ]
    }
   ],
   "source": [
    "# modeling partition first 1/3\n",
    "\n",
    "xgb_model0 = xgb.XGBClassifier(objective='multi:softmax'\n",
    "                              , num_class=3\n",
    "                              , random_state=42\n",
    "                              , max_depth=5\n",
    "                              , n_estimators=133\n",
    "                              , learning_rate=0.00001\n",
    "                              , min_child_weight=3\n",
    "                             )\n",
    "\n",
    "xgb_model0.fit(a1_X_train, a1_y_train)\n",
    "\n",
    "y_pred = xgb_model0.predict(a1_X_test)\n",
    "\n",
    "# y_pred_prob = xgb_model0.predict_proba(a1_X_test)[:, 1]\n",
    "\n",
    "acc = accuracy_score(a1_y_test, y_pred)\n",
    "\n",
    "print(f'Accuracy: {acc}')"
   ]
  },
  {
   "cell_type": "code",
   "execution_count": 79,
   "id": "1a78211b",
   "metadata": {
    "scrolled": true
   },
   "outputs": [
    {
     "data": {
      "text/plain": [
       "array([0.01191104, 0.8156405 , 0.00287799, 0.01373946, 0.00891371,\n",
       "       0.00533637, 0.0072582 , 0.00950985, 0.00982186, 0.0075751 ,\n",
       "       0.01051473, 0.08570271, 0.00217541, 0.0036594 , 0.00536371],\n",
       "      dtype=float32)"
      ]
     },
     "execution_count": 79,
     "metadata": {},
     "output_type": "execute_result"
    }
   ],
   "source": [
    "xgb_model0.feature_importances_"
   ]
  },
  {
   "cell_type": "code",
   "execution_count": 80,
   "id": "0e19f761",
   "metadata": {},
   "outputs": [
    {
     "data": {
      "text/plain": [
       "Index(['o', 'ac', 'dow', 'mon', 'mu_rol3', 'mu_rol21', 'hl_pct', 'oc_pct',\n",
       "       'v_z_rol3', 'v_z_rol21', 'ac_z_rol3', 'ac_z_rol21', 'ac1_up_dwn',\n",
       "       'ac1_avg5', 'ac1_avg21'],\n",
       "      dtype='object')"
      ]
     },
     "execution_count": 80,
     "metadata": {},
     "output_type": "execute_result"
    }
   ],
   "source": [
    "a1_X_train.columns"
   ]
  },
  {
   "cell_type": "code",
   "execution_count": 81,
   "id": "c8a0d789",
   "metadata": {},
   "outputs": [
    {
     "data": {
      "text/plain": [
       "2"
      ]
     },
     "execution_count": 81,
     "metadata": {},
     "output_type": "execute_result"
    }
   ],
   "source": [
    "xgb_model0.predict(a1_X_pred.to_numpy().reshape(1,-1))[0]"
   ]
  },
  {
   "cell_type": "code",
   "execution_count": 82,
   "id": "b36599f1",
   "metadata": {},
   "outputs": [
    {
     "data": {
      "text/plain": [
       "array([[0.3328707 , 0.3334583 , 0.33367094]], dtype=float32)"
      ]
     },
     "execution_count": 82,
     "metadata": {},
     "output_type": "execute_result"
    }
   ],
   "source": [
    "xgb_model0.predict_proba(a1_X_pred.to_numpy().reshape(1,-1))"
   ]
  },
  {
   "cell_type": "code",
   "execution_count": null,
   "id": "0d148554",
   "metadata": {},
   "outputs": [],
   "source": []
  },
  {
   "cell_type": "code",
   "execution_count": 83,
   "id": "79626db4",
   "metadata": {
    "scrolled": false
   },
   "outputs": [
    {
     "data": {
      "text/html": [
       "<style type=\"text/css\">\n",
       "#T_4074c_row8_col1 {\n",
       "  background-color: lightgreen;\n",
       "}\n",
       "</style>\n",
       "<table id=\"T_4074c_\">\n",
       "  <thead>\n",
       "    <tr>\n",
       "      <th class=\"blank level0\" >&nbsp;</th>\n",
       "      <th class=\"col_heading level0 col0\" >Description</th>\n",
       "      <th class=\"col_heading level0 col1\" >Value</th>\n",
       "    </tr>\n",
       "  </thead>\n",
       "  <tbody>\n",
       "    <tr>\n",
       "      <th id=\"T_4074c_level0_row0\" class=\"row_heading level0 row0\" >0</th>\n",
       "      <td id=\"T_4074c_row0_col0\" class=\"data row0 col0\" >Session id</td>\n",
       "      <td id=\"T_4074c_row0_col1\" class=\"data row0 col1\" >1032</td>\n",
       "    </tr>\n",
       "    <tr>\n",
       "      <th id=\"T_4074c_level0_row1\" class=\"row_heading level0 row1\" >1</th>\n",
       "      <td id=\"T_4074c_row1_col0\" class=\"data row1 col0\" >Target</td>\n",
       "      <td id=\"T_4074c_row1_col1\" class=\"data row1 col1\" >ac1_pred</td>\n",
       "    </tr>\n",
       "    <tr>\n",
       "      <th id=\"T_4074c_level0_row2\" class=\"row_heading level0 row2\" >2</th>\n",
       "      <td id=\"T_4074c_row2_col0\" class=\"data row2 col0\" >Target type</td>\n",
       "      <td id=\"T_4074c_row2_col1\" class=\"data row2 col1\" >Multiclass</td>\n",
       "    </tr>\n",
       "    <tr>\n",
       "      <th id=\"T_4074c_level0_row3\" class=\"row_heading level0 row3\" >3</th>\n",
       "      <td id=\"T_4074c_row3_col0\" class=\"data row3 col0\" >Original data shape</td>\n",
       "      <td id=\"T_4074c_row3_col1\" class=\"data row3 col1\" >(2353, 16)</td>\n",
       "    </tr>\n",
       "    <tr>\n",
       "      <th id=\"T_4074c_level0_row4\" class=\"row_heading level0 row4\" >4</th>\n",
       "      <td id=\"T_4074c_row4_col0\" class=\"data row4 col0\" >Transformed data shape</td>\n",
       "      <td id=\"T_4074c_row4_col1\" class=\"data row4 col1\" >(2353, 16)</td>\n",
       "    </tr>\n",
       "    <tr>\n",
       "      <th id=\"T_4074c_level0_row5\" class=\"row_heading level0 row5\" >5</th>\n",
       "      <td id=\"T_4074c_row5_col0\" class=\"data row5 col0\" >Transformed train set shape</td>\n",
       "      <td id=\"T_4074c_row5_col1\" class=\"data row5 col1\" >(1647, 16)</td>\n",
       "    </tr>\n",
       "    <tr>\n",
       "      <th id=\"T_4074c_level0_row6\" class=\"row_heading level0 row6\" >6</th>\n",
       "      <td id=\"T_4074c_row6_col0\" class=\"data row6 col0\" >Transformed test set shape</td>\n",
       "      <td id=\"T_4074c_row6_col1\" class=\"data row6 col1\" >(706, 16)</td>\n",
       "    </tr>\n",
       "    <tr>\n",
       "      <th id=\"T_4074c_level0_row7\" class=\"row_heading level0 row7\" >7</th>\n",
       "      <td id=\"T_4074c_row7_col0\" class=\"data row7 col0\" >Numeric features</td>\n",
       "      <td id=\"T_4074c_row7_col1\" class=\"data row7 col1\" >15</td>\n",
       "    </tr>\n",
       "    <tr>\n",
       "      <th id=\"T_4074c_level0_row8\" class=\"row_heading level0 row8\" >8</th>\n",
       "      <td id=\"T_4074c_row8_col0\" class=\"data row8 col0\" >Preprocess</td>\n",
       "      <td id=\"T_4074c_row8_col1\" class=\"data row8 col1\" >True</td>\n",
       "    </tr>\n",
       "    <tr>\n",
       "      <th id=\"T_4074c_level0_row9\" class=\"row_heading level0 row9\" >9</th>\n",
       "      <td id=\"T_4074c_row9_col0\" class=\"data row9 col0\" >Imputation type</td>\n",
       "      <td id=\"T_4074c_row9_col1\" class=\"data row9 col1\" >simple</td>\n",
       "    </tr>\n",
       "    <tr>\n",
       "      <th id=\"T_4074c_level0_row10\" class=\"row_heading level0 row10\" >10</th>\n",
       "      <td id=\"T_4074c_row10_col0\" class=\"data row10 col0\" >Numeric imputation</td>\n",
       "      <td id=\"T_4074c_row10_col1\" class=\"data row10 col1\" >mean</td>\n",
       "    </tr>\n",
       "    <tr>\n",
       "      <th id=\"T_4074c_level0_row11\" class=\"row_heading level0 row11\" >11</th>\n",
       "      <td id=\"T_4074c_row11_col0\" class=\"data row11 col0\" >Categorical imputation</td>\n",
       "      <td id=\"T_4074c_row11_col1\" class=\"data row11 col1\" >mode</td>\n",
       "    </tr>\n",
       "    <tr>\n",
       "      <th id=\"T_4074c_level0_row12\" class=\"row_heading level0 row12\" >12</th>\n",
       "      <td id=\"T_4074c_row12_col0\" class=\"data row12 col0\" >Fold Generator</td>\n",
       "      <td id=\"T_4074c_row12_col1\" class=\"data row12 col1\" >StratifiedKFold</td>\n",
       "    </tr>\n",
       "    <tr>\n",
       "      <th id=\"T_4074c_level0_row13\" class=\"row_heading level0 row13\" >13</th>\n",
       "      <td id=\"T_4074c_row13_col0\" class=\"data row13 col0\" >Fold Number</td>\n",
       "      <td id=\"T_4074c_row13_col1\" class=\"data row13 col1\" >10</td>\n",
       "    </tr>\n",
       "    <tr>\n",
       "      <th id=\"T_4074c_level0_row14\" class=\"row_heading level0 row14\" >14</th>\n",
       "      <td id=\"T_4074c_row14_col0\" class=\"data row14 col0\" >CPU Jobs</td>\n",
       "      <td id=\"T_4074c_row14_col1\" class=\"data row14 col1\" >-1</td>\n",
       "    </tr>\n",
       "    <tr>\n",
       "      <th id=\"T_4074c_level0_row15\" class=\"row_heading level0 row15\" >15</th>\n",
       "      <td id=\"T_4074c_row15_col0\" class=\"data row15 col0\" >Use GPU</td>\n",
       "      <td id=\"T_4074c_row15_col1\" class=\"data row15 col1\" >False</td>\n",
       "    </tr>\n",
       "    <tr>\n",
       "      <th id=\"T_4074c_level0_row16\" class=\"row_heading level0 row16\" >16</th>\n",
       "      <td id=\"T_4074c_row16_col0\" class=\"data row16 col0\" >Log Experiment</td>\n",
       "      <td id=\"T_4074c_row16_col1\" class=\"data row16 col1\" >False</td>\n",
       "    </tr>\n",
       "    <tr>\n",
       "      <th id=\"T_4074c_level0_row17\" class=\"row_heading level0 row17\" >17</th>\n",
       "      <td id=\"T_4074c_row17_col0\" class=\"data row17 col0\" >Experiment Name</td>\n",
       "      <td id=\"T_4074c_row17_col1\" class=\"data row17 col1\" >clf-default-name</td>\n",
       "    </tr>\n",
       "    <tr>\n",
       "      <th id=\"T_4074c_level0_row18\" class=\"row_heading level0 row18\" >18</th>\n",
       "      <td id=\"T_4074c_row18_col0\" class=\"data row18 col0\" >USI</td>\n",
       "      <td id=\"T_4074c_row18_col1\" class=\"data row18 col1\" >dcc6</td>\n",
       "    </tr>\n",
       "  </tbody>\n",
       "</table>\n"
      ],
      "text/plain": [
       "<pandas.io.formats.style.Styler at 0x7f4fb20db310>"
      ]
     },
     "metadata": {},
     "output_type": "display_data"
    },
    {
     "data": {
      "text/html": [],
      "text/plain": [
       "<IPython.core.display.HTML object>"
      ]
     },
     "metadata": {},
     "output_type": "display_data"
    },
    {
     "data": {
      "text/html": [
       "<style type=\"text/css\">\n",
       "#T_aeb24_ th {\n",
       "  text-align: left;\n",
       "}\n",
       "#T_aeb24_row0_col0, #T_aeb24_row0_col2, #T_aeb24_row0_col4, #T_aeb24_row0_col5, #T_aeb24_row0_col6, #T_aeb24_row1_col0, #T_aeb24_row1_col4, #T_aeb24_row1_col7, #T_aeb24_row2_col0, #T_aeb24_row2_col1, #T_aeb24_row2_col2, #T_aeb24_row2_col3, #T_aeb24_row2_col4, #T_aeb24_row2_col5, #T_aeb24_row2_col6, #T_aeb24_row2_col7, #T_aeb24_row3_col0, #T_aeb24_row3_col1, #T_aeb24_row3_col2, #T_aeb24_row3_col3, #T_aeb24_row3_col4, #T_aeb24_row3_col5, #T_aeb24_row3_col6, #T_aeb24_row3_col7, #T_aeb24_row4_col0, #T_aeb24_row4_col1, #T_aeb24_row4_col2, #T_aeb24_row4_col3, #T_aeb24_row4_col4, #T_aeb24_row4_col5, #T_aeb24_row4_col6, #T_aeb24_row4_col7, #T_aeb24_row5_col0, #T_aeb24_row5_col1, #T_aeb24_row5_col2, #T_aeb24_row5_col3, #T_aeb24_row5_col4, #T_aeb24_row5_col5, #T_aeb24_row5_col6, #T_aeb24_row5_col7, #T_aeb24_row6_col0, #T_aeb24_row6_col1, #T_aeb24_row6_col2, #T_aeb24_row6_col3, #T_aeb24_row6_col4, #T_aeb24_row6_col5, #T_aeb24_row6_col6, #T_aeb24_row6_col7, #T_aeb24_row7_col0, #T_aeb24_row7_col1, #T_aeb24_row7_col2, #T_aeb24_row7_col3, #T_aeb24_row7_col4, #T_aeb24_row7_col5, #T_aeb24_row7_col6, #T_aeb24_row7_col7, #T_aeb24_row8_col0, #T_aeb24_row8_col1, #T_aeb24_row8_col2, #T_aeb24_row8_col3, #T_aeb24_row8_col4, #T_aeb24_row8_col5, #T_aeb24_row8_col6, #T_aeb24_row8_col7, #T_aeb24_row9_col0, #T_aeb24_row9_col1, #T_aeb24_row9_col2, #T_aeb24_row9_col3, #T_aeb24_row9_col4, #T_aeb24_row9_col5, #T_aeb24_row9_col6, #T_aeb24_row9_col7, #T_aeb24_row10_col0, #T_aeb24_row10_col1, #T_aeb24_row10_col2, #T_aeb24_row10_col3, #T_aeb24_row10_col4, #T_aeb24_row10_col5, #T_aeb24_row10_col6, #T_aeb24_row10_col7, #T_aeb24_row11_col0, #T_aeb24_row11_col1, #T_aeb24_row11_col2, #T_aeb24_row11_col3, #T_aeb24_row11_col4, #T_aeb24_row11_col5, #T_aeb24_row11_col6, #T_aeb24_row11_col7, #T_aeb24_row12_col0, #T_aeb24_row12_col1, #T_aeb24_row12_col2, #T_aeb24_row12_col3, #T_aeb24_row12_col5, #T_aeb24_row12_col6, #T_aeb24_row12_col7, #T_aeb24_row13_col0, #T_aeb24_row13_col1, #T_aeb24_row13_col2, #T_aeb24_row13_col3, #T_aeb24_row13_col4, #T_aeb24_row13_col5, #T_aeb24_row13_col6, #T_aeb24_row13_col7, #T_aeb24_row14_col0, #T_aeb24_row14_col1, #T_aeb24_row14_col2, #T_aeb24_row14_col3, #T_aeb24_row14_col4, #T_aeb24_row14_col5, #T_aeb24_row14_col6, #T_aeb24_row14_col7 {\n",
       "  text-align: left;\n",
       "}\n",
       "#T_aeb24_row0_col1, #T_aeb24_row0_col3, #T_aeb24_row0_col7, #T_aeb24_row1_col1, #T_aeb24_row1_col2, #T_aeb24_row1_col3, #T_aeb24_row1_col5, #T_aeb24_row1_col6, #T_aeb24_row12_col4 {\n",
       "  text-align: left;\n",
       "  background-color: yellow;\n",
       "}\n",
       "#T_aeb24_row0_col8 {\n",
       "  text-align: left;\n",
       "  background-color: yellow;\n",
       "  background-color: lightgrey;\n",
       "}\n",
       "#T_aeb24_row1_col8, #T_aeb24_row2_col8, #T_aeb24_row3_col8, #T_aeb24_row4_col8, #T_aeb24_row5_col8, #T_aeb24_row6_col8, #T_aeb24_row7_col8, #T_aeb24_row8_col8, #T_aeb24_row9_col8, #T_aeb24_row10_col8, #T_aeb24_row11_col8, #T_aeb24_row12_col8, #T_aeb24_row13_col8, #T_aeb24_row14_col8 {\n",
       "  text-align: left;\n",
       "  background-color: lightgrey;\n",
       "}\n",
       "</style>\n",
       "<table id=\"T_aeb24_\">\n",
       "  <thead>\n",
       "    <tr>\n",
       "      <th class=\"blank level0\" >&nbsp;</th>\n",
       "      <th class=\"col_heading level0 col0\" >Model</th>\n",
       "      <th class=\"col_heading level0 col1\" >Accuracy</th>\n",
       "      <th class=\"col_heading level0 col2\" >AUC</th>\n",
       "      <th class=\"col_heading level0 col3\" >Recall</th>\n",
       "      <th class=\"col_heading level0 col4\" >Prec.</th>\n",
       "      <th class=\"col_heading level0 col5\" >F1</th>\n",
       "      <th class=\"col_heading level0 col6\" >Kappa</th>\n",
       "      <th class=\"col_heading level0 col7\" >MCC</th>\n",
       "      <th class=\"col_heading level0 col8\" >TT (Sec)</th>\n",
       "    </tr>\n",
       "  </thead>\n",
       "  <tbody>\n",
       "    <tr>\n",
       "      <th id=\"T_aeb24_level0_row0\" class=\"row_heading level0 row0\" >ridge</th>\n",
       "      <td id=\"T_aeb24_row0_col0\" class=\"data row0 col0\" >Ridge Classifier</td>\n",
       "      <td id=\"T_aeb24_row0_col1\" class=\"data row0 col1\" >0.8039</td>\n",
       "      <td id=\"T_aeb24_row0_col2\" class=\"data row0 col2\" >0.0000</td>\n",
       "      <td id=\"T_aeb24_row0_col3\" class=\"data row0 col3\" >0.8039</td>\n",
       "      <td id=\"T_aeb24_row0_col4\" class=\"data row0 col4\" >0.7339</td>\n",
       "      <td id=\"T_aeb24_row0_col5\" class=\"data row0 col5\" >0.7500</td>\n",
       "      <td id=\"T_aeb24_row0_col6\" class=\"data row0 col6\" >0.6203</td>\n",
       "      <td id=\"T_aeb24_row0_col7\" class=\"data row0 col7\" >0.6491</td>\n",
       "      <td id=\"T_aeb24_row0_col8\" class=\"data row0 col8\" >0.0490</td>\n",
       "    </tr>\n",
       "    <tr>\n",
       "      <th id=\"T_aeb24_level0_row1\" class=\"row_heading level0 row1\" >et</th>\n",
       "      <td id=\"T_aeb24_row1_col0\" class=\"data row1 col0\" >Extra Trees Classifier</td>\n",
       "      <td id=\"T_aeb24_row1_col1\" class=\"data row1 col1\" >0.8039</td>\n",
       "      <td id=\"T_aeb24_row1_col2\" class=\"data row1 col2\" >0.9517</td>\n",
       "      <td id=\"T_aeb24_row1_col3\" class=\"data row1 col3\" >0.8039</td>\n",
       "      <td id=\"T_aeb24_row1_col4\" class=\"data row1 col4\" >0.7939</td>\n",
       "      <td id=\"T_aeb24_row1_col5\" class=\"data row1 col5\" >0.7960</td>\n",
       "      <td id=\"T_aeb24_row1_col6\" class=\"data row1 col6\" >0.6261</td>\n",
       "      <td id=\"T_aeb24_row1_col7\" class=\"data row1 col7\" >0.6286</td>\n",
       "      <td id=\"T_aeb24_row1_col8\" class=\"data row1 col8\" >0.6380</td>\n",
       "    </tr>\n",
       "    <tr>\n",
       "      <th id=\"T_aeb24_level0_row2\" class=\"row_heading level0 row2\" >rf</th>\n",
       "      <td id=\"T_aeb24_row2_col0\" class=\"data row2 col0\" >Random Forest Classifier</td>\n",
       "      <td id=\"T_aeb24_row2_col1\" class=\"data row2 col1\" >0.8009</td>\n",
       "      <td id=\"T_aeb24_row2_col2\" class=\"data row2 col2\" >0.9491</td>\n",
       "      <td id=\"T_aeb24_row2_col3\" class=\"data row2 col3\" >0.8009</td>\n",
       "      <td id=\"T_aeb24_row2_col4\" class=\"data row2 col4\" >0.7896</td>\n",
       "      <td id=\"T_aeb24_row2_col5\" class=\"data row2 col5\" >0.7916</td>\n",
       "      <td id=\"T_aeb24_row2_col6\" class=\"data row2 col6\" >0.6209</td>\n",
       "      <td id=\"T_aeb24_row2_col7\" class=\"data row2 col7\" >0.6243</td>\n",
       "      <td id=\"T_aeb24_row2_col8\" class=\"data row2 col8\" >0.6110</td>\n",
       "    </tr>\n",
       "    <tr>\n",
       "      <th id=\"T_aeb24_level0_row3\" class=\"row_heading level0 row3\" >gbc</th>\n",
       "      <td id=\"T_aeb24_row3_col0\" class=\"data row3 col0\" >Gradient Boosting Classifier</td>\n",
       "      <td id=\"T_aeb24_row3_col1\" class=\"data row3 col1\" >0.8003</td>\n",
       "      <td id=\"T_aeb24_row3_col2\" class=\"data row3 col2\" >0.9489</td>\n",
       "      <td id=\"T_aeb24_row3_col3\" class=\"data row3 col3\" >0.8003</td>\n",
       "      <td id=\"T_aeb24_row3_col4\" class=\"data row3 col4\" >0.7920</td>\n",
       "      <td id=\"T_aeb24_row3_col5\" class=\"data row3 col5\" >0.7938</td>\n",
       "      <td id=\"T_aeb24_row3_col6\" class=\"data row3 col6\" >0.6214</td>\n",
       "      <td id=\"T_aeb24_row3_col7\" class=\"data row3 col7\" >0.6236</td>\n",
       "      <td id=\"T_aeb24_row3_col8\" class=\"data row3 col8\" >1.5290</td>\n",
       "    </tr>\n",
       "    <tr>\n",
       "      <th id=\"T_aeb24_level0_row4\" class=\"row_heading level0 row4\" >xgboost</th>\n",
       "      <td id=\"T_aeb24_row4_col0\" class=\"data row4 col0\" >Extreme Gradient Boosting</td>\n",
       "      <td id=\"T_aeb24_row4_col1\" class=\"data row4 col1\" >0.7985</td>\n",
       "      <td id=\"T_aeb24_row4_col2\" class=\"data row4 col2\" >0.9461</td>\n",
       "      <td id=\"T_aeb24_row4_col3\" class=\"data row4 col3\" >0.7985</td>\n",
       "      <td id=\"T_aeb24_row4_col4\" class=\"data row4 col4\" >0.7926</td>\n",
       "      <td id=\"T_aeb24_row4_col5\" class=\"data row4 col5\" >0.7948</td>\n",
       "      <td id=\"T_aeb24_row4_col6\" class=\"data row4 col6\" >0.6186</td>\n",
       "      <td id=\"T_aeb24_row4_col7\" class=\"data row4 col7\" >0.6194</td>\n",
       "      <td id=\"T_aeb24_row4_col8\" class=\"data row4 col8\" >0.8080</td>\n",
       "    </tr>\n",
       "    <tr>\n",
       "      <th id=\"T_aeb24_level0_row5\" class=\"row_heading level0 row5\" >lightgbm</th>\n",
       "      <td id=\"T_aeb24_row5_col0\" class=\"data row5 col0\" >Light Gradient Boosting Machine</td>\n",
       "      <td id=\"T_aeb24_row5_col1\" class=\"data row5 col1\" >0.7948</td>\n",
       "      <td id=\"T_aeb24_row5_col2\" class=\"data row5 col2\" >0.9456</td>\n",
       "      <td id=\"T_aeb24_row5_col3\" class=\"data row5 col3\" >0.7948</td>\n",
       "      <td id=\"T_aeb24_row5_col4\" class=\"data row5 col4\" >0.7875</td>\n",
       "      <td id=\"T_aeb24_row5_col5\" class=\"data row5 col5\" >0.7903</td>\n",
       "      <td id=\"T_aeb24_row5_col6\" class=\"data row5 col6\" >0.6109</td>\n",
       "      <td id=\"T_aeb24_row5_col7\" class=\"data row5 col7\" >0.6118</td>\n",
       "      <td id=\"T_aeb24_row5_col8\" class=\"data row5 col8\" >0.3350</td>\n",
       "    </tr>\n",
       "    <tr>\n",
       "      <th id=\"T_aeb24_level0_row6\" class=\"row_heading level0 row6\" >lda</th>\n",
       "      <td id=\"T_aeb24_row6_col0\" class=\"data row6 col0\" >Linear Discriminant Analysis</td>\n",
       "      <td id=\"T_aeb24_row6_col1\" class=\"data row6 col1\" >0.7893</td>\n",
       "      <td id=\"T_aeb24_row6_col2\" class=\"data row6 col2\" >0.9407</td>\n",
       "      <td id=\"T_aeb24_row6_col3\" class=\"data row6 col3\" >0.7893</td>\n",
       "      <td id=\"T_aeb24_row6_col4\" class=\"data row6 col4\" >0.7702</td>\n",
       "      <td id=\"T_aeb24_row6_col5\" class=\"data row6 col5\" >0.7677</td>\n",
       "      <td id=\"T_aeb24_row6_col6\" class=\"data row6 col6\" >0.6012</td>\n",
       "      <td id=\"T_aeb24_row6_col7\" class=\"data row6 col7\" >0.6124</td>\n",
       "      <td id=\"T_aeb24_row6_col8\" class=\"data row6 col8\" >0.1030</td>\n",
       "    </tr>\n",
       "    <tr>\n",
       "      <th id=\"T_aeb24_level0_row7\" class=\"row_heading level0 row7\" >knn</th>\n",
       "      <td id=\"T_aeb24_row7_col0\" class=\"data row7 col0\" >K Neighbors Classifier</td>\n",
       "      <td id=\"T_aeb24_row7_col1\" class=\"data row7 col1\" >0.7869</td>\n",
       "      <td id=\"T_aeb24_row7_col2\" class=\"data row7 col2\" >0.9282</td>\n",
       "      <td id=\"T_aeb24_row7_col3\" class=\"data row7 col3\" >0.7869</td>\n",
       "      <td id=\"T_aeb24_row7_col4\" class=\"data row7 col4\" >0.7763</td>\n",
       "      <td id=\"T_aeb24_row7_col5\" class=\"data row7 col5\" >0.7801</td>\n",
       "      <td id=\"T_aeb24_row7_col6\" class=\"data row7 col6\" >0.5942</td>\n",
       "      <td id=\"T_aeb24_row7_col7\" class=\"data row7 col7\" >0.5958</td>\n",
       "      <td id=\"T_aeb24_row7_col8\" class=\"data row7 col8\" >0.0670</td>\n",
       "    </tr>\n",
       "    <tr>\n",
       "      <th id=\"T_aeb24_level0_row8\" class=\"row_heading level0 row8\" >ada</th>\n",
       "      <td id=\"T_aeb24_row8_col0\" class=\"data row8 col0\" >Ada Boost Classifier</td>\n",
       "      <td id=\"T_aeb24_row8_col1\" class=\"data row8 col1\" >0.7832</td>\n",
       "      <td id=\"T_aeb24_row8_col2\" class=\"data row8 col2\" >0.9324</td>\n",
       "      <td id=\"T_aeb24_row8_col3\" class=\"data row8 col3\" >0.7832</td>\n",
       "      <td id=\"T_aeb24_row8_col4\" class=\"data row8 col4\" >0.7850</td>\n",
       "      <td id=\"T_aeb24_row8_col5\" class=\"data row8 col5\" >0.7810</td>\n",
       "      <td id=\"T_aeb24_row8_col6\" class=\"data row8 col6\" >0.5932</td>\n",
       "      <td id=\"T_aeb24_row8_col7\" class=\"data row8 col7\" >0.5960</td>\n",
       "      <td id=\"T_aeb24_row8_col8\" class=\"data row8 col8\" >0.3810</td>\n",
       "    </tr>\n",
       "    <tr>\n",
       "      <th id=\"T_aeb24_level0_row9\" class=\"row_heading level0 row9\" >dt</th>\n",
       "      <td id=\"T_aeb24_row9_col0\" class=\"data row9 col0\" >Decision Tree Classifier</td>\n",
       "      <td id=\"T_aeb24_row9_col1\" class=\"data row9 col1\" >0.7784</td>\n",
       "      <td id=\"T_aeb24_row9_col2\" class=\"data row9 col2\" >0.8437</td>\n",
       "      <td id=\"T_aeb24_row9_col3\" class=\"data row9 col3\" >0.7784</td>\n",
       "      <td id=\"T_aeb24_row9_col4\" class=\"data row9 col4\" >0.7778</td>\n",
       "      <td id=\"T_aeb24_row9_col5\" class=\"data row9 col5\" >0.7773</td>\n",
       "      <td id=\"T_aeb24_row9_col6\" class=\"data row9 col6\" >0.5844</td>\n",
       "      <td id=\"T_aeb24_row9_col7\" class=\"data row9 col7\" >0.5852</td>\n",
       "      <td id=\"T_aeb24_row9_col8\" class=\"data row9 col8\" >0.0660</td>\n",
       "    </tr>\n",
       "    <tr>\n",
       "      <th id=\"T_aeb24_level0_row10\" class=\"row_heading level0 row10\" >lr</th>\n",
       "      <td id=\"T_aeb24_row10_col0\" class=\"data row10 col0\" >Logistic Regression</td>\n",
       "      <td id=\"T_aeb24_row10_col1\" class=\"data row10 col1\" >0.7765</td>\n",
       "      <td id=\"T_aeb24_row10_col2\" class=\"data row10 col2\" >0.9293</td>\n",
       "      <td id=\"T_aeb24_row10_col3\" class=\"data row10 col3\" >0.7765</td>\n",
       "      <td id=\"T_aeb24_row10_col4\" class=\"data row10 col4\" >0.7410</td>\n",
       "      <td id=\"T_aeb24_row10_col5\" class=\"data row10 col5\" >0.7395</td>\n",
       "      <td id=\"T_aeb24_row10_col6\" class=\"data row10 col6\" >0.5659</td>\n",
       "      <td id=\"T_aeb24_row10_col7\" class=\"data row10 col7\" >0.5821</td>\n",
       "      <td id=\"T_aeb24_row10_col8\" class=\"data row10 col8\" >0.5470</td>\n",
       "    </tr>\n",
       "    <tr>\n",
       "      <th id=\"T_aeb24_level0_row11\" class=\"row_heading level0 row11\" >nb</th>\n",
       "      <td id=\"T_aeb24_row11_col0\" class=\"data row11 col0\" >Naive Bayes</td>\n",
       "      <td id=\"T_aeb24_row11_col1\" class=\"data row11 col1\" >0.7687</td>\n",
       "      <td id=\"T_aeb24_row11_col2\" class=\"data row11 col2\" >0.9474</td>\n",
       "      <td id=\"T_aeb24_row11_col3\" class=\"data row11 col3\" >0.7687</td>\n",
       "      <td id=\"T_aeb24_row11_col4\" class=\"data row11 col4\" >0.7625</td>\n",
       "      <td id=\"T_aeb24_row11_col5\" class=\"data row11 col5\" >0.7181</td>\n",
       "      <td id=\"T_aeb24_row11_col6\" class=\"data row11 col6\" >0.5552</td>\n",
       "      <td id=\"T_aeb24_row11_col7\" class=\"data row11 col7\" >0.5869</td>\n",
       "      <td id=\"T_aeb24_row11_col8\" class=\"data row11 col8\" >0.0650</td>\n",
       "    </tr>\n",
       "    <tr>\n",
       "      <th id=\"T_aeb24_level0_row12\" class=\"row_heading level0 row12\" >qda</th>\n",
       "      <td id=\"T_aeb24_row12_col0\" class=\"data row12 col0\" >Quadratic Discriminant Analysis</td>\n",
       "      <td id=\"T_aeb24_row12_col1\" class=\"data row12 col1\" >0.7681</td>\n",
       "      <td id=\"T_aeb24_row12_col2\" class=\"data row12 col2\" >0.9444</td>\n",
       "      <td id=\"T_aeb24_row12_col3\" class=\"data row12 col3\" >0.7681</td>\n",
       "      <td id=\"T_aeb24_row12_col4\" class=\"data row12 col4\" >0.8051</td>\n",
       "      <td id=\"T_aeb24_row12_col5\" class=\"data row12 col5\" >0.7337</td>\n",
       "      <td id=\"T_aeb24_row12_col6\" class=\"data row12 col6\" >0.5762</td>\n",
       "      <td id=\"T_aeb24_row12_col7\" class=\"data row12 col7\" >0.6135</td>\n",
       "      <td id=\"T_aeb24_row12_col8\" class=\"data row12 col8\" >0.0850</td>\n",
       "    </tr>\n",
       "    <tr>\n",
       "      <th id=\"T_aeb24_level0_row13\" class=\"row_heading level0 row13\" >dummy</th>\n",
       "      <td id=\"T_aeb24_row13_col0\" class=\"data row13 col0\" >Dummy Classifier</td>\n",
       "      <td id=\"T_aeb24_row13_col1\" class=\"data row13 col1\" >0.6302</td>\n",
       "      <td id=\"T_aeb24_row13_col2\" class=\"data row13 col2\" >0.5000</td>\n",
       "      <td id=\"T_aeb24_row13_col3\" class=\"data row13 col3\" >0.6302</td>\n",
       "      <td id=\"T_aeb24_row13_col4\" class=\"data row13 col4\" >0.3972</td>\n",
       "      <td id=\"T_aeb24_row13_col5\" class=\"data row13 col5\" >0.4873</td>\n",
       "      <td id=\"T_aeb24_row13_col6\" class=\"data row13 col6\" >0.0000</td>\n",
       "      <td id=\"T_aeb24_row13_col7\" class=\"data row13 col7\" >0.0000</td>\n",
       "      <td id=\"T_aeb24_row13_col8\" class=\"data row13 col8\" >0.0680</td>\n",
       "    </tr>\n",
       "    <tr>\n",
       "      <th id=\"T_aeb24_level0_row14\" class=\"row_heading level0 row14\" >svm</th>\n",
       "      <td id=\"T_aeb24_row14_col0\" class=\"data row14 col0\" >SVM - Linear Kernel</td>\n",
       "      <td id=\"T_aeb24_row14_col1\" class=\"data row14 col1\" >0.5110</td>\n",
       "      <td id=\"T_aeb24_row14_col2\" class=\"data row14 col2\" >0.0000</td>\n",
       "      <td id=\"T_aeb24_row14_col3\" class=\"data row14 col3\" >0.5110</td>\n",
       "      <td id=\"T_aeb24_row14_col4\" class=\"data row14 col4\" >0.4561</td>\n",
       "      <td id=\"T_aeb24_row14_col5\" class=\"data row14 col5\" >0.4612</td>\n",
       "      <td id=\"T_aeb24_row14_col6\" class=\"data row14 col6\" >0.0342</td>\n",
       "      <td id=\"T_aeb24_row14_col7\" class=\"data row14 col7\" >0.0398</td>\n",
       "      <td id=\"T_aeb24_row14_col8\" class=\"data row14 col8\" >0.0600</td>\n",
       "    </tr>\n",
       "  </tbody>\n",
       "</table>\n"
      ],
      "text/plain": [
       "<pandas.io.formats.style.Styler at 0x7f4fc202f910>"
      ]
     },
     "metadata": {},
     "output_type": "display_data"
    },
    {
     "data": {
      "application/vnd.jupyter.widget-view+json": {
       "model_id": "",
       "version_major": 2,
       "version_minor": 0
      },
      "text/plain": [
       "Processing:   0%|          | 0/65 [00:00<?, ?it/s]"
      ]
     },
     "metadata": {},
     "output_type": "display_data"
    },
    {
     "data": {
      "application/vnd.jupyter.widget-view+json": {
       "model_id": "8bf30f2f03594c31a4ddb236beebe405",
       "version_major": 2,
       "version_minor": 0
      },
      "text/plain": [
       "interactive(children=(ToggleButtons(description='Plot Type:', icons=('',), options=(('Pipeline Plot', 'pipelin…"
      ]
     },
     "metadata": {},
     "output_type": "display_data"
    },
    {
     "data": {
      "image/png": "[encoded data removed]",
      "text/plain": [
       "<Figure size 1200x600 with 1 Axes>"
      ]
     },
     "metadata": {
      "needs_background": "light"
     },
     "output_type": "display_data"
    }
   ],
   "source": [
    "# pycaret model comparisons\n",
    "\n",
    "from pycaret.classification import *\n",
    "\n",
    "exp_name = setup(a1_master0.iloc[:idx_split2_9th]\n",
    "                 , target = 'ac1_pred'\n",
    "                )\n",
    "\n",
    "best_model = compare_models()\n",
    "\n",
    "evaluate_model(best_model)"
   ]
  },
  {
   "cell_type": "code",
   "execution_count": null,
   "id": "28c5f4ae",
   "metadata": {},
   "outputs": [],
   "source": []
  },
  {
   "cell_type": "code",
   "execution_count": null,
   "id": "62c8cbe7",
   "metadata": {},
   "outputs": [],
   "source": [
    "from sklearn.linear_model import LogisticRegression\n",
    "from sklearn.model_selection import train_test_split\n",
    "from sklearn.metrics import accuracy_score\n",
    "\n",
    "# Split the data into training and test sets\n",
    "a1_X_train = a1_master0.iloc[:idx_split2_9th].drop('ac1_pred', axis=1)\n",
    "a1_y_train = a1_master0['ac1_pred'].iloc[:idx_split2_9th]\n",
    "a1_X_test = a1_master0.iloc[idx_split2_9th:idx_split3_9th].drop('ac1_pred', axis=1)\n",
    "a1_y_test = a1_master0['ac1_pred'].iloc[idx_split2_9th:idx_split3_9th]\n",
    "\n",
    "X_train = a1_X_train\n",
    "X_test = a1_X_test\n",
    "y_train = a1_y_train\n",
    "y_test = a1_y_test\n",
    "\n",
    "# Create a logistic regression classifier parameters\n",
    "# C\t1.0\n",
    "# class_weight\tNone\n",
    "# dual\tFalse\n",
    "# fit_intercept\tTrue\n",
    "# intercept_scaling\t1\n",
    "# l1_ratio\tNone\n",
    "# max_iter\t1000\n",
    "# multi_class\tauto\n",
    "# n_jobs\tNone\n",
    "# penalty\tl2\n",
    "# random_state\t1906\n",
    "# solver\tlbfgs\n",
    "# tol\t0.0001\n",
    "# verbose\t0\n",
    "# warm_start\tFalse\n",
    "\n",
    "clf = LogisticRegression(random_state=1906\n",
    "                         , C=1.0\n",
    "                         , class_weight=None\n",
    "                         , dual=False\n",
    "                         , fit_intercept=True\n",
    "                         , intercept_scaling=1\n",
    "                         , l1_ratio=None\n",
    "                         , max_iter=1000\n",
    "                         , multi_class='auto'\n",
    "                         , n_jobs=-1\n",
    "                         , penalty='l2'\n",
    "                         , solver='lbfgs'\n",
    "                         , tol=0.0001\n",
    "                         , verbose=0\n",
    "                         , warm_start=False\n",
    "                        )\n",
    "\n",
    "# Train the classifier on the training data\n",
    "clf.fit(X_train, y_train)\n",
    "\n",
    "# Make predictions on the test data\n",
    "y_pred = clf.predict(X_test)\n",
    "\n",
    "# Evaluate the accuracy of the classifier\n",
    "accuracy = accuracy_score(y_test, y_pred)\n",
    "print(\"Accuracy:\", accuracy)\n"
   ]
  },
  {
   "cell_type": "code",
   "execution_count": null,
   "id": "1b7c1eb2",
   "metadata": {},
   "outputs": [],
   "source": [
    "clf.coef_[0]"
   ]
  },
  {
   "cell_type": "code",
   "execution_count": null,
   "id": "e6b8c48f",
   "metadata": {},
   "outputs": [],
   "source": [
    "importance = clf.coef_[0]\n",
    "#importance is a list so you can plot it. \n",
    "feat_importances = pd.Series(importance)\n",
    "feat_importances.nlargest(15).plot(kind='barh',title = 'Feature Importance');"
   ]
  },
  {
   "cell_type": "code",
   "execution_count": null,
   "id": "79a7461b",
   "metadata": {},
   "outputs": [],
   "source": [
    "clf.predict(a1_X_pred.to_numpy().reshape(1,-1))[0]"
   ]
  },
  {
   "cell_type": "code",
   "execution_count": null,
   "id": "78684ecd",
   "metadata": {},
   "outputs": [],
   "source": [
    "list(clf.predict_proba(a1_X_pred.to_numpy().reshape(1,-1))[0])"
   ]
  },
  {
   "cell_type": "code",
   "execution_count": null,
   "id": "bc941722",
   "metadata": {},
   "outputs": [],
   "source": []
  },
  {
   "cell_type": "code",
   "execution_count": null,
   "id": "722ae2df",
   "metadata": {},
   "outputs": [],
   "source": []
  },
  {
   "cell_type": "code",
   "execution_count": null,
   "id": "7fbd1493",
   "metadata": {},
   "outputs": [],
   "source": []
  },
  {
   "cell_type": "code",
   "execution_count": null,
   "id": "95e0ce41",
   "metadata": {},
   "outputs": [],
   "source": []
  },
  {
   "cell_type": "code",
   "execution_count": null,
   "id": "363f6255",
   "metadata": {},
   "outputs": [],
   "source": []
  },
  {
   "cell_type": "code",
   "execution_count": null,
   "id": "68c3aac5",
   "metadata": {},
   "outputs": [],
   "source": [
    "# random forest classifier\n",
    " \n",
    "from sklearn.metrics import (roc_auc_score\n",
    "                             , precision_score\n",
    "                             , recall_score\n",
    "                             , roc_curve\n",
    "                             , confusion_matrix\n",
    "                             , plot_confusion_matrix\n",
    "                             , precision_recall_curve\n",
    "                             , auc\n",
    "                            )\n",
    "\n",
    "from sklearn.ensemble import RandomForestClassifier as rfc\n",
    "from sklearn.model_selection import GridSearchCV\n",
    "import joblib\n",
    "\n",
    "rfc_model = rfc(random_state = 42\n",
    "                , n_jobs = -1\n",
    "               )\n",
    "\n",
    "rfc_model.fit(a1_X_train, a1_y_train)\n",
    "\n",
    "y_pred = rfc_model.predict(a1_X_test)\n",
    "\n",
    "acc = accuracy_score(a1_y_test, y_pred)\n",
    "\n",
    "print(f'Accuaracy: {acc}')"
   ]
  },
  {
   "cell_type": "code",
   "execution_count": null,
   "id": "58263e8e",
   "metadata": {},
   "outputs": [],
   "source": [
    "rfc_model.feature_importances_"
   ]
  },
  {
   "cell_type": "code",
   "execution_count": null,
   "id": "003e5eb4",
   "metadata": {},
   "outputs": [],
   "source": []
  },
  {
   "cell_type": "code",
   "execution_count": null,
   "id": "be8a02b0",
   "metadata": {},
   "outputs": [],
   "source": []
  },
  {
   "cell_type": "code",
   "execution_count": null,
   "id": "5ceea1a0",
   "metadata": {},
   "outputs": [],
   "source": []
  },
  {
   "cell_type": "code",
   "execution_count": null,
   "id": "293fddfc",
   "metadata": {},
   "outputs": [],
   "source": []
  },
  {
   "cell_type": "code",
   "execution_count": null,
   "id": "d7f4258a",
   "metadata": {},
   "outputs": [],
   "source": []
  },
  {
   "cell_type": "code",
   "execution_count": null,
   "id": "e909b96a",
   "metadata": {},
   "outputs": [],
   "source": []
  },
  {
   "cell_type": "code",
   "execution_count": null,
   "id": "6ec7fa72",
   "metadata": {},
   "outputs": [],
   "source": [
    "# add predictions to X_train\n",
    "\n",
    "# idx_split2_9th = int(a.shape[0] * 2.0 / 9)\n",
    "# idx_split3_9th = int(a.shape[0] * 1.0 / 3)\n",
    "# idx_split5_9th = int(a.shape[0] * 5.0 / 9)\n",
    "# idx_split6_9th = int(a.shape[0] * 2.0 / 3)\n",
    "# idx_split8_9th = int(a.shape[0] * 8.0 / 9)\n",
    "\n",
    "\n",
    "\n",
    "\n",
    "a1_master1 = a1_master0[a1_col_list].iloc[idx_split3_9th:idx_split6_9th].copy()\n",
    "a1_master1['pred0'] = xgb_model0.predict(a1_master1[a1_X_train.columns])\n",
    "\n",
    "idx_2_3 = int(a1_master1.shape[0] * 2 / 3)\n",
    "\n",
    "a1_X_train = a1_master1.iloc[:idx_2_3].drop('ac1_pred', axis=1)\n",
    "a1_y_train = a1_master1['ac1_pred'].iloc[:idx_2_3]\n",
    "a1_X_test = a1_master1.iloc[idx_2_3:].drop('ac1_pred', axis=1)\n",
    "a1_y_test = a1_master1['ac1_pred'].iloc[idx_2_3:]"
   ]
  },
  {
   "cell_type": "code",
   "execution_count": null,
   "id": "92173fcd",
   "metadata": {},
   "outputs": [],
   "source": [
    "# sanity check first partition for training\n",
    "print(a1_master1.shape)\n",
    "print(a1_X_train.shape)\n",
    "print(a1_y_train.shape)\n",
    "print(a1_X_test.shape)\n",
    "print(a1_y_test.shape)"
   ]
  },
  {
   "cell_type": "code",
   "execution_count": null,
   "id": "1d2a7a44",
   "metadata": {},
   "outputs": [],
   "source": [
    "# modeling partition 2nd 1/3\n",
    "\n",
    "xgb_model1 = xgb.XGBClassifier(objective='multi:softmax'\n",
    "                              , num_class=3\n",
    "                              , random_state=42\n",
    "                              , max_depth=7\n",
    "                              , n_estimators=55\n",
    "                              , learning_rate=0.01\n",
    "                              , min_child_weight=3\n",
    "                             )\n",
    "\n",
    "xgb_model1.fit(a1_X_train, a1_y_train)\n",
    "\n",
    "y_pred = xgb_model1.predict(a1_X_test)\n",
    "\n",
    "# y_pred_prob = xgb_model0.predict_proba(a1_X_test)[:, 1]\n",
    "\n",
    "acc = accuracy_score(a1_y_test, y_pred)\n",
    "\n",
    "print(f'Accuracy: {acc}')"
   ]
  },
  {
   "cell_type": "code",
   "execution_count": null,
   "id": "15851dde",
   "metadata": {},
   "outputs": [],
   "source": [
    "xgb_model1.feature_importances_"
   ]
  },
  {
   "cell_type": "code",
   "execution_count": null,
   "id": "1555dd0a",
   "metadata": {},
   "outputs": [],
   "source": [
    "# 4/16/2023 --to do: need to put back last row to fill pred0 column"
   ]
  },
  {
   "cell_type": "code",
   "execution_count": null,
   "id": "803485df",
   "metadata": {},
   "outputs": [],
   "source": []
  },
  {
   "cell_type": "code",
   "execution_count": null,
   "id": "fd4601ca",
   "metadata": {},
   "outputs": [],
   "source": []
  },
  {
   "cell_type": "code",
   "execution_count": null,
   "id": "bf14af38",
   "metadata": {},
   "outputs": [],
   "source": []
  },
  {
   "cell_type": "code",
   "execution_count": null,
   "id": "62f760a9",
   "metadata": {},
   "outputs": [],
   "source": [
    "a1_master1.tail(10)"
   ]
  },
  {
   "cell_type": "code",
   "execution_count": null,
   "id": "000e993a",
   "metadata": {},
   "outputs": [],
   "source": [
    "a1_master1.shape"
   ]
  },
  {
   "cell_type": "code",
   "execution_count": null,
   "id": "20a4f1f6",
   "metadata": {},
   "outputs": [],
   "source": [
    "len(a1_X_train.columns)"
   ]
  },
  {
   "cell_type": "code",
   "execution_count": null,
   "id": "24cdc7a4",
   "metadata": {},
   "outputs": [],
   "source": [
    "a1_X_columns = list(a1_X_train.columns)\n",
    "a1_X_columns.append('pred0')\n",
    "a1_X_columns"
   ]
  },
  {
   "cell_type": "code",
   "execution_count": null,
   "id": "6d46883b",
   "metadata": {},
   "outputs": [],
   "source": [
    "a1_X_pred1 = a1_master1[a1_X_columns].iloc[-1].copy()\n",
    "a1_X_pred1"
   ]
  },
  {
   "cell_type": "code",
   "execution_count": null,
   "id": "031ec347",
   "metadata": {},
   "outputs": [],
   "source": [
    "a1_master1_scrambled = a1_master1.iloc[:-1].copy()\n",
    "a1_master1_scrambled.tail(10)"
   ]
  },
  {
   "cell_type": "code",
   "execution_count": null,
   "id": "0253a8c1",
   "metadata": {},
   "outputs": [],
   "source": [
    "a1_master1_scrambled = a1_master1_scrambled.sample(frac=1)\n",
    "a1_master1_scrambled = a1_master1_scrambled.sample(frac=1)\n",
    "\n",
    "a1_master1_scrambled.tail(10)"
   ]
  },
  {
   "cell_type": "code",
   "execution_count": null,
   "id": "60971400",
   "metadata": {},
   "outputs": [],
   "source": [
    "a1_idx_tt_split = int(a1_master1_scrambled.shape[0] * 0.9)\n",
    "a1_idx_tt_split"
   ]
  },
  {
   "cell_type": "code",
   "execution_count": null,
   "id": "35b6e11e",
   "metadata": {},
   "outputs": [],
   "source": [
    "a1_X_train = a1_master1_scrambled[a1_X_columns].iloc[:a1_idx_tt_split]\n",
    "a1_y_train = a1_master1_scrambled['ac1_pred'].iloc[:a1_idx_tt_split]\n",
    "\n",
    "a1_X_test = a1_master1_scrambled[a1_X_columns].iloc[a1_idx_tt_split:]\n",
    "a1_y_test = a1_master1_scrambled['ac1_pred'].iloc[a1_idx_tt_split:]\n",
    "\n",
    "print(f'a1_master1 shape: {a1_master1.shape}')\n",
    "print(f'X_train shape: {a1_X_train.shape}')\n",
    "print(f'y_train shape: {a1_y_train.shape}')\n",
    "print(f'X_test shape: {a1_X_test.shape}')\n",
    "print(f'y_test shape: {a1_y_test.shape}')\n",
    "print(f'a1_X_pred1 shape: {a1_X_pred1.shape}')"
   ]
  },
  {
   "cell_type": "code",
   "execution_count": null,
   "id": "cbaac0ce",
   "metadata": {},
   "outputs": [],
   "source": [
    "# 2nd modeling\n",
    "\n",
    "xgb_model1 = xgb.XGBClassifier(objective='binary:logistic'\n",
    "                              # , num_class=2\n",
    "                              , random_state=42\n",
    "                              # , max_depth=7\n",
    "                              # , n_estimators=89\n",
    "                              # , learning_rate=0.05\n",
    "                              # , min_child_weight=4\n",
    "                             )\n",
    "\n",
    "xgb_model1.fit(a1_X_train, a1_y_train)\n",
    "\n",
    "y_pred = xgb_model1.predict(a1_X_test)\n",
    "\n",
    "y_pred_prob = xgb_model1.predict_proba(a1_X_test)[:, 1]\n",
    "\n",
    "acc = accuracy_score(a1_y_test, y_pred)\n",
    "\n",
    "print(f'Accuracy: {acc}')"
   ]
  },
  {
   "cell_type": "code",
   "execution_count": null,
   "id": "816c4e14",
   "metadata": {},
   "outputs": [],
   "source": [
    "xgb_model1.feature_importances_"
   ]
  },
  {
   "cell_type": "code",
   "execution_count": null,
   "id": "7e4bd883",
   "metadata": {},
   "outputs": [],
   "source": [
    "a1_X_columns"
   ]
  },
  {
   "cell_type": "code",
   "execution_count": null,
   "id": "12e60e4c",
   "metadata": {},
   "outputs": [],
   "source": []
  },
  {
   "cell_type": "code",
   "execution_count": null,
   "id": "50fe50e7",
   "metadata": {},
   "outputs": [],
   "source": []
  },
  {
   "cell_type": "code",
   "execution_count": null,
   "id": "78bda2d7",
   "metadata": {},
   "outputs": [],
   "source": []
  }
 ],
 "metadata": {
  "kernelspec": {
   "display_name": "Python 3",
   "language": "python",
   "name": "python3"
  },
  "language_info": {
   "codemirror_mode": {
    "name": "ipython",
    "version": 3
   },
   "file_extension": ".py",
   "mimetype": "text/x-python",
   "name": "python",
   "nbconvert_exporter": "python",
   "pygments_lexer": "ipython3",
   "version": "3.8.10"
  }
 },
 "nbformat": 4,
 "nbformat_minor": 5
}
