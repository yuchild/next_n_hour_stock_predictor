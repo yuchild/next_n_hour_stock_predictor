{
 "cells": [
  {
   "cell_type": "code",
   "execution_count": 1,
   "id": "91a37dd1",
   "metadata": {},
   "outputs": [],
   "source": [
    "import yfinance as yf\n",
    "import pandas as pd\n",
    "import numpy as np\n",
    "import xgboost as xgb\n",
    "from sklearn.model_selection import GridSearchCV, StratifiedKFold\n",
    "from sklearn.metrics import accuracy_score"
   ]
  },
  {
   "cell_type": "code",
   "execution_count": 2,
   "id": "de5d1dcd",
   "metadata": {},
   "outputs": [
    {
     "name": "stdout",
     "output_type": "stream",
     "text": [
      "[*********************100%***********************]  1 of 1 completed\n",
      "[*********************100%***********************]  1 of 1 completed\n"
     ]
    }
   ],
   "source": [
    "# aapl_day = yf.download(\"AAPL\", start=\"1980-12-08\", end=None)\n",
    "# aapl_day.to_pickle('./data/aapl_day.pkl')\n",
    "# amd_day = yf.download(\"AMD\", start=\"1980-03-17\", end=None)\n",
    "# amd_day.to_pickle('./data/amd_day.pkl')"
   ]
  },
  {
   "cell_type": "code",
   "execution_count": 3,
   "id": "ed539940",
   "metadata": {},
   "outputs": [],
   "source": [
    "# aapl_hour = yf.download(tickers=\"AAPL\",\n",
    "#                        period=\"2y\",\n",
    "#                        interval=\"1h\"\n",
    "#                       )\n",
    "# aapl_hour.to_pickle('./data/aapl_hr.pkl')"
   ]
  },
  {
   "cell_type": "code",
   "execution_count": 4,
   "id": "9be1eaa1",
   "metadata": {},
   "outputs": [],
   "source": [
    "def compute_up_down(begin, end):\n",
    "    if abs((begin - end) / begin) <= 0.007:\n",
    "        return 0\n",
    "    elif (begin - end) / begin > 0.007:\n",
    "        return 1\n",
    "    else:\n",
    "        return 2\n",
    "    \n",
    "def compute_volume_per_dollar(vol, begin, end):\n",
    "    if begin - end == 0:\n",
    "        return vol\n",
    "    else:\n",
    "        return vol / abs(begin - end)\n",
    "    \n",
    "def compute_pct_change(num1, num2, dem):\n",
    "    if dem == 0:\n",
    "        return 0\n",
    "    else:\n",
    "        return (num2 - num1) / dem"
   ]
  },
  {
   "cell_type": "code",
   "execution_count": 5,
   "id": "c6230cd7",
   "metadata": {},
   "outputs": [],
   "source": [
    "a = pd.read_pickle('./data/amd_day.pkl')\n",
    "a = a.rename(columns={'Adj Close': 'ac'\n",
    "                      , 'Open': 'o'\n",
    "                      , 'Close': 'c'\n",
    "                      , 'High': 'h'\n",
    "                      , 'Low': 'l'\n",
    "                      , 'Volume': 'v'\n",
    "                     })"
   ]
  },
  {
   "cell_type": "code",
   "execution_count": 6,
   "id": "78669d3d",
   "metadata": {
    "scrolled": false
   },
   "outputs": [],
   "source": [
    "a['dow'] = a.index.weekday\n",
    "\n",
    "a['vpd_hlc'] = a.apply(lambda row: compute_volume_per_dollar(row['v'], row['h'], row['l']), axis=1)  # volume per dollar high low change\n",
    "a['vpd_opac'] = a.apply(lambda row: compute_volume_per_dollar(row['v'], row['o'], row['c']), axis=1)  # volume per dollar open close absolute change\n",
    "\n",
    "a['ac1'] = a['ac'].shift(1)\n",
    "a['ac3'] = a['ac'].shift(3)\n",
    "a['ac5'] = a['ac'].shift(5)\n",
    "a['ac8'] = a['ac'].shift(8)\n",
    "a['ac13'] = a['ac'].shift(13)\n",
    "a['ac21'] = a['ac'].shift(21)\n",
    "\n",
    "a['mu_rol3'] = a['ac'].rolling(window=3).mean()\n",
    "a['mu_rol5'] = a['ac'].rolling(window=5).mean()\n",
    "a['mu_rol8'] = a['ac'].rolling(window=8).mean()\n",
    "a['mu_rol13'] = a['ac'].rolling(window=13).mean()\n",
    "a['mu_rol21'] = a['ac'].rolling(window=21).mean()\n",
    "\n",
    "a['std_rol3'] = a['ac'].rolling(window=3).std()\n",
    "a['std_rol5'] = a['ac'].rolling(window=5).std()\n",
    "a['std_rol8'] = a['ac'].rolling(window=8).std()\n",
    "a['std_rol13'] = a['ac'].rolling(window=13).std()\n",
    "a['std_rol21'] = a['ac'].rolling(window=21).std()\n",
    "\n",
    "a['hl_pct'] = a.apply(lambda row: compute_pct_change(row['l'], row['h'], row['o']), axis=1)\n",
    "a['oc_pct'] = a.apply(lambda row: compute_pct_change(row['o'], row['c'], row['o']), axis=1)\n",
    "\n",
    "a['ac1_pct'] = a['ac1'] - a['ac'] / a['ac']\n",
    "a['ac3_pct'] = a['ac3'] - a['ac'] / a['ac']\n",
    "a['ac5_pct'] = a['ac5'] - a['ac'] / a['ac']\n",
    "a['ac8_pct'] = a['ac8'] - a['ac'] / a['ac']\n",
    "a['ac13_pct'] = a['ac13'] - a['ac'] / a['ac']\n",
    "a['ac21_pct'] = a['ac21'] - a['ac'] / a['ac']\n",
    "\n",
    "a.dropna(axis=0, inplace=True)\n",
    "\n",
    "a['ac1_up_dwn'] = a.apply(lambda row: compute_up_down(row['ac1'], row['ac']), axis=1)\n",
    "a['ac3_up_dwn'] = a.apply(lambda row: compute_up_down(row['ac3'], row['ac']), axis=1)\n",
    "a['ac5_up_dwn'] = a.apply(lambda row: compute_up_down(row['ac5'], row['ac']), axis=1)\n",
    "a['ac8_up_dwn'] = a.apply(lambda row: compute_up_down(row['ac8'], row['ac']), axis=1)\n",
    "a['ac13_up_dwn'] = a.apply(lambda row: compute_up_down(row['ac13'], row['ac']), axis=1)\n",
    "a['ac21_up_dwn'] = a.apply(lambda row: compute_up_down(row['ac21'], row['ac']), axis=1)\n",
    "\n",
    "a['ac1_pred'] = a['ac1_up_dwn'].shift(-1)\n",
    "a['ac3_pred'] = a['ac3_up_dwn'].shift(-3)\n",
    "a['ac5_pred'] = a['ac5_up_dwn'].shift(-5)\n",
    "a['ac8_pred'] = a['ac8_up_dwn'].shift(-8)\n",
    "a['ac13_pred'] = a['ac13_up_dwn'].shift(-13)\n",
    "a['ac21_pred'] = a['ac21_up_dwn'].shift(-21)"
   ]
  },
  {
   "cell_type": "code",
   "execution_count": 7,
   "id": "79551361",
   "metadata": {
    "scrolled": false
   },
   "outputs": [
    {
     "data": {
      "text/plain": [
       "o              9.182000e+01\n",
       "h              9.297000e+01\n",
       "l              9.050000e+01\n",
       "c              9.175000e+01\n",
       "ac             9.175000e+01\n",
       "v              3.870670e+07\n",
       "dow            4.000000e+00\n",
       "vpd_hlc        1.567072e+07\n",
       "vpd_opac       5.529553e+08\n",
       "ac1            9.209000e+01\n",
       "ac3            9.403000e+01\n",
       "ac5            9.247000e+01\n",
       "ac8            9.656000e+01\n",
       "ac13           9.661000e+01\n",
       "ac21           8.968000e+01\n",
       "mu_rol3        9.205667e+01\n",
       "mu_rol5        9.313600e+01\n",
       "mu_rol8        9.332250e+01\n",
       "mu_rol13       9.459077e+01\n",
       "mu_rol21       9.568000e+01\n",
       "std_rol3       2.914339e-01\n",
       "std_rol5       1.577842e+00\n",
       "std_rol8       1.600455e+00\n",
       "std_rol13      2.225513e+00\n",
       "std_rol21      2.371683e+00\n",
       "hl_pct         2.690047e-02\n",
       "oc_pct        -7.623578e-04\n",
       "ac1_pct        9.109000e+01\n",
       "ac3_pct        9.303000e+01\n",
       "ac5_pct        9.147000e+01\n",
       "ac8_pct        9.556000e+01\n",
       "ac13_pct       9.561000e+01\n",
       "ac21_pct       8.868000e+01\n",
       "ac1_up_dwn     0.000000e+00\n",
       "ac3_up_dwn     1.000000e+00\n",
       "ac5_up_dwn     1.000000e+00\n",
       "ac8_up_dwn     1.000000e+00\n",
       "ac13_up_dwn    1.000000e+00\n",
       "ac21_up_dwn    2.000000e+00\n",
       "ac1_pred                NaN\n",
       "ac3_pred                NaN\n",
       "ac5_pred                NaN\n",
       "ac8_pred                NaN\n",
       "ac13_pred               NaN\n",
       "ac21_pred               NaN\n",
       "Name: 2023-04-14 00:00:00, dtype: float64"
      ]
     },
     "execution_count": 7,
     "metadata": {},
     "output_type": "execute_result"
    }
   ],
   "source": [
    "a.iloc[-1]"
   ]
  },
  {
   "cell_type": "code",
   "execution_count": 8,
   "id": "bdaf0c10",
   "metadata": {
    "scrolled": true
   },
   "outputs": [
    {
     "data": {
      "text/plain": [
       "Index(['o', 'h', 'l', 'c', 'ac', 'v', 'dow', 'vpd_hlc', 'vpd_opac', 'ac1',\n",
       "       'ac3', 'ac5', 'ac8', 'ac13', 'ac21', 'mu_rol3', 'mu_rol5', 'mu_rol8',\n",
       "       'mu_rol13', 'mu_rol21', 'std_rol3', 'std_rol5', 'std_rol8', 'std_rol13',\n",
       "       'std_rol21', 'hl_pct', 'oc_pct', 'ac1_pct', 'ac3_pct', 'ac5_pct',\n",
       "       'ac8_pct', 'ac13_pct', 'ac21_pct', 'ac1_up_dwn', 'ac3_up_dwn',\n",
       "       'ac5_up_dwn', 'ac8_up_dwn', 'ac13_up_dwn', 'ac21_up_dwn', 'ac1_pred',\n",
       "       'ac3_pred', 'ac5_pred', 'ac8_pred', 'ac13_pred', 'ac21_pred'],\n",
       "      dtype='object')"
      ]
     },
     "execution_count": 8,
     "metadata": {},
     "output_type": "execute_result"
    }
   ],
   "source": [
    "a.columns"
   ]
  },
  {
   "cell_type": "code",
   "execution_count": 9,
   "id": "a1c8ddf7",
   "metadata": {},
   "outputs": [],
   "source": [
    "a1_col_list = ['o'\n",
    "               # , 'h'\n",
    "               # , 'l'\n",
    "               , 'c'\n",
    "               # ,\n",
    "               , 'ac'\n",
    "               # , 'v'\n",
    "               , 'vpd_hlc'\n",
    "               , 'vpd_opac'\n",
    "               # , 'ac1'\n",
    "               # , 'ac3'\n",
    "               # , 'ac5'\n",
    "               # , 'ac8'\n",
    "               # , 'ac13'\n",
    "               # , 'ac21'\n",
    "               , 'mu_rol3'\n",
    "               # , 'mu_rol5'\n",
    "               , 'mu_rol8'\n",
    "               # , 'mu_rol13'\n",
    "               , 'mu_rol21'\n",
    "               , 'std_rol3'\n",
    "               # , 'std_rol5'\n",
    "               , 'std_rol8'\n",
    "               # , 'std_rol13'\n",
    "               , 'std_rol21'\n",
    "               , 'hl_pct'\n",
    "               , 'oc_pct'\n",
    "               , 'ac1_pct'\n",
    "               # , 'ac3_pct'\n",
    "               # , 'ac5_pct'\n",
    "               , 'ac8_pct'\n",
    "               # , 'ac13_pct'\n",
    "               , 'ac21_pct'\n",
    "               # , 'ac1_up_dwn'\n",
    "               # , 'ac3_up_dwn'\n",
    "               # , 'ac5_up_dwn'\n",
    "               # , 'ac8_up_dwn'\n",
    "               # , 'ac13_up_dwn'\n",
    "               # , 'ac21_up_dwn'\n",
    "               , 'ac1_pred'\n",
    "              ]\n",
    "\n",
    "a1_master = a[a1_col_list].copy()\n",
    "\n",
    "a1_X_pred = a1_master[a1_col_list[:-1]].iloc[-1].copy()\n",
    "\n",
    "a1_master0 = a1_master.iloc[:-1].sample(frac=1, random_state=21)\n",
    "a1_master0 = a1_master0.sample(frac=1, random_state=42)\n",
    "\n",
    "idx_split = int(a.shape[0] * 0.9)\n",
    "\n",
    "a1_X_train = a1_master0.iloc[:idx_split].drop('ac1_pred', axis=1)\n",
    "a1_y_train = a1_master0['ac1_pred'].iloc[:idx_split]\n",
    "a1_X_test = a1_master0.iloc[idx_split:].drop('ac1_pred', axis=1)\n",
    "a1_y_test = a1_master0['ac1_pred'].iloc[idx_split:]"
   ]
  },
  {
   "cell_type": "code",
   "execution_count": 10,
   "id": "aeb05c09",
   "metadata": {
    "scrolled": false
   },
   "outputs": [
    {
     "data": {
      "text/plain": [
       "o            9.182000e+01\n",
       "c            9.175000e+01\n",
       "ac           9.175000e+01\n",
       "vpd_hlc      1.567072e+07\n",
       "vpd_opac     5.529553e+08\n",
       "mu_rol3      9.205667e+01\n",
       "mu_rol8      9.332250e+01\n",
       "mu_rol21     9.568000e+01\n",
       "std_rol3     2.914339e-01\n",
       "std_rol8     1.600455e+00\n",
       "std_rol21    2.371683e+00\n",
       "hl_pct       2.690047e-02\n",
       "oc_pct      -7.623578e-04\n",
       "ac1_pct      9.109000e+01\n",
       "ac8_pct      9.556000e+01\n",
       "ac21_pct     8.868000e+01\n",
       "Name: 2023-04-14 00:00:00, dtype: float64"
      ]
     },
     "execution_count": 10,
     "metadata": {},
     "output_type": "execute_result"
    }
   ],
   "source": [
    "a1_X_pred"
   ]
  },
  {
   "cell_type": "code",
   "execution_count": 11,
   "id": "37fdb812",
   "metadata": {},
   "outputs": [
    {
     "data": {
      "text/plain": [
       "o              9.182000e+01\n",
       "h              9.297000e+01\n",
       "l              9.050000e+01\n",
       "c              9.175000e+01\n",
       "ac             9.175000e+01\n",
       "v              3.870670e+07\n",
       "dow            4.000000e+00\n",
       "vpd_hlc        1.567072e+07\n",
       "vpd_opac       5.529553e+08\n",
       "ac1            9.209000e+01\n",
       "ac3            9.403000e+01\n",
       "ac5            9.247000e+01\n",
       "ac8            9.656000e+01\n",
       "ac13           9.661000e+01\n",
       "ac21           8.968000e+01\n",
       "mu_rol3        9.205667e+01\n",
       "mu_rol5        9.313600e+01\n",
       "mu_rol8        9.332250e+01\n",
       "mu_rol13       9.459077e+01\n",
       "mu_rol21       9.568000e+01\n",
       "std_rol3       2.914339e-01\n",
       "std_rol5       1.577842e+00\n",
       "std_rol8       1.600455e+00\n",
       "std_rol13      2.225513e+00\n",
       "std_rol21      2.371683e+00\n",
       "hl_pct         2.690047e-02\n",
       "oc_pct        -7.623578e-04\n",
       "ac1_pct        9.109000e+01\n",
       "ac3_pct        9.303000e+01\n",
       "ac5_pct        9.147000e+01\n",
       "ac8_pct        9.556000e+01\n",
       "ac13_pct       9.561000e+01\n",
       "ac21_pct       8.868000e+01\n",
       "ac1_up_dwn     0.000000e+00\n",
       "ac3_up_dwn     1.000000e+00\n",
       "ac5_up_dwn     1.000000e+00\n",
       "ac8_up_dwn     1.000000e+00\n",
       "ac13_up_dwn    1.000000e+00\n",
       "ac21_up_dwn    2.000000e+00\n",
       "ac1_pred                NaN\n",
       "ac3_pred                NaN\n",
       "ac5_pred                NaN\n",
       "ac8_pred                NaN\n",
       "ac13_pred               NaN\n",
       "ac21_pred               NaN\n",
       "Name: 2023-04-14 00:00:00, dtype: float64"
      ]
     },
     "execution_count": 11,
     "metadata": {},
     "output_type": "execute_result"
    }
   ],
   "source": [
    "a.iloc[-1]"
   ]
  },
  {
   "cell_type": "code",
   "execution_count": 12,
   "id": "c897dfa3",
   "metadata": {},
   "outputs": [
    {
     "name": "stdout",
     "output_type": "stream",
     "text": [
      "(10841, 45)\n",
      "9756\n",
      "(9756, 16)\n",
      "(9756,)\n",
      "(1084, 16)\n",
      "(1084,)\n"
     ]
    }
   ],
   "source": [
    "print(a.shape)\n",
    "print(idx_split)\n",
    "print(a1_X_train.shape)\n",
    "print(a1_y_train.shape)\n",
    "print(a1_X_test.shape)\n",
    "print(a1_y_test.shape)"
   ]
  },
  {
   "cell_type": "code",
   "execution_count": 13,
   "id": "9a10ab72",
   "metadata": {},
   "outputs": [
    {
     "data": {
      "text/plain": [
       "10647"
      ]
     },
     "execution_count": 13,
     "metadata": {},
     "output_type": "execute_result"
    }
   ],
   "source": [
    "9583+1064"
   ]
  },
  {
   "cell_type": "code",
   "execution_count": 14,
   "id": "b587f8d8",
   "metadata": {},
   "outputs": [
    {
     "data": {
      "text/plain": [
       "(10841, 45)"
      ]
     },
     "execution_count": 14,
     "metadata": {},
     "output_type": "execute_result"
    }
   ],
   "source": [
    "a.shape"
   ]
  },
  {
   "cell_type": "code",
   "execution_count": 15,
   "id": "b6d25143",
   "metadata": {},
   "outputs": [
    {
     "data": {
      "text/plain": [
       "o            9.500000e+00\n",
       "c            9.843750e+00\n",
       "ac           9.843750e+00\n",
       "vpd_hlc      8.863147e+06\n",
       "vpd_opac     1.208611e+07\n",
       "mu_rol3      9.593750e+00\n",
       "mu_rol8      9.402344e+00\n",
       "mu_rol21     9.111607e+00\n",
       "std_rol3     2.187500e-01\n",
       "std_rol8     2.535669e-01\n",
       "std_rol21    5.084800e-01\n",
       "hl_pct       4.934211e-02\n",
       "oc_pct       3.618421e-02\n",
       "ac1_pct      8.437500e+00\n",
       "ac8_pct      8.312500e+00\n",
       "ac21_pct     7.750000e+00\n",
       "Name: 1999-08-27 00:00:00, dtype: float64"
      ]
     },
     "execution_count": 15,
     "metadata": {},
     "output_type": "execute_result"
    }
   ],
   "source": [
    "a1_X_train.iloc[0]"
   ]
  },
  {
   "cell_type": "code",
   "execution_count": 16,
   "id": "cb2411c3",
   "metadata": {},
   "outputs": [
    {
     "data": {
      "text/plain": [
       "2.0"
      ]
     },
     "execution_count": 16,
     "metadata": {},
     "output_type": "execute_result"
    }
   ],
   "source": [
    "a1_y_train[0]"
   ]
  },
  {
   "cell_type": "code",
   "execution_count": 17,
   "id": "2060c34a",
   "metadata": {},
   "outputs": [
    {
     "data": {
      "text/plain": [
       "o            7.010000e+00\n",
       "c            7.100000e+00\n",
       "ac           7.100000e+00\n",
       "vpd_hlc      5.249555e+07\n",
       "vpd_opac     1.166571e+08\n",
       "mu_rol3      6.996667e+00\n",
       "mu_rol8      6.702500e+00\n",
       "mu_rol21     6.641429e+00\n",
       "std_rol3     2.514623e-01\n",
       "std_rol8     2.994160e-01\n",
       "std_rol21    2.309607e-01\n",
       "hl_pct       2.853064e-02\n",
       "oc_pct       1.283876e-02\n",
       "ac1_pct      6.180000e+00\n",
       "ac8_pct      5.350000e+00\n",
       "ac21_pct     5.930000e+00\n",
       "Name: 2003-07-08 00:00:00, dtype: float64"
      ]
     },
     "execution_count": 17,
     "metadata": {},
     "output_type": "execute_result"
    }
   ],
   "source": [
    "a1_X_test.iloc[0]"
   ]
  },
  {
   "cell_type": "code",
   "execution_count": 18,
   "id": "36e16c24",
   "metadata": {},
   "outputs": [
    {
     "data": {
      "text/plain": [
       "0.0"
      ]
     },
     "execution_count": 18,
     "metadata": {},
     "output_type": "execute_result"
    }
   ],
   "source": [
    "a1_y_test[0]"
   ]
  },
  {
   "cell_type": "code",
   "execution_count": 19,
   "id": "3a5ad70b",
   "metadata": {},
   "outputs": [
    {
     "data": {
      "text/plain": [
       "1.0    4376\n",
       "2.0    4322\n",
       "0.0    2142\n",
       "Name: ac1_pred, dtype: int64"
      ]
     },
     "execution_count": 19,
     "metadata": {},
     "output_type": "execute_result"
    }
   ],
   "source": [
    "a1_master['ac1_pred'].value_counts()"
   ]
  },
  {
   "cell_type": "code",
   "execution_count": 20,
   "id": "002cb774",
   "metadata": {},
   "outputs": [
    {
     "data": {
      "text/plain": [
       "o            0\n",
       "c            0\n",
       "ac           0\n",
       "vpd_hlc      0\n",
       "vpd_opac     0\n",
       "mu_rol3      0\n",
       "mu_rol8      0\n",
       "mu_rol21     0\n",
       "std_rol3     0\n",
       "std_rol8     0\n",
       "std_rol21    0\n",
       "hl_pct       0\n",
       "oc_pct       0\n",
       "ac1_pct      0\n",
       "ac8_pct      0\n",
       "ac21_pct     0\n",
       "dtype: int64"
      ]
     },
     "execution_count": 20,
     "metadata": {},
     "output_type": "execute_result"
    }
   ],
   "source": [
    "a1_X_train.isin([np.inf, -np.inf]).sum()"
   ]
  },
  {
   "cell_type": "code",
   "execution_count": 31,
   "id": "071b796f",
   "metadata": {},
   "outputs": [
    {
     "name": "stdout",
     "output_type": "stream",
     "text": [
      "Accuracy: 0.4077490774907749\n"
     ]
    }
   ],
   "source": [
    "# modeling\n",
    "\n",
    "xgb_model = xgb.XGBClassifier(objective='binary:logistic'\n",
    "                              # , num_class=2\n",
    "                              , random_state=42\n",
    "                              # , max_depth=7\n",
    "                              # , n_estimators=89\n",
    "                              # , learning_rate=0.05\n",
    "                              # , min_child_weight=4\n",
    "                             )\n",
    "\n",
    "xgb_model.fit(a1_X_train, a1_y_train)\n",
    "\n",
    "y_pred = xgb_model.predict(a1_X_test)\n",
    "\n",
    "y_pred_prob = xgb_model.predict_proba(a1_X_test)[:, 1]\n",
    "\n",
    "acc = accuracy_score(a1_y_test, y_pred)\n",
    "\n",
    "print(f'Accuracy: {acc}')"
   ]
  },
  {
   "cell_type": "code",
   "execution_count": 32,
   "id": "28056a81",
   "metadata": {
    "scrolled": true
   },
   "outputs": [
    {
     "data": {
      "text/plain": [
       "array([0.05487933, 0.06463844, 0.        , 0.06028321, 0.06216793,\n",
       "       0.0771683 , 0.07325336, 0.06783781, 0.05855045, 0.06655625,\n",
       "       0.06788228, 0.06882254, 0.06117975, 0.08007969, 0.06914838,\n",
       "       0.06755223], dtype=float32)"
      ]
     },
     "execution_count": 32,
     "metadata": {},
     "output_type": "execute_result"
    }
   ],
   "source": [
    "xgb_model.feature_importances_"
   ]
  },
  {
   "cell_type": "code",
   "execution_count": 33,
   "id": "23b51f5c",
   "metadata": {},
   "outputs": [
    {
     "data": {
      "text/plain": [
       "Index(['o', 'c', 'ac', 'vpd_hlc', 'vpd_opac', 'mu_rol3', 'mu_rol8', 'mu_rol21',\n",
       "       'std_rol3', 'std_rol8', 'std_rol21', 'hl_pct', 'oc_pct', 'ac1_pct',\n",
       "       'ac8_pct', 'ac21_pct'],\n",
       "      dtype='object')"
      ]
     },
     "execution_count": 33,
     "metadata": {},
     "output_type": "execute_result"
    }
   ],
   "source": [
    "a1_X_train.columns"
   ]
  },
  {
   "cell_type": "code",
   "execution_count": 34,
   "id": "7e375549",
   "metadata": {},
   "outputs": [
    {
     "data": {
      "text/plain": [
       "1"
      ]
     },
     "execution_count": 34,
     "metadata": {},
     "output_type": "execute_result"
    }
   ],
   "source": [
    "xgb_model.predict(a1_X_pred.to_numpy().reshape(1,-1))[0]"
   ]
  },
  {
   "cell_type": "code",
   "execution_count": 35,
   "id": "7c0b5370",
   "metadata": {},
   "outputs": [
    {
     "data": {
      "text/plain": [
       "array([[0.15556449, 0.6014525 , 0.24298297]], dtype=float32)"
      ]
     },
     "execution_count": 35,
     "metadata": {},
     "output_type": "execute_result"
    }
   ],
   "source": [
    "xgb_model.predict_proba(a1_X_pred.to_numpy().reshape(1,-1))"
   ]
  },
  {
   "cell_type": "code",
   "execution_count": 36,
   "id": "7de125de",
   "metadata": {},
   "outputs": [
    {
     "data": {
      "text/plain": [
       "pandas.core.series.Series"
      ]
     },
     "execution_count": 36,
     "metadata": {},
     "output_type": "execute_result"
    }
   ],
   "source": [
    "type(a1_X_pred)"
   ]
  },
  {
   "cell_type": "code",
   "execution_count": 37,
   "id": "543e388b",
   "metadata": {},
   "outputs": [
    {
     "data": {
      "text/plain": [
       "(16,)"
      ]
     },
     "execution_count": 37,
     "metadata": {},
     "output_type": "execute_result"
    }
   ],
   "source": [
    "a1_X_pred.shape"
   ]
  },
  {
   "cell_type": "code",
   "execution_count": 38,
   "id": "1dbe90fd",
   "metadata": {},
   "outputs": [],
   "source": [
    "# add predictions to X_train\n",
    "\n",
    "a1_master1 = a[a1_col_list].copy()\n",
    "a1_master1['pred0'] = xgb_model.predict(a1_master1[a1_X_train.columns])"
   ]
  },
  {
   "cell_type": "code",
   "execution_count": 39,
   "id": "c54c4abf",
   "metadata": {},
   "outputs": [
    {
     "data": {
      "text/html": [
       "<div>\n",
       "<style scoped>\n",
       "    .dataframe tbody tr th:only-of-type {\n",
       "        vertical-align: middle;\n",
       "    }\n",
       "\n",
       "    .dataframe tbody tr th {\n",
       "        vertical-align: top;\n",
       "    }\n",
       "\n",
       "    .dataframe thead th {\n",
       "        text-align: right;\n",
       "    }\n",
       "</style>\n",
       "<table border=\"1\" class=\"dataframe\">\n",
       "  <thead>\n",
       "    <tr style=\"text-align: right;\">\n",
       "      <th></th>\n",
       "      <th>o</th>\n",
       "      <th>c</th>\n",
       "      <th>ac</th>\n",
       "      <th>vpd_hlc</th>\n",
       "      <th>vpd_opac</th>\n",
       "      <th>mu_rol3</th>\n",
       "      <th>mu_rol8</th>\n",
       "      <th>mu_rol21</th>\n",
       "      <th>std_rol3</th>\n",
       "      <th>std_rol8</th>\n",
       "      <th>std_rol21</th>\n",
       "      <th>hl_pct</th>\n",
       "      <th>oc_pct</th>\n",
       "      <th>ac1_pct</th>\n",
       "      <th>ac8_pct</th>\n",
       "      <th>ac21_pct</th>\n",
       "      <th>ac1_pred</th>\n",
       "      <th>pred0</th>\n",
       "    </tr>\n",
       "    <tr>\n",
       "      <th>Date</th>\n",
       "      <th></th>\n",
       "      <th></th>\n",
       "      <th></th>\n",
       "      <th></th>\n",
       "      <th></th>\n",
       "      <th></th>\n",
       "      <th></th>\n",
       "      <th></th>\n",
       "      <th></th>\n",
       "      <th></th>\n",
       "      <th></th>\n",
       "      <th></th>\n",
       "      <th></th>\n",
       "      <th></th>\n",
       "      <th></th>\n",
       "      <th></th>\n",
       "      <th></th>\n",
       "      <th></th>\n",
       "    </tr>\n",
       "  </thead>\n",
       "  <tbody>\n",
       "    <tr>\n",
       "      <th>2023-03-31</th>\n",
       "      <td>96.339996</td>\n",
       "      <td>98.010002</td>\n",
       "      <td>98.010002</td>\n",
       "      <td>1.806716e+07</td>\n",
       "      <td>3.342958e+07</td>\n",
       "      <td>97.326665</td>\n",
       "      <td>97.369999</td>\n",
       "      <td>91.530475</td>\n",
       "      <td>1.072958</td>\n",
       "      <td>1.674618</td>\n",
       "      <td>7.018199</td>\n",
       "      <td>0.032074</td>\n",
       "      <td>0.017335</td>\n",
       "      <td>96.879997</td>\n",
       "      <td>94.930000</td>\n",
       "      <td>79.440002</td>\n",
       "      <td>1.0</td>\n",
       "      <td>1</td>\n",
       "    </tr>\n",
       "    <tr>\n",
       "      <th>2023-04-03</th>\n",
       "      <td>96.699997</td>\n",
       "      <td>96.559998</td>\n",
       "      <td>96.559998</td>\n",
       "      <td>2.558344e+07</td>\n",
       "      <td>3.618251e+08</td>\n",
       "      <td>97.483332</td>\n",
       "      <td>97.242498</td>\n",
       "      <td>92.246666</td>\n",
       "      <td>0.802269</td>\n",
       "      <td>1.695050</td>\n",
       "      <td>6.706032</td>\n",
       "      <td>0.020476</td>\n",
       "      <td>-0.001448</td>\n",
       "      <td>97.010002</td>\n",
       "      <td>96.580002</td>\n",
       "      <td>80.519997</td>\n",
       "      <td>1.0</td>\n",
       "      <td>1</td>\n",
       "    </tr>\n",
       "    <tr>\n",
       "      <th>2023-04-04</th>\n",
       "      <td>97.040001</td>\n",
       "      <td>95.870003</td>\n",
       "      <td>95.870003</td>\n",
       "      <td>2.096891e+07</td>\n",
       "      <td>3.691963e+07</td>\n",
       "      <td>96.813334</td>\n",
       "      <td>96.691249</td>\n",
       "      <td>92.947142</td>\n",
       "      <td>1.092261</td>\n",
       "      <td>1.215301</td>\n",
       "      <td>6.242306</td>\n",
       "      <td>0.021228</td>\n",
       "      <td>-0.012057</td>\n",
       "      <td>95.559998</td>\n",
       "      <td>99.279999</td>\n",
       "      <td>80.160004</td>\n",
       "      <td>1.0</td>\n",
       "      <td>1</td>\n",
       "    </tr>\n",
       "    <tr>\n",
       "      <th>2023-04-05</th>\n",
       "      <td>94.349998</td>\n",
       "      <td>92.559998</td>\n",
       "      <td>92.559998</td>\n",
       "      <td>1.687239e+07</td>\n",
       "      <td>2.959736e+07</td>\n",
       "      <td>94.996666</td>\n",
       "      <td>96.017499</td>\n",
       "      <td>93.444761</td>\n",
       "      <td>2.138232</td>\n",
       "      <td>1.780448</td>\n",
       "      <td>5.730767</td>\n",
       "      <td>0.033280</td>\n",
       "      <td>-0.018972</td>\n",
       "      <td>94.870003</td>\n",
       "      <td>96.949997</td>\n",
       "      <td>81.110001</td>\n",
       "      <td>0.0</td>\n",
       "      <td>0</td>\n",
       "    </tr>\n",
       "    <tr>\n",
       "      <th>2023-04-06</th>\n",
       "      <td>91.470001</td>\n",
       "      <td>92.470001</td>\n",
       "      <td>92.470001</td>\n",
       "      <td>2.086392e+07</td>\n",
       "      <td>4.777840e+07</td>\n",
       "      <td>93.633334</td>\n",
       "      <td>95.499999</td>\n",
       "      <td>93.782856</td>\n",
       "      <td>1.937535</td>\n",
       "      <td>2.147464</td>\n",
       "      <td>5.432227</td>\n",
       "      <td>0.025036</td>\n",
       "      <td>0.010933</td>\n",
       "      <td>91.559998</td>\n",
       "      <td>95.610001</td>\n",
       "      <td>84.370003</td>\n",
       "      <td>2.0</td>\n",
       "      <td>2</td>\n",
       "    </tr>\n",
       "    <tr>\n",
       "      <th>2023-04-10</th>\n",
       "      <td>91.320000</td>\n",
       "      <td>95.480003</td>\n",
       "      <td>95.480003</td>\n",
       "      <td>1.099084e+07</td>\n",
       "      <td>1.262891e+07</td>\n",
       "      <td>93.503334</td>\n",
       "      <td>95.615000</td>\n",
       "      <td>94.328094</td>\n",
       "      <td>1.712437</td>\n",
       "      <td>2.114312</td>\n",
       "      <td>4.958331</td>\n",
       "      <td>0.052343</td>\n",
       "      <td>0.045554</td>\n",
       "      <td>91.470001</td>\n",
       "      <td>93.559998</td>\n",
       "      <td>83.029999</td>\n",
       "      <td>1.0</td>\n",
       "      <td>1</td>\n",
       "    </tr>\n",
       "    <tr>\n",
       "      <th>2023-04-11</th>\n",
       "      <td>96.059998</td>\n",
       "      <td>94.029999</td>\n",
       "      <td>94.029999</td>\n",
       "      <td>1.536563e+07</td>\n",
       "      <td>2.558415e+07</td>\n",
       "      <td>93.993334</td>\n",
       "      <td>95.357500</td>\n",
       "      <td>94.869047</td>\n",
       "      <td>1.505336</td>\n",
       "      <td>2.172831</td>\n",
       "      <td>4.181706</td>\n",
       "      <td>0.035186</td>\n",
       "      <td>-0.021133</td>\n",
       "      <td>94.480003</td>\n",
       "      <td>95.089996</td>\n",
       "      <td>81.669998</td>\n",
       "      <td>1.0</td>\n",
       "      <td>1</td>\n",
       "    </tr>\n",
       "    <tr>\n",
       "      <th>2023-04-12</th>\n",
       "      <td>94.970001</td>\n",
       "      <td>92.330002</td>\n",
       "      <td>92.330002</td>\n",
       "      <td>1.637517e+07</td>\n",
       "      <td>2.022088e+07</td>\n",
       "      <td>93.946668</td>\n",
       "      <td>94.663751</td>\n",
       "      <td>95.360475</td>\n",
       "      <td>1.576653</td>\n",
       "      <td>2.138117</td>\n",
       "      <td>3.047569</td>\n",
       "      <td>0.034327</td>\n",
       "      <td>-0.027798</td>\n",
       "      <td>93.029999</td>\n",
       "      <td>96.879997</td>\n",
       "      <td>81.010002</td>\n",
       "      <td>0.0</td>\n",
       "      <td>0</td>\n",
       "    </tr>\n",
       "    <tr>\n",
       "      <th>2023-04-13</th>\n",
       "      <td>92.790001</td>\n",
       "      <td>92.089996</td>\n",
       "      <td>92.089996</td>\n",
       "      <td>3.050560e+07</td>\n",
       "      <td>5.796034e+07</td>\n",
       "      <td>92.816666</td>\n",
       "      <td>93.923750</td>\n",
       "      <td>95.581428</td>\n",
       "      <td>1.057607</td>\n",
       "      <td>1.814497</td>\n",
       "      <td>2.577292</td>\n",
       "      <td>0.014333</td>\n",
       "      <td>-0.007544</td>\n",
       "      <td>91.330002</td>\n",
       "      <td>97.010002</td>\n",
       "      <td>86.449997</td>\n",
       "      <td>0.0</td>\n",
       "      <td>0</td>\n",
       "    </tr>\n",
       "    <tr>\n",
       "      <th>2023-04-14</th>\n",
       "      <td>91.820000</td>\n",
       "      <td>91.750000</td>\n",
       "      <td>91.750000</td>\n",
       "      <td>1.567072e+07</td>\n",
       "      <td>5.529553e+08</td>\n",
       "      <td>92.056666</td>\n",
       "      <td>93.322500</td>\n",
       "      <td>95.679999</td>\n",
       "      <td>0.291434</td>\n",
       "      <td>1.600455</td>\n",
       "      <td>2.371683</td>\n",
       "      <td>0.026900</td>\n",
       "      <td>-0.000762</td>\n",
       "      <td>91.089996</td>\n",
       "      <td>95.559998</td>\n",
       "      <td>88.680000</td>\n",
       "      <td>NaN</td>\n",
       "      <td>1</td>\n",
       "    </tr>\n",
       "  </tbody>\n",
       "</table>\n",
       "</div>"
      ],
      "text/plain": [
       "                    o          c         ac       vpd_hlc      vpd_opac  \\\n",
       "Date                                                                      \n",
       "2023-03-31  96.339996  98.010002  98.010002  1.806716e+07  3.342958e+07   \n",
       "2023-04-03  96.699997  96.559998  96.559998  2.558344e+07  3.618251e+08   \n",
       "2023-04-04  97.040001  95.870003  95.870003  2.096891e+07  3.691963e+07   \n",
       "2023-04-05  94.349998  92.559998  92.559998  1.687239e+07  2.959736e+07   \n",
       "2023-04-06  91.470001  92.470001  92.470001  2.086392e+07  4.777840e+07   \n",
       "2023-04-10  91.320000  95.480003  95.480003  1.099084e+07  1.262891e+07   \n",
       "2023-04-11  96.059998  94.029999  94.029999  1.536563e+07  2.558415e+07   \n",
       "2023-04-12  94.970001  92.330002  92.330002  1.637517e+07  2.022088e+07   \n",
       "2023-04-13  92.790001  92.089996  92.089996  3.050560e+07  5.796034e+07   \n",
       "2023-04-14  91.820000  91.750000  91.750000  1.567072e+07  5.529553e+08   \n",
       "\n",
       "              mu_rol3    mu_rol8   mu_rol21  std_rol3  std_rol8  std_rol21  \\\n",
       "Date                                                                         \n",
       "2023-03-31  97.326665  97.369999  91.530475  1.072958  1.674618   7.018199   \n",
       "2023-04-03  97.483332  97.242498  92.246666  0.802269  1.695050   6.706032   \n",
       "2023-04-04  96.813334  96.691249  92.947142  1.092261  1.215301   6.242306   \n",
       "2023-04-05  94.996666  96.017499  93.444761  2.138232  1.780448   5.730767   \n",
       "2023-04-06  93.633334  95.499999  93.782856  1.937535  2.147464   5.432227   \n",
       "2023-04-10  93.503334  95.615000  94.328094  1.712437  2.114312   4.958331   \n",
       "2023-04-11  93.993334  95.357500  94.869047  1.505336  2.172831   4.181706   \n",
       "2023-04-12  93.946668  94.663751  95.360475  1.576653  2.138117   3.047569   \n",
       "2023-04-13  92.816666  93.923750  95.581428  1.057607  1.814497   2.577292   \n",
       "2023-04-14  92.056666  93.322500  95.679999  0.291434  1.600455   2.371683   \n",
       "\n",
       "              hl_pct    oc_pct    ac1_pct    ac8_pct   ac21_pct  ac1_pred  \\\n",
       "Date                                                                        \n",
       "2023-03-31  0.032074  0.017335  96.879997  94.930000  79.440002       1.0   \n",
       "2023-04-03  0.020476 -0.001448  97.010002  96.580002  80.519997       1.0   \n",
       "2023-04-04  0.021228 -0.012057  95.559998  99.279999  80.160004       1.0   \n",
       "2023-04-05  0.033280 -0.018972  94.870003  96.949997  81.110001       0.0   \n",
       "2023-04-06  0.025036  0.010933  91.559998  95.610001  84.370003       2.0   \n",
       "2023-04-10  0.052343  0.045554  91.470001  93.559998  83.029999       1.0   \n",
       "2023-04-11  0.035186 -0.021133  94.480003  95.089996  81.669998       1.0   \n",
       "2023-04-12  0.034327 -0.027798  93.029999  96.879997  81.010002       0.0   \n",
       "2023-04-13  0.014333 -0.007544  91.330002  97.010002  86.449997       0.0   \n",
       "2023-04-14  0.026900 -0.000762  91.089996  95.559998  88.680000       NaN   \n",
       "\n",
       "            pred0  \n",
       "Date               \n",
       "2023-03-31      1  \n",
       "2023-04-03      1  \n",
       "2023-04-04      1  \n",
       "2023-04-05      0  \n",
       "2023-04-06      2  \n",
       "2023-04-10      1  \n",
       "2023-04-11      1  \n",
       "2023-04-12      0  \n",
       "2023-04-13      0  \n",
       "2023-04-14      1  "
      ]
     },
     "execution_count": 39,
     "metadata": {},
     "output_type": "execute_result"
    }
   ],
   "source": [
    "a1_master1.tail(10)"
   ]
  },
  {
   "cell_type": "code",
   "execution_count": 45,
   "id": "6afc7c4e",
   "metadata": {},
   "outputs": [
    {
     "data": {
      "text/plain": [
       "(10841, 18)"
      ]
     },
     "execution_count": 45,
     "metadata": {},
     "output_type": "execute_result"
    }
   ],
   "source": [
    "a1_master1.shape"
   ]
  },
  {
   "cell_type": "code",
   "execution_count": 40,
   "id": "3c956536",
   "metadata": {},
   "outputs": [
    {
     "data": {
      "text/plain": [
       "16"
      ]
     },
     "execution_count": 40,
     "metadata": {},
     "output_type": "execute_result"
    }
   ],
   "source": [
    "len(a1_X_train.columns)"
   ]
  },
  {
   "cell_type": "code",
   "execution_count": 46,
   "id": "11ea4749",
   "metadata": {},
   "outputs": [
    {
     "data": {
      "text/plain": [
       "['o',\n",
       " 'c',\n",
       " 'ac',\n",
       " 'vpd_hlc',\n",
       " 'vpd_opac',\n",
       " 'mu_rol3',\n",
       " 'mu_rol8',\n",
       " 'mu_rol21',\n",
       " 'std_rol3',\n",
       " 'std_rol8',\n",
       " 'std_rol21',\n",
       " 'hl_pct',\n",
       " 'oc_pct',\n",
       " 'ac1_pct',\n",
       " 'ac8_pct',\n",
       " 'ac21_pct',\n",
       " 'pred0']"
      ]
     },
     "execution_count": 46,
     "metadata": {},
     "output_type": "execute_result"
    }
   ],
   "source": [
    "a1_X_columns = list(a1_X_train.columns)\n",
    "a1_X_columns.append('pred0')\n",
    "a1_X_columns"
   ]
  },
  {
   "cell_type": "code",
   "execution_count": 48,
   "id": "91748d0f",
   "metadata": {},
   "outputs": [
    {
     "data": {
      "text/plain": [
       "o            9.182000e+01\n",
       "c            9.175000e+01\n",
       "ac           9.175000e+01\n",
       "vpd_hlc      1.567072e+07\n",
       "vpd_opac     5.529553e+08\n",
       "mu_rol3      9.205667e+01\n",
       "mu_rol8      9.332250e+01\n",
       "mu_rol21     9.568000e+01\n",
       "std_rol3     2.914339e-01\n",
       "std_rol8     1.600455e+00\n",
       "std_rol21    2.371683e+00\n",
       "hl_pct       2.690047e-02\n",
       "oc_pct      -7.623578e-04\n",
       "ac1_pct      9.109000e+01\n",
       "ac8_pct      9.556000e+01\n",
       "ac21_pct     8.868000e+01\n",
       "pred0        1.000000e+00\n",
       "Name: 2023-04-14 00:00:00, dtype: float64"
      ]
     },
     "execution_count": 48,
     "metadata": {},
     "output_type": "execute_result"
    }
   ],
   "source": [
    "a1_X_pred1 = a1_master1[a1_X_columns].iloc[-1].copy()\n",
    "a1_X_pred1"
   ]
  },
  {
   "cell_type": "code",
   "execution_count": 49,
   "id": "809161c3",
   "metadata": {},
   "outputs": [
    {
     "data": {
      "text/html": [
       "<div>\n",
       "<style scoped>\n",
       "    .dataframe tbody tr th:only-of-type {\n",
       "        vertical-align: middle;\n",
       "    }\n",
       "\n",
       "    .dataframe tbody tr th {\n",
       "        vertical-align: top;\n",
       "    }\n",
       "\n",
       "    .dataframe thead th {\n",
       "        text-align: right;\n",
       "    }\n",
       "</style>\n",
       "<table border=\"1\" class=\"dataframe\">\n",
       "  <thead>\n",
       "    <tr style=\"text-align: right;\">\n",
       "      <th></th>\n",
       "      <th>o</th>\n",
       "      <th>c</th>\n",
       "      <th>ac</th>\n",
       "      <th>vpd_hlc</th>\n",
       "      <th>vpd_opac</th>\n",
       "      <th>mu_rol3</th>\n",
       "      <th>mu_rol8</th>\n",
       "      <th>mu_rol21</th>\n",
       "      <th>std_rol3</th>\n",
       "      <th>std_rol8</th>\n",
       "      <th>std_rol21</th>\n",
       "      <th>hl_pct</th>\n",
       "      <th>oc_pct</th>\n",
       "      <th>ac1_pct</th>\n",
       "      <th>ac8_pct</th>\n",
       "      <th>ac21_pct</th>\n",
       "      <th>ac1_pred</th>\n",
       "      <th>pred0</th>\n",
       "    </tr>\n",
       "    <tr>\n",
       "      <th>Date</th>\n",
       "      <th></th>\n",
       "      <th></th>\n",
       "      <th></th>\n",
       "      <th></th>\n",
       "      <th></th>\n",
       "      <th></th>\n",
       "      <th></th>\n",
       "      <th></th>\n",
       "      <th></th>\n",
       "      <th></th>\n",
       "      <th></th>\n",
       "      <th></th>\n",
       "      <th></th>\n",
       "      <th></th>\n",
       "      <th></th>\n",
       "      <th></th>\n",
       "      <th></th>\n",
       "      <th></th>\n",
       "    </tr>\n",
       "  </thead>\n",
       "  <tbody>\n",
       "    <tr>\n",
       "      <th>2023-03-30</th>\n",
       "      <td>98.000000</td>\n",
       "      <td>97.879997</td>\n",
       "      <td>97.879997</td>\n",
       "      <td>2.617479e+07</td>\n",
       "      <td>4.973095e+08</td>\n",
       "      <td>96.176664</td>\n",
       "      <td>97.109999</td>\n",
       "      <td>90.693809</td>\n",
       "      <td>1.661696</td>\n",
       "      <td>1.721860</td>\n",
       "      <td>7.250574</td>\n",
       "      <td>0.023265</td>\n",
       "      <td>-0.001225</td>\n",
       "      <td>95.089996</td>\n",
       "      <td>95.809998</td>\n",
       "      <td>77.290001</td>\n",
       "      <td>0.0</td>\n",
       "      <td>0</td>\n",
       "    </tr>\n",
       "    <tr>\n",
       "      <th>2023-03-31</th>\n",
       "      <td>96.339996</td>\n",
       "      <td>98.010002</td>\n",
       "      <td>98.010002</td>\n",
       "      <td>1.806716e+07</td>\n",
       "      <td>3.342958e+07</td>\n",
       "      <td>97.326665</td>\n",
       "      <td>97.369999</td>\n",
       "      <td>91.530475</td>\n",
       "      <td>1.072958</td>\n",
       "      <td>1.674618</td>\n",
       "      <td>7.018199</td>\n",
       "      <td>0.032074</td>\n",
       "      <td>0.017335</td>\n",
       "      <td>96.879997</td>\n",
       "      <td>94.930000</td>\n",
       "      <td>79.440002</td>\n",
       "      <td>1.0</td>\n",
       "      <td>1</td>\n",
       "    </tr>\n",
       "    <tr>\n",
       "      <th>2023-04-03</th>\n",
       "      <td>96.699997</td>\n",
       "      <td>96.559998</td>\n",
       "      <td>96.559998</td>\n",
       "      <td>2.558344e+07</td>\n",
       "      <td>3.618251e+08</td>\n",
       "      <td>97.483332</td>\n",
       "      <td>97.242498</td>\n",
       "      <td>92.246666</td>\n",
       "      <td>0.802269</td>\n",
       "      <td>1.695050</td>\n",
       "      <td>6.706032</td>\n",
       "      <td>0.020476</td>\n",
       "      <td>-0.001448</td>\n",
       "      <td>97.010002</td>\n",
       "      <td>96.580002</td>\n",
       "      <td>80.519997</td>\n",
       "      <td>1.0</td>\n",
       "      <td>1</td>\n",
       "    </tr>\n",
       "    <tr>\n",
       "      <th>2023-04-04</th>\n",
       "      <td>97.040001</td>\n",
       "      <td>95.870003</td>\n",
       "      <td>95.870003</td>\n",
       "      <td>2.096891e+07</td>\n",
       "      <td>3.691963e+07</td>\n",
       "      <td>96.813334</td>\n",
       "      <td>96.691249</td>\n",
       "      <td>92.947142</td>\n",
       "      <td>1.092261</td>\n",
       "      <td>1.215301</td>\n",
       "      <td>6.242306</td>\n",
       "      <td>0.021228</td>\n",
       "      <td>-0.012057</td>\n",
       "      <td>95.559998</td>\n",
       "      <td>99.279999</td>\n",
       "      <td>80.160004</td>\n",
       "      <td>1.0</td>\n",
       "      <td>1</td>\n",
       "    </tr>\n",
       "    <tr>\n",
       "      <th>2023-04-05</th>\n",
       "      <td>94.349998</td>\n",
       "      <td>92.559998</td>\n",
       "      <td>92.559998</td>\n",
       "      <td>1.687239e+07</td>\n",
       "      <td>2.959736e+07</td>\n",
       "      <td>94.996666</td>\n",
       "      <td>96.017499</td>\n",
       "      <td>93.444761</td>\n",
       "      <td>2.138232</td>\n",
       "      <td>1.780448</td>\n",
       "      <td>5.730767</td>\n",
       "      <td>0.033280</td>\n",
       "      <td>-0.018972</td>\n",
       "      <td>94.870003</td>\n",
       "      <td>96.949997</td>\n",
       "      <td>81.110001</td>\n",
       "      <td>0.0</td>\n",
       "      <td>0</td>\n",
       "    </tr>\n",
       "    <tr>\n",
       "      <th>2023-04-06</th>\n",
       "      <td>91.470001</td>\n",
       "      <td>92.470001</td>\n",
       "      <td>92.470001</td>\n",
       "      <td>2.086392e+07</td>\n",
       "      <td>4.777840e+07</td>\n",
       "      <td>93.633334</td>\n",
       "      <td>95.499999</td>\n",
       "      <td>93.782856</td>\n",
       "      <td>1.937535</td>\n",
       "      <td>2.147464</td>\n",
       "      <td>5.432227</td>\n",
       "      <td>0.025036</td>\n",
       "      <td>0.010933</td>\n",
       "      <td>91.559998</td>\n",
       "      <td>95.610001</td>\n",
       "      <td>84.370003</td>\n",
       "      <td>2.0</td>\n",
       "      <td>2</td>\n",
       "    </tr>\n",
       "    <tr>\n",
       "      <th>2023-04-10</th>\n",
       "      <td>91.320000</td>\n",
       "      <td>95.480003</td>\n",
       "      <td>95.480003</td>\n",
       "      <td>1.099084e+07</td>\n",
       "      <td>1.262891e+07</td>\n",
       "      <td>93.503334</td>\n",
       "      <td>95.615000</td>\n",
       "      <td>94.328094</td>\n",
       "      <td>1.712437</td>\n",
       "      <td>2.114312</td>\n",
       "      <td>4.958331</td>\n",
       "      <td>0.052343</td>\n",
       "      <td>0.045554</td>\n",
       "      <td>91.470001</td>\n",
       "      <td>93.559998</td>\n",
       "      <td>83.029999</td>\n",
       "      <td>1.0</td>\n",
       "      <td>1</td>\n",
       "    </tr>\n",
       "    <tr>\n",
       "      <th>2023-04-11</th>\n",
       "      <td>96.059998</td>\n",
       "      <td>94.029999</td>\n",
       "      <td>94.029999</td>\n",
       "      <td>1.536563e+07</td>\n",
       "      <td>2.558415e+07</td>\n",
       "      <td>93.993334</td>\n",
       "      <td>95.357500</td>\n",
       "      <td>94.869047</td>\n",
       "      <td>1.505336</td>\n",
       "      <td>2.172831</td>\n",
       "      <td>4.181706</td>\n",
       "      <td>0.035186</td>\n",
       "      <td>-0.021133</td>\n",
       "      <td>94.480003</td>\n",
       "      <td>95.089996</td>\n",
       "      <td>81.669998</td>\n",
       "      <td>1.0</td>\n",
       "      <td>1</td>\n",
       "    </tr>\n",
       "    <tr>\n",
       "      <th>2023-04-12</th>\n",
       "      <td>94.970001</td>\n",
       "      <td>92.330002</td>\n",
       "      <td>92.330002</td>\n",
       "      <td>1.637517e+07</td>\n",
       "      <td>2.022088e+07</td>\n",
       "      <td>93.946668</td>\n",
       "      <td>94.663751</td>\n",
       "      <td>95.360475</td>\n",
       "      <td>1.576653</td>\n",
       "      <td>2.138117</td>\n",
       "      <td>3.047569</td>\n",
       "      <td>0.034327</td>\n",
       "      <td>-0.027798</td>\n",
       "      <td>93.029999</td>\n",
       "      <td>96.879997</td>\n",
       "      <td>81.010002</td>\n",
       "      <td>0.0</td>\n",
       "      <td>0</td>\n",
       "    </tr>\n",
       "    <tr>\n",
       "      <th>2023-04-13</th>\n",
       "      <td>92.790001</td>\n",
       "      <td>92.089996</td>\n",
       "      <td>92.089996</td>\n",
       "      <td>3.050560e+07</td>\n",
       "      <td>5.796034e+07</td>\n",
       "      <td>92.816666</td>\n",
       "      <td>93.923750</td>\n",
       "      <td>95.581428</td>\n",
       "      <td>1.057607</td>\n",
       "      <td>1.814497</td>\n",
       "      <td>2.577292</td>\n",
       "      <td>0.014333</td>\n",
       "      <td>-0.007544</td>\n",
       "      <td>91.330002</td>\n",
       "      <td>97.010002</td>\n",
       "      <td>86.449997</td>\n",
       "      <td>0.0</td>\n",
       "      <td>0</td>\n",
       "    </tr>\n",
       "  </tbody>\n",
       "</table>\n",
       "</div>"
      ],
      "text/plain": [
       "                    o          c         ac       vpd_hlc      vpd_opac  \\\n",
       "Date                                                                      \n",
       "2023-03-30  98.000000  97.879997  97.879997  2.617479e+07  4.973095e+08   \n",
       "2023-03-31  96.339996  98.010002  98.010002  1.806716e+07  3.342958e+07   \n",
       "2023-04-03  96.699997  96.559998  96.559998  2.558344e+07  3.618251e+08   \n",
       "2023-04-04  97.040001  95.870003  95.870003  2.096891e+07  3.691963e+07   \n",
       "2023-04-05  94.349998  92.559998  92.559998  1.687239e+07  2.959736e+07   \n",
       "2023-04-06  91.470001  92.470001  92.470001  2.086392e+07  4.777840e+07   \n",
       "2023-04-10  91.320000  95.480003  95.480003  1.099084e+07  1.262891e+07   \n",
       "2023-04-11  96.059998  94.029999  94.029999  1.536563e+07  2.558415e+07   \n",
       "2023-04-12  94.970001  92.330002  92.330002  1.637517e+07  2.022088e+07   \n",
       "2023-04-13  92.790001  92.089996  92.089996  3.050560e+07  5.796034e+07   \n",
       "\n",
       "              mu_rol3    mu_rol8   mu_rol21  std_rol3  std_rol8  std_rol21  \\\n",
       "Date                                                                         \n",
       "2023-03-30  96.176664  97.109999  90.693809  1.661696  1.721860   7.250574   \n",
       "2023-03-31  97.326665  97.369999  91.530475  1.072958  1.674618   7.018199   \n",
       "2023-04-03  97.483332  97.242498  92.246666  0.802269  1.695050   6.706032   \n",
       "2023-04-04  96.813334  96.691249  92.947142  1.092261  1.215301   6.242306   \n",
       "2023-04-05  94.996666  96.017499  93.444761  2.138232  1.780448   5.730767   \n",
       "2023-04-06  93.633334  95.499999  93.782856  1.937535  2.147464   5.432227   \n",
       "2023-04-10  93.503334  95.615000  94.328094  1.712437  2.114312   4.958331   \n",
       "2023-04-11  93.993334  95.357500  94.869047  1.505336  2.172831   4.181706   \n",
       "2023-04-12  93.946668  94.663751  95.360475  1.576653  2.138117   3.047569   \n",
       "2023-04-13  92.816666  93.923750  95.581428  1.057607  1.814497   2.577292   \n",
       "\n",
       "              hl_pct    oc_pct    ac1_pct    ac8_pct   ac21_pct  ac1_pred  \\\n",
       "Date                                                                        \n",
       "2023-03-30  0.023265 -0.001225  95.089996  95.809998  77.290001       0.0   \n",
       "2023-03-31  0.032074  0.017335  96.879997  94.930000  79.440002       1.0   \n",
       "2023-04-03  0.020476 -0.001448  97.010002  96.580002  80.519997       1.0   \n",
       "2023-04-04  0.021228 -0.012057  95.559998  99.279999  80.160004       1.0   \n",
       "2023-04-05  0.033280 -0.018972  94.870003  96.949997  81.110001       0.0   \n",
       "2023-04-06  0.025036  0.010933  91.559998  95.610001  84.370003       2.0   \n",
       "2023-04-10  0.052343  0.045554  91.470001  93.559998  83.029999       1.0   \n",
       "2023-04-11  0.035186 -0.021133  94.480003  95.089996  81.669998       1.0   \n",
       "2023-04-12  0.034327 -0.027798  93.029999  96.879997  81.010002       0.0   \n",
       "2023-04-13  0.014333 -0.007544  91.330002  97.010002  86.449997       0.0   \n",
       "\n",
       "            pred0  \n",
       "Date               \n",
       "2023-03-30      0  \n",
       "2023-03-31      1  \n",
       "2023-04-03      1  \n",
       "2023-04-04      1  \n",
       "2023-04-05      0  \n",
       "2023-04-06      2  \n",
       "2023-04-10      1  \n",
       "2023-04-11      1  \n",
       "2023-04-12      0  \n",
       "2023-04-13      0  "
      ]
     },
     "execution_count": 49,
     "metadata": {},
     "output_type": "execute_result"
    }
   ],
   "source": [
    "a1_master1_scrambled = a1_master1.iloc[:-1].copy()\n",
    "a1_master1_scrambled.tail(10)"
   ]
  },
  {
   "cell_type": "code",
   "execution_count": 51,
   "id": "020b32d8",
   "metadata": {},
   "outputs": [
    {
     "data": {
      "text/html": [
       "<div>\n",
       "<style scoped>\n",
       "    .dataframe tbody tr th:only-of-type {\n",
       "        vertical-align: middle;\n",
       "    }\n",
       "\n",
       "    .dataframe tbody tr th {\n",
       "        vertical-align: top;\n",
       "    }\n",
       "\n",
       "    .dataframe thead th {\n",
       "        text-align: right;\n",
       "    }\n",
       "</style>\n",
       "<table border=\"1\" class=\"dataframe\">\n",
       "  <thead>\n",
       "    <tr style=\"text-align: right;\">\n",
       "      <th></th>\n",
       "      <th>o</th>\n",
       "      <th>c</th>\n",
       "      <th>ac</th>\n",
       "      <th>vpd_hlc</th>\n",
       "      <th>vpd_opac</th>\n",
       "      <th>mu_rol3</th>\n",
       "      <th>mu_rol8</th>\n",
       "      <th>mu_rol21</th>\n",
       "      <th>std_rol3</th>\n",
       "      <th>std_rol8</th>\n",
       "      <th>std_rol21</th>\n",
       "      <th>hl_pct</th>\n",
       "      <th>oc_pct</th>\n",
       "      <th>ac1_pct</th>\n",
       "      <th>ac8_pct</th>\n",
       "      <th>ac21_pct</th>\n",
       "      <th>ac1_pred</th>\n",
       "      <th>pred0</th>\n",
       "    </tr>\n",
       "    <tr>\n",
       "      <th>Date</th>\n",
       "      <th></th>\n",
       "      <th></th>\n",
       "      <th></th>\n",
       "      <th></th>\n",
       "      <th></th>\n",
       "      <th></th>\n",
       "      <th></th>\n",
       "      <th></th>\n",
       "      <th></th>\n",
       "      <th></th>\n",
       "      <th></th>\n",
       "      <th></th>\n",
       "      <th></th>\n",
       "      <th></th>\n",
       "      <th></th>\n",
       "      <th></th>\n",
       "      <th></th>\n",
       "      <th></th>\n",
       "    </tr>\n",
       "  </thead>\n",
       "  <tbody>\n",
       "    <tr>\n",
       "      <th>2000-07-05</th>\n",
       "      <td>37.50000</td>\n",
       "      <td>37.62500</td>\n",
       "      <td>37.62500</td>\n",
       "      <td>6.879306e+06</td>\n",
       "      <td>1.427456e+08</td>\n",
       "      <td>39.458333</td>\n",
       "      <td>40.808594</td>\n",
       "      <td>42.809524</td>\n",
       "      <td>2.362908</td>\n",
       "      <td>2.481991</td>\n",
       "      <td>2.627360</td>\n",
       "      <td>0.069167</td>\n",
       "      <td>0.003333</td>\n",
       "      <td>41.12500</td>\n",
       "      <td>44.62500</td>\n",
       "      <td>44.56250</td>\n",
       "      <td>2.0</td>\n",
       "      <td>2</td>\n",
       "    </tr>\n",
       "    <tr>\n",
       "      <th>2014-11-21</th>\n",
       "      <td>2.72000</td>\n",
       "      <td>2.77000</td>\n",
       "      <td>2.77000</td>\n",
       "      <td>1.885268e+08</td>\n",
       "      <td>2.262322e+08</td>\n",
       "      <td>2.696667</td>\n",
       "      <td>2.673750</td>\n",
       "      <td>2.728571</td>\n",
       "      <td>0.070238</td>\n",
       "      <td>0.050125</td>\n",
       "      <td>0.069303</td>\n",
       "      <td>0.022059</td>\n",
       "      <td>0.018382</td>\n",
       "      <td>1.69000</td>\n",
       "      <td>1.73000</td>\n",
       "      <td>1.69000</td>\n",
       "      <td>2.0</td>\n",
       "      <td>2</td>\n",
       "    </tr>\n",
       "    <tr>\n",
       "      <th>1988-12-05</th>\n",
       "      <td>4.00000</td>\n",
       "      <td>3.93750</td>\n",
       "      <td>3.93750</td>\n",
       "      <td>3.492000e+06</td>\n",
       "      <td>1.396800e+07</td>\n",
       "      <td>3.958333</td>\n",
       "      <td>3.812500</td>\n",
       "      <td>3.931548</td>\n",
       "      <td>0.036084</td>\n",
       "      <td>0.133631</td>\n",
       "      <td>0.226992</td>\n",
       "      <td>0.062500</td>\n",
       "      <td>-0.015625</td>\n",
       "      <td>2.93750</td>\n",
       "      <td>2.81250</td>\n",
       "      <td>3.37500</td>\n",
       "      <td>1.0</td>\n",
       "      <td>1</td>\n",
       "    </tr>\n",
       "    <tr>\n",
       "      <th>1995-02-03</th>\n",
       "      <td>15.75000</td>\n",
       "      <td>15.68750</td>\n",
       "      <td>15.68750</td>\n",
       "      <td>1.159307e+07</td>\n",
       "      <td>6.955840e+07</td>\n",
       "      <td>15.416667</td>\n",
       "      <td>15.156250</td>\n",
       "      <td>15.264881</td>\n",
       "      <td>0.281828</td>\n",
       "      <td>0.311606</td>\n",
       "      <td>0.608823</td>\n",
       "      <td>0.023810</td>\n",
       "      <td>-0.003968</td>\n",
       "      <td>14.43750</td>\n",
       "      <td>14.62500</td>\n",
       "      <td>11.75000</td>\n",
       "      <td>2.0</td>\n",
       "      <td>2</td>\n",
       "    </tr>\n",
       "    <tr>\n",
       "      <th>2007-07-25</th>\n",
       "      <td>15.38000</td>\n",
       "      <td>15.58000</td>\n",
       "      <td>15.58000</td>\n",
       "      <td>9.170665e+07</td>\n",
       "      <td>1.971692e+08</td>\n",
       "      <td>15.383333</td>\n",
       "      <td>15.556250</td>\n",
       "      <td>14.940000</td>\n",
       "      <td>0.186100</td>\n",
       "      <td>0.216725</td>\n",
       "      <td>0.596724</td>\n",
       "      <td>0.027958</td>\n",
       "      <td>0.013004</td>\n",
       "      <td>14.21000</td>\n",
       "      <td>14.43000</td>\n",
       "      <td>13.28000</td>\n",
       "      <td>1.0</td>\n",
       "      <td>2</td>\n",
       "    </tr>\n",
       "    <tr>\n",
       "      <th>1991-06-13</th>\n",
       "      <td>6.31250</td>\n",
       "      <td>6.37500</td>\n",
       "      <td>6.37500</td>\n",
       "      <td>5.661440e+06</td>\n",
       "      <td>2.830720e+07</td>\n",
       "      <td>6.500000</td>\n",
       "      <td>6.640625</td>\n",
       "      <td>6.389881</td>\n",
       "      <td>0.216506</td>\n",
       "      <td>0.215861</td>\n",
       "      <td>0.460089</td>\n",
       "      <td>0.049505</td>\n",
       "      <td>0.009901</td>\n",
       "      <td>5.37500</td>\n",
       "      <td>6.00000</td>\n",
       "      <td>4.93750</td>\n",
       "      <td>2.0</td>\n",
       "      <td>2</td>\n",
       "    </tr>\n",
       "    <tr>\n",
       "      <th>1983-03-17</th>\n",
       "      <td>0.00000</td>\n",
       "      <td>8.78125</td>\n",
       "      <td>8.78125</td>\n",
       "      <td>1.569600e+06</td>\n",
       "      <td>4.468612e+04</td>\n",
       "      <td>8.854167</td>\n",
       "      <td>8.527344</td>\n",
       "      <td>8.821429</td>\n",
       "      <td>0.100455</td>\n",
       "      <td>0.289047</td>\n",
       "      <td>0.383897</td>\n",
       "      <td>0.000000</td>\n",
       "      <td>0.000000</td>\n",
       "      <td>7.96875</td>\n",
       "      <td>7.71875</td>\n",
       "      <td>8.34375</td>\n",
       "      <td>2.0</td>\n",
       "      <td>1</td>\n",
       "    </tr>\n",
       "    <tr>\n",
       "      <th>1993-10-27</th>\n",
       "      <td>9.75000</td>\n",
       "      <td>9.93750</td>\n",
       "      <td>9.93750</td>\n",
       "      <td>6.972800e+06</td>\n",
       "      <td>1.394560e+07</td>\n",
       "      <td>9.833333</td>\n",
       "      <td>9.835938</td>\n",
       "      <td>10.702381</td>\n",
       "      <td>0.130104</td>\n",
       "      <td>0.203039</td>\n",
       "      <td>1.384612</td>\n",
       "      <td>0.038462</td>\n",
       "      <td>0.019231</td>\n",
       "      <td>8.68750</td>\n",
       "      <td>9.12500</td>\n",
       "      <td>14.00000</td>\n",
       "      <td>0.0</td>\n",
       "      <td>0</td>\n",
       "    </tr>\n",
       "    <tr>\n",
       "      <th>1983-08-04</th>\n",
       "      <td>14.56250</td>\n",
       "      <td>14.18750</td>\n",
       "      <td>14.18750</td>\n",
       "      <td>5.318400e+05</td>\n",
       "      <td>8.864000e+05</td>\n",
       "      <td>14.447917</td>\n",
       "      <td>15.074219</td>\n",
       "      <td>15.404762</td>\n",
       "      <td>0.238676</td>\n",
       "      <td>0.793201</td>\n",
       "      <td>0.867010</td>\n",
       "      <td>0.042918</td>\n",
       "      <td>-0.025751</td>\n",
       "      <td>13.50000</td>\n",
       "      <td>15.46875</td>\n",
       "      <td>14.90625</td>\n",
       "      <td>0.0</td>\n",
       "      <td>0</td>\n",
       "    </tr>\n",
       "    <tr>\n",
       "      <th>1998-12-10</th>\n",
       "      <td>15.40625</td>\n",
       "      <td>14.87500</td>\n",
       "      <td>14.87500</td>\n",
       "      <td>4.200697e+06</td>\n",
       "      <td>9.636894e+06</td>\n",
       "      <td>15.447917</td>\n",
       "      <td>15.179688</td>\n",
       "      <td>14.303571</td>\n",
       "      <td>0.562789</td>\n",
       "      <td>0.622484</td>\n",
       "      <td>0.886704</td>\n",
       "      <td>0.079108</td>\n",
       "      <td>-0.034483</td>\n",
       "      <td>14.46875</td>\n",
       "      <td>12.84375</td>\n",
       "      <td>12.25000</td>\n",
       "      <td>2.0</td>\n",
       "      <td>2</td>\n",
       "    </tr>\n",
       "  </tbody>\n",
       "</table>\n",
       "</div>"
      ],
      "text/plain": [
       "                   o         c        ac       vpd_hlc      vpd_opac  \\\n",
       "Date                                                                   \n",
       "2000-07-05  37.50000  37.62500  37.62500  6.879306e+06  1.427456e+08   \n",
       "2014-11-21   2.72000   2.77000   2.77000  1.885268e+08  2.262322e+08   \n",
       "1988-12-05   4.00000   3.93750   3.93750  3.492000e+06  1.396800e+07   \n",
       "1995-02-03  15.75000  15.68750  15.68750  1.159307e+07  6.955840e+07   \n",
       "2007-07-25  15.38000  15.58000  15.58000  9.170665e+07  1.971692e+08   \n",
       "1991-06-13   6.31250   6.37500   6.37500  5.661440e+06  2.830720e+07   \n",
       "1983-03-17   0.00000   8.78125   8.78125  1.569600e+06  4.468612e+04   \n",
       "1993-10-27   9.75000   9.93750   9.93750  6.972800e+06  1.394560e+07   \n",
       "1983-08-04  14.56250  14.18750  14.18750  5.318400e+05  8.864000e+05   \n",
       "1998-12-10  15.40625  14.87500  14.87500  4.200697e+06  9.636894e+06   \n",
       "\n",
       "              mu_rol3    mu_rol8   mu_rol21  std_rol3  std_rol8  std_rol21  \\\n",
       "Date                                                                         \n",
       "2000-07-05  39.458333  40.808594  42.809524  2.362908  2.481991   2.627360   \n",
       "2014-11-21   2.696667   2.673750   2.728571  0.070238  0.050125   0.069303   \n",
       "1988-12-05   3.958333   3.812500   3.931548  0.036084  0.133631   0.226992   \n",
       "1995-02-03  15.416667  15.156250  15.264881  0.281828  0.311606   0.608823   \n",
       "2007-07-25  15.383333  15.556250  14.940000  0.186100  0.216725   0.596724   \n",
       "1991-06-13   6.500000   6.640625   6.389881  0.216506  0.215861   0.460089   \n",
       "1983-03-17   8.854167   8.527344   8.821429  0.100455  0.289047   0.383897   \n",
       "1993-10-27   9.833333   9.835938  10.702381  0.130104  0.203039   1.384612   \n",
       "1983-08-04  14.447917  15.074219  15.404762  0.238676  0.793201   0.867010   \n",
       "1998-12-10  15.447917  15.179688  14.303571  0.562789  0.622484   0.886704   \n",
       "\n",
       "              hl_pct    oc_pct   ac1_pct   ac8_pct  ac21_pct  ac1_pred  pred0  \n",
       "Date                                                                           \n",
       "2000-07-05  0.069167  0.003333  41.12500  44.62500  44.56250       2.0      2  \n",
       "2014-11-21  0.022059  0.018382   1.69000   1.73000   1.69000       2.0      2  \n",
       "1988-12-05  0.062500 -0.015625   2.93750   2.81250   3.37500       1.0      1  \n",
       "1995-02-03  0.023810 -0.003968  14.43750  14.62500  11.75000       2.0      2  \n",
       "2007-07-25  0.027958  0.013004  14.21000  14.43000  13.28000       1.0      2  \n",
       "1991-06-13  0.049505  0.009901   5.37500   6.00000   4.93750       2.0      2  \n",
       "1983-03-17  0.000000  0.000000   7.96875   7.71875   8.34375       2.0      1  \n",
       "1993-10-27  0.038462  0.019231   8.68750   9.12500  14.00000       0.0      0  \n",
       "1983-08-04  0.042918 -0.025751  13.50000  15.46875  14.90625       0.0      0  \n",
       "1998-12-10  0.079108 -0.034483  14.46875  12.84375  12.25000       2.0      2  "
      ]
     },
     "execution_count": 51,
     "metadata": {},
     "output_type": "execute_result"
    }
   ],
   "source": [
    "a1_master1_scrambled = a1_master1_scrambled.sample(frac=1)\n",
    "a1_master1_scrambled = a1_master1_scrambled.sample(frac=1)\n",
    "\n",
    "a1_master1_scrambled.tail(10)"
   ]
  },
  {
   "cell_type": "code",
   "execution_count": 54,
   "id": "e459005a",
   "metadata": {},
   "outputs": [
    {
     "data": {
      "text/plain": [
       "9756"
      ]
     },
     "execution_count": 54,
     "metadata": {},
     "output_type": "execute_result"
    }
   ],
   "source": [
    "a1_idx_tt_split = int(a1_master1_scrambled.shape[0] * 0.9)\n",
    "a1_idx_tt_split"
   ]
  },
  {
   "cell_type": "code",
   "execution_count": 57,
   "id": "78aa5973",
   "metadata": {},
   "outputs": [
    {
     "name": "stdout",
     "output_type": "stream",
     "text": [
      "a1_master1 shape: (10841, 18)\n",
      "X_train shape: (9756, 17)\n",
      "y_train shape: (9756,)\n",
      "X_test shape: (1084, 17)\n",
      "y_test shape: (1084,)\n",
      "a1_X_pred1 shape: (17,)\n"
     ]
    }
   ],
   "source": [
    "a1_X_train = a1_master1_scrambled[a1_X_columns].iloc[:a1_idx_tt_split]\n",
    "a1_y_train = a1_master1_scrambled['ac1_pred'].iloc[:a1_idx_tt_split]\n",
    "\n",
    "a1_X_test = a1_master1_scrambled[a1_X_columns].iloc[a1_idx_tt_split:]\n",
    "a1_y_test = a1_master1_scrambled['ac1_pred'].iloc[a1_idx_tt_split:]\n",
    "\n",
    "print(f'a1_master1 shape: {a1_master1.shape}')\n",
    "print(f'X_train shape: {a1_X_train.shape}')\n",
    "print(f'y_train shape: {a1_y_train.shape}')\n",
    "print(f'X_test shape: {a1_X_test.shape}')\n",
    "print(f'y_test shape: {a1_y_test.shape}')\n",
    "print(f'a1_X_pred1 shape: {a1_X_pred1.shape}')"
   ]
  },
  {
   "cell_type": "code",
   "execution_count": 59,
   "id": "e0491720",
   "metadata": {},
   "outputs": [
    {
     "name": "stdout",
     "output_type": "stream",
     "text": [
      "Accuracy: 0.827490774907749\n"
     ]
    }
   ],
   "source": [
    "# 2nd modeling\n",
    "\n",
    "xgb_model1 = xgb.XGBClassifier(objective='binary:logistic'\n",
    "                              # , num_class=2\n",
    "                              , random_state=42\n",
    "                              # , max_depth=7\n",
    "                              # , n_estimators=89\n",
    "                              # , learning_rate=0.05\n",
    "                              # , min_child_weight=4\n",
    "                             )\n",
    "\n",
    "xgb_model1.fit(a1_X_train, a1_y_train)\n",
    "\n",
    "y_pred = xgb_model1.predict(a1_X_test)\n",
    "\n",
    "y_pred_prob = xgb_model1.predict_proba(a1_X_test)[:, 1]\n",
    "\n",
    "acc = accuracy_score(a1_y_test, y_pred)\n",
    "\n",
    "print(f'Accuracy: {acc}')"
   ]
  },
  {
   "cell_type": "code",
   "execution_count": 60,
   "id": "8b4ae650",
   "metadata": {},
   "outputs": [
    {
     "data": {
      "text/plain": [
       "array([0.01964513, 0.02157363, 0.        , 0.02048212, 0.01939854,\n",
       "       0.02268316, 0.0237458 , 0.02281511, 0.0195689 , 0.0189837 ,\n",
       "       0.01952966, 0.01982659, 0.01951261, 0.02462604, 0.0212805 ,\n",
       "       0.0203747 , 0.6859538 ], dtype=float32)"
      ]
     },
     "execution_count": 60,
     "metadata": {},
     "output_type": "execute_result"
    }
   ],
   "source": [
    "xgb_model1.feature_importances_"
   ]
  },
  {
   "cell_type": "code",
   "execution_count": 61,
   "id": "29cea86e",
   "metadata": {},
   "outputs": [
    {
     "data": {
      "text/plain": [
       "['o',\n",
       " 'c',\n",
       " 'ac',\n",
       " 'vpd_hlc',\n",
       " 'vpd_opac',\n",
       " 'mu_rol3',\n",
       " 'mu_rol8',\n",
       " 'mu_rol21',\n",
       " 'std_rol3',\n",
       " 'std_rol8',\n",
       " 'std_rol21',\n",
       " 'hl_pct',\n",
       " 'oc_pct',\n",
       " 'ac1_pct',\n",
       " 'ac8_pct',\n",
       " 'ac21_pct',\n",
       " 'pred0']"
      ]
     },
     "execution_count": 61,
     "metadata": {},
     "output_type": "execute_result"
    }
   ],
   "source": [
    "a1_X_columns"
   ]
  },
  {
   "cell_type": "code",
   "execution_count": null,
   "id": "fdc8d8ac",
   "metadata": {},
   "outputs": [],
   "source": []
  },
  {
   "cell_type": "code",
   "execution_count": null,
   "id": "5a889894",
   "metadata": {},
   "outputs": [],
   "source": []
  },
  {
   "cell_type": "code",
   "execution_count": null,
   "id": "fb021175",
   "metadata": {},
   "outputs": [],
   "source": []
  }
 ],
 "metadata": {
  "kernelspec": {
   "display_name": "Python 3",
   "language": "python",
   "name": "python3"
  },
  "language_info": {
   "codemirror_mode": {
    "name": "ipython",
    "version": 3
   },
   "file_extension": ".py",
   "mimetype": "text/x-python",
   "name": "python",
   "nbconvert_exporter": "python",
   "pygments_lexer": "ipython3",
   "version": "3.8.10"
  }
 },
 "nbformat": 4,
 "nbformat_minor": 5
}
