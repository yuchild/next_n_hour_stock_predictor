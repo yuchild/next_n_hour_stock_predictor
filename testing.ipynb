{
 "cells": [
  {
   "cell_type": "code",
   "execution_count": null,
   "id": "c874ae22",
   "metadata": {},
   "outputs": [],
   "source": [
    "# !pip3 install yfinance-ez"
   ]
  },
  {
   "cell_type": "code",
   "execution_count": null,
   "id": "8227d4ca",
   "metadata": {},
   "outputs": [],
   "source": [
    "import yfinance as yf\n",
    "import pandas as pd\n",
    "import numpy as np"
   ]
  },
  {
   "cell_type": "code",
   "execution_count": null,
   "id": "3ab0ab2e",
   "metadata": {},
   "outputs": [],
   "source": [
    "aapl_day = yf.download(\"AAPL\", start=\"1980-12-08\", end=None)"
   ]
  },
  {
   "cell_type": "code",
   "execution_count": null,
   "id": "a6bffbcb",
   "metadata": {},
   "outputs": [],
   "source": [
    "aapl_day.info()"
   ]
  },
  {
   "cell_type": "code",
   "execution_count": null,
   "id": "c0f75213",
   "metadata": {},
   "outputs": [],
   "source": [
    "aapl_hour = yf.download(tickers=\"AAPL\",\n",
    "                        period=\"2y\",\n",
    "                        interval=\"1h\"\n",
    "                       )"
   ]
  },
  {
   "cell_type": "code",
   "execution_count": null,
   "id": "a29e0255",
   "metadata": {},
   "outputs": [],
   "source": [
    "aapl = yf.Ticker(\"AAPL\")\n",
    "aapl_hist = aapl.history(period=\"15y\")\n",
    "aapl_shares = aapl.get_shares_full(start=\"1980-12-08\", end=None)\n",
    "aapl_shares"
   ]
  },
  {
   "cell_type": "code",
   "execution_count": null,
   "id": "cd3f5397",
   "metadata": {},
   "outputs": [],
   "source": [
    "aapl.info"
   ]
  },
  {
   "cell_type": "code",
   "execution_count": null,
   "id": "892334aa",
   "metadata": {
    "scrolled": false
   },
   "outputs": [],
   "source": [
    "aapl_hour.head(50)"
   ]
  },
  {
   "cell_type": "code",
   "execution_count": null,
   "id": "83c12483",
   "metadata": {},
   "outputs": [],
   "source": []
  }
 ],
 "metadata": {
  "kernelspec": {
   "display_name": "Python 3",
   "language": "python",
   "name": "python3"
  },
  "language_info": {
   "codemirror_mode": {
    "name": "ipython",
    "version": 3
   },
   "file_extension": ".py",
   "mimetype": "text/x-python",
   "name": "python",
   "nbconvert_exporter": "python",
   "pygments_lexer": "ipython3",
   "version": "3.8.10"
  }
 },
 "nbformat": 4,
 "nbformat_minor": 5
}
