{
 "cells": [
  {
   "cell_type": "code",
   "execution_count": 1,
   "id": "ed125ba5",
   "metadata": {},
   "outputs": [],
   "source": [
    "import yfinance as yf\n",
    "import pandas as pd\n",
    "import numpy as np\n",
    "import xgboost as xgb\n",
    "from sklearn.model_selection import GridSearchCV, StratifiedKFold\n",
    "from sklearn.metrics import accuracy_score"
   ]
  },
  {
   "cell_type": "code",
   "execution_count": 2,
   "id": "e2bb6e56",
   "metadata": {},
   "outputs": [],
   "source": [
    "# aapl_day = yf.download(\"AAPL\", start=\"1980-12-08\", end=None)\n",
    "# aapl_day.to_pickle('./data/aapl_day.pkl')\n",
    "# amd_day = yf.download(\"AMD\", start=\"1980-03-17\", end=None)\n",
    "# amd_day.to_pickle('./data/amd_day.pkl')"
   ]
  },
  {
   "cell_type": "code",
   "execution_count": 3,
   "id": "cd7255fa",
   "metadata": {},
   "outputs": [],
   "source": [
    "# aapl_hour = yf.download(tickers=\"AAPL\",\n",
    "#                        period=\"2y\",\n",
    "#                        interval=\"1h\"\n",
    "#                       )\n",
    "# aapl_hour.to_pickle('./data/aapl_hr.pkl')"
   ]
  },
  {
   "cell_type": "code",
   "execution_count": 4,
   "id": "52a1673d",
   "metadata": {},
   "outputs": [],
   "source": [
    "def compute_up_down(begin, end):\n",
    "    if abs((begin - end) / begin) <= 0.012:\n",
    "        return 0\n",
    "    elif (begin - end) / begin > 0.007:\n",
    "        return 1\n",
    "    else:\n",
    "        return 2\n",
    "    \n",
    "def compute_volume_per_dollar(vol, begin, end):\n",
    "    if begin - end == 0:\n",
    "        return vol\n",
    "    else:\n",
    "        return vol / abs(begin - end)\n",
    "    \n",
    "def compute_pct_change(num1, num2, dem):\n",
    "    if dem == 0:\n",
    "        return 0\n",
    "    else:\n",
    "        return (num2 - num1) / dem"
   ]
  },
  {
   "cell_type": "code",
   "execution_count": 5,
   "id": "23843505",
   "metadata": {},
   "outputs": [],
   "source": [
    "a = pd.read_pickle('./data/amd_day.pkl')\n",
    "a = a.rename(columns={'Adj Close': 'ac'\n",
    "                      , 'Open': 'o'\n",
    "                      , 'Close': 'c'\n",
    "                      , 'High': 'h'\n",
    "                      , 'Low': 'l'\n",
    "                      , 'Volume': 'v'\n",
    "                     })"
   ]
  },
  {
   "cell_type": "code",
   "execution_count": 6,
   "id": "f3e55c8f",
   "metadata": {
    "scrolled": false
   },
   "outputs": [],
   "source": [
    "a['dow'] = a.index.weekday\n",
    "\n",
    "a['vpd_hlc'] = a.apply(lambda row: compute_volume_per_dollar(row['v'], row['h'], row['l']), axis=1)  # volume per dollar high low change\n",
    "a['vpd_opac'] = a.apply(lambda row: compute_volume_per_dollar(row['v'], row['o'], row['c']), axis=1)  # volume per dollar open close absolute change\n",
    "\n",
    "a['ac1'] = a['ac'].shift(1)\n",
    "a['ac3'] = a['ac'].shift(3)\n",
    "a['ac5'] = a['ac'].shift(5)\n",
    "a['ac8'] = a['ac'].shift(8)\n",
    "a['ac13'] = a['ac'].shift(13)\n",
    "a['ac21'] = a['ac'].shift(21)\n",
    "\n",
    "a['mu_rol3'] = a['ac'].rolling(window=3).mean()\n",
    "a['mu_rol5'] = a['ac'].rolling(window=5).mean()\n",
    "a['mu_rol8'] = a['ac'].rolling(window=8).mean()\n",
    "a['mu_rol13'] = a['ac'].rolling(window=13).mean()\n",
    "a['mu_rol21'] = a['ac'].rolling(window=21).mean()\n",
    "\n",
    "a['std_rol3'] = a['ac'].rolling(window=3).std()\n",
    "a['std_rol5'] = a['ac'].rolling(window=5).std()\n",
    "a['std_rol8'] = a['ac'].rolling(window=8).std()\n",
    "a['std_rol13'] = a['ac'].rolling(window=13).std()\n",
    "a['std_rol21'] = a['ac'].rolling(window=21).std()\n",
    "\n",
    "a['hl_pct'] = a.apply(lambda row: compute_pct_change(row['l'], row['h'], row['o']), axis=1)\n",
    "a['oc_pct'] = a.apply(lambda row: compute_pct_change(row['o'], row['c'], row['o']), axis=1)\n",
    "\n",
    "a['ac1_pct'] = a['ac1'] - a['ac'] / a['ac']\n",
    "a['ac3_pct'] = a['ac3'] - a['ac'] / a['ac']\n",
    "a['ac5_pct'] = a['ac5'] - a['ac'] / a['ac']\n",
    "a['ac8_pct'] = a['ac8'] - a['ac'] / a['ac']\n",
    "a['ac13_pct'] = a['ac13'] - a['ac'] / a['ac']\n",
    "a['ac21_pct'] = a['ac21'] - a['ac'] / a['ac']\n",
    "\n",
    "a.dropna(axis=0, inplace=True)\n",
    "\n",
    "a['ac1_up_dwn'] = a.apply(lambda row: compute_up_down(row['ac1'], row['ac']), axis=1)\n",
    "a['ac3_up_dwn'] = a.apply(lambda row: compute_up_down(row['ac3'], row['ac']), axis=1)\n",
    "a['ac5_up_dwn'] = a.apply(lambda row: compute_up_down(row['ac5'], row['ac']), axis=1)\n",
    "a['ac8_up_dwn'] = a.apply(lambda row: compute_up_down(row['ac8'], row['ac']), axis=1)\n",
    "a['ac13_up_dwn'] = a.apply(lambda row: compute_up_down(row['ac13'], row['ac']), axis=1)\n",
    "a['ac21_up_dwn'] = a.apply(lambda row: compute_up_down(row['ac21'], row['ac']), axis=1)\n",
    "\n",
    "a['ac1_pred'] = a['ac1_up_dwn'].shift(-1)\n",
    "a['ac3_pred'] = a['ac3_up_dwn'].shift(-3)\n",
    "a['ac5_pred'] = a['ac5_up_dwn'].shift(-5)\n",
    "a['ac8_pred'] = a['ac8_up_dwn'].shift(-8)\n",
    "a['ac13_pred'] = a['ac13_up_dwn'].shift(-13)\n",
    "a['ac21_pred'] = a['ac21_up_dwn'].shift(-21)"
   ]
  },
  {
   "cell_type": "code",
   "execution_count": 7,
   "id": "70cf0aec",
   "metadata": {},
   "outputs": [],
   "source": [
    "a1_col_list = [# 'o'\n",
    "               # , 'h'\n",
    "               # , 'l'\n",
    "                'c'\n",
    "               # , 'ac'\n",
    "               , 'v'\n",
    "               # , 'vpd_hlc'\n",
    "               # , 'vpd_opac'\n",
    "               # , 'ac1'\n",
    "               # , 'ac3'\n",
    "               # , 'ac5'\n",
    "               # , 'ac8'\n",
    "               # , 'ac13'\n",
    "               # , 'ac21'\n",
    "               , 'mu_rol3'\n",
    "               # , 'mu_rol5'\n",
    "               # , 'mu_rol8'\n",
    "               # , 'mu_rol13'\n",
    "               , 'mu_rol21'\n",
    "               # , 'std_rol3'\n",
    "               # , 'std_rol5'\n",
    "               # , 'std_rol8'\n",
    "               , 'std_rol13'\n",
    "               , 'std_rol21'\n",
    "               # , 'hl_pct'\n",
    "               , 'oc_pct'\n",
    "               # , 'ac1_pct'\n",
    "               , 'ac3_pct'\n",
    "               # , 'ac5_pct'\n",
    "               # , 'ac8_pct'\n",
    "               , 'ac13_pct'\n",
    "               , 'ac21_pct'\n",
    "               # , 'ac1_up_dwn'\n",
    "               # , 'ac3_up_dwn'\n",
    "               # , 'ac5_up_dwn'\n",
    "               # , 'ac8_up_dwn'\n",
    "               # , 'ac13_up_dwn'\n",
    "               # , 'ac21_up_dwn'\n",
    "               , 'ac1_pred'\n",
    "              ]\n",
    "\n",
    "a1_master0 = a[a1_col_list].copy()\n",
    "\n",
    "a1_X_pred = a1_master0[a1_col_list[:-1]].iloc[-1].copy()\n",
    "\n",
    "a1_master0.drop(a1_master0.index[-1], axis=0, inplace=True)\n",
    "\n",
    "a1_master0 = a1_master0.sample(frac=1, random_state=21)\n",
    "a1_master0 = a1_master0.sample(frac=1, random_state=42)\n",
    "\n",
    "idx_split2_9th = int(a.shape[0] * 2.0 / 9)\n",
    "idx_split3_9th = int(a.shape[0] * 1.0 / 3)\n",
    "idx_split5_9th = int(a.shape[0] * 5.0 / 9)\n",
    "idx_split6_9th = int(a.shape[0] * 2.0 / 3)\n",
    "idx_split8_9th = int(a.shape[0] * 8.0 / 9)\n",
    "\n",
    "a1_X_train = a1_master0.iloc[:idx_split2_9th].drop('ac1_pred', axis=1)\n",
    "a1_y_train = a1_master0['ac1_pred'].iloc[:idx_split2_9th]\n",
    "a1_X_test = a1_master0.iloc[idx_split2_9th:idx_split3_9th].drop('ac1_pred', axis=1)\n",
    "a1_y_test = a1_master0['ac1_pred'].iloc[idx_split2_9th:idx_split3_9th]"
   ]
  },
  {
   "cell_type": "code",
   "execution_count": 8,
   "id": "b11058dc",
   "metadata": {},
   "outputs": [
    {
     "data": {
      "text/plain": [
       "2.0    3642\n",
       "1.0    3632\n",
       "0.0    3567\n",
       "Name: ac1_pred, dtype: int64"
      ]
     },
     "execution_count": 8,
     "metadata": {},
     "output_type": "execute_result"
    }
   ],
   "source": [
    "a1_master0['ac1_pred'].value_counts()"
   ]
  },
  {
   "cell_type": "code",
   "execution_count": 9,
   "id": "26027ba6",
   "metadata": {},
   "outputs": [
    {
     "name": "stdout",
     "output_type": "stream",
     "text": [
      "(10841, 11)\n",
      "(2409, 10)\n",
      "(2409,)\n",
      "(1205, 10)\n",
      "(1205,)\n"
     ]
    }
   ],
   "source": [
    "# sanity check first partition for training\n",
    "print(a1_master0.shape)\n",
    "print(a1_X_train.shape)\n",
    "print(a1_y_train.shape)\n",
    "print(a1_X_test.shape)\n",
    "print(a1_y_test.shape)"
   ]
  },
  {
   "cell_type": "code",
   "execution_count": 10,
   "id": "451a1bcb",
   "metadata": {
    "scrolled": true
   },
   "outputs": [
    {
     "data": {
      "text/plain": [
       "c            0\n",
       "v            0\n",
       "mu_rol3      0\n",
       "mu_rol21     0\n",
       "std_rol13    0\n",
       "std_rol21    0\n",
       "oc_pct       0\n",
       "ac3_pct      0\n",
       "ac13_pct     0\n",
       "ac21_pct     0\n",
       "dtype: int64"
      ]
     },
     "execution_count": 10,
     "metadata": {},
     "output_type": "execute_result"
    }
   ],
   "source": [
    "# check for infinities\n",
    "a1_X_train.isin([np.inf, -np.inf]).sum()"
   ]
  },
  {
   "cell_type": "code",
   "execution_count": 19,
   "id": "c4eccc5f",
   "metadata": {},
   "outputs": [
    {
     "name": "stdout",
     "output_type": "stream",
     "text": [
      "Accuracy: 0.3360995850622407\n"
     ]
    }
   ],
   "source": [
    "# modeling partition first 1/3\n",
    "\n",
    "xgb_model0 = xgb.XGBClassifier(objective='multi:softmax'\n",
    "                              , num_class=3\n",
    "                              , random_state=42\n",
    "                              , max_depth=7\n",
    "                              , n_estimators=55\n",
    "                              , learning_rate=0.0001\n",
    "                              , min_child_weight=1\n",
    "                             )\n",
    "\n",
    "xgb_model0.fit(a1_X_train, a1_y_train)\n",
    "\n",
    "y_pred = xgb_model0.predict(a1_X_test)\n",
    "\n",
    "# y_pred_prob = xgb_model0.predict_proba(a1_X_test)[:, 1]\n",
    "\n",
    "acc = accuracy_score(a1_y_test, y_pred)\n",
    "\n",
    "print(f'Accuracy: {acc}')"
   ]
  },
  {
   "cell_type": "code",
   "execution_count": 12,
   "id": "9bd05400",
   "metadata": {
    "scrolled": true
   },
   "outputs": [
    {
     "data": {
      "text/plain": [
       "array([0.06181573, 0.10500024, 0.09692524, 0.08994446, 0.09718166,\n",
       "       0.10838262, 0.13061236, 0.14201309, 0.08128438, 0.08684026],\n",
       "      dtype=float32)"
      ]
     },
     "execution_count": 12,
     "metadata": {},
     "output_type": "execute_result"
    }
   ],
   "source": [
    "xgb_model0.feature_importances_"
   ]
  },
  {
   "cell_type": "code",
   "execution_count": null,
   "id": "bc9ad881",
   "metadata": {},
   "outputs": [],
   "source": [
    "a1_X_train.columns"
   ]
  },
  {
   "cell_type": "code",
   "execution_count": null,
   "id": "c0641abf",
   "metadata": {},
   "outputs": [],
   "source": [
    "xgb_model0.predict(a1_X_pred.to_numpy().reshape(1,-1))[0]"
   ]
  },
  {
   "cell_type": "code",
   "execution_count": null,
   "id": "75db8273",
   "metadata": {},
   "outputs": [],
   "source": [
    "xgb_model0.predict_proba(a1_X_pred.to_numpy().reshape(1,-1))"
   ]
  },
  {
   "cell_type": "code",
   "execution_count": null,
   "id": "25741452",
   "metadata": {},
   "outputs": [],
   "source": []
  },
  {
   "cell_type": "code",
   "execution_count": null,
   "id": "4e107e21",
   "metadata": {},
   "outputs": [],
   "source": []
  },
  {
   "cell_type": "code",
   "execution_count": null,
   "id": "aa106e95",
   "metadata": {},
   "outputs": [],
   "source": [
    "# add predictions to X_train\n",
    "\n",
    "# idx_split2_9th = int(a.shape[0] * 2.0 / 9)\n",
    "# idx_split3_9th = int(a.shape[0] * 1.0 / 3)\n",
    "# idx_split5_9th = int(a.shape[0] * 5.0 / 9)\n",
    "# idx_split6_9th = int(a.shape[0] * 2.0 / 3)\n",
    "# idx_split8_9th = int(a.shape[0] * 8.0 / 9)\n",
    "\n",
    "\n",
    "\n",
    "\n",
    "a1_master1 = a1_master0[a1_col_list].iloc[idx_split3_9th:idx_split6_9th].copy()\n",
    "a1_master1['pred0'] = xgb_model0.predict(a1_master1[a1_X_train.columns])\n",
    "\n",
    "idx_2_3 = int(a1_master1.shape[0] * 2 / 3)\n",
    "\n",
    "a1_X_train = a1_master1.iloc[:idx_2_3].drop('ac1_pred', axis=1)\n",
    "a1_y_train = a1_master1['ac1_pred'].iloc[:idx_2_3]\n",
    "a1_X_test = a1_master1.iloc[idx_2_3:].drop('ac1_pred', axis=1)\n",
    "a1_y_test = a1_master1['ac1_pred'].iloc[idx_2_3:]"
   ]
  },
  {
   "cell_type": "code",
   "execution_count": null,
   "id": "e9514dad",
   "metadata": {},
   "outputs": [],
   "source": [
    "# sanity check first partition for training\n",
    "print(a1_master1.shape)\n",
    "print(a1_X_train.shape)\n",
    "print(a1_y_train.shape)\n",
    "print(a1_X_test.shape)\n",
    "print(a1_y_test.shape)"
   ]
  },
  {
   "cell_type": "code",
   "execution_count": null,
   "id": "5930a7b0",
   "metadata": {},
   "outputs": [],
   "source": [
    "# modeling partition 2nd 1/3\n",
    "\n",
    "xgb_model1 = xgb.XGBClassifier(objective='multi:softmax'\n",
    "                              , num_class=3\n",
    "                              , random_state=42\n",
    "                              , max_depth=7\n",
    "                              , n_estimators=55\n",
    "                              , learning_rate=0.01\n",
    "                              , min_child_weight=3\n",
    "                             )\n",
    "\n",
    "xgb_model1.fit(a1_X_train, a1_y_train)\n",
    "\n",
    "y_pred = xgb_model1.predict(a1_X_test)\n",
    "\n",
    "# y_pred_prob = xgb_model0.predict_proba(a1_X_test)[:, 1]\n",
    "\n",
    "acc = accuracy_score(a1_y_test, y_pred)\n",
    "\n",
    "print(f'Accuracy: {acc}')"
   ]
  },
  {
   "cell_type": "code",
   "execution_count": null,
   "id": "25951679",
   "metadata": {},
   "outputs": [],
   "source": [
    "xgb_model1.feature_importances_"
   ]
  },
  {
   "cell_type": "code",
   "execution_count": null,
   "id": "77ebff1d",
   "metadata": {},
   "outputs": [],
   "source": [
    "# 4/16/2023 --to do: need to put back last row to fill pred0 column"
   ]
  },
  {
   "cell_type": "code",
   "execution_count": null,
   "id": "379b34be",
   "metadata": {},
   "outputs": [],
   "source": []
  },
  {
   "cell_type": "code",
   "execution_count": null,
   "id": "32ce6baa",
   "metadata": {},
   "outputs": [],
   "source": []
  },
  {
   "cell_type": "code",
   "execution_count": null,
   "id": "7c0b81c2",
   "metadata": {},
   "outputs": [],
   "source": []
  },
  {
   "cell_type": "code",
   "execution_count": null,
   "id": "42b20ad7",
   "metadata": {},
   "outputs": [],
   "source": [
    "a1_master1.tail(10)"
   ]
  },
  {
   "cell_type": "code",
   "execution_count": null,
   "id": "3418c0de",
   "metadata": {},
   "outputs": [],
   "source": [
    "a1_master1.shape"
   ]
  },
  {
   "cell_type": "code",
   "execution_count": null,
   "id": "4fd2d2d4",
   "metadata": {},
   "outputs": [],
   "source": [
    "len(a1_X_train.columns)"
   ]
  },
  {
   "cell_type": "code",
   "execution_count": null,
   "id": "b9260b43",
   "metadata": {},
   "outputs": [],
   "source": [
    "a1_X_columns = list(a1_X_train.columns)\n",
    "a1_X_columns.append('pred0')\n",
    "a1_X_columns"
   ]
  },
  {
   "cell_type": "code",
   "execution_count": null,
   "id": "681d938e",
   "metadata": {},
   "outputs": [],
   "source": [
    "a1_X_pred1 = a1_master1[a1_X_columns].iloc[-1].copy()\n",
    "a1_X_pred1"
   ]
  },
  {
   "cell_type": "code",
   "execution_count": null,
   "id": "9d6b770c",
   "metadata": {},
   "outputs": [],
   "source": [
    "a1_master1_scrambled = a1_master1.iloc[:-1].copy()\n",
    "a1_master1_scrambled.tail(10)"
   ]
  },
  {
   "cell_type": "code",
   "execution_count": null,
   "id": "b4a58c35",
   "metadata": {},
   "outputs": [],
   "source": [
    "a1_master1_scrambled = a1_master1_scrambled.sample(frac=1)\n",
    "a1_master1_scrambled = a1_master1_scrambled.sample(frac=1)\n",
    "\n",
    "a1_master1_scrambled.tail(10)"
   ]
  },
  {
   "cell_type": "code",
   "execution_count": null,
   "id": "78bc8806",
   "metadata": {},
   "outputs": [],
   "source": [
    "a1_idx_tt_split = int(a1_master1_scrambled.shape[0] * 0.9)\n",
    "a1_idx_tt_split"
   ]
  },
  {
   "cell_type": "code",
   "execution_count": null,
   "id": "27ea849e",
   "metadata": {},
   "outputs": [],
   "source": [
    "a1_X_train = a1_master1_scrambled[a1_X_columns].iloc[:a1_idx_tt_split]\n",
    "a1_y_train = a1_master1_scrambled['ac1_pred'].iloc[:a1_idx_tt_split]\n",
    "\n",
    "a1_X_test = a1_master1_scrambled[a1_X_columns].iloc[a1_idx_tt_split:]\n",
    "a1_y_test = a1_master1_scrambled['ac1_pred'].iloc[a1_idx_tt_split:]\n",
    "\n",
    "print(f'a1_master1 shape: {a1_master1.shape}')\n",
    "print(f'X_train shape: {a1_X_train.shape}')\n",
    "print(f'y_train shape: {a1_y_train.shape}')\n",
    "print(f'X_test shape: {a1_X_test.shape}')\n",
    "print(f'y_test shape: {a1_y_test.shape}')\n",
    "print(f'a1_X_pred1 shape: {a1_X_pred1.shape}')"
   ]
  },
  {
   "cell_type": "code",
   "execution_count": null,
   "id": "cdbc85f1",
   "metadata": {},
   "outputs": [],
   "source": [
    "# 2nd modeling\n",
    "\n",
    "xgb_model1 = xgb.XGBClassifier(objective='binary:logistic'\n",
    "                              # , num_class=2\n",
    "                              , random_state=42\n",
    "                              # , max_depth=7\n",
    "                              # , n_estimators=89\n",
    "                              # , learning_rate=0.05\n",
    "                              # , min_child_weight=4\n",
    "                             )\n",
    "\n",
    "xgb_model1.fit(a1_X_train, a1_y_train)\n",
    "\n",
    "y_pred = xgb_model1.predict(a1_X_test)\n",
    "\n",
    "y_pred_prob = xgb_model1.predict_proba(a1_X_test)[:, 1]\n",
    "\n",
    "acc = accuracy_score(a1_y_test, y_pred)\n",
    "\n",
    "print(f'Accuracy: {acc}')"
   ]
  },
  {
   "cell_type": "code",
   "execution_count": null,
   "id": "10705820",
   "metadata": {},
   "outputs": [],
   "source": [
    "xgb_model1.feature_importances_"
   ]
  },
  {
   "cell_type": "code",
   "execution_count": null,
   "id": "40f1561d",
   "metadata": {},
   "outputs": [],
   "source": [
    "a1_X_columns"
   ]
  },
  {
   "cell_type": "code",
   "execution_count": null,
   "id": "7d3f6022",
   "metadata": {},
   "outputs": [],
   "source": []
  },
  {
   "cell_type": "code",
   "execution_count": null,
   "id": "7aaae096",
   "metadata": {},
   "outputs": [],
   "source": []
  },
  {
   "cell_type": "code",
   "execution_count": null,
   "id": "d133995f",
   "metadata": {},
   "outputs": [],
   "source": []
  }
 ],
 "metadata": {
  "kernelspec": {
   "display_name": "Python 3",
   "language": "python",
   "name": "python3"
  },
  "language_info": {
   "codemirror_mode": {
    "name": "ipython",
    "version": 3
   },
   "file_extension": ".py",
   "mimetype": "text/x-python",
   "name": "python",
   "nbconvert_exporter": "python",
   "pygments_lexer": "ipython3",
   "version": "3.8.10"
  }
 },
 "nbformat": 4,
 "nbformat_minor": 5
}
